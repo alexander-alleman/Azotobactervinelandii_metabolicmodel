{
 "cells": [
  {
   "cell_type": "markdown",
   "id": "generous-chassis",
   "metadata": {},
   "source": [
    "## Quick instructions for generating memote reports "
   ]
  },
  {
   "cell_type": "code",
   "execution_count": 1,
   "id": "foreign-catalog",
   "metadata": {
    "execution": {
     "iopub.execute_input": "2021-06-08T22:02:18.162259Z",
     "iopub.status.busy": "2021-06-08T22:02:18.162259Z",
     "iopub.status.idle": "2021-06-08T22:02:19.692456Z",
     "shell.execute_reply": "2021-06-08T22:02:19.691538Z",
     "shell.execute_reply.started": "2021-06-08T22:02:18.162259Z"
    }
   },
   "outputs": [],
   "source": [
    "# install memote using pip\n",
    "pip install memote"
   ]
  },
  {
   "cell_type": "code",
   "execution_count": 2,
   "id": "impossible-working",
   "metadata": {
    "execution": {
     "iopub.execute_input": "2021-06-08T22:03:49.313968Z",
     "iopub.status.busy": "2021-06-08T22:03:49.313968Z",
     "iopub.status.idle": "2021-06-08T22:03:49.325971Z",
     "shell.execute_reply": "2021-06-08T22:03:49.324954Z",
     "shell.execute_reply.started": "2021-06-08T22:03:49.313968Z"
    }
   },
   "outputs": [
    {
     "ename": "SyntaxError",
     "evalue": "invalid syntax (<ipython-input-2-437d479f8c49>, line 1)",
     "output_type": "error",
     "traceback": [
      "\u001b[1;36m  File \u001b[1;32m\"<ipython-input-2-437d479f8c49>\"\u001b[1;36m, line \u001b[1;32m1\u001b[0m\n\u001b[1;33m    memote report snapshot --filename \"../Outputs/Memote Results/iDT1278.html\" ../Data/Models/iDT1278_n.xml\u001b[0m\n\u001b[1;37m                ^\u001b[0m\n\u001b[1;31mSyntaxError\u001b[0m\u001b[1;31m:\u001b[0m invalid syntax\n"
     ]
    }
   ],
   "source": [
    "#run on command prompt\n",
    "memote report snapshot --filename \"../Outputs/Memote Results/iDT1278.html\" ../Data/Models/iDT1278_n.xml"
   ]
  },
  {
   "cell_type": "code",
   "execution_count": null,
   "id": "ceramic-ideal",
   "metadata": {},
   "outputs": [],
   "source": [
    "memote report snapshot --filename \"../Outputs/Memote Results/iAA1300.html\" ../Data/Models/iAA1300.xml"
   ]
  },
  {
   "cell_type": "code",
   "execution_count": null,
   "id": "major-confidentiality",
   "metadata": {},
   "outputs": [],
   "source": [
    "memote report diff ../Data/Models/iDT1278_n.xml ../Data/Models/iAA1300.xml --filename \"../Outputs/Memote Results/dif_iDT1278_iAA1300.html\""
   ]
  }
 ],
 "metadata": {
  "kernelspec": {
   "display_name": "Python 3",
   "language": "python",
   "name": "python3"
  },
  "language_info": {
   "codemirror_mode": {
    "name": "ipython",
    "version": 3
   },
   "file_extension": ".py",
   "mimetype": "text/x-python",
   "name": "python",
   "nbconvert_exporter": "python",
   "pygments_lexer": "ipython3",
   "version": "3.7.10"
  }
 },
 "nbformat": 4,
 "nbformat_minor": 5
}
