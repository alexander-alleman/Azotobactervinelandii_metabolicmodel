{
 "cells": [
  {
   "cell_type": "code",
   "execution_count": 43,
   "metadata": {
    "ExecuteTime": {
     "end_time": "2021-03-10T22:47:49.654083Z",
     "start_time": "2021-03-10T22:47:46.192229Z"
    },
    "execution": {
     "iopub.execute_input": "2021-03-28T22:57:23.970533Z",
     "iopub.status.busy": "2021-03-28T22:57:23.970533Z",
     "iopub.status.idle": "2021-03-28T22:57:27.308811Z",
     "shell.execute_reply": "2021-03-28T22:57:27.307897Z",
     "shell.execute_reply.started": "2021-03-28T22:57:23.970533Z"
    }
   },
   "outputs": [],
   "source": [
    "import cobra.test\n",
    "import pandas\n",
    "import os\n",
    "from os.path import join\n",
    "from cobra import Model, Reaction, Metabolite\n",
    "from cobra.io import save_json_model\n",
    "from cobra.io import write_sbml_model\n",
    "from cobra.io import read_sbml_model\n",
    "\n",
    "data_dir = 'C:\\\\Users\\\\alexa\\\\Documents\\\\Research\\\\Metabolic models\\\\COBRA\\\\COBRApy'\n",
    "\n",
    "model = read_sbml_model(\"../Data/Models/Av_annotate.xml\")\n"
   ]
  },
  {
   "cell_type": "markdown",
   "metadata": {},
   "source": [
    "## Rnf reversibility and directionality\n",
    "\n",
    "Rnf has been characterized in aceotgens but not in any aerobic nitrogen fixer. We have made an argument for RNF stoichiometry in the reversible direction (pmf consuming) to be different and require at least 5 protons to reduce ferredoxin in the conditions present in *A. vinelandii*. Please refer to the markdown document Rnf_stoich.md in the notebook folder."
   ]
  },
  {
   "cell_type": "code",
   "execution_count": 44,
   "metadata": {
    "execution": {
     "iopub.execute_input": "2021-03-28T22:57:27.309849Z",
     "iopub.status.busy": "2021-03-28T22:57:27.309849Z",
     "iopub.status.idle": "2021-03-28T22:57:27.324861Z",
     "shell.execute_reply": "2021-03-28T22:57:27.323866Z",
     "shell.execute_reply.started": "2021-03-28T22:57:27.309849Z"
    }
   },
   "outputs": [
    {
     "data": {
      "text/html": [
       "\n",
       "        <table>\n",
       "            <tr>\n",
       "                <td><strong>Reaction identifier</strong></td><td>RNF</td>\n",
       "            </tr><tr>\n",
       "                <td><strong>Name</strong></td><td>Ferredoxin:NAD oxidoreductase ( 2 protons traslocation)</td>\n",
       "            </tr><tr>\n",
       "                <td><strong>Memory address</strong></td>\n",
       "                <td>0x01ab51080a08</td>\n",
       "            </tr><tr>\n",
       "                <td><strong>Stoichiometry</strong></td>\n",
       "                <td>\n",
       "                    <p style='text-align:right'>fdxr_42_c + 3.0 h_c + nad_c <=> fdxo_42_c + 2.0 h_e + nadh_c</p>\n",
       "                    <p style='text-align:right'>Ferredoxin (reduced form 4:2) + 3.0 H+ + Nicotinamide adenine dinucleotide <=> Ferredoxin (oxidized form 4:2) + 2.0 H+ + Nicotinamide adenine dinucleotide - reduced</p>\n",
       "                </td>\n",
       "            </tr><tr>\n",
       "                <td><strong>GPR</strong></td><td>( Avin_19220 or Avin_50700 ) and ( Avin_19230 or Avin_50930 ) and ( Avin_19240 or Avin_50940 )...</td>\n",
       "            </tr><tr>\n",
       "                <td><strong>Lower bound</strong></td><td>-999999.0</td>\n",
       "            </tr><tr>\n",
       "                <td><strong>Upper bound</strong></td><td>999999.0</td>\n",
       "            </tr>\n",
       "        </table>\n",
       "        "
      ],
      "text/plain": [
       "<Reaction RNF at 0x1ab51080a08>"
      ]
     },
     "execution_count": 44,
     "metadata": {},
     "output_type": "execute_result"
    }
   ],
   "source": [
    "model.reactions.get_by_id(\"RNF\")"
   ]
  },
  {
   "cell_type": "markdown",
   "metadata": {},
   "source": [
    "Two things are wrong with RNF 1) the stoichiometric coefficients and the metabolite h_e\n",
    "Add the right ratios and remove h_e:"
   ]
  },
  {
   "cell_type": "code",
   "execution_count": 45,
   "metadata": {
    "ExecuteTime": {
     "end_time": "2021-03-10T22:47:49.735254Z",
     "start_time": "2021-03-10T22:47:49.655997Z"
    },
    "execution": {
     "iopub.execute_input": "2021-03-28T22:57:27.326869Z",
     "iopub.status.busy": "2021-03-28T22:57:27.326869Z",
     "iopub.status.idle": "2021-03-28T22:57:27.387844Z",
     "shell.execute_reply": "2021-03-28T22:57:27.386842Z",
     "shell.execute_reply.started": "2021-03-28T22:57:27.326869Z"
    }
   },
   "outputs": [],
   "source": [
    "#chanage the direction of Rnf to reduced Fd and oxidize NADH\n",
    "RNF = model.reactions.get_by_id(\"RNF\")\n",
    "\n",
    "fdxo_42_c = model.metabolites.get_by_id(\"fdxo_42_c\")\n",
    "nadh_c = model.metabolites.get_by_id(\"nadh_c\")\n",
    "fdxr_42_c = model.metabolites.get_by_id(\"fdxr_42_c\")\n",
    "nad_c = model.metabolites.get_by_id(\"nad_c\")\n",
    "h_p = model.metabolites.get_by_id(\"h_p\")\n",
    "h_c = model.metabolites.get_by_id(\"h_c\")\n",
    "h_e = model.metabolites.get_by_id(\"h_e\")\n",
    "\n",
    "#rewrite the whole stoich with the combine boolean also add in the -2 h_e to remove the extracellular proton metabolite \n",
    "RNF.add_metabolites({\n",
    "    fdxo_42_c: -1.0,\n",
    "    nadh_c: -1.0,\n",
    "    h_p: -6.0,\n",
    "    fdxr_42_c: 1.0,\n",
    "    nad_c: 1.0,\n",
    "    h_c: 7.0,},\n",
    "    combine = False\n",
    ")\n",
    "\n",
    "RNF.subtract_metabolites({\n",
    "    h_e: 2\n",
    "})\n",
    "#change subsystem to nitrogen fixation\n",
    "\n",
    "RNF.subsystem = \"Nitrogen Fixation\"\n",
    "\n",
    "#Set lower bound to 0 to make irreversable \n",
    "RNF.lower_bound = 0\n",
    "\n",
    "#clean up gene reaction rule\n",
    "\n",
    "RNF.gene_reaction_rule = '( Avin_19210 or Avin_50920 ) and ( Avin_19220 or Avin_50930 ) and ( Avin_19230 or Avin_50940 ) and ( Avin_19240 or Avin_50950 ) and ( Avin_19250 or Avin_50960 ) and ( Avin_19260 or Avin_50970 ) and ( Avin_19270  or Avin_50980)'\n"
   ]
  },
  {
   "cell_type": "code",
   "execution_count": 46,
   "metadata": {
    "execution": {
     "iopub.execute_input": "2021-03-28T22:57:27.387844Z",
     "iopub.status.busy": "2021-03-28T22:57:27.387844Z",
     "iopub.status.idle": "2021-03-28T22:57:27.401989Z",
     "shell.execute_reply": "2021-03-28T22:57:27.401989Z",
     "shell.execute_reply.started": "2021-03-28T22:57:27.387844Z"
    }
   },
   "outputs": [
    {
     "data": {
      "text/html": [
       "\n",
       "        <table>\n",
       "            <tr>\n",
       "                <td><strong>Reaction identifier</strong></td><td>RNF</td>\n",
       "            </tr><tr>\n",
       "                <td><strong>Name</strong></td><td>Ferredoxin:NAD oxidoreductase ( 2 protons traslocation)</td>\n",
       "            </tr><tr>\n",
       "                <td><strong>Memory address</strong></td>\n",
       "                <td>0x01ab51080a08</td>\n",
       "            </tr><tr>\n",
       "                <td><strong>Stoichiometry</strong></td>\n",
       "                <td>\n",
       "                    <p style='text-align:right'>fdxo_42_c + 6.0 h_p + nadh_c --> fdxr_42_c + 7.0 h_c + nad_c</p>\n",
       "                    <p style='text-align:right'>Ferredoxin (oxidized form 4:2) + 6.0 H+ + Nicotinamide adenine dinucleotide - reduced --> Ferredoxin (reduced form 4:2) + 7.0 H+ + Nicotinamide adenine dinucleotide</p>\n",
       "                </td>\n",
       "            </tr><tr>\n",
       "                <td><strong>GPR</strong></td><td>( Avin_19210 or Avin_50920 ) and ( Avin_19220 or Avin_50930 ) and ( Avin_19230 or Avin_50940 )...</td>\n",
       "            </tr><tr>\n",
       "                <td><strong>Lower bound</strong></td><td>0</td>\n",
       "            </tr><tr>\n",
       "                <td><strong>Upper bound</strong></td><td>999999.0</td>\n",
       "            </tr>\n",
       "        </table>\n",
       "        "
      ],
      "text/plain": [
       "<Reaction RNF at 0x1ab51080a08>"
      ]
     },
     "execution_count": 46,
     "metadata": {},
     "output_type": "execute_result"
    }
   ],
   "source": [
    "#check new stoichiometery is right\n",
    "model.reactions.get_by_id(\"RNF\")"
   ]
  },
  {
   "cell_type": "markdown",
   "metadata": {},
   "source": [
    "## Add Fix to the model"
   ]
  },
  {
   "cell_type": "code",
   "execution_count": 47,
   "metadata": {
    "ExecuteTime": {
     "end_time": "2021-03-10T22:47:49.766198Z",
     "start_time": "2021-03-10T22:47:49.753183Z"
    },
    "execution": {
     "iopub.execute_input": "2021-03-28T22:57:27.403967Z",
     "iopub.status.busy": "2021-03-28T22:57:27.402964Z",
     "iopub.status.idle": "2021-03-28T22:57:27.418686Z",
     "shell.execute_reply": "2021-03-28T22:57:27.418008Z",
     "shell.execute_reply.started": "2021-03-28T22:57:27.402964Z"
    }
   },
   "outputs": [],
   "source": [
    "FIX = Reaction('FIX')\n",
    "FIX.name = 'Fix NADH Quinone ferrdoxin oxioreductase'\n",
    "FIX.lower_bound = 0.  # This is the default\n",
    "FIX.upper_bound = 1000.  # This is the default\n",
    "\n",
    "fdxo_42_c = model.metabolites.get_by_id(\"fdxo_42_c\")\n",
    "nadh_c = model.metabolites.get_by_id(\"nadh_c\")\n",
    "q8_c = model.metabolites.get_by_id(\"q8_c\")\n",
    "fdxr_42_c = model.metabolites.get_by_id(\"fdxr_42_c\")\n",
    "nad_c = model.metabolites.get_by_id(\"nad_c\")\n",
    "q8h2_c = model.metabolites.get_by_id(\"q8h2_c\")\n",
    "\n",
    "FIX.add_metabolites({\n",
    "    fdxo_42_c: -1.0,\n",
    "    nadh_c: -2.0,\n",
    "    q8_c: -1.0,\n",
    "    fdxr_42_c: 1.0,\n",
    "    nad_c: 2.0,\n",
    "    q8h2_c: 1.0\n",
    "})\n",
    "\n",
    "FIX.gene_reaction_rule = '(Avin_10520 and Avin_10530 and Avin_10540 and Avin_10550)'\n",
    "\n",
    "#No annotation for bifurcating fix so this is annotation for ETF its homolog check ledbetter et al for biochemical details 10.1021/acs.biochem.7b00389\n",
    "FIX.annotation.update({'ec-code': ['1.5.5.1'],\n",
    "                     'kegg.reaction': 'R04433',\n",
    "                      'seed.reaction': 'rxn17250'\n",
    "                      })\n",
    "\n",
    "FIX.subsystem = 'Nitrogen fixation'\n",
    "\n",
    "model.add_reactions([FIX])"
   ]
  },
  {
   "cell_type": "code",
   "execution_count": 48,
   "metadata": {
    "execution": {
     "iopub.execute_input": "2021-03-28T22:57:27.419682Z",
     "iopub.status.busy": "2021-03-28T22:57:27.419682Z",
     "iopub.status.idle": "2021-03-28T22:57:27.433664Z",
     "shell.execute_reply": "2021-03-28T22:57:27.433664Z",
     "shell.execute_reply.started": "2021-03-28T22:57:27.419682Z"
    }
   },
   "outputs": [
    {
     "data": {
      "text/html": [
       "\n",
       "        <table>\n",
       "            <tr>\n",
       "                <td><strong>Reaction identifier</strong></td><td>FIX</td>\n",
       "            </tr><tr>\n",
       "                <td><strong>Name</strong></td><td>Fix NADH Quinone ferrdoxin oxioreductase</td>\n",
       "            </tr><tr>\n",
       "                <td><strong>Memory address</strong></td>\n",
       "                <td>0x01ab50fba908</td>\n",
       "            </tr><tr>\n",
       "                <td><strong>Stoichiometry</strong></td>\n",
       "                <td>\n",
       "                    <p style='text-align:right'>fdxo_42_c + 2.0 nadh_c + q8_c --> fdxr_42_c + 2.0 nad_c + q8h2_c</p>\n",
       "                    <p style='text-align:right'>Ferredoxin (oxidized form 4:2) + 2.0 Nicotinamide adenine dinucleotide - reduced + Ubiquinone-8 --> Ferredoxin (reduced form 4:2) + 2.0 Nicotinamide adenine dinucleotide + Ubiquinol-8</p>\n",
       "                </td>\n",
       "            </tr><tr>\n",
       "                <td><strong>GPR</strong></td><td>(Avin_10520 and Avin_10530 and Avin_10540 and Avin_10550)</td>\n",
       "            </tr><tr>\n",
       "                <td><strong>Lower bound</strong></td><td>0.0</td>\n",
       "            </tr><tr>\n",
       "                <td><strong>Upper bound</strong></td><td>1000.0</td>\n",
       "            </tr>\n",
       "        </table>\n",
       "        "
      ],
      "text/plain": [
       "<Reaction FIX at 0x1ab50fba908>"
      ]
     },
     "execution_count": 48,
     "metadata": {},
     "output_type": "execute_result"
    }
   ],
   "source": [
    "model.reactions.get_by_id(\"FIX\")"
   ]
  },
  {
   "cell_type": "markdown",
   "metadata": {},
   "source": [
    "## Add NADH Dehydrogeanse I (coupled)"
   ]
  },
  {
   "cell_type": "code",
   "execution_count": 49,
   "metadata": {
    "ExecuteTime": {
     "end_time": "2021-03-10T22:47:49.791199Z",
     "start_time": "2021-03-10T22:47:49.767166Z"
    },
    "execution": {
     "iopub.execute_input": "2021-03-28T22:57:27.434666Z",
     "iopub.status.busy": "2021-03-28T22:57:27.434666Z",
     "iopub.status.idle": "2021-03-28T22:57:27.465718Z",
     "shell.execute_reply": "2021-03-28T22:57:27.465718Z",
     "shell.execute_reply.started": "2021-03-28T22:57:27.434666Z"
    }
   },
   "outputs": [],
   "source": [
    "NDHI = Reaction('NADH6')\n",
    "NDHI.name = 'NADH: quinone oxidoreductase'\n",
    "NDHI.lower_bound = -1000.  # This is the default\n",
    "NDHI.upper_bound = 1000.  # This is the default\n",
    "\n",
    "#Just add metabolites not added before\n",
    "h_c = model.metabolites.get_by_id(\"h_c\")\n",
    "h_p = model.metabolites.get_by_id(\"h_p\")\n",
    "\n",
    "#stochiometry of 4 protons translocated with extra proton for quniol production is from Berstova et al (Biochimica et Biophysica Acta 1363, 1998. 125–133)\n",
    "NDHI.add_metabolites({\n",
    "    h_c : -5.0,\n",
    "    nadh_c: -1.0,\n",
    "    q8_c: -1.0,\n",
    "    h_p : 4.0,\n",
    "    nad_c: 1.0,\n",
    "    q8h2_c: 1.0\n",
    "})\n",
    "\n",
    "\n",
    "NDHI.gene_reaction_rule = '((Avin_28540) and (Avin_28440) and (Avin_28560) and (Avin_28450) and (Avin_28490) and (Avin_28510) and (Avin_28460) and (Avin_28520) and (Avin_28470))'\n",
    "\n",
    "NDHI.annotation.update({'ec-code': ['7.1.1.2'],\n",
    "                        'bigg.reaction': 'NADH6',\n",
    "                        'kegg.reaction': 'R11945',\n",
    "                        'metanetx.reaction': 'MNXR101873',\n",
    "                        'seed.reaction': 'rxn10122'                        \n",
    "                      })\n",
    "\n",
    "\n",
    "\n",
    "model.add_reactions([NDHI])\n"
   ]
  },
  {
   "cell_type": "markdown",
   "metadata": {},
   "source": [
    "## Remove nuo subunit genes from NADH II GRP rules "
   ]
  },
  {
   "cell_type": "code",
   "execution_count": 50,
   "metadata": {
    "ExecuteTime": {
     "end_time": "2021-03-10T22:47:49.801216Z",
     "start_time": "2021-03-10T22:47:49.792168Z"
    },
    "execution": {
     "iopub.execute_input": "2021-03-28T22:57:27.467684Z",
     "iopub.status.busy": "2021-03-28T22:57:27.467684Z",
     "iopub.status.idle": "2021-03-28T22:57:27.481813Z",
     "shell.execute_reply": "2021-03-28T22:57:27.481813Z",
     "shell.execute_reply.started": "2021-03-28T22:57:27.467684Z"
    }
   },
   "outputs": [],
   "source": [
    "NADH5 = model.reactions.get_by_id('NADH5')\n",
    "NADH5.gene_reaction_rule = '(Avin_12000)'"
   ]
  },
  {
   "cell_type": "markdown",
   "metadata": {},
   "source": [
    "## Add Cytochrome c oxioreductase (quinone)"
   ]
  },
  {
   "cell_type": "code",
   "execution_count": 51,
   "metadata": {
    "ExecuteTime": {
     "end_time": "2021-03-10T22:47:49.826171Z",
     "start_time": "2021-03-10T22:47:49.805174Z"
    },
    "execution": {
     "iopub.execute_input": "2021-03-28T22:57:27.483840Z",
     "iopub.status.busy": "2021-03-28T22:57:27.483840Z",
     "iopub.status.idle": "2021-03-28T22:57:27.513683Z",
     "shell.execute_reply": "2021-03-28T22:57:27.513683Z",
     "shell.execute_reply.started": "2021-03-28T22:57:27.483840Z"
    }
   },
   "outputs": [],
   "source": [
    "QCCOR = Reaction('QCCOR')\n",
    "QCCOR.name = 'quinone: cytochrome c oxidoreductase'\n",
    "QCCOR.lower_bound = -1000.  # This is the default\n",
    "QCCOR.upper_bound = 1000.  # This is the default\n",
    "\n",
    "#Just add metabolites not added before\n",
    "ficytC_c = model.metabolites.get_by_id(\"ficytC_c\")\n",
    "focytC_c = model.metabolites.get_by_id(\"focytC_c\")\n",
    "\n",
    "QCCOR.add_metabolites({\n",
    "    \n",
    "    ficytC_c: -2.0,\n",
    "    q8h2_c: -1.0,\n",
    "    h_p : 4.0,\n",
    "    h_c : -2.0,\n",
    "    focytC_c: 2.0,\n",
    "    q8_c: 1.0\n",
    "})\n",
    "\n",
    "QCCOR.gene_reaction_rule = '(Avin_13060 and Avin_13070 and Avin_13080)'\n",
    "\n",
    "QCCOR.annotation.update({\n",
    "                        'metanetx.reaction': 'MNXR96964'                 \n",
    "                      })\n",
    "\n",
    "model.add_reactions([QCCOR])"
   ]
  },
  {
   "cell_type": "markdown",
   "metadata": {},
   "source": [
    "## Add Alternative Nitorgnease (V and Fe)"
   ]
  },
  {
   "cell_type": "code",
   "execution_count": 52,
   "metadata": {
    "ExecuteTime": {
     "end_time": "2021-03-10T22:47:49.859579Z",
     "start_time": "2021-03-10T22:47:49.827167Z"
    },
    "execution": {
     "iopub.execute_input": "2021-03-28T22:57:27.514648Z",
     "iopub.status.busy": "2021-03-28T22:57:27.514648Z",
     "iopub.status.idle": "2021-03-28T22:57:27.560689Z",
     "shell.execute_reply": "2021-03-28T22:57:27.560689Z",
     "shell.execute_reply.started": "2021-03-28T22:57:27.514648Z"
    }
   },
   "outputs": [],
   "source": [
    "VNIT = Reaction('VNIT')\n",
    "VNIT.name = 'Vanadium Nitrogenase'\n",
    "VNIT.lower_bound = 0.  # This is the default\n",
    "VNIT.upper_bound = 1000.  # This is the default\n",
    "\n",
    "fdxo_42_c = model.metabolites.get_by_id(\"fdxo_42_c\")\n",
    "n2_c = model.metabolites.get_by_id(\"n2_c\")\n",
    "atp_c = model.metabolites.get_by_id(\"atp_c\")\n",
    "fdxr_42_c = model.metabolites.get_by_id(\"fdxr_42_c\")\n",
    "adp_c = model.metabolites.get_by_id(\"adp_c\")\n",
    "h2o_c = model.metabolites.get_by_id(\"h2o_c\")\n",
    "h_c = model.metabolites.get_by_id(\"h_c\")\n",
    "pi_c = model.metabolites.get_by_id(\"pi_c\")\n",
    "nh4_c = model.metabolites.get_by_id(\"nh4_c\")\n",
    "h2_c = model.metabolites.get_by_id(\"h2_c\")\n",
    "\n",
    "VNIT.add_metabolites({\n",
    "    fdxr_42_c: -6.0,\n",
    "    n2_c: -1.0,\n",
    "    atp_c: -24.0,\n",
    "    h2o_c: -24.0,\n",
    "    fdxo_42_c: 6.0,\n",
    "    nh4_c: 2.0,\n",
    "    h2_c: 3.0,\n",
    "    adp_c: 24.0,\n",
    "    pi_c: 24.0,\n",
    "    h_c: 10\n",
    "})\n",
    "\n",
    "VNIT.gene_reaction_rule = '(Avin_02590 and Avin_02600 and Avin_02610 and Avin_02660)'\n",
    "\n",
    "#the alternative nitrogenases are not accuratley annotated anywhere! so this is the best we can do Kegg has vandium but the stoichometery is wrong\n",
    "VNIT.annotation.update({'ec-code': ['1.18.6.2'],\n",
    "                        'kegg.reaction': 'R12084'                  \n",
    "                      })\n",
    "\n",
    "VNIT.subsystem  = 'Nitrogen fixation'\n",
    "model.add_reactions([VNIT])"
   ]
  },
  {
   "cell_type": "code",
   "execution_count": 53,
   "metadata": {
    "ExecuteTime": {
     "end_time": "2021-03-10T22:47:49.891274Z",
     "start_time": "2021-03-10T22:47:49.860762Z"
    },
    "execution": {
     "iopub.execute_input": "2021-03-28T22:57:27.561689Z",
     "iopub.status.busy": "2021-03-28T22:57:27.561689Z",
     "iopub.status.idle": "2021-03-28T22:57:27.592938Z",
     "shell.execute_reply": "2021-03-28T22:57:27.591944Z",
     "shell.execute_reply.started": "2021-03-28T22:57:27.561689Z"
    }
   },
   "outputs": [],
   "source": [
    "FENIT = Reaction('FENIT')\n",
    "FENIT.name = 'Fe-only Nitrogenase'\n",
    "FENIT.lower_bound = 0.  # This is the default\n",
    "FENIT.upper_bound = 1000.  # This is the default\n",
    "\n",
    "\n",
    "FENIT.add_metabolites({\n",
    "    fdxr_42_c: -10.0,\n",
    "    n2_c: -1.0,\n",
    "    atp_c: -40.0,\n",
    "    h2o_c: -40.0,\n",
    "    fdxo_42_c: 10.0,\n",
    "    nh4_c: 2.0,\n",
    "    h2_c: 7.0,\n",
    "    adp_c: 40.0,\n",
    "    pi_c: 40.0,\n",
    "    h_c: 18\n",
    "})\n",
    "\n",
    "\n",
    "FENIT.gene_reaction_rule = '(Avin_48970 and Avin_48980 and Avin_48990 and Avin_49000)'\n",
    "\n",
    "#no Fe-only nitrogenase annotated in any database \n",
    "\n",
    "FENIT.subsystem = 'Nitrogen fixation'\n",
    "\n",
    "model.add_reactions([FENIT])"
   ]
  },
  {
   "cell_type": "markdown",
   "metadata": {},
   "source": [
    "## Fix nif GRP to only include nifHDK subunits \n",
    "Can adjust to all biosyntheis genes later"
   ]
  },
  {
   "cell_type": "code",
   "execution_count": 54,
   "metadata": {
    "ExecuteTime": {
     "end_time": "2021-03-10T22:47:49.896311Z",
     "start_time": "2021-03-10T22:47:49.892274Z"
    },
    "execution": {
     "iopub.execute_input": "2021-03-28T22:57:27.593936Z",
     "iopub.status.busy": "2021-03-28T22:57:27.593936Z",
     "iopub.status.idle": "2021-03-28T22:57:27.608643Z",
     "shell.execute_reply": "2021-03-28T22:57:27.607674Z",
     "shell.execute_reply.started": "2021-03-28T22:57:27.593936Z"
    }
   },
   "outputs": [],
   "source": [
    "NIT = model.reactions.get_by_id('NIT1b')\n",
    "NIT.gene_reaction_rule = '(Avin_01380 and Avin_01390 and Avin_01400)'\n",
    "\n",
    "NIT.subsystem = 'Nitrogen fixation'"
   ]
  },
  {
   "cell_type": "markdown",
   "metadata": {},
   "source": [
    "## Make soluble hydrogenase *hoxHY* consume H2 only"
   ]
  },
  {
   "cell_type": "code",
   "execution_count": 55,
   "metadata": {
    "ExecuteTime": {
     "end_time": "2021-03-10T22:47:49.907274Z",
     "start_time": "2021-03-10T22:47:49.897273Z"
    },
    "execution": {
     "iopub.execute_input": "2021-03-28T22:57:27.609641Z",
     "iopub.status.busy": "2021-03-28T22:57:27.609641Z",
     "iopub.status.idle": "2021-03-28T22:57:27.624609Z",
     "shell.execute_reply": "2021-03-28T22:57:27.623607Z",
     "shell.execute_reply.started": "2021-03-28T22:57:27.609641Z"
    }
   },
   "outputs": [],
   "source": [
    "NAD_H2 = model.reactions.get_by_id(\"NAD_H2\")\n",
    "NAD_H2.lower_bound = -1000\n",
    "NAD_H2.upper_bound = 0\n",
    "\n",
    "NAD_H2.gene_reaction_rule = '(Avin_04380 and Avin_04390 and Avin_04400 and Avin_04410)'\n",
    "\n",
    "NAD_H2.annotation.update({'ec-code': ['1.12.1.2', '1.12.1.5'],\n",
    "                        'bigg.reaction': 'NAD_H2',\n",
    "                        'kegg.reaction': 'R00700',\n",
    "                        'metanetx.reaction': 'MNXR101899',\n",
    "                        'seed.reaction': 'rxn05887'                        \n",
    "                      })\n",
    "\n"
   ]
  },
  {
   "cell_type": "markdown",
   "metadata": {
    "ExecuteTime": {
     "end_time": "2021-03-07T02:11:17.009430Z",
     "start_time": "2021-03-07T02:11:17.004429Z"
    }
   },
   "source": [
    "## Fix gene reaction rules for the Cytchrome C oxidase (*cta* and *coxAB*) and add cytochrome cbb3 (*ccoNOQP*)"
   ]
  },
  {
   "cell_type": "code",
   "execution_count": 56,
   "metadata": {
    "ExecuteTime": {
     "end_time": "2021-03-10T22:47:49.935274Z",
     "start_time": "2021-03-10T22:47:49.909272Z"
    },
    "execution": {
     "iopub.execute_input": "2021-03-28T22:57:27.625611Z",
     "iopub.status.busy": "2021-03-28T22:57:27.625611Z",
     "iopub.status.idle": "2021-03-28T22:57:27.654600Z",
     "shell.execute_reply": "2021-03-28T22:57:27.654600Z",
     "shell.execute_reply.started": "2021-03-28T22:57:27.625611Z"
    }
   },
   "outputs": [],
   "source": [
    "# cytochrome cbb3 (ccoNOQP) little is known about this and if cytochrome c is donor\n",
    "\n",
    "CYTCBB3pp = Reaction('CYTCBB3pp')\n",
    "CYTCBB3pp.name = 'Cytochrome c oxidase bb3 05 protons1 electron periplasm'\n",
    "CYTCBB3pp.lower_bound = 0.  # This is the default\n",
    "CYTCBB3pp.upper_bound = 0.  # This is set so we can compare bd/c as cbb3 is redudant\n",
    "\n",
    "o2_c = model.metabolites.get_by_id(\"o2_c\")\n",
    "\n",
    "CYTCBB3pp.add_metabolites({\n",
    "    h_c: -1.0,\n",
    "    o2_c: -0.5,\n",
    "    focytC_c: -2.0,\n",
    "    ficytC_c: 2.0,\n",
    "    h2o_c: 1.0,\n",
    "    h_p: 1.0\n",
    "})\n",
    "\n",
    "CYTCBB3pp.gene_reaction_rule = '(Avin_19980 and Avin_19990 and Avin_20000 and Avin_20010)'\n",
    "\n",
    "CYTCBB3pp.annotation.update({'ec-code': ['7.1.1.9'],\n",
    "                     'kegg.reaction': 'R000081',\n",
    "                      'seed.reaction': 'rxn14425'\n",
    "                      })\n",
    "\n",
    "CYTCBB3pp.subsystem = 'Oxidative Phosphorylation'\n",
    "\n",
    "model.add_reactions([CYTCBB3pp])"
   ]
  },
  {
   "cell_type": "code",
   "execution_count": 57,
   "metadata": {
    "ExecuteTime": {
     "end_time": "2021-03-10T22:47:49.946270Z",
     "start_time": "2021-03-10T22:47:49.936272Z"
    },
    "execution": {
     "iopub.execute_input": "2021-03-28T22:57:27.655567Z",
     "iopub.status.busy": "2021-03-28T22:57:27.655567Z",
     "iopub.status.idle": "2021-03-28T22:57:27.671514Z",
     "shell.execute_reply": "2021-03-28T22:57:27.670512Z",
     "shell.execute_reply.started": "2021-03-28T22:57:27.655567Z"
    }
   },
   "outputs": [],
   "source": [
    "#cytochrome o oxidase (coxAB and cta genes)\n",
    "\n",
    "CYOO2pp = model.reactions.get_by_id(\"CYOO2pp\")\n",
    "\n",
    "CYOO2pp.gene_reaction_rule = '(Avin_11180 and Avin_11170) or (Avin_00990 and Avin_01010 and Avin_01020)'\n",
    "\n",
    "CYOO2pp.annotation.update({'ec-code': ['7.1.1.9'],\n",
    "                        'bigg.reaction': 'CYOO2pp',\n",
    "                        'kegg.reaction': 'R00016',\n",
    "                        'metanetx.reaction': 'MNXR138189',\n",
    "                        'seed.reaction': 'rxn13688'                        \n",
    "                      })"
   ]
  },
  {
   "cell_type": "markdown",
   "metadata": {},
   "source": [
    "## Fix Cytochrome bd gpr\n",
    "There are two cytbd the first (cydAB I, Avin_11170-80) has been heavily invesitagted (see refs in paper). The second Avin_11040-50 is not expressed but very close in the genome."
   ]
  },
  {
   "cell_type": "code",
   "execution_count": 58,
   "metadata": {
    "ExecuteTime": {
     "end_time": "2021-03-10T22:47:49.959272Z",
     "start_time": "2021-03-10T22:47:49.947269Z"
    },
    "execution": {
     "iopub.execute_input": "2021-03-28T22:57:27.672545Z",
     "iopub.status.busy": "2021-03-28T22:57:27.671514Z",
     "iopub.status.idle": "2021-03-28T22:57:27.685723Z",
     "shell.execute_reply": "2021-03-28T22:57:27.685723Z",
     "shell.execute_reply.started": "2021-03-28T22:57:27.672545Z"
    }
   },
   "outputs": [],
   "source": [
    "CYTBDpp = model.reactions.get_by_id(\"CYTBDpp\")\n",
    "\n",
    "CYTBDpp.gene_reaction_rule = '(Avin_11170 and Avin_11180) or (Avin_11040 and 11050)'"
   ]
  },
  {
   "cell_type": "code",
   "execution_count": 59,
   "metadata": {
    "ExecuteTime": {
     "end_time": "2021-03-10T22:47:49.970306Z",
     "start_time": "2021-03-10T22:47:49.960274Z"
    },
    "execution": {
     "iopub.execute_input": "2021-03-28T22:57:27.686687Z",
     "iopub.status.busy": "2021-03-28T22:57:27.686687Z",
     "iopub.status.idle": "2021-03-28T22:57:27.701709Z",
     "shell.execute_reply": "2021-03-28T22:57:27.701709Z",
     "shell.execute_reply.started": "2021-03-28T22:57:27.686687Z"
    }
   },
   "outputs": [
    {
     "data": {
      "text/plain": [
       "{'sbo': 'SBO:0000185',\n",
       " 'bigg.reaction': 'CYTBDpp',\n",
       " 'metanetx.reaction': 'MNXR97031',\n",
       " 'seed.reaction': ['rxn12494', 'rxn10112', 'rxn08288']}"
      ]
     },
     "execution_count": 59,
     "metadata": {},
     "output_type": "execute_result"
    }
   ],
   "source": [
    "model.reactions.CYTBDpp.annotation"
   ]
  },
  {
   "cell_type": "markdown",
   "metadata": {},
   "source": [
    "## Add a transhydrogenase for NADPH to NADH electron transfer"
   ]
  },
  {
   "cell_type": "code",
   "execution_count": 60,
   "metadata": {
    "ExecuteTime": {
     "end_time": "2021-03-10T22:47:49.985334Z",
     "start_time": "2021-03-10T22:47:49.971303Z"
    },
    "execution": {
     "iopub.execute_input": "2021-03-28T22:57:27.702686Z",
     "iopub.status.busy": "2021-03-28T22:57:27.702686Z",
     "iopub.status.idle": "2021-03-28T22:57:27.718670Z",
     "shell.execute_reply": "2021-03-28T22:57:27.717704Z",
     "shell.execute_reply.started": "2021-03-28T22:57:27.702686Z"
    }
   },
   "outputs": [],
   "source": [
    "NADTRHD = Reaction('NADTRHD')\n",
    "NADTRHD.name = 'NAD transhydrogenase'\n",
    "NADTRHD.lower_bound = 0.  # This is the default\n",
    "NADTRHD.upper_bound = 1000.  # This is the default\n",
    "\n",
    "#Just add metabolites not added before\n",
    "nadph_c = model.metabolites.get_by_id(\"nadph_c\")\n",
    "nadp_c = model.metabolites.get_by_id(\"nadp_c\")\n",
    "\n",
    "\n",
    "NADTRHD.add_metabolites({\n",
    "    nad_c: -1.0,\n",
    "    nadph_c: -1.0,\n",
    "    nadh_c: 1.0,\n",
    "    nadp_c: 1.0\n",
    "})\n",
    "\n",
    "NADTRHD.gene_reaction_rule = '(Avin_01840 and Avin_01850 and Avin_01860)'\n",
    "\n",
    "NAD_H2.annotation.update({'ec-code': ['1.6.1.1', '1.6.1.2'],\n",
    "                        'bigg.reaction': 'NADTRHD',\n",
    "                        'kegg.reaction': 'R00112',\n",
    "                        'metanetx.reaction': 'MNXR101898',\n",
    "                        'seed.reaction': 'rxn00083'                        \n",
    "                      })\n",
    "\n",
    "\n",
    "model.add_reactions([NADTRHD])"
   ]
  },
  {
   "cell_type": "code",
   "execution_count": null,
   "metadata": {
    "ExecuteTime": {
     "end_time": "2021-03-10T00:17:39.140246Z",
     "start_time": "2021-03-10T00:17:39.135266Z"
    }
   },
   "outputs": [],
   "source": []
  },
  {
   "cell_type": "markdown",
   "metadata": {},
   "source": [
    "## Set Glutamate Dehydrogenase to zero as is only used under high NH<sub>4</sub> concentration \n",
    "Kleiner and Kleinschmidt 1976  Journal of bacterialogy and Kleiner 1975 Arch microbiology\n"
   ]
  },
  {
   "cell_type": "code",
   "execution_count": 61,
   "metadata": {
    "ExecuteTime": {
     "end_time": "2021-03-10T22:47:49.997303Z",
     "start_time": "2021-03-10T22:47:49.986325Z"
    },
    "execution": {
     "iopub.execute_input": "2021-03-28T22:57:27.719586Z",
     "iopub.status.busy": "2021-03-28T22:57:27.719586Z",
     "iopub.status.idle": "2021-03-28T22:57:27.734268Z",
     "shell.execute_reply": "2021-03-28T22:57:27.733618Z",
     "shell.execute_reply.started": "2021-03-28T22:57:27.719586Z"
    }
   },
   "outputs": [],
   "source": [
    "model.reactions.get_by_id(\"GLUDxi\").upper_bound = 1\n",
    "model.reactions.get_by_id(\"GLUDxi\").lower_bound = 0\n",
    "\n",
    "\n",
    "model.reactions.get_by_id(\"GLUDy\").upper_bound = 1\n",
    "model.reactions.get_by_id(\"GLUDy\").lower_bound = 0\n",
    "\n",
    "#Also pick one Glutamate synthetase (NADPH) for simplicity\n",
    "\n",
    "model.reactions.get_by_id(\"GLUSx\").upper_bound = 0\n",
    "model.reactions.get_by_id(\"GLUSx\").lower_bound = 0\n",
    "\n",
    "#Malic enzyme to NADH for simpicty \n",
    "model.reactions.get_by_id(\"ME2\").upper_bound = 0\n",
    "model.reactions.get_by_id(\"ME2\").lower_bound = 0\n",
    "\n",
    "#Malic enzyme to NADH for simpicty \n",
    "model.reactions.get_by_id(\"SSCOARy\").upper_bound = 0\n",
    "model.reactions.get_by_id(\"SSCOARy\").lower_bound = 0"
   ]
  },
  {
   "cell_type": "markdown",
   "metadata": {},
   "source": [
    "## Quninone is the only inter membrane aromatic electron carrier in A.v. \n",
    "\n",
    "There is no biochemical evidence of menaquinone in the membrane only Q8. \n",
    "\n",
    "See:\n",
    "Wong and Maier 1984 (https://jb.asm.org/content/159/1/348)\n",
    "Jurtshuk et al 1969 (J Bac 98:3 1120-1127. L-malate oxidation)\n",
    "Jones et al. 1966 Electron trasnport in Azotobacter vinelandii (BBA 113:3 467-481)\n",
    "\n"
   ]
  },
  {
   "cell_type": "code",
   "execution_count": 62,
   "metadata": {
    "ExecuteTime": {
     "end_time": "2021-03-10T22:47:50.008306Z",
     "start_time": "2021-03-10T22:47:49.998295Z"
    },
    "execution": {
     "iopub.execute_input": "2021-03-28T22:57:27.735359Z",
     "iopub.status.busy": "2021-03-28T22:57:27.735359Z",
     "iopub.status.idle": "2021-03-28T22:57:27.749654Z",
     "shell.execute_reply": "2021-03-28T22:57:27.748691Z",
     "shell.execute_reply.started": "2021-03-28T22:57:27.735359Z"
    }
   },
   "outputs": [],
   "source": [
    "model.reactions.get_by_id(\"HYD2pp\").upper_bound = 0\n",
    "model.reactions.get_by_id(\"HYD2pp\").lower_bound = 0\n",
    "\n",
    "model.remove_reactions\n",
    "model.reactions.get_by_id(\"HYD3pp\").upper_bound = 0\n",
    "model.reactions.get_by_id(\"HYD3pp\").lower_bound = 0\n",
    "\n",
    "model.reactions.get_by_id(\"NADH10\").upper_bound = 0\n",
    "model.reactions.get_by_id(\"NADH10\").lower_bound = 0\n",
    "\n",
    "model.reactions.get_by_id(\"NADH9\").upper_bound = 0\n",
    "model.reactions.get_by_id(\"NADH9\").lower_bound = 0\n",
    "\n",
    "model.reactions.get_by_id(\"NADPHQR3\").upper_bound = 0\n",
    "model.reactions.get_by_id(\"NADPHQR3\").lower_bound = 0\n",
    "\n",
    "model.reactions.get_by_id(\"NADPHQR4\").upper_bound = 0\n",
    "model.reactions.get_by_id(\"NADPHQR4\").lower_bound = 0\n",
    "\n",
    "model.reactions.get_by_id(\"FRD2\").upper_bound = 0\n",
    "model.reactions.get_by_id(\"FRD2\").lower_bound = 0\n",
    "\n",
    "model.reactions.get_by_id(\"MDH3\").upper_bound = 0\n",
    "model.reactions.get_by_id(\"MDH3\").lower_bound = 0\n",
    "\n",
    "model.reactions.get_by_id(\"DHORD5\").upper_bound = 0\n",
    "model.reactions.get_by_id(\"DHORD5\").lower_bound = 0\n",
    "\n",
    "model.reactions.get_by_id(\"CYTBD2pp\").upper_bound = 0\n",
    "model.reactions.get_by_id(\"CYTBD2pp\").lower_bound = 0\n",
    "\n",
    "\n",
    "menaquinone_rxns =[\"HYD2pp\", \"HYD3pp\", \"NADH10\", \"NADH9\", \"NADPHQR3\",\"NADPHQR4\",\"FRD2\", \"MDH3\", \"DHORD5\", \"CYTBD2pp\"]"
   ]
  },
  {
   "cell_type": "code",
   "execution_count": 63,
   "metadata": {
    "ExecuteTime": {
     "end_time": "2021-03-10T22:47:50.039340Z",
     "start_time": "2021-03-10T22:47:50.009299Z"
    },
    "execution": {
     "iopub.execute_input": "2021-03-28T22:57:27.750732Z",
     "iopub.status.busy": "2021-03-28T22:57:27.750732Z",
     "iopub.status.idle": "2021-03-28T22:57:27.813669Z",
     "shell.execute_reply": "2021-03-28T22:57:27.812661Z",
     "shell.execute_reply.started": "2021-03-28T22:57:27.750732Z"
    }
   },
   "outputs": [],
   "source": [
    "menaquinone_rxns =[\"HYD2pp\", \"HYD3pp\", \"NADH10\", \"NADH9\", \"NADPHQR3\",\"NADPHQR4\",\"FRD2\", \"MDH3\", \"DHORD5\", \"CYTBD2pp\"]\n",
    "model.remove_reactions(reactions = menaquinone_rxns)"
   ]
  },
  {
   "cell_type": "code",
   "execution_count": 64,
   "metadata": {
    "ExecuteTime": {
     "end_time": "2021-03-10T22:47:50.049272Z",
     "start_time": "2021-03-10T22:47:50.040323Z"
    },
    "execution": {
     "iopub.execute_input": "2021-03-28T22:57:27.814664Z",
     "iopub.status.busy": "2021-03-28T22:57:27.814664Z",
     "iopub.status.idle": "2021-03-28T22:57:27.829576Z",
     "shell.execute_reply": "2021-03-28T22:57:27.828608Z",
     "shell.execute_reply.started": "2021-03-28T22:57:27.814664Z"
    }
   },
   "outputs": [],
   "source": [
    "#model.reactions.get_by_id(\"CYTBD2pp\")"
   ]
  },
  {
   "cell_type": "markdown",
   "metadata": {},
   "source": [
    "## Set Succinate dehydrogenase to quinone not FADH"
   ]
  },
  {
   "cell_type": "code",
   "execution_count": 65,
   "metadata": {
    "ExecuteTime": {
     "end_time": "2021-03-10T22:47:50.063469Z",
     "start_time": "2021-03-10T22:47:50.050310Z"
    },
    "execution": {
     "iopub.execute_input": "2021-03-28T22:57:27.831608Z",
     "iopub.status.busy": "2021-03-28T22:57:27.831608Z",
     "iopub.status.idle": "2021-03-28T22:57:27.844426Z",
     "shell.execute_reply": "2021-03-28T22:57:27.844426Z",
     "shell.execute_reply.started": "2021-03-28T22:57:27.831608Z"
    }
   },
   "outputs": [],
   "source": [
    "model.reactions.get_by_id(\"SUCD1\").upper_bound = 0\n",
    "model.reactions.get_by_id(\"SUCD1\").lower_bound = 0\n",
    "\n",
    "\n",
    "model.reactions.get_by_id(\"FRD\").upper_bound = 0\n",
    "model.reactions.get_by_id(\"FRD\").lower_bound = 0\n",
    "\n",
    "\n",
    "model.reactions.get_by_id(\"FRD3\").upper_bound = 0\n",
    "model.reactions.get_by_id(\"FRD3\").lower_bound = 0"
   ]
  },
  {
   "cell_type": "markdown",
   "metadata": {},
   "source": [
    "# Set NAD:FAD oxidoreduxtase to zero as its a bad annotation for the Fix reaction"
   ]
  },
  {
   "cell_type": "code",
   "execution_count": 66,
   "metadata": {
    "ExecuteTime": {
     "end_time": "2021-03-10T22:47:50.073467Z",
     "start_time": "2021-03-10T22:47:50.066469Z"
    },
    "execution": {
     "iopub.execute_input": "2021-03-28T22:57:27.846424Z",
     "iopub.status.busy": "2021-03-28T22:57:27.845401Z",
     "iopub.status.idle": "2021-03-28T22:57:27.861354Z",
     "shell.execute_reply": "2021-03-28T22:57:27.860391Z",
     "shell.execute_reply.started": "2021-03-28T22:57:27.846424Z"
    }
   },
   "outputs": [],
   "source": [
    "model.reactions.get_by_id(\"NADFADOR\").upper_bound = 0\n",
    "model.reactions.get_by_id(\"NADFADOR\").lower_bound = 0\n",
    "\n",
    "model.reactions.get_by_id(\"NADHNQR\").upper_bound = 0\n",
    "model.reactions.get_by_id(\"NADHNQR\").lower_bound = 0"
   ]
  },
  {
   "cell_type": "markdown",
   "metadata": {},
   "source": [
    "## Remove hydrogen producing 3-hydroxyadiapyl-CoA dehydrogenase (keeping NAD dependant)"
   ]
  },
  {
   "cell_type": "code",
   "execution_count": 67,
   "metadata": {
    "ExecuteTime": {
     "end_time": "2021-03-10T22:47:50.084542Z",
     "start_time": "2021-03-10T22:47:50.074499Z"
    },
    "execution": {
     "iopub.execute_input": "2021-03-28T22:57:27.862353Z",
     "iopub.status.busy": "2021-03-28T22:57:27.862353Z",
     "iopub.status.idle": "2021-03-28T22:57:27.877103Z",
     "shell.execute_reply": "2021-03-28T22:57:27.876101Z",
     "shell.execute_reply.started": "2021-03-28T22:57:27.862353Z"
    }
   },
   "outputs": [],
   "source": [
    "model.reactions.get_by_id(\"HADPCOADH\").upper_bound = 0\n",
    "model.reactions.get_by_id(\"HADPCOADH\").lower_bound = 0"
   ]
  },
  {
   "cell_type": "markdown",
   "metadata": {
    "ExecuteTime": {
     "end_time": "2021-02-19T18:36:45.606373Z",
     "start_time": "2021-02-19T18:36:45.597374Z"
    }
   },
   "source": [
    "## Removing quinone loops"
   ]
  },
  {
   "cell_type": "code",
   "execution_count": 68,
   "metadata": {
    "ExecuteTime": {
     "end_time": "2021-03-10T22:47:50.096464Z",
     "start_time": "2021-03-10T22:47:50.085499Z"
    },
    "execution": {
     "iopub.execute_input": "2021-03-28T22:57:27.878149Z",
     "iopub.status.busy": "2021-03-28T22:57:27.877103Z",
     "iopub.status.idle": "2021-03-28T22:57:27.891934Z",
     "shell.execute_reply": "2021-03-28T22:57:27.891934Z",
     "shell.execute_reply.started": "2021-03-28T22:57:27.878149Z"
    }
   },
   "outputs": [],
   "source": [
    "\n",
    "model.reactions.get_by_id(\"GLYCTO2\").upper_bound = 0\n",
    "model.reactions.get_by_id(\"GLYCTO2\").lower_bound = 0\n",
    "\n",
    "\n",
    "model.reactions.get_by_id(\"G3PD5\").upper_bound = 0\n",
    "model.reactions.get_by_id(\"G3PD5\").lower_bound = 0\n",
    "\n",
    "\n",
    "\n",
    "model.reactions.get_by_id(\"NADPHQR2\").upper_bound = 0\n",
    "model.reactions.get_by_id(\"NADPHQR2\").lower_bound = 0\n",
    "\n",
    "\n",
    "model.reactions.get_by_id(\"PROD3\").upper_bound = 0\n",
    "model.reactions.get_by_id(\"PROD3\").lower_bound = 0"
   ]
  },
  {
   "cell_type": "markdown",
   "metadata": {},
   "source": [
    "## Reversible transport ends in futile cycle so make irreversible "
   ]
  },
  {
   "cell_type": "code",
   "execution_count": 69,
   "metadata": {
    "ExecuteTime": {
     "end_time": "2021-03-10T22:47:50.108530Z",
     "start_time": "2021-03-10T22:47:50.097499Z"
    },
    "execution": {
     "iopub.execute_input": "2021-03-28T22:57:27.893902Z",
     "iopub.status.busy": "2021-03-28T22:57:27.892900Z",
     "iopub.status.idle": "2021-03-28T22:57:27.907167Z",
     "shell.execute_reply": "2021-03-28T22:57:27.907167Z",
     "shell.execute_reply.started": "2021-03-28T22:57:27.893902Z"
    }
   },
   "outputs": [],
   "source": [
    "\n",
    "# Acetate\n",
    "model.reactions.get_by_id(\"ACt2rpp\").upper_bound = 1000\n",
    "model.reactions.get_by_id(\"ACt2rpp\").lower_bound = 0\n",
    "\n",
    "\n",
    "#Acetoacetate\n",
    "model.reactions.get_by_id(\"ACACt2pp\").upper_bound = 1000\n",
    "model.reactions.get_by_id(\"ACACt2pp\").lower_bound = 0\n",
    "\n",
    "#pyruvate\n",
    "\n",
    "model.reactions.get_by_id(\"PYRt2rpp\").upper_bound = 1000\n",
    "model.reactions.get_by_id(\"PYRt2rpp\").lower_bound = 0\n",
    "\n",
    "#Glyoxylate\n",
    "model.reactions.get_by_id(\"GLXtpp\").upper_bound = 1000\n",
    "model.reactions.get_by_id(\"GLXtpp\").lower_bound = 0\n",
    "\n",
    "#malonate \n",
    "\n",
    "model.reactions.get_by_id(\"MALONpp\").upper_bound = 1000\n",
    "model.reactions.get_by_id(\"MALONpp\").lower_bound = 0\n",
    "\n",
    "#alphaketogluterate\n",
    "\n",
    "model.reactions.get_by_id(\"AKGt2rpp\").upper_bound = 1000\n",
    "model.reactions.get_by_id(\"AKGt2rpp\").lower_bound = 0\n",
    "\n",
    "#fructose FUCtpp\n",
    "model.reactions.get_by_id(\"FUCtpp\").upper_bound = 1000\n",
    "model.reactions.get_by_id(\"FUCtpp\").lower_bound = 0\n",
    "\n",
    "#butyrate\n",
    "model.reactions.get_by_id(\"BUTt2rpp\").upper_bound = 1000\n",
    "model.reactions.get_by_id(\"BUTt2rpp\").lower_bound = 0\n",
    "\n",
    "#proline \n",
    "model.reactions.get_by_id(\"PROt2rpp\").upper_bound = 1000\n",
    "model.reactions.get_by_id(\"PROt2rpp\").lower_bound = 0\n",
    "\n",
    "#Glutamate \n",
    "model.reactions.get_by_id(\"GLUt2rpp\").upper_bound = 1000\n",
    "model.reactions.get_by_id(\"GLUt2rpp\").lower_bound = 0\n",
    "\n",
    "#glycolate \n",
    "model.reactions.get_by_id(\"GLYCLTt2rpp\").upper_bound = 1000\n",
    "model.reactions.get_by_id(\"GLYCLTt2rpp\").lower_bound = 0\n",
    "\n",
    "#lactate \n",
    "model.reactions.get_by_id(\"D_LACt2pp\").upper_bound = 1000\n",
    "model.reactions.get_by_id(\"D_LACt2pp\").lower_bound = 0\n",
    "\n",
    "#fumurate\n",
    "\n",
    "model.reactions.get_by_id(\"FUMt1pp\").upper_bound = 1000\n",
    "model.reactions.get_by_id(\"FUMt1pp\").lower_bound = 0"
   ]
  },
  {
   "cell_type": "markdown",
   "metadata": {},
   "source": [
    "## Fructose uptake is annotated twice\n",
    "Genes Avin_12210 and Avin_12190 which are FruA and FruB respectivly are in FRUptspp and FRUpts2pp which make Fructose-1-phophate and fructose-6-phosphate. Since there is no evidence of 6-phosphate transport mechanisms and ecoli FruAB a Fructose1-phosphate producing we will not use FRUpts2pp"
   ]
  },
  {
   "cell_type": "code",
   "execution_count": 70,
   "metadata": {
    "ExecuteTime": {
     "end_time": "2021-03-10T22:47:50.118491Z",
     "start_time": "2021-03-10T22:47:50.109501Z"
    },
    "execution": {
     "iopub.execute_input": "2021-03-28T22:57:27.908721Z",
     "iopub.status.busy": "2021-03-28T22:57:27.908721Z",
     "iopub.status.idle": "2021-03-28T22:57:27.923724Z",
     "shell.execute_reply": "2021-03-28T22:57:27.922720Z",
     "shell.execute_reply.started": "2021-03-28T22:57:27.908721Z"
    }
   },
   "outputs": [],
   "source": [
    "model.reactions.get_by_id(\"FRUpts2pp\").upper_bound = 0\n",
    "model.reactions.get_by_id(\"FRUpts2pp\").lower_bound = 0"
   ]
  },
  {
   "cell_type": "markdown",
   "metadata": {},
   "source": [
    "### PFK gene reaction rule includes FruK "
   ]
  },
  {
   "cell_type": "code",
   "execution_count": 71,
   "metadata": {
    "ExecuteTime": {
     "end_time": "2021-03-10T22:47:50.129517Z",
     "start_time": "2021-03-10T22:47:50.119490Z"
    },
    "execution": {
     "iopub.execute_input": "2021-03-28T22:57:27.924724Z",
     "iopub.status.busy": "2021-03-28T22:57:27.923724Z",
     "iopub.status.idle": "2021-03-28T22:57:27.938809Z",
     "shell.execute_reply": "2021-03-28T22:57:27.938809Z",
     "shell.execute_reply.started": "2021-03-28T22:57:27.924724Z"
    }
   },
   "outputs": [],
   "source": [
    "#PFK2 - Avin_23410 FRUK - Avin_12200\n",
    "model.reactions.get_by_id(\"PFK\").gene_reaction_rule = '(Avin_23410)'"
   ]
  },
  {
   "cell_type": "markdown",
   "metadata": {},
   "source": [
    "## Remove Fructose 6 phosphate aldoase to direct flux to PFK\n",
    "left over from  ecoli model not enough evidencince to suppport use in Av"
   ]
  },
  {
   "cell_type": "code",
   "execution_count": 72,
   "metadata": {
    "ExecuteTime": {
     "end_time": "2021-03-10T22:47:50.139534Z",
     "start_time": "2021-03-10T22:47:50.130493Z"
    },
    "execution": {
     "iopub.execute_input": "2021-03-28T22:57:27.939752Z",
     "iopub.status.busy": "2021-03-28T22:57:27.939752Z",
     "iopub.status.idle": "2021-03-28T22:57:27.954752Z",
     "shell.execute_reply": "2021-03-28T22:57:27.954752Z",
     "shell.execute_reply.started": "2021-03-28T22:57:27.939752Z"
    }
   },
   "outputs": [],
   "source": [
    " \n",
    "model.reactions.get_by_id(\"F6PA\").upper_bound = 0\n",
    "model.reactions.get_by_id(\"F6PA\").lower_bound = 0"
   ]
  },
  {
   "cell_type": "markdown",
   "metadata": {},
   "source": [
    "## Pentose phosphate modification"
   ]
  },
  {
   "cell_type": "code",
   "execution_count": 73,
   "metadata": {
    "ExecuteTime": {
     "end_time": "2021-03-10T22:47:50.149465Z",
     "start_time": "2021-03-10T22:47:50.140464Z"
    },
    "execution": {
     "iopub.execute_input": "2021-03-28T22:57:27.956753Z",
     "iopub.status.busy": "2021-03-28T22:57:27.955753Z",
     "iopub.status.idle": "2021-03-28T22:57:27.970750Z",
     "shell.execute_reply": "2021-03-28T22:57:27.970750Z",
     "shell.execute_reply.started": "2021-03-28T22:57:27.956753Z"
    }
   },
   "outputs": [],
   "source": [
    " \n",
    "model.reactions.get_by_id(\"FBA3\").upper_bound = 0\n",
    "model.reactions.get_by_id(\"FBA3\").lower_bound = 0\n",
    "\n",
    "model.reactions.get_by_id(\"PFK_3\").upper_bound = 0\n",
    "model.reactions.get_by_id(\"PFK_3\").lower_bound = 0"
   ]
  },
  {
   "cell_type": "markdown",
   "metadata": {},
   "source": []
  },
  {
   "cell_type": "code",
   "execution_count": 74,
   "metadata": {
    "ExecuteTime": {
     "end_time": "2021-03-10T22:47:50.160464Z",
     "start_time": "2021-03-10T22:47:50.150492Z"
    },
    "execution": {
     "iopub.execute_input": "2021-03-28T22:57:27.971754Z",
     "iopub.status.busy": "2021-03-28T22:57:27.971754Z",
     "iopub.status.idle": "2021-03-28T22:57:27.985747Z",
     "shell.execute_reply": "2021-03-28T22:57:27.985747Z",
     "shell.execute_reply.started": "2021-03-28T22:57:27.971754Z"
    }
   },
   "outputs": [
    {
     "data": {
      "text/html": [
       "\n",
       "        <table>\n",
       "            <tr>\n",
       "                <td><strong>Reaction identifier</strong></td><td>PFK</td>\n",
       "            </tr><tr>\n",
       "                <td><strong>Name</strong></td><td>Phosphofructokinase</td>\n",
       "            </tr><tr>\n",
       "                <td><strong>Memory address</strong></td>\n",
       "                <td>0x01ab50676f48</td>\n",
       "            </tr><tr>\n",
       "                <td><strong>Stoichiometry</strong></td>\n",
       "                <td>\n",
       "                    <p style='text-align:right'>atp_c + f6p_c --> adp_c + fdp_c + h_c</p>\n",
       "                    <p style='text-align:right'>ATP C10H12N5O13P3 + D-Fructose 6-phosphate --> ADP C10H12N5O10P2 + D-Fructose 1,6-bisphosphate + H+</p>\n",
       "                </td>\n",
       "            </tr><tr>\n",
       "                <td><strong>GPR</strong></td><td>(Avin_23410)</td>\n",
       "            </tr><tr>\n",
       "                <td><strong>Lower bound</strong></td><td>0.0</td>\n",
       "            </tr><tr>\n",
       "                <td><strong>Upper bound</strong></td><td>999999.0</td>\n",
       "            </tr>\n",
       "        </table>\n",
       "        "
      ],
      "text/plain": [
       "<Reaction PFK at 0x1ab50676f48>"
      ]
     },
     "execution_count": 74,
     "metadata": {},
     "output_type": "execute_result"
    }
   ],
   "source": [
    "model.reactions.PFK"
   ]
  },
  {
   "cell_type": "markdown",
   "metadata": {},
   "source": [
    "## remove ATP syntahsae that connects cytsol to extracellular"
   ]
  },
  {
   "cell_type": "code",
   "execution_count": 75,
   "metadata": {
    "ExecuteTime": {
     "end_time": "2021-03-10T22:47:50.170465Z",
     "start_time": "2021-03-10T22:47:50.161464Z"
    },
    "execution": {
     "iopub.execute_input": "2021-03-28T22:57:27.986747Z",
     "iopub.status.busy": "2021-03-28T22:57:27.986747Z",
     "iopub.status.idle": "2021-03-28T22:57:28.001725Z",
     "shell.execute_reply": "2021-03-28T22:57:28.001725Z",
     "shell.execute_reply.started": "2021-03-28T22:57:27.986747Z"
    }
   },
   "outputs": [],
   "source": [
    "\n",
    "model.reactions.get_by_id(\"ATPS4r\").upper_bound = 0\n",
    "model.reactions.get_by_id(\"ATPS4r\").lower_bound = 0\n"
   ]
  },
  {
   "cell_type": "markdown",
   "metadata": {},
   "source": [
    "## Glucose uptake \n",
    "Glucose uptake was shown to mostly be through gluP (Avin_04150, GLCt2pp) by Quiroz-Rocha et al (https://doi.org/10.1038/s41598-017-00980-5)"
   ]
  },
  {
   "cell_type": "code",
   "execution_count": 76,
   "metadata": {
    "ExecuteTime": {
     "end_time": "2021-03-10T22:47:50.179465Z",
     "start_time": "2021-03-10T22:47:50.171497Z"
    },
    "execution": {
     "iopub.execute_input": "2021-03-28T22:57:28.002726Z",
     "iopub.status.busy": "2021-03-28T22:57:28.002726Z",
     "iopub.status.idle": "2021-03-28T22:57:28.017701Z",
     "shell.execute_reply": "2021-03-28T22:57:28.017701Z",
     "shell.execute_reply.started": "2021-03-28T22:57:28.002726Z"
    }
   },
   "outputs": [],
   "source": [
    "#set pyrophosphate dependant trasnport (GLCptspp) to zero\n",
    "\n",
    "model.reactions.get_by_id(\"GLCptspp\").upper_bound = 0\n",
    "model.reactions.get_by_id(\"GLCptspp\").lower_bound = 0"
   ]
  },
  {
   "cell_type": "markdown",
   "metadata": {},
   "source": [
    "# Model cleaning and pruning\n",
    "##### There seems to be a lot of let over reactions from gap filling or from the template models. I will try to clean up the model by remove unused reactions and models with making sure to keep any gapfilled reactions and reactions with genes that could be used in the future. \n",
    "\n",
    "\n",
    "*Note:* If you want just an additive model this is the place to stop just run write_sbml_model(model) everything should work the same as I will only be removing unused reactions. \n"
   ]
  },
  {
   "cell_type": "markdown",
   "metadata": {},
   "source": [
    "### Determine the amount of unused or blocked reactions and determine the amount of essential reactions "
   ]
  },
  {
   "cell_type": "code",
   "execution_count": 77,
   "metadata": {
    "execution": {
     "iopub.execute_input": "2021-03-28T22:57:28.018671Z",
     "iopub.status.busy": "2021-03-28T22:57:28.018671Z",
     "iopub.status.idle": "2021-03-28T22:58:13.575208Z",
     "shell.execute_reply": "2021-03-28T22:58:13.575208Z",
     "shell.execute_reply.started": "2021-03-28T22:57:28.018671Z"
    }
   },
   "outputs": [
    {
     "name": "stdout",
     "output_type": "stream",
     "text": [
      "Number of reactions unable to carry flux: 928\n",
      "Number of essent: 278\n"
     ]
    }
   ],
   "source": [
    "from cobra.flux_analysis.variability import find_blocked_reactions\n",
    "from cobra.flux_analysis.variability import find_essential_reactions\n",
    "\n",
    "#Find reactions that cannot carry flux with open exchage reaction\n",
    "blocked_reactions = find_blocked_reactions(model, open_exchanges = True, processes = 8 )\n",
    "print('Number of reactions unable to carry flux: {}'.format(len(blocked_reactions)))\n",
    "\n",
    "#Find essential reactions where if flux is restricted to zero the objective is also zero\n",
    "\n",
    "essential_reactions = find_essential_reactions(model, processes = 8)\n",
    "print('Number of essent: {}'.format(len(essential_reactions)))"
   ]
  },
  {
   "cell_type": "code",
   "execution_count": 78,
   "metadata": {
    "execution": {
     "iopub.execute_input": "2021-03-28T22:58:13.577210Z",
     "iopub.status.busy": "2021-03-28T22:58:13.576210Z",
     "iopub.status.idle": "2021-03-28T22:58:13.590536Z",
     "shell.execute_reply": "2021-03-28T22:58:13.590536Z",
     "shell.execute_reply.started": "2021-03-28T22:58:13.577210Z"
    }
   },
   "outputs": [
    {
     "data": {
      "text/plain": [
       "False"
      ]
     },
     "execution_count": 78,
     "metadata": {},
     "output_type": "execute_result"
    }
   ],
   "source": [
    "'BIOMASS_Av_DJ_core' in blocked_reactions"
   ]
  },
  {
   "cell_type": "markdown",
   "metadata": {},
   "source": [
    "##### This is a lot of unused reactions, almost half, so lets first see how many have reactions in the model are without any genes from Av. These were presumably gap filled reactions but if they have no genes and they are blocked in the reaction then they are completely unused and wont  add to the model at all. "
   ]
  },
  {
   "cell_type": "code",
   "execution_count": 79,
   "metadata": {
    "execution": {
     "iopub.execute_input": "2021-03-28T22:58:13.592540Z",
     "iopub.status.busy": "2021-03-28T22:58:13.592540Z",
     "iopub.status.idle": "2021-03-28T22:58:13.606539Z",
     "shell.execute_reply": "2021-03-28T22:58:13.605538Z",
     "shell.execute_reply.started": "2021-03-28T22:58:13.592540Z"
    }
   },
   "outputs": [
    {
     "name": "stdout",
     "output_type": "stream",
     "text": [
      "Reactions in the model without Av genes : 520 \n",
      "Blocked reactions in the model without Av genes : 177 \n"
     ]
    }
   ],
   "source": [
    "#check if the reaction in the model contains any genes and make list of \"geneless\" reactions\n",
    "reactions_geneless= []\n",
    "for r in model.reactions:\n",
    "    if len(r.genes) == 0:\n",
    "        reactions_geneless.append(r.id)\n",
    "    \n",
    "print('Reactions in the model without Av genes : {} '.format(len(reactions_geneless)))\n",
    "\n",
    "\n",
    "#using set() determine if reaction is in blocked reaction and geneless reaction \n",
    "blocked_geneless_reactions = set(blocked_reactions) & set(reactions_geneless)\n",
    "print('Blocked reactions in the model without Av genes : {} '.format(len(blocked_geneless_reactions)))"
   ]
  },
  {
   "cell_type": "markdown",
   "metadata": {},
   "source": [
    "There are 177 reactions in the model that are blocked and have no genes associated with them. Therefore they are not involved in gap filling as they are blocked and they are not just annotated reactions which could be useful in the future. So we will be removing them. "
   ]
  },
  {
   "cell_type": "code",
   "execution_count": 90,
   "metadata": {
    "execution": {
     "iopub.execute_input": "2021-03-28T23:00:03.204225Z",
     "iopub.status.busy": "2021-03-28T23:00:03.203226Z",
     "iopub.status.idle": "2021-03-28T23:00:03.325788Z",
     "shell.execute_reply": "2021-03-28T23:00:03.325788Z",
     "shell.execute_reply.started": "2021-03-28T23:00:03.204225Z"
    }
   },
   "outputs": [
    {
     "name": "stdout",
     "output_type": "stream",
     "text": [
      "Reations: 2289\n"
     ]
    },
    {
     "name": "stderr",
     "output_type": "stream",
     "text": [
      "C:\\Users\\alexa\\anaconda3\\envs\\Metabolic_models\\lib\\site-packages\\cobra\\core\\model.py:756: UserWarning: EX_butso3_e not in iAA1300\n",
      "  warn(\"%s not in %s\" % (reaction, self))\n",
      "C:\\Users\\alexa\\anaconda3\\envs\\Metabolic_models\\lib\\site-packages\\cobra\\core\\model.py:756: UserWarning: MINOHPtexi not in iAA1300\n",
      "  warn(\"%s not in %s\" % (reaction, self))\n",
      "C:\\Users\\alexa\\anaconda3\\envs\\Metabolic_models\\lib\\site-packages\\cobra\\core\\model.py:756: UserWarning: EX_metglcur_e not in iAA1300\n",
      "  warn(\"%s not in %s\" % (reaction, self))\n",
      "C:\\Users\\alexa\\anaconda3\\envs\\Metabolic_models\\lib\\site-packages\\cobra\\core\\model.py:756: UserWarning: 5MTRtpp not in iAA1300\n",
      "  warn(\"%s not in %s\" % (reaction, self))\n",
      "C:\\Users\\alexa\\anaconda3\\envs\\Metabolic_models\\lib\\site-packages\\cobra\\core\\model.py:756: UserWarning: EX_thm_e not in iAA1300\n",
      "  warn(\"%s not in %s\" % (reaction, self))\n",
      "C:\\Users\\alexa\\anaconda3\\envs\\Metabolic_models\\lib\\site-packages\\cobra\\core\\model.py:756: UserWarning: LALADGLUtpp not in iAA1300\n",
      "  warn(\"%s not in %s\" % (reaction, self))\n",
      "C:\\Users\\alexa\\anaconda3\\envs\\Metabolic_models\\lib\\site-packages\\cobra\\core\\model.py:756: UserWarning: EX_cbi_e not in iAA1300\n",
      "  warn(\"%s not in %s\" % (reaction, self))\n",
      "C:\\Users\\alexa\\anaconda3\\envs\\Metabolic_models\\lib\\site-packages\\cobra\\core\\model.py:756: UserWarning: EX_23dappa_e not in iAA1300\n",
      "  warn(\"%s not in %s\" % (reaction, self))\n",
      "C:\\Users\\alexa\\anaconda3\\envs\\Metabolic_models\\lib\\site-packages\\cobra\\core\\model.py:756: UserWarning: GALURt2rpp not in iAA1300\n",
      "  warn(\"%s not in %s\" % (reaction, self))\n",
      "C:\\Users\\alexa\\anaconda3\\envs\\Metabolic_models\\lib\\site-packages\\cobra\\core\\model.py:756: UserWarning: EX_crn__D_e not in iAA1300\n",
      "  warn(\"%s not in %s\" % (reaction, self))\n",
      "C:\\Users\\alexa\\anaconda3\\envs\\Metabolic_models\\lib\\site-packages\\cobra\\core\\model.py:756: UserWarning: EX_lipoate_e not in iAA1300\n",
      "  warn(\"%s not in %s\" % (reaction, self))\n",
      "C:\\Users\\alexa\\anaconda3\\envs\\Metabolic_models\\lib\\site-packages\\cobra\\core\\model.py:756: UserWarning: EX_spmd_e not in iAA1300\n",
      "  warn(\"%s not in %s\" % (reaction, self))\n",
      "C:\\Users\\alexa\\anaconda3\\envs\\Metabolic_models\\lib\\site-packages\\cobra\\core\\model.py:756: UserWarning: EX_n2o_e not in iAA1300\n",
      "  warn(\"%s not in %s\" % (reaction, self))\n",
      "C:\\Users\\alexa\\anaconda3\\envs\\Metabolic_models\\lib\\site-packages\\cobra\\core\\model.py:756: UserWarning: EX_pydx_e not in iAA1300\n",
      "  warn(\"%s not in %s\" % (reaction, self))\n",
      "C:\\Users\\alexa\\anaconda3\\envs\\Metabolic_models\\lib\\site-packages\\cobra\\core\\model.py:756: UserWarning: EX_23cgmp_e not in iAA1300\n",
      "  warn(\"%s not in %s\" % (reaction, self))\n",
      "C:\\Users\\alexa\\anaconda3\\envs\\Metabolic_models\\lib\\site-packages\\cobra\\core\\model.py:756: UserWarning: EX_3hcinnm_e not in iAA1300\n",
      "  warn(\"%s not in %s\" % (reaction, self))\n",
      "C:\\Users\\alexa\\anaconda3\\envs\\Metabolic_models\\lib\\site-packages\\cobra\\core\\model.py:756: UserWarning: EX_pydam_e not in iAA1300\n",
      "  warn(\"%s not in %s\" % (reaction, self))\n",
      "C:\\Users\\alexa\\anaconda3\\envs\\Metabolic_models\\lib\\site-packages\\cobra\\core\\model.py:756: UserWarning: 12DGR161tipp not in iAA1300\n",
      "  warn(\"%s not in %s\" % (reaction, self))\n",
      "C:\\Users\\alexa\\anaconda3\\envs\\Metabolic_models\\lib\\site-packages\\cobra\\core\\model.py:756: UserWarning: CH4t2pp not in iAA1300\n",
      "  warn(\"%s not in %s\" % (reaction, self))\n",
      "C:\\Users\\alexa\\anaconda3\\envs\\Metabolic_models\\lib\\site-packages\\cobra\\core\\model.py:756: UserWarning: 3HPPtpp not in iAA1300\n",
      "  warn(\"%s not in %s\" % (reaction, self))\n",
      "C:\\Users\\alexa\\anaconda3\\envs\\Metabolic_models\\lib\\site-packages\\cobra\\core\\model.py:756: UserWarning: EX_slnt_e not in iAA1300\n",
      "  warn(\"%s not in %s\" % (reaction, self))\n",
      "C:\\Users\\alexa\\anaconda3\\envs\\Metabolic_models\\lib\\site-packages\\cobra\\core\\model.py:756: UserWarning: EX_minohp_e not in iAA1300\n",
      "  warn(\"%s not in %s\" % (reaction, self))\n",
      "C:\\Users\\alexa\\anaconda3\\envs\\Metabolic_models\\lib\\site-packages\\cobra\\core\\model.py:756: UserWarning: EX_xyl__D_e not in iAA1300\n",
      "  warn(\"%s not in %s\" % (reaction, self))\n",
      "C:\\Users\\alexa\\anaconda3\\envs\\Metabolic_models\\lib\\site-packages\\cobra\\core\\model.py:756: UserWarning: EX_14glucan_e not in iAA1300\n",
      "  warn(\"%s not in %s\" % (reaction, self))\n",
      "C:\\Users\\alexa\\anaconda3\\envs\\Metabolic_models\\lib\\site-packages\\cobra\\core\\model.py:756: UserWarning: EX_galt_e not in iAA1300\n",
      "  warn(\"%s not in %s\" % (reaction, self))\n",
      "C:\\Users\\alexa\\anaconda3\\envs\\Metabolic_models\\lib\\site-packages\\cobra\\core\\model.py:756: UserWarning: EX_gal_bD_e not in iAA1300\n",
      "  warn(\"%s not in %s\" % (reaction, self))\n",
      "C:\\Users\\alexa\\anaconda3\\envs\\Metabolic_models\\lib\\site-packages\\cobra\\core\\model.py:756: UserWarning: EX_udpg_e not in iAA1300\n",
      "  warn(\"%s not in %s\" % (reaction, self))\n",
      "C:\\Users\\alexa\\anaconda3\\envs\\Metabolic_models\\lib\\site-packages\\cobra\\core\\model.py:756: UserWarning: EX_hg2_e not in iAA1300\n",
      "  warn(\"%s not in %s\" % (reaction, self))\n",
      "C:\\Users\\alexa\\anaconda3\\envs\\Metabolic_models\\lib\\site-packages\\cobra\\core\\model.py:756: UserWarning: EX_3hpppn_e not in iAA1300\n",
      "  warn(\"%s not in %s\" % (reaction, self))\n",
      "C:\\Users\\alexa\\anaconda3\\envs\\Metabolic_models\\lib\\site-packages\\cobra\\core\\model.py:756: UserWarning: PYDXNtpp not in iAA1300\n",
      "  warn(\"%s not in %s\" % (reaction, self))\n",
      "C:\\Users\\alexa\\anaconda3\\envs\\Metabolic_models\\lib\\site-packages\\cobra\\core\\model.py:756: UserWarning: EX_pacald_e not in iAA1300\n",
      "  warn(\"%s not in %s\" % (reaction, self))\n",
      "C:\\Users\\alexa\\anaconda3\\envs\\Metabolic_models\\lib\\site-packages\\cobra\\core\\model.py:756: UserWarning: EX_ins_e not in iAA1300\n",
      "  warn(\"%s not in %s\" % (reaction, self))\n",
      "C:\\Users\\alexa\\anaconda3\\envs\\Metabolic_models\\lib\\site-packages\\cobra\\core\\model.py:756: UserWarning: EX_ch4_e not in iAA1300\n",
      "  warn(\"%s not in %s\" % (reaction, self))\n",
      "C:\\Users\\alexa\\anaconda3\\envs\\Metabolic_models\\lib\\site-packages\\cobra\\core\\model.py:756: UserWarning: EX_cynt_e not in iAA1300\n",
      "  warn(\"%s not in %s\" % (reaction, self))\n",
      "C:\\Users\\alexa\\anaconda3\\envs\\Metabolic_models\\lib\\site-packages\\cobra\\core\\model.py:756: UserWarning: EX_dcmp_e not in iAA1300\n",
      "  warn(\"%s not in %s\" % (reaction, self))\n",
      "C:\\Users\\alexa\\anaconda3\\envs\\Metabolic_models\\lib\\site-packages\\cobra\\core\\model.py:756: UserWarning: 12DGR140tipp not in iAA1300\n",
      "  warn(\"%s not in %s\" % (reaction, self))\n",
      "C:\\Users\\alexa\\anaconda3\\envs\\Metabolic_models\\lib\\site-packages\\cobra\\core\\model.py:756: UserWarning: EX_23cump_e not in iAA1300\n",
      "  warn(\"%s not in %s\" % (reaction, self))\n",
      "C:\\Users\\alexa\\anaconda3\\envs\\Metabolic_models\\lib\\site-packages\\cobra\\core\\model.py:756: UserWarning: EX_dgmp_e not in iAA1300\n",
      "  warn(\"%s not in %s\" % (reaction, self))\n",
      "C:\\Users\\alexa\\anaconda3\\envs\\Metabolic_models\\lib\\site-packages\\cobra\\core\\model.py:756: UserWarning: EX_halipa_e not in iAA1300\n",
      "  warn(\"%s not in %s\" % (reaction, self))\n",
      "C:\\Users\\alexa\\anaconda3\\envs\\Metabolic_models\\lib\\site-packages\\cobra\\core\\model.py:756: UserWarning: EX_gthox_e not in iAA1300\n",
      "  warn(\"%s not in %s\" % (reaction, self))\n",
      "C:\\Users\\alexa\\anaconda3\\envs\\Metabolic_models\\lib\\site-packages\\cobra\\core\\model.py:756: UserWarning: EX_idon__L_e not in iAA1300\n",
      "  warn(\"%s not in %s\" % (reaction, self))\n",
      "C:\\Users\\alexa\\anaconda3\\envs\\Metabolic_models\\lib\\site-packages\\cobra\\core\\model.py:756: UserWarning: CUt3 not in iAA1300\n",
      "  warn(\"%s not in %s\" % (reaction, self))\n",
      "C:\\Users\\alexa\\anaconda3\\envs\\Metabolic_models\\lib\\site-packages\\cobra\\core\\model.py:756: UserWarning: EX_acgal1p_e not in iAA1300\n",
      "  warn(\"%s not in %s\" % (reaction, self))\n",
      "C:\\Users\\alexa\\anaconda3\\envs\\Metabolic_models\\lib\\site-packages\\cobra\\core\\model.py:756: UserWarning: DM_oxam_c not in iAA1300\n",
      "  warn(\"%s not in %s\" % (reaction, self))\n",
      "C:\\Users\\alexa\\anaconda3\\envs\\Metabolic_models\\lib\\site-packages\\cobra\\core\\model.py:756: UserWarning: EX_mmet_e not in iAA1300\n",
      "  warn(\"%s not in %s\" % (reaction, self))\n",
      "C:\\Users\\alexa\\anaconda3\\envs\\Metabolic_models\\lib\\site-packages\\cobra\\core\\model.py:756: UserWarning: EX_gbbtn_e not in iAA1300\n",
      "  warn(\"%s not in %s\" % (reaction, self))\n",
      "C:\\Users\\alexa\\anaconda3\\envs\\Metabolic_models\\lib\\site-packages\\cobra\\core\\model.py:756: UserWarning: SELGTHR not in iAA1300\n",
      "  warn(\"%s not in %s\" % (reaction, self))\n",
      "C:\\Users\\alexa\\anaconda3\\envs\\Metabolic_models\\lib\\site-packages\\cobra\\core\\model.py:756: UserWarning: EX_galur_e not in iAA1300\n",
      "  warn(\"%s not in %s\" % (reaction, self))\n",
      "C:\\Users\\alexa\\anaconda3\\envs\\Metabolic_models\\lib\\site-packages\\cobra\\core\\model.py:756: UserWarning: EX_udpglcur_e not in iAA1300\n",
      "  warn(\"%s not in %s\" % (reaction, self))\n",
      "C:\\Users\\alexa\\anaconda3\\envs\\Metabolic_models\\lib\\site-packages\\cobra\\core\\model.py:756: UserWarning: EX_damp_e not in iAA1300\n",
      "  warn(\"%s not in %s\" % (reaction, self))\n",
      "C:\\Users\\alexa\\anaconda3\\envs\\Metabolic_models\\lib\\site-packages\\cobra\\core\\model.py:756: UserWarning: 23DAPPAt2pp not in iAA1300\n",
      "  warn(\"%s not in %s\" % (reaction, self))\n",
      "C:\\Users\\alexa\\anaconda3\\envs\\Metabolic_models\\lib\\site-packages\\cobra\\core\\model.py:756: UserWarning: EX_adocbl_e not in iAA1300\n",
      "  warn(\"%s not in %s\" % (reaction, self))\n",
      "C:\\Users\\alexa\\anaconda3\\envs\\Metabolic_models\\lib\\site-packages\\cobra\\core\\model.py:756: UserWarning: 12DGR141tipp not in iAA1300\n",
      "  warn(\"%s not in %s\" % (reaction, self))\n",
      "C:\\Users\\alexa\\anaconda3\\envs\\Metabolic_models\\lib\\site-packages\\cobra\\core\\model.py:756: UserWarning: EX_frulys_e not in iAA1300\n",
      "  warn(\"%s not in %s\" % (reaction, self))\n",
      "C:\\Users\\alexa\\anaconda3\\envs\\Metabolic_models\\lib\\site-packages\\cobra\\core\\model.py:756: UserWarning: EX_3gmp_e not in iAA1300\n",
      "  warn(\"%s not in %s\" % (reaction, self))\n",
      "C:\\Users\\alexa\\anaconda3\\envs\\Metabolic_models\\lib\\site-packages\\cobra\\core\\model.py:756: UserWarning: EX_fuc__L_e not in iAA1300\n",
      "  warn(\"%s not in %s\" % (reaction, self))\n",
      "C:\\Users\\alexa\\anaconda3\\envs\\Metabolic_models\\lib\\site-packages\\cobra\\core\\model.py:756: UserWarning: TRPt2rpp not in iAA1300\n",
      "  warn(\"%s not in %s\" % (reaction, self))\n",
      "C:\\Users\\alexa\\anaconda3\\envs\\Metabolic_models\\lib\\site-packages\\cobra\\core\\model.py:756: UserWarning: ALLTNt2rpp not in iAA1300\n",
      "  warn(\"%s not in %s\" % (reaction, self))\n",
      "C:\\Users\\alexa\\anaconda3\\envs\\Metabolic_models\\lib\\site-packages\\cobra\\core\\model.py:756: UserWarning: THYMt3pp not in iAA1300\n",
      "  warn(\"%s not in %s\" % (reaction, self))\n",
      "C:\\Users\\alexa\\anaconda3\\envs\\Metabolic_models\\lib\\site-packages\\cobra\\core\\model.py:756: UserWarning: EX_acon_C_e not in iAA1300\n",
      "  warn(\"%s not in %s\" % (reaction, self))\n",
      "C:\\Users\\alexa\\anaconda3\\envs\\Metabolic_models\\lib\\site-packages\\cobra\\core\\model.py:756: UserWarning: EX_arbt_e not in iAA1300\n",
      "  warn(\"%s not in %s\" % (reaction, self))\n",
      "C:\\Users\\alexa\\anaconda3\\envs\\Metabolic_models\\lib\\site-packages\\cobra\\core\\model.py:756: UserWarning: EX_5mtr_e not in iAA1300\n",
      "  warn(\"%s not in %s\" % (reaction, self))\n",
      "C:\\Users\\alexa\\anaconda3\\envs\\Metabolic_models\\lib\\site-packages\\cobra\\core\\model.py:756: UserWarning: CRNt7pp not in iAA1300\n",
      "  warn(\"%s not in %s\" % (reaction, self))\n",
      "C:\\Users\\alexa\\anaconda3\\envs\\Metabolic_models\\lib\\site-packages\\cobra\\core\\model.py:756: UserWarning: EX_dmso_e not in iAA1300\n",
      "  warn(\"%s not in %s\" % (reaction, self))\n",
      "C:\\Users\\alexa\\anaconda3\\envs\\Metabolic_models\\lib\\site-packages\\cobra\\core\\model.py:756: UserWarning: EX_thymd_e not in iAA1300\n",
      "  warn(\"%s not in %s\" % (reaction, self))\n",
      "C:\\Users\\alexa\\anaconda3\\envs\\Metabolic_models\\lib\\site-packages\\cobra\\core\\model.py:756: UserWarning: EX_peamn_e not in iAA1300\n",
      "  warn(\"%s not in %s\" % (reaction, self))\n",
      "C:\\Users\\alexa\\anaconda3\\envs\\Metabolic_models\\lib\\site-packages\\cobra\\core\\model.py:756: UserWarning: CYSDabcpp not in iAA1300\n",
      "  warn(\"%s not in %s\" % (reaction, self))\n",
      "C:\\Users\\alexa\\anaconda3\\envs\\Metabolic_models\\lib\\site-packages\\cobra\\core\\model.py:756: UserWarning: EX_manglyc_e not in iAA1300\n",
      "  warn(\"%s not in %s\" % (reaction, self))\n",
      "C:\\Users\\alexa\\anaconda3\\envs\\Metabolic_models\\lib\\site-packages\\cobra\\core\\model.py:756: UserWarning: EX_urate_e not in iAA1300\n",
      "  warn(\"%s not in %s\" % (reaction, self))\n",
      "C:\\Users\\alexa\\anaconda3\\envs\\Metabolic_models\\lib\\site-packages\\cobra\\core\\model.py:756: UserWarning: EX_dhps_e not in iAA1300\n",
      "  warn(\"%s not in %s\" % (reaction, self))\n",
      "C:\\Users\\alexa\\anaconda3\\envs\\Metabolic_models\\lib\\site-packages\\cobra\\core\\model.py:756: UserWarning: EX_doxrbcn_e not in iAA1300\n",
      "  warn(\"%s not in %s\" % (reaction, self))\n",
      "C:\\Users\\alexa\\anaconda3\\envs\\Metabolic_models\\lib\\site-packages\\cobra\\core\\model.py:756: UserWarning: MMETt2pp not in iAA1300\n",
      "  warn(\"%s not in %s\" % (reaction, self))\n",
      "C:\\Users\\alexa\\anaconda3\\envs\\Metabolic_models\\lib\\site-packages\\cobra\\core\\model.py:756: UserWarning: EX_chtbs_e not in iAA1300\n",
      "  warn(\"%s not in %s\" % (reaction, self))\n",
      "C:\\Users\\alexa\\anaconda3\\envs\\Metabolic_models\\lib\\site-packages\\cobra\\core\\model.py:756: UserWarning: EX_dimp_e not in iAA1300\n",
      "  warn(\"%s not in %s\" % (reaction, self))\n",
      "C:\\Users\\alexa\\anaconda3\\envs\\Metabolic_models\\lib\\site-packages\\cobra\\core\\model.py:756: UserWarning: EX_imp_e not in iAA1300\n",
      "  warn(\"%s not in %s\" % (reaction, self))\n",
      "C:\\Users\\alexa\\anaconda3\\envs\\Metabolic_models\\lib\\site-packages\\cobra\\core\\model.py:756: UserWarning: EX_dopa_e not in iAA1300\n",
      "  warn(\"%s not in %s\" % (reaction, self))\n",
      "C:\\Users\\alexa\\anaconda3\\envs\\Metabolic_models\\lib\\site-packages\\cobra\\core\\model.py:756: UserWarning: EX_udpgal_e not in iAA1300\n",
      "  warn(\"%s not in %s\" % (reaction, self))\n",
      "C:\\Users\\alexa\\anaconda3\\envs\\Metabolic_models\\lib\\site-packages\\cobra\\core\\model.py:756: UserWarning: EX_na1_e not in iAA1300\n",
      "  warn(\"%s not in %s\" % (reaction, self))\n",
      "C:\\Users\\alexa\\anaconda3\\envs\\Metabolic_models\\lib\\site-packages\\cobra\\core\\model.py:756: UserWarning: EX_malthx_e not in iAA1300\n",
      "  warn(\"%s not in %s\" % (reaction, self))\n",
      "C:\\Users\\alexa\\anaconda3\\envs\\Metabolic_models\\lib\\site-packages\\cobra\\core\\model.py:756: UserWarning: EX_glcr_e not in iAA1300\n",
      "  warn(\"%s not in %s\" % (reaction, self))\n",
      "C:\\Users\\alexa\\anaconda3\\envs\\Metabolic_models\\lib\\site-packages\\cobra\\core\\model.py:756: UserWarning: EX_cd2_e not in iAA1300\n",
      "  warn(\"%s not in %s\" % (reaction, self))\n",
      "C:\\Users\\alexa\\anaconda3\\envs\\Metabolic_models\\lib\\site-packages\\cobra\\core\\model.py:756: UserWarning: EX_galctn__L_e not in iAA1300\n",
      "  warn(\"%s not in %s\" % (reaction, self))\n",
      "C:\\Users\\alexa\\anaconda3\\envs\\Metabolic_models\\lib\\site-packages\\cobra\\core\\model.py:756: UserWarning: EX_so2_e not in iAA1300\n",
      "  warn(\"%s not in %s\" % (reaction, self))\n",
      "C:\\Users\\alexa\\anaconda3\\envs\\Metabolic_models\\lib\\site-packages\\cobra\\core\\model.py:756: UserWarning: EX_alltn_e not in iAA1300\n",
      "  warn(\"%s not in %s\" % (reaction, self))\n",
      "C:\\Users\\alexa\\anaconda3\\envs\\Metabolic_models\\lib\\site-packages\\cobra\\core\\model.py:756: UserWarning: PYDAMtpp not in iAA1300\n",
      "  warn(\"%s not in %s\" % (reaction, self))\n",
      "C:\\Users\\alexa\\anaconda3\\envs\\Metabolic_models\\lib\\site-packages\\cobra\\core\\model.py:756: UserWarning: EX_arab__L_e not in iAA1300\n",
      "  warn(\"%s not in %s\" % (reaction, self))\n",
      "C:\\Users\\alexa\\anaconda3\\envs\\Metabolic_models\\lib\\site-packages\\cobra\\core\\model.py:756: UserWarning: EX_LalaLglu_e not in iAA1300\n",
      "  warn(\"%s not in %s\" % (reaction, self))\n",
      "C:\\Users\\alexa\\anaconda3\\envs\\Metabolic_models\\lib\\site-packages\\cobra\\core\\model.py:756: UserWarning: EX_lcts_e not in iAA1300\n",
      "  warn(\"%s not in %s\" % (reaction, self))\n",
      "C:\\Users\\alexa\\anaconda3\\envs\\Metabolic_models\\lib\\site-packages\\cobra\\core\\model.py:756: UserWarning: SELGTHR2 not in iAA1300\n",
      "  warn(\"%s not in %s\" % (reaction, self))\n",
      "C:\\Users\\alexa\\anaconda3\\envs\\Metabolic_models\\lib\\site-packages\\cobra\\core\\model.py:756: UserWarning: EX_34dhpac_e not in iAA1300\n",
      "  warn(\"%s not in %s\" % (reaction, self))\n",
      "C:\\Users\\alexa\\anaconda3\\envs\\Metabolic_models\\lib\\site-packages\\cobra\\core\\model.py:756: UserWarning: EX_hacolipa_e not in iAA1300\n",
      "  warn(\"%s not in %s\" % (reaction, self))\n",
      "C:\\Users\\alexa\\anaconda3\\envs\\Metabolic_models\\lib\\site-packages\\cobra\\core\\model.py:756: UserWarning: EX_ag_e not in iAA1300\n",
      "  warn(\"%s not in %s\" % (reaction, self))\n",
      "C:\\Users\\alexa\\anaconda3\\envs\\Metabolic_models\\lib\\site-packages\\cobra\\core\\model.py:756: UserWarning: EX_mincyc_e not in iAA1300\n",
      "  warn(\"%s not in %s\" % (reaction, self))\n",
      "C:\\Users\\alexa\\anaconda3\\envs\\Metabolic_models\\lib\\site-packages\\cobra\\core\\model.py:756: UserWarning: URATEtpp not in iAA1300\n",
      "  warn(\"%s not in %s\" % (reaction, self))\n",
      "C:\\Users\\alexa\\anaconda3\\envs\\Metabolic_models\\lib\\site-packages\\cobra\\core\\model.py:756: UserWarning: PUACGAMtr not in iAA1300\n",
      "  warn(\"%s not in %s\" % (reaction, self))\n",
      "C:\\Users\\alexa\\anaconda3\\envs\\Metabolic_models\\lib\\site-packages\\cobra\\core\\model.py:756: UserWarning: EX_dtmp_e not in iAA1300\n",
      "  warn(\"%s not in %s\" % (reaction, self))\n",
      "C:\\Users\\alexa\\anaconda3\\envs\\Metabolic_models\\lib\\site-packages\\cobra\\core\\model.py:756: UserWarning: EX_12ppd__R_e not in iAA1300\n",
      "  warn(\"%s not in %s\" % (reaction, self))\n",
      "C:\\Users\\alexa\\anaconda3\\envs\\Metabolic_models\\lib\\site-packages\\cobra\\core\\model.py:756: UserWarning: EX_rfamp_e not in iAA1300\n",
      "  warn(\"%s not in %s\" % (reaction, self))\n",
      "C:\\Users\\alexa\\anaconda3\\envs\\Metabolic_models\\lib\\site-packages\\cobra\\core\\model.py:756: UserWarning: FEENTERES not in iAA1300\n",
      "  warn(\"%s not in %s\" % (reaction, self))\n",
      "C:\\Users\\alexa\\anaconda3\\envs\\Metabolic_models\\lib\\site-packages\\cobra\\core\\model.py:756: UserWarning: EX_cbl1_e not in iAA1300\n",
      "  warn(\"%s not in %s\" % (reaction, self))\n",
      "C:\\Users\\alexa\\anaconda3\\envs\\Metabolic_models\\lib\\site-packages\\cobra\\core\\model.py:756: UserWarning: NOtpp not in iAA1300\n",
      "  warn(\"%s not in %s\" % (reaction, self))\n",
      "C:\\Users\\alexa\\anaconda3\\envs\\Metabolic_models\\lib\\site-packages\\cobra\\core\\model.py:756: UserWarning: EX_fe3dhbzs_e not in iAA1300\n",
      "  warn(\"%s not in %s\" % (reaction, self))\n",
      "C:\\Users\\alexa\\anaconda3\\envs\\Metabolic_models\\lib\\site-packages\\cobra\\core\\model.py:756: UserWarning: EX_dump_e not in iAA1300\n",
      "  warn(\"%s not in %s\" % (reaction, self))\n",
      "C:\\Users\\alexa\\anaconda3\\envs\\Metabolic_models\\lib\\site-packages\\cobra\\core\\model.py:756: UserWarning: PYDXtpp not in iAA1300\n",
      "  warn(\"%s not in %s\" % (reaction, self))\n",
      "C:\\Users\\alexa\\anaconda3\\envs\\Metabolic_models\\lib\\site-packages\\cobra\\core\\model.py:756: UserWarning: EX_sq_e not in iAA1300\n",
      "  warn(\"%s not in %s\" % (reaction, self))\n",
      "C:\\Users\\alexa\\anaconda3\\envs\\Metabolic_models\\lib\\site-packages\\cobra\\core\\model.py:756: UserWarning: EX_glyb_e not in iAA1300\n",
      "  warn(\"%s not in %s\" % (reaction, self))\n",
      "C:\\Users\\alexa\\anaconda3\\envs\\Metabolic_models\\lib\\site-packages\\cobra\\core\\model.py:756: UserWarning: EX_ttrcyc_e not in iAA1300\n",
      "  warn(\"%s not in %s\" % (reaction, self))\n",
      "C:\\Users\\alexa\\anaconda3\\envs\\Metabolic_models\\lib\\site-packages\\cobra\\core\\model.py:756: UserWarning: EX_3cmp_e not in iAA1300\n",
      "  warn(\"%s not in %s\" % (reaction, self))\n",
      "C:\\Users\\alexa\\anaconda3\\envs\\Metabolic_models\\lib\\site-packages\\cobra\\core\\model.py:756: UserWarning: EX_23ccmp_e not in iAA1300\n",
      "  warn(\"%s not in %s\" % (reaction, self))\n",
      "C:\\Users\\alexa\\anaconda3\\envs\\Metabolic_models\\lib\\site-packages\\cobra\\core\\model.py:756: UserWarning: CH4tex not in iAA1300\n",
      "  warn(\"%s not in %s\" % (reaction, self))\n",
      "C:\\Users\\alexa\\anaconda3\\envs\\Metabolic_models\\lib\\site-packages\\cobra\\core\\model.py:756: UserWarning: EX_cellb_e not in iAA1300\n",
      "  warn(\"%s not in %s\" % (reaction, self))\n",
      "C:\\Users\\alexa\\anaconda3\\envs\\Metabolic_models\\lib\\site-packages\\cobra\\core\\model.py:756: UserWarning: EX_all__D_e not in iAA1300\n",
      "  warn(\"%s not in %s\" % (reaction, self))\n",
      "C:\\Users\\alexa\\anaconda3\\envs\\Metabolic_models\\lib\\site-packages\\cobra\\core\\model.py:756: UserWarning: EX_met__D_e not in iAA1300\n",
      "  warn(\"%s not in %s\" % (reaction, self))\n",
      "C:\\Users\\alexa\\anaconda3\\envs\\Metabolic_models\\lib\\site-packages\\cobra\\core\\model.py:756: UserWarning: EX_4abzglu_e not in iAA1300\n",
      "  warn(\"%s not in %s\" % (reaction, self))\n",
      "C:\\Users\\alexa\\anaconda3\\envs\\Metabolic_models\\lib\\site-packages\\cobra\\core\\model.py:756: UserWarning: SELR not in iAA1300\n",
      "  warn(\"%s not in %s\" % (reaction, self))\n",
      "C:\\Users\\alexa\\anaconda3\\envs\\Metabolic_models\\lib\\site-packages\\cobra\\core\\model.py:756: UserWarning: EX_maltpt_e not in iAA1300\n",
      "  warn(\"%s not in %s\" % (reaction, self))\n",
      "C:\\Users\\alexa\\anaconda3\\envs\\Metabolic_models\\lib\\site-packages\\cobra\\core\\model.py:756: UserWarning: EX_3amp_e not in iAA1300\n",
      "  warn(\"%s not in %s\" % (reaction, self))\n",
      "C:\\Users\\alexa\\anaconda3\\envs\\Metabolic_models\\lib\\site-packages\\cobra\\core\\model.py:756: UserWarning: METGLCURt2pp not in iAA1300\n",
      "  warn(\"%s not in %s\" % (reaction, self))\n",
      "C:\\Users\\alexa\\anaconda3\\envs\\Metabolic_models\\lib\\site-packages\\cobra\\core\\model.py:756: UserWarning: EX_2dglc_e not in iAA1300\n",
      "  warn(\"%s not in %s\" % (reaction, self))\n",
      "C:\\Users\\alexa\\anaconda3\\envs\\Metabolic_models\\lib\\site-packages\\cobra\\core\\model.py:756: UserWarning: EX_3ump_e not in iAA1300\n",
      "  warn(\"%s not in %s\" % (reaction, self))\n",
      "C:\\Users\\alexa\\anaconda3\\envs\\Metabolic_models\\lib\\site-packages\\cobra\\core\\model.py:756: UserWarning: EX_gdp_e not in iAA1300\n",
      "  warn(\"%s not in %s\" % (reaction, self))\n",
      "C:\\Users\\alexa\\anaconda3\\envs\\Metabolic_models\\lib\\site-packages\\cobra\\core\\model.py:756: UserWarning: EX_cys__D_e not in iAA1300\n",
      "  warn(\"%s not in %s\" % (reaction, self))\n",
      "C:\\Users\\alexa\\anaconda3\\envs\\Metabolic_models\\lib\\site-packages\\cobra\\core\\model.py:756: UserWarning: 12PPDRtpp not in iAA1300\n",
      "  warn(\"%s not in %s\" % (reaction, self))\n",
      "C:\\Users\\alexa\\anaconda3\\envs\\Metabolic_models\\lib\\site-packages\\cobra\\core\\model.py:756: UserWarning: PSCLYSt2pp not in iAA1300\n",
      "  warn(\"%s not in %s\" % (reaction, self))\n",
      "C:\\Users\\alexa\\anaconda3\\envs\\Metabolic_models\\lib\\site-packages\\cobra\\core\\model.py:756: UserWarning: EX_uacgam_e not in iAA1300\n",
      "  warn(\"%s not in %s\" % (reaction, self))\n",
      "C:\\Users\\alexa\\anaconda3\\envs\\Metabolic_models\\lib\\site-packages\\cobra\\core\\model.py:756: UserWarning: EX_cm_e not in iAA1300\n",
      "  warn(\"%s not in %s\" % (reaction, self))\n",
      "C:\\Users\\alexa\\anaconda3\\envs\\Metabolic_models\\lib\\site-packages\\cobra\\core\\model.py:756: UserWarning: EX_pydxn_e not in iAA1300\n",
      "  warn(\"%s not in %s\" % (reaction, self))\n",
      "C:\\Users\\alexa\\anaconda3\\envs\\Metabolic_models\\lib\\site-packages\\cobra\\core\\model.py:756: UserWarning: EX_3hpp_e not in iAA1300\n",
      "  warn(\"%s not in %s\" % (reaction, self))\n",
      "C:\\Users\\alexa\\anaconda3\\envs\\Metabolic_models\\lib\\site-packages\\cobra\\core\\model.py:756: UserWarning: MEOHtrpp not in iAA1300\n",
      "  warn(\"%s not in %s\" % (reaction, self))\n",
      "C:\\Users\\alexa\\anaconda3\\envs\\Metabolic_models\\lib\\site-packages\\cobra\\core\\model.py:756: UserWarning: EX_enlipa_e not in iAA1300\n",
      "  warn(\"%s not in %s\" % (reaction, self))\n",
      "C:\\Users\\alexa\\anaconda3\\envs\\Metabolic_models\\lib\\site-packages\\cobra\\core\\model.py:756: UserWarning: EX_dgsn_e not in iAA1300\n",
      "  warn(\"%s not in %s\" % (reaction, self))\n",
      "C:\\Users\\alexa\\anaconda3\\envs\\Metabolic_models\\lib\\site-packages\\cobra\\core\\model.py:756: UserWarning: LIPOt2pp not in iAA1300\n",
      "  warn(\"%s not in %s\" % (reaction, self))\n",
      "C:\\Users\\alexa\\anaconda3\\envs\\Metabolic_models\\lib\\site-packages\\cobra\\core\\model.py:756: UserWarning: EX_gal1p_e not in iAA1300\n",
      "  warn(\"%s not in %s\" % (reaction, self))\n",
      "C:\\Users\\alexa\\anaconda3\\envs\\Metabolic_models\\lib\\site-packages\\cobra\\core\\model.py:756: UserWarning: EX_aso3_e not in iAA1300\n",
      "  warn(\"%s not in %s\" % (reaction, self))\n",
      "C:\\Users\\alexa\\anaconda3\\envs\\Metabolic_models\\lib\\site-packages\\cobra\\core\\model.py:756: UserWarning: EX_23camp_e not in iAA1300\n",
      "  warn(\"%s not in %s\" % (reaction, self))\n",
      "C:\\Users\\alexa\\anaconda3\\envs\\Metabolic_models\\lib\\site-packages\\cobra\\core\\model.py:756: UserWarning: 12DGR120tipp not in iAA1300\n",
      "  warn(\"%s not in %s\" % (reaction, self))\n",
      "C:\\Users\\alexa\\anaconda3\\envs\\Metabolic_models\\lib\\site-packages\\cobra\\core\\model.py:756: UserWarning: SELGTHR3 not in iAA1300\n",
      "  warn(\"%s not in %s\" % (reaction, self))\n",
      "C:\\Users\\alexa\\anaconda3\\envs\\Metabolic_models\\lib\\site-packages\\cobra\\core\\model.py:756: UserWarning: EX_eca4colipa_e not in iAA1300\n",
      "  warn(\"%s not in %s\" % (reaction, self))\n",
      "C:\\Users\\alexa\\anaconda3\\envs\\Metabolic_models\\lib\\site-packages\\cobra\\core\\model.py:756: UserWarning: CODH_ACS not in iAA1300\n",
      "  warn(\"%s not in %s\" % (reaction, self))\n",
      "C:\\Users\\alexa\\anaconda3\\envs\\Metabolic_models\\lib\\site-packages\\cobra\\core\\model.py:756: UserWarning: EX_xylu__L_e not in iAA1300\n",
      "  warn(\"%s not in %s\" % (reaction, self))\n",
      "C:\\Users\\alexa\\anaconda3\\envs\\Metabolic_models\\lib\\site-packages\\cobra\\core\\model.py:756: UserWarning: 23DOGULNt4pp not in iAA1300\n",
      "  warn(\"%s not in %s\" % (reaction, self))\n",
      "C:\\Users\\alexa\\anaconda3\\envs\\Metabolic_models\\lib\\site-packages\\cobra\\core\\model.py:756: UserWarning: EX_mepn_e not in iAA1300\n",
      "  warn(\"%s not in %s\" % (reaction, self))\n",
      "C:\\Users\\alexa\\anaconda3\\envs\\Metabolic_models\\lib\\site-packages\\cobra\\core\\model.py:756: UserWarning: ENTERES not in iAA1300\n",
      "  warn(\"%s not in %s\" % (reaction, self))\n",
      "C:\\Users\\alexa\\anaconda3\\envs\\Metabolic_models\\lib\\site-packages\\cobra\\core\\model.py:756: UserWarning: EX_maltttr_e not in iAA1300\n",
      "  warn(\"%s not in %s\" % (reaction, self))\n",
      "C:\\Users\\alexa\\anaconda3\\envs\\Metabolic_models\\lib\\site-packages\\cobra\\core\\model.py:756: UserWarning: EX_acgam1p_e not in iAA1300\n",
      "  warn(\"%s not in %s\" % (reaction, self))\n",
      "C:\\Users\\alexa\\anaconda3\\envs\\Metabolic_models\\lib\\site-packages\\cobra\\core\\model.py:756: UserWarning: PACALDt2rpp not in iAA1300\n",
      "  warn(\"%s not in %s\" % (reaction, self))\n",
      "C:\\Users\\alexa\\anaconda3\\envs\\Metabolic_models\\lib\\site-packages\\cobra\\core\\model.py:756: UserWarning: DMSOtpp not in iAA1300\n",
      "  warn(\"%s not in %s\" % (reaction, self))\n",
      "C:\\Users\\alexa\\anaconda3\\envs\\Metabolic_models\\lib\\site-packages\\cobra\\core\\model.py:756: UserWarning: EX_glcur1p_e not in iAA1300\n",
      "  warn(\"%s not in %s\" % (reaction, self))\n",
      "C:\\Users\\alexa\\anaconda3\\envs\\Metabolic_models\\lib\\site-packages\\cobra\\core\\model.py:756: UserWarning: 4ABZGLUtr not in iAA1300\n",
      "  warn(\"%s not in %s\" % (reaction, self))\n",
      "C:\\Users\\alexa\\anaconda3\\envs\\Metabolic_models\\lib\\site-packages\\cobra\\core\\model.py:756: UserWarning: EX_cs1_e not in iAA1300\n",
      "  warn(\"%s not in %s\" % (reaction, self))\n",
      "C:\\Users\\alexa\\anaconda3\\envs\\Metabolic_models\\lib\\site-packages\\cobra\\core\\model.py:756: UserWarning: 12DGR180tipp not in iAA1300\n",
      "  warn(\"%s not in %s\" % (reaction, self))\n",
      "C:\\Users\\alexa\\anaconda3\\envs\\Metabolic_models\\lib\\site-packages\\cobra\\core\\model.py:756: UserWarning: EX_novbcn_e not in iAA1300\n",
      "  warn(\"%s not in %s\" % (reaction, self))\n",
      "C:\\Users\\alexa\\anaconda3\\envs\\Metabolic_models\\lib\\site-packages\\cobra\\core\\model.py:756: UserWarning: EX_crn_e not in iAA1300\n",
      "  warn(\"%s not in %s\" % (reaction, self))\n",
      "C:\\Users\\alexa\\anaconda3\\envs\\Metabolic_models\\lib\\site-packages\\cobra\\core\\model.py:756: UserWarning: 12DGR160tipp not in iAA1300\n",
      "  warn(\"%s not in %s\" % (reaction, self))\n",
      "C:\\Users\\alexa\\anaconda3\\envs\\Metabolic_models\\lib\\site-packages\\cobra\\core\\model.py:756: UserWarning: EX_udpacgal_e not in iAA1300\n",
      "  warn(\"%s not in %s\" % (reaction, self))\n",
      "C:\\Users\\alexa\\anaconda3\\envs\\Metabolic_models\\lib\\site-packages\\cobra\\core\\model.py:756: UserWarning: 12DGR181tipp not in iAA1300\n",
      "  warn(\"%s not in %s\" % (reaction, self))\n",
      "C:\\Users\\alexa\\anaconda3\\envs\\Metabolic_models\\lib\\site-packages\\cobra\\core\\model.py:756: UserWarning: FRULYSt2pp not in iAA1300\n",
      "  warn(\"%s not in %s\" % (reaction, self))\n",
      "C:\\Users\\alexa\\anaconda3\\envs\\Metabolic_models\\lib\\site-packages\\cobra\\core\\model.py:756: UserWarning: EX_xmp_e not in iAA1300\n",
      "  warn(\"%s not in %s\" % (reaction, self))\n",
      "C:\\Users\\alexa\\anaconda3\\envs\\Metabolic_models\\lib\\site-packages\\cobra\\core\\model.py:756: UserWarning: N2Otpp not in iAA1300\n",
      "  warn(\"%s not in %s\" % (reaction, self))\n",
      "C:\\Users\\alexa\\anaconda3\\envs\\Metabolic_models\\lib\\site-packages\\cobra\\core\\model.py:756: UserWarning: EX_psclys_e not in iAA1300\n",
      "  warn(\"%s not in %s\" % (reaction, self))\n",
      "C:\\Users\\alexa\\anaconda3\\envs\\Metabolic_models\\lib\\site-packages\\cobra\\core\\model.py:756: UserWarning: EX_no_e not in iAA1300\n",
      "  warn(\"%s not in %s\" % (reaction, self))\n",
      "C:\\Users\\alexa\\anaconda3\\envs\\Metabolic_models\\lib\\site-packages\\cobra\\core\\model.py:756: UserWarning: EX_lyx__L_e not in iAA1300\n",
      "  warn(\"%s not in %s\" % (reaction, self))\n",
      "C:\\Users\\alexa\\anaconda3\\envs\\Metabolic_models\\lib\\site-packages\\cobra\\core\\model.py:756: UserWarning: EX_gtp_e not in iAA1300\n",
      "  warn(\"%s not in %s\" % (reaction, self))\n",
      "C:\\Users\\alexa\\anaconda3\\envs\\Metabolic_models\\lib\\site-packages\\cobra\\core\\model.py:756: UserWarning: EX_ascb__L_e not in iAA1300\n",
      "  warn(\"%s not in %s\" % (reaction, self))\n",
      "C:\\Users\\alexa\\anaconda3\\envs\\Metabolic_models\\lib\\site-packages\\cobra\\core\\model.py:756: UserWarning: EX_4hoxpacd_e not in iAA1300\n",
      "  warn(\"%s not in %s\" % (reaction, self))\n",
      "C:\\Users\\alexa\\anaconda3\\envs\\Metabolic_models\\lib\\site-packages\\cobra\\core\\model.py:756: UserWarning: EX_dms_e not in iAA1300\n",
      "  warn(\"%s not in %s\" % (reaction, self))\n",
      "C:\\Users\\alexa\\anaconda3\\envs\\Metabolic_models\\lib\\site-packages\\cobra\\core\\model.py:756: UserWarning: LALALGLUtpp not in iAA1300\n",
      "  warn(\"%s not in %s\" % (reaction, self))\n",
      "C:\\Users\\alexa\\anaconda3\\envs\\Metabolic_models\\lib\\site-packages\\cobra\\core\\model.py:756: UserWarning: EX_sel_e not in iAA1300\n",
      "  warn(\"%s not in %s\" % (reaction, self))\n",
      "C:\\Users\\alexa\\anaconda3\\envs\\Metabolic_models\\lib\\site-packages\\cobra\\core\\model.py:756: UserWarning: EX_thym_e not in iAA1300\n",
      "  warn(\"%s not in %s\" % (reaction, self))\n",
      "C:\\Users\\alexa\\anaconda3\\envs\\Metabolic_models\\lib\\site-packages\\cobra\\core\\model.py:756: UserWarning: CYNTt2pp not in iAA1300\n",
      "  warn(\"%s not in %s\" % (reaction, self))\n",
      "C:\\Users\\alexa\\anaconda3\\envs\\Metabolic_models\\lib\\site-packages\\cobra\\core\\model.py:756: UserWarning: EX_tungs_e not in iAA1300\n",
      "  warn(\"%s not in %s\" % (reaction, self))\n",
      "C:\\Users\\alexa\\anaconda3\\envs\\Metabolic_models\\lib\\site-packages\\cobra\\core\\model.py:756: UserWarning: EX_dcyt_e not in iAA1300\n",
      "  warn(\"%s not in %s\" % (reaction, self))\n",
      "C:\\Users\\alexa\\anaconda3\\envs\\Metabolic_models\\lib\\site-packages\\cobra\\core\\model.py:756: UserWarning: EX_duri_e not in iAA1300\n",
      "  warn(\"%s not in %s\" % (reaction, self))\n",
      "C:\\Users\\alexa\\anaconda3\\envs\\Metabolic_models\\lib\\site-packages\\cobra\\core\\model.py:756: UserWarning: EX_fusa_e not in iAA1300\n",
      "  warn(\"%s not in %s\" % (reaction, self))\n",
      "C:\\Users\\alexa\\anaconda3\\envs\\Metabolic_models\\lib\\site-packages\\cobra\\core\\model.py:756: UserWarning: EX_LalaDglu_e not in iAA1300\n",
      "  warn(\"%s not in %s\" % (reaction, self))\n",
      "C:\\Users\\alexa\\anaconda3\\envs\\Metabolic_models\\lib\\site-packages\\cobra\\core\\model.py:756: UserWarning: EX_meoh_e not in iAA1300\n",
      "  warn(\"%s not in %s\" % (reaction, self))\n",
      "C:\\Users\\alexa\\anaconda3\\envs\\Metabolic_models\\lib\\site-packages\\cobra\\core\\model.py:756: UserWarning: SO2tpp not in iAA1300\n",
      "  warn(\"%s not in %s\" % (reaction, self))\n"
     ]
    },
    {
     "name": "stdout",
     "output_type": "stream",
     "text": [
      "Reations after removal: 2289\n"
     ]
    }
   ],
   "source": [
    "print('Reations:', len(model.reactions))\n",
    "\n",
    "model.remove_reactions(blocked_geneless_reactions)\n",
    "\n",
    "print('Reations after removal:', len(model.reactions))"
   ]
  },
  {
   "cell_type": "code",
   "execution_count": 81,
   "metadata": {
    "execution": {
     "iopub.execute_input": "2021-03-28T22:58:14.157743Z",
     "iopub.status.busy": "2021-03-28T22:58:14.156744Z",
     "iopub.status.idle": "2021-03-28T22:58:14.186407Z",
     "shell.execute_reply": "2021-03-28T22:58:14.186407Z",
     "shell.execute_reply.started": "2021-03-28T22:58:14.157743Z"
    }
   },
   "outputs": [
    {
     "name": "stdout",
     "output_type": "stream",
     "text": [
      "Number of inactive metabolites 45\n",
      "Metabolites: 2003\n",
      "Metabolites after removal: 1958\n"
     ]
    }
   ],
   "source": [
    "inactive_metabolites = [\n",
    "        m for m in model.metabolites if len(m.reactions) == 0\n",
    "    ]\n",
    "print('Number of inactive metabolites',len(inactive_metabolites))\n",
    "print('Metabolites:', len(model.metabolites))\n",
    "model.remove_metabolites(inactive_metabolites)\n",
    "print('Metabolites after removal:', len(model.metabolites))"
   ]
  },
  {
   "cell_type": "markdown",
   "metadata": {},
   "source": [
    "### Demand equations are present that are left over from ecoli"
   ]
  },
  {
   "cell_type": "code",
   "execution_count": 82,
   "metadata": {
    "execution": {
     "iopub.execute_input": "2021-03-28T22:58:14.187330Z",
     "iopub.status.busy": "2021-03-28T22:58:14.187330Z",
     "iopub.status.idle": "2021-03-28T22:58:14.217330Z",
     "shell.execute_reply": "2021-03-28T22:58:14.217330Z",
     "shell.execute_reply.started": "2021-03-28T22:58:14.187330Z"
    }
   },
   "outputs": [
    {
     "data": {
      "text/plain": [
       "[<Reaction DM_amob_c at 0x1ab501dc088>,\n",
       " <Reaction DM_5drib_c at 0x1ab50906288>,\n",
       " <Reaction DM_aacald_c at 0x1ab50b16748>,\n",
       " <Reaction DM_4crsol_c at 0x1ab50c0da48>,\n",
       " <Reaction DM_mththf_c at 0x1ab50c37fc8>,\n",
       " <Reaction DM_PHB_c at 0x1ab511b3908>]"
      ]
     },
     "execution_count": 82,
     "metadata": {},
     "output_type": "execute_result"
    }
   ],
   "source": [
    "model.demands"
   ]
  },
  {
   "cell_type": "code",
   "execution_count": 83,
   "metadata": {
    "execution": {
     "iopub.execute_input": "2021-03-28T22:58:14.218331Z",
     "iopub.status.busy": "2021-03-28T22:58:14.218331Z",
     "iopub.status.idle": "2021-03-28T22:58:14.233388Z",
     "shell.execute_reply": "2021-03-28T22:58:14.233388Z",
     "shell.execute_reply.started": "2021-03-28T22:58:14.218331Z"
    }
   },
   "outputs": [],
   "source": [
    "#demands_removal = ['DM_amob_c', 'DM_5drib_c', 'DM_aacald_c',  'DM_4crsol_c',  'DM_mththf_c'  ]\n",
    "#model.remove_reactions(demands_removal)\n",
    "\n",
    "#Something funky happens when removing them. Will find out why. "
   ]
  },
  {
   "cell_type": "markdown",
   "metadata": {},
   "source": [
    "## Determine new amount of reactions and genes"
   ]
  },
  {
   "cell_type": "code",
   "execution_count": 91,
   "metadata": {
    "ExecuteTime": {
     "end_time": "2021-03-10T22:47:50.190499Z",
     "start_time": "2021-03-10T22:47:50.180487Z"
    },
    "execution": {
     "iopub.execute_input": "2021-03-28T23:00:47.834841Z",
     "iopub.status.busy": "2021-03-28T23:00:47.833841Z",
     "iopub.status.idle": "2021-03-28T23:00:47.848036Z",
     "shell.execute_reply": "2021-03-28T23:00:47.846971Z",
     "shell.execute_reply.started": "2021-03-28T23:00:47.834841Z"
    }
   },
   "outputs": [
    {
     "name": "stdout",
     "output_type": "stream",
     "text": [
      "Genes: 1300\n",
      "Reations: 2289\n",
      "Metabolites: 1958\n"
     ]
    }
   ],
   "source": [
    "print('Genes:', len(model.genes))\n",
    "print('Reations:', len(model.reactions))\n",
    "print('Metabolites:', len(model.metabolites))"
   ]
  },
  {
   "cell_type": "markdown",
   "metadata": {},
   "source": [
    "## Make sure all reaction bounds are between -1000 and 1000"
   ]
  },
  {
   "cell_type": "code",
   "execution_count": 92,
   "metadata": {
    "ExecuteTime": {
     "end_time": "2021-03-10T22:47:50.259555Z",
     "start_time": "2021-03-10T22:47:50.191468Z"
    },
    "execution": {
     "iopub.execute_input": "2021-03-28T23:00:56.671600Z",
     "iopub.status.busy": "2021-03-28T23:00:56.670601Z",
     "iopub.status.idle": "2021-03-28T23:00:56.691137Z",
     "shell.execute_reply": "2021-03-28T23:00:56.691137Z",
     "shell.execute_reply.started": "2021-03-28T23:00:56.670601Z"
    }
   },
   "outputs": [],
   "source": [
    "#limit reaction bounds to -1000 and 1000\n",
    "for reaction in model.reactions:\n",
    "    if reaction.lower_bound < -1000:\n",
    "        reaction.lower_bound = -1000\n",
    "    if reaction.upper_bound > 1000:\n",
    "        reaction.upper_bound = 1000\n",
    "        \n",
    "        \n",
    "#then check \n",
    "for reaction in model.reactions:\n",
    "    if (reaction.lower_bound < -1000\n",
    "        or reaction.upper_bound > 1000):\n",
    "        print(reaction.name)\n",
    "        print(reaction.lower_bound)\n",
    "        print(reaction.upper_bound)"
   ]
  },
  {
   "cell_type": "markdown",
   "metadata": {},
   "source": [
    "## Set Nitrogen (N2) lower bounds to -1000"
   ]
  },
  {
   "cell_type": "code",
   "execution_count": 93,
   "metadata": {
    "ExecuteTime": {
     "end_time": "2021-03-10T22:47:50.264467Z",
     "start_time": "2021-03-10T22:47:50.261466Z"
    },
    "execution": {
     "iopub.execute_input": "2021-03-28T23:01:00.715866Z",
     "iopub.status.busy": "2021-03-28T23:01:00.715866Z",
     "iopub.status.idle": "2021-03-28T23:01:00.719886Z",
     "shell.execute_reply": "2021-03-28T23:01:00.718868Z",
     "shell.execute_reply.started": "2021-03-28T23:01:00.715866Z"
    }
   },
   "outputs": [],
   "source": [
    "model.reactions.get_by_id(\"EX_n2_e\").upper_bound = 1000\n",
    "model.reactions.get_by_id(\"EX_n2_e\").lower_bound = -1000"
   ]
  },
  {
   "cell_type": "code",
   "execution_count": 94,
   "metadata": {
    "ExecuteTime": {
     "end_time": "2021-03-10T22:47:50.276465Z",
     "start_time": "2021-03-10T22:47:50.266466Z"
    },
    "execution": {
     "iopub.execute_input": "2021-03-28T23:01:03.213756Z",
     "iopub.status.busy": "2021-03-28T23:01:03.212674Z",
     "iopub.status.idle": "2021-03-28T23:01:03.230733Z",
     "shell.execute_reply": "2021-03-28T23:01:03.229760Z",
     "shell.execute_reply.started": "2021-03-28T23:01:03.213756Z"
    }
   },
   "outputs": [
    {
     "data": {
      "text/plain": [
       "'iAA1300'"
      ]
     },
     "execution_count": 94,
     "metadata": {},
     "output_type": "execute_result"
    }
   ],
   "source": [
    "model.id = \"iAA1300\"\n",
    "model.id"
   ]
  },
  {
   "cell_type": "code",
   "execution_count": 95,
   "metadata": {
    "execution": {
     "iopub.execute_input": "2021-03-28T23:01:08.409007Z",
     "iopub.status.busy": "2021-03-28T23:01:08.407983Z",
     "iopub.status.idle": "2021-03-28T23:01:08.427692Z",
     "shell.execute_reply": "2021-03-28T23:01:08.426691Z",
     "shell.execute_reply.started": "2021-03-28T23:01:08.409007Z"
    }
   },
   "outputs": [
    {
     "data": {
      "text/html": [
       "\n",
       "        <table>\n",
       "            <tr>\n",
       "                <td><strong>Reaction identifier</strong></td><td>BIOMASS_Av_DJ_core</td>\n",
       "            </tr><tr>\n",
       "                <td><strong>Name</strong></td><td>A. vinelandii DJ biomass objective function - core</td>\n",
       "            </tr><tr>\n",
       "                <td><strong>Memory address</strong></td>\n",
       "                <td>0x01ab50e14d08</td>\n",
       "            </tr><tr>\n",
       "                <td><strong>Stoichiometry</strong></td>\n",
       "                <td>\n",
       "                    <p style='text-align:right'>0.000223 10fthf_c + 2.6e-05 2fe2s_c + 0.000223 2ohph_c + 0.00026 4fe4s_c + 0.583020414344392 ala__L_c + 0.000223 amet_c + 0.4009934072884 arg__L_c + 0.126569944053473 asn__L_c + 0.267095137584612...</p>\n",
       "                    <p style='text-align:right'>0.000223 10-Formyltetrahydrofolate + 2.6e-05 [2Fe-2S] iron-sulfur cluster + 0.000223 2-Octaprenyl-6-hydroxyphenol + 0.00026 [4Fe-4S] iron-sulfur cluster + 0.583020414344392 L-Alanine + 0.000223...</p>\n",
       "                </td>\n",
       "            </tr><tr>\n",
       "                <td><strong>GPR</strong></td><td></td>\n",
       "            </tr><tr>\n",
       "                <td><strong>Lower bound</strong></td><td>0.0</td>\n",
       "            </tr><tr>\n",
       "                <td><strong>Upper bound</strong></td><td>1000</td>\n",
       "            </tr>\n",
       "        </table>\n",
       "        "
      ],
      "text/plain": [
       "<Reaction BIOMASS_Av_DJ_core at 0x1ab50e14d08>"
      ]
     },
     "execution_count": 95,
     "metadata": {},
     "output_type": "execute_result"
    }
   ],
   "source": [
    "model.reactions.get_by_id(\"BIOMASS_Av_DJ_core\")"
   ]
  },
  {
   "cell_type": "markdown",
   "metadata": {},
   "source": [
    "## Save model with name and number of genes"
   ]
  },
  {
   "cell_type": "code",
   "execution_count": 96,
   "metadata": {
    "ExecuteTime": {
     "end_time": "2021-03-10T22:47:53.205273Z",
     "start_time": "2021-03-10T22:47:50.278467Z"
    },
    "execution": {
     "iopub.execute_input": "2021-03-28T23:01:09.657864Z",
     "iopub.status.busy": "2021-03-28T23:01:09.657864Z",
     "iopub.status.idle": "2021-03-28T23:01:12.212990Z",
     "shell.execute_reply": "2021-03-28T23:01:12.212074Z",
     "shell.execute_reply.started": "2021-03-28T23:01:09.657864Z"
    }
   },
   "outputs": [],
   "source": [
    "save_json_model(model, \"../Data/Models/iAA1300.json\")\n",
    "write_sbml_model(model, \"../Data/Models/iAA1300.xml\")"
   ]
  },
  {
   "cell_type": "code",
   "execution_count": null,
   "metadata": {},
   "outputs": [],
   "source": []
  }
 ],
 "metadata": {
  "kernelspec": {
   "display_name": "Python 3",
   "language": "python",
   "name": "python3"
  },
  "language_info": {
   "codemirror_mode": {
    "name": "ipython",
    "version": 3
   },
   "file_extension": ".py",
   "mimetype": "text/x-python",
   "name": "python",
   "nbconvert_exporter": "python",
   "pygments_lexer": "ipython3",
   "version": "3.7.10"
  }
 },
 "nbformat": 4,
 "nbformat_minor": 4
}
