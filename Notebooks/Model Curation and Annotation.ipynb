{
 "cells": [
  {
   "cell_type": "code",
   "execution_count": 3,
   "metadata": {
    "ExecuteTime": {
     "end_time": "2021-03-04T01:22:23.984614Z",
     "start_time": "2021-03-04T01:22:17.544547Z"
    }
   },
   "outputs": [],
   "source": [
    "import cobra.test\n",
    "import pandas\n",
    "import os\n",
    "from os.path import join\n",
    "from cobra import Model, Reaction, Metabolite\n",
    "from cobra.io import save_json_model\n",
    "from cobra.io import write_sbml_model\n",
    "from cobra.io import read_sbml_model\n",
    "\n",
    "data_dir = 'C:\\\\Users\\\\alexa\\\\Documents\\\\Research\\\\Metabolic models\\\\COBRA\\\\COBRApy'\n",
    "\n",
    "model = read_sbml_model(\"./Models/Av_annotate.xml\")\n"
   ]
  },
  {
   "cell_type": "markdown",
   "metadata": {},
   "source": [
    "## Rnf reversibilty and directionality\n",
    "\n",
    "Rnf has been characterized in aceotgens but not in any aerobic nitrogen fixer. Where "
   ]
  },
  {
   "cell_type": "code",
   "execution_count": 4,
   "metadata": {
    "ExecuteTime": {
     "end_time": "2021-03-04T01:22:24.079860Z",
     "start_time": "2021-03-04T01:22:23.985580Z"
    }
   },
   "outputs": [],
   "source": [
    "#chanage the direction of Rnf to reduced Fd and oxidize NADH\n",
    "RNF = model.reactions.get_by_id(\"RNF\")\n",
    "\n",
    "RNF.subtract_metabolites({model.metabolites.get_by_id(\"h_e\"): 2})\n",
    "RNF.add_metabolites({model.metabolites.get_by_id(\"h_p\"): -4})\n",
    "RNF.add_metabolites({model.metabolites.get_by_id(\"h_c\"): 8})\n",
    "RNF.add_metabolites({model.metabolites.get_by_id(\"fdxo_42_c\"): -2})\n",
    "RNF.add_metabolites({model.metabolites.get_by_id(\"fdxr_42_c\"): 2})\n",
    "RNF.add_metabolites({model.metabolites.get_by_id(\"nadh_c\"): -2})\n",
    "RNF.add_metabolites({model.metabolites.get_by_id(\"nad_c\"): 2})\n"
   ]
  },
  {
   "cell_type": "code",
   "execution_count": 5,
   "metadata": {
    "ExecuteTime": {
     "end_time": "2021-03-04T01:22:24.084865Z",
     "start_time": "2021-03-04T01:22:24.081864Z"
    }
   },
   "outputs": [],
   "source": [
    "#Set lower bound to 0 to make irreversable (can change to see effects later)\n",
    "model.reactions.get_by_id(\"RNF\").lower_bound = 0"
   ]
  },
  {
   "cell_type": "markdown",
   "metadata": {},
   "source": [
    "## Add Fix to the model"
   ]
  },
  {
   "cell_type": "code",
   "execution_count": 6,
   "metadata": {
    "ExecuteTime": {
     "end_time": "2021-03-04T01:22:24.102864Z",
     "start_time": "2021-03-04T01:22:24.085864Z"
    }
   },
   "outputs": [],
   "source": [
    "FIX = Reaction('FIX')\n",
    "FIX.name = 'Fix NADH Quinone ferrdoxin oxioreductase'\n",
    "FIX.lower_bound = 0.  # This is the default\n",
    "FIX.upper_bound = 1000.  # This is the default\n",
    "\n",
    "fdxo_42_c = model.metabolites.get_by_id(\"fdxo_42_c\")\n",
    "nadh_c = model.metabolites.get_by_id(\"nadh_c\")\n",
    "q8_c = model.metabolites.get_by_id(\"q8_c\")\n",
    "fdxr_42_c = model.metabolites.get_by_id(\"fdxr_42_c\")\n",
    "nad_c = model.metabolites.get_by_id(\"nad_c\")\n",
    "q8h2_c = model.metabolites.get_by_id(\"q8h2_c\")\n",
    "\n",
    "FIX.add_metabolites({\n",
    "    fdxo_42_c: -1.0,\n",
    "    nadh_c: -2.0,\n",
    "    q8_c: -1.0,\n",
    "    fdxr_42_c: 1.0,\n",
    "    nad_c: 2.0,\n",
    "    q8h2_c: 1.0\n",
    "})\n",
    "\n",
    "FIX.gene_reaction_rule = '(Avin_10520 and Avin_10530 and Avin_10540 and Avin_10550)'\n",
    "\n",
    "#No annotation for bifurcating fix so this is annotation for ETF its homolog check ledbetter et al for biochemical details 10.1021/acs.biochem.7b00389\n",
    "FIX.annotation.update({'ec-code': ['1.5.5.1'],\n",
    "                     'kegg.reaction': 'R04433',\n",
    "                      'seed.reaction': 'rxn17250'\n",
    "                      })\n",
    "\n",
    "FIX.subsystem = 'Nitrogen fixation'\n",
    "\n",
    "model.add_reactions([FIX])"
   ]
  },
  {
   "cell_type": "markdown",
   "metadata": {},
   "source": [
    "## Add NADH Dehydrogeanse I (coupled)"
   ]
  },
  {
   "cell_type": "code",
   "execution_count": 7,
   "metadata": {
    "ExecuteTime": {
     "end_time": "2021-03-04T01:22:24.134945Z",
     "start_time": "2021-03-04T01:22:24.104862Z"
    }
   },
   "outputs": [],
   "source": [
    "NDHI = Reaction('NADH6')\n",
    "NDHI.name = 'NADH: quinone oxidoreductase'\n",
    "NDHI.lower_bound = -1000.  # This is the default\n",
    "NDHI.upper_bound = 1000.  # This is the default\n",
    "\n",
    "#Just add metabolites not added before\n",
    "h_c = model.metabolites.get_by_id(\"h_c\")\n",
    "h_p = model.metabolites.get_by_id(\"h_p\")\n",
    "\n",
    "#stochiometry of 4 protons translocated with extra proton for quniol production is from Berstova et al (Biochimica et Biophysica Acta 1363, 1998. 125–133)\n",
    "NDHI.add_metabolites({\n",
    "    h_c : -5.0,\n",
    "    nadh_c: -1.0,\n",
    "    q8_c: -1.0,\n",
    "    h_p : 4.0,\n",
    "    nad_c: 1.0,\n",
    "    q8h2_c: 1.0\n",
    "})\n",
    "\n",
    "\n",
    "NDHI.gene_reaction_rule = '((Avin_28540) and (Avin_28440) and (Avin_28560) and (Avin_28450) and (Avin_28490) and (Avin_28510) and (Avin_28460) and (Avin_28520) and (Avin_28470))'\n",
    "\n",
    "NDHI.annotation.update({'ec-code': ['7.1.1.2'],\n",
    "                        'bigg.reaction': 'NADH6',\n",
    "                        'kegg.reaction': 'R11945',\n",
    "                        'metanetx.reaction': 'MNXR101873',\n",
    "                        'seed.reaction': 'rxn10122'                        \n",
    "                      })\n",
    "\n",
    "\n",
    "\n",
    "model.add_reactions([NDHI])\n"
   ]
  },
  {
   "cell_type": "markdown",
   "metadata": {},
   "source": [
    "## Remove nuo subunit genes from NADH II GRP rules "
   ]
  },
  {
   "cell_type": "code",
   "execution_count": 8,
   "metadata": {
    "ExecuteTime": {
     "end_time": "2021-03-04T01:22:24.144911Z",
     "start_time": "2021-03-04T01:22:24.135925Z"
    }
   },
   "outputs": [],
   "source": [
    "NADH5 = model.reactions.get_by_id('NADH5')\n",
    "NADH5.gene_reaction_rule = '(Avin_12000)'"
   ]
  },
  {
   "cell_type": "markdown",
   "metadata": {},
   "source": [
    "## Add Cytochrome c oxioreductase (quinone)"
   ]
  },
  {
   "cell_type": "code",
   "execution_count": 9,
   "metadata": {
    "ExecuteTime": {
     "end_time": "2021-03-04T01:22:24.169945Z",
     "start_time": "2021-03-04T01:22:24.145911Z"
    }
   },
   "outputs": [],
   "source": [
    "QCCOR = Reaction('QCCOR')\n",
    "QCCOR.name = 'quinone: cytochrome c oxidoreductase'\n",
    "QCCOR.lower_bound = -1000.  # This is the default\n",
    "QCCOR.upper_bound = 1000.  # This is the default\n",
    "\n",
    "#Just add metabolites not added before\n",
    "ficytC_c = model.metabolites.get_by_id(\"ficytC_c\")\n",
    "focytC_c = model.metabolites.get_by_id(\"focytC_c\")\n",
    "\n",
    "QCCOR.add_metabolites({\n",
    "    \n",
    "    ficytC_c: -2.0,\n",
    "    q8h2_c: -1.0,\n",
    "    h_p : 4.0,\n",
    "    h_c : -2.0,\n",
    "    focytC_c: 2.0,\n",
    "    q8_c: 1.0\n",
    "})\n",
    "\n",
    "QCCOR.gene_reaction_rule = '(Avin_13060 and Avin_13070 and Avin_13080)'\n",
    "\n",
    "QCCOR.annotation.update({\n",
    "                        'metanetx.reaction': 'MNXR96964'                 \n",
    "                      })\n",
    "\n",
    "model.add_reactions([QCCOR])"
   ]
  },
  {
   "cell_type": "markdown",
   "metadata": {},
   "source": [
    "## Add Alternative Nitorgnease (V and Fe)"
   ]
  },
  {
   "cell_type": "code",
   "execution_count": 10,
   "metadata": {
    "ExecuteTime": {
     "end_time": "2021-03-04T01:22:24.205912Z",
     "start_time": "2021-03-04T01:22:24.171910Z"
    }
   },
   "outputs": [],
   "source": [
    "VNIT = Reaction('VNIT')\n",
    "VNIT.name = 'Vanadium Nitrogenase'\n",
    "VNIT.lower_bound = 0.  # This is the default\n",
    "VNIT.upper_bound = 1000.  # This is the default\n",
    "\n",
    "fdxo_42_c = model.metabolites.get_by_id(\"fdxo_42_c\")\n",
    "n2_c = model.metabolites.get_by_id(\"n2_c\")\n",
    "atp_c = model.metabolites.get_by_id(\"atp_c\")\n",
    "fdxr_42_c = model.metabolites.get_by_id(\"fdxr_42_c\")\n",
    "adp_c = model.metabolites.get_by_id(\"adp_c\")\n",
    "h2o_c = model.metabolites.get_by_id(\"h2o_c\")\n",
    "h_c = model.metabolites.get_by_id(\"h_c\")\n",
    "pi_c = model.metabolites.get_by_id(\"pi_c\")\n",
    "nh4_c = model.metabolites.get_by_id(\"nh4_c\")\n",
    "h2_c = model.metabolites.get_by_id(\"h2_c\")\n",
    "\n",
    "VNIT.add_metabolites({\n",
    "    fdxr_42_c: -6.0,\n",
    "    n2_c: -1.0,\n",
    "    atp_c: -24.0,\n",
    "    h2o_c: -24.0,\n",
    "    fdxo_42_c: 6.0,\n",
    "    nh4_c: 2.0,\n",
    "    h2_c: 3.0,\n",
    "    adp_c: 24.0,\n",
    "    pi_c: 24.0,\n",
    "    h_c: 10\n",
    "})\n",
    "\n",
    "VNIT.gene_reaction_rule = '(Avin_02590 and Avin_02600 and Avin_02610 and Avin_02660)'\n",
    "\n",
    "#the alternative nitrogenases are not accuratley annotated anywhere! so this is the best we can do Kegg has vandium but the stoichometery is wrong\n",
    "VNIT.annotation.update({'ec-code': ['1.18.6.2'],\n",
    "                        'kegg.reaction': 'R12084'                  \n",
    "                      })\n",
    "\n",
    "model.add_reactions([VNIT])"
   ]
  },
  {
   "cell_type": "code",
   "execution_count": 11,
   "metadata": {
    "ExecuteTime": {
     "end_time": "2021-03-04T01:22:24.239999Z",
     "start_time": "2021-03-04T01:22:24.207910Z"
    }
   },
   "outputs": [],
   "source": [
    "FENIT = Reaction('FENIT')\n",
    "FENIT.name = 'Fe-only Nitrogenase'\n",
    "FENIT.lower_bound = 0.  # This is the default\n",
    "FENIT.upper_bound = 1000.  # This is the default\n",
    "\n",
    "\n",
    "FENIT.add_metabolites({\n",
    "    fdxr_42_c: -10.0,\n",
    "    n2_c: -1.0,\n",
    "    atp_c: -40.0,\n",
    "    h2o_c: -40.0,\n",
    "    fdxo_42_c: 10.0,\n",
    "    nh4_c: 2.0,\n",
    "    h2_c: 7.0,\n",
    "    adp_c: 40.0,\n",
    "    pi_c: 40.0,\n",
    "    h_c: 18\n",
    "})\n",
    "\n",
    "\n",
    "FENIT.gene_reaction_rule = '(Avin_48970 and Avin_48980 and Avin_48990 and Avin_49000)'\n",
    "\n",
    "#no Fe-only nitrogenase annotated in any database \n",
    "\n",
    "model.add_reactions([FENIT])"
   ]
  },
  {
   "cell_type": "markdown",
   "metadata": {},
   "source": [
    "## Fix nif GRP to only include nifHDK subunits \n",
    "Can adjust to all biosyntheis genes later"
   ]
  },
  {
   "cell_type": "code",
   "execution_count": 12,
   "metadata": {
    "ExecuteTime": {
     "end_time": "2021-03-04T01:22:24.244960Z",
     "start_time": "2021-03-04T01:22:24.240963Z"
    }
   },
   "outputs": [],
   "source": [
    "NIT = model.reactions.get_by_id('NIT1b')\n",
    "NIT.gene_reaction_rule = '(Avin_01380 and Avin_01390 and Avin_01400)'"
   ]
  },
  {
   "cell_type": "markdown",
   "metadata": {},
   "source": [
    "## Make soluble hydrogenase *hoxHY* consume H2 only"
   ]
  },
  {
   "cell_type": "code",
   "execution_count": 13,
   "metadata": {
    "ExecuteTime": {
     "end_time": "2021-03-04T01:22:24.256965Z",
     "start_time": "2021-03-04T01:22:24.245962Z"
    }
   },
   "outputs": [],
   "source": [
    "NAD_H2 = model.reactions.get_by_id(\"NAD_H2\")\n",
    "NAD_H2.lower_bound = -1000\n",
    "NAD_H2.upper_bound = 0\n",
    "\n",
    "\n",
    "NAD_H2.annotation.update({'ec-code': ['1.12.1.2', '1.12.1.5'],\n",
    "                        'bigg.reaction': 'NAD_H2',\n",
    "                        'kegg.reaction': 'R00700',\n",
    "                        'metanetx.reaction': 'MNXR101899',\n",
    "                        'seed.reaction': 'rxn05887'                        \n",
    "                      })\n",
    "\n"
   ]
  },
  {
   "cell_type": "markdown",
   "metadata": {},
   "source": [
    "## Add a transhydrogenase for NADPH to NADH electron transfer"
   ]
  },
  {
   "cell_type": "code",
   "execution_count": 14,
   "metadata": {
    "ExecuteTime": {
     "end_time": "2021-03-04T01:22:24.272880Z",
     "start_time": "2021-03-04T01:22:24.257961Z"
    }
   },
   "outputs": [],
   "source": [
    "NADTRHD = Reaction('NADTRHD')\n",
    "NADTRHD.name = 'NAD transhydrogenase'\n",
    "NADTRHD.lower_bound = 0.  # This is the default\n",
    "NADTRHD.upper_bound = 1000.  # This is the default\n",
    "\n",
    "#Just add metabolites not added before\n",
    "nadph_c = model.metabolites.get_by_id(\"nadph_c\")\n",
    "nadp_c = model.metabolites.get_by_id(\"nadp_c\")\n",
    "\n",
    "\n",
    "NADTRHD.add_metabolites({\n",
    "    nad_c: -1.0,\n",
    "    nadph_c: -1.0,\n",
    "    nadh_c: 1.0,\n",
    "    nadp_c: 1.0\n",
    "})\n",
    "\n",
    "NADTRHD.gene_reaction_rule = '(Avin_01840 and Avin_01850 and Avin_01860)'\n",
    "\n",
    "NAD_H2.annotation.update({'ec-code': ['1.6.1.1', '1.6.1.2'],\n",
    "                        'bigg.reaction': 'NADTRHD',\n",
    "                        'kegg.reaction': 'R00112',\n",
    "                        'metanetx.reaction': 'MNXR101898',\n",
    "                        'seed.reaction': 'rxn00083'                        \n",
    "                      })\n",
    "\n",
    "\n",
    "model.add_reactions([NADTRHD])"
   ]
  },
  {
   "cell_type": "markdown",
   "metadata": {},
   "source": [
    "## Set Glutamate Dehydrogenase to zero as is only used under high NH<sub>4</sub> concentration \n",
    "Kleiner and Kleinschmidt 1976  Journal of bacterialogy and Kleiner 1975 Arch microbiology\n"
   ]
  },
  {
   "cell_type": "code",
   "execution_count": 15,
   "metadata": {
    "ExecuteTime": {
     "end_time": "2021-03-04T01:22:24.283850Z",
     "start_time": "2021-03-04T01:22:24.273819Z"
    }
   },
   "outputs": [],
   "source": [
    "model.reactions.get_by_id(\"GLUDxi\").upper_bound = 1\n",
    "model.reactions.get_by_id(\"GLUDxi\").lower_bound = 0\n",
    "\n",
    "\n",
    "model.reactions.get_by_id(\"GLUDy\").upper_bound = 1\n",
    "model.reactions.get_by_id(\"GLUDy\").lower_bound = 0\n",
    "\n",
    "#Also pick one Glutamate synthetase (NADPH) for simplicity\n",
    "\n",
    "model.reactions.get_by_id(\"GLUSx\").upper_bound = 0\n",
    "model.reactions.get_by_id(\"GLUSx\").lower_bound = 0\n",
    "\n",
    "#Malic enzyme to NADH for simpicty \n",
    "model.reactions.get_by_id(\"ME2\").upper_bound = 0\n",
    "model.reactions.get_by_id(\"ME2\").lower_bound = 0\n",
    "\n",
    "#Malic enzyme to NADH for simpicty \n",
    "model.reactions.get_by_id(\"SSCOARy\").upper_bound = 0\n",
    "model.reactions.get_by_id(\"SSCOARy\").lower_bound = 0"
   ]
  },
  {
   "cell_type": "markdown",
   "metadata": {},
   "source": [
    "## Set all memquinone reactions to zero as quninone is the only electron carrier in A.v. "
   ]
  },
  {
   "cell_type": "code",
   "execution_count": 16,
   "metadata": {
    "ExecuteTime": {
     "end_time": "2021-03-04T01:22:24.298847Z",
     "start_time": "2021-03-04T01:22:24.284820Z"
    }
   },
   "outputs": [],
   "source": [
    "model.reactions.get_by_id(\"HYD2pp\").upper_bound = 0\n",
    "model.reactions.get_by_id(\"HYD2pp\").lower_bound = 0\n",
    "\n",
    "model.reactions.get_by_id(\"HYD3pp\").upper_bound = 0\n",
    "model.reactions.get_by_id(\"HYD3pp\").lower_bound = 0\n",
    "\n",
    "model.reactions.get_by_id(\"NADH10\").upper_bound = 0\n",
    "model.reactions.get_by_id(\"NADH10\").lower_bound = 0\n",
    "\n",
    "model.reactions.get_by_id(\"NADH9\").upper_bound = 0\n",
    "model.reactions.get_by_id(\"NADH9\").lower_bound = 0\n",
    "\n",
    "model.reactions.get_by_id(\"NADPHQR3\").upper_bound = 0\n",
    "model.reactions.get_by_id(\"NADPHQR3\").lower_bound = 0\n",
    "\n",
    "model.reactions.get_by_id(\"NADPHQR4\").upper_bound = 0\n",
    "model.reactions.get_by_id(\"NADPHQR4\").lower_bound = 0\n",
    "\n",
    "model.reactions.get_by_id(\"FRD2\").upper_bound = 0\n",
    "model.reactions.get_by_id(\"FRD2\").lower_bound = 0\n",
    "\n",
    "model.reactions.get_by_id(\"MDH3\").upper_bound = 0\n",
    "model.reactions.get_by_id(\"MDH3\").lower_bound = 0\n",
    "\n",
    "model.reactions.get_by_id(\"DHORD5\").upper_bound = 0\n",
    "model.reactions.get_by_id(\"DHORD5\").lower_bound = 0\n",
    "\n",
    "model.reactions.get_by_id(\"CYTBD2pp\").upper_bound = 0\n",
    "model.reactions.get_by_id(\"CYTBD2pp\").lower_bound = 0"
   ]
  },
  {
   "cell_type": "markdown",
   "metadata": {},
   "source": [
    "## Set Succinate dehydrogenase to quinone not FADH"
   ]
  },
  {
   "cell_type": "code",
   "execution_count": 17,
   "metadata": {
    "ExecuteTime": {
     "end_time": "2021-03-04T01:22:24.308859Z",
     "start_time": "2021-03-04T01:22:24.299843Z"
    }
   },
   "outputs": [],
   "source": [
    "model.reactions.get_by_id(\"SUCD1\").upper_bound = 0\n",
    "model.reactions.get_by_id(\"SUCD1\").lower_bound = 0\n",
    "\n",
    "\n",
    "model.reactions.get_by_id(\"FRD\").upper_bound = 0\n",
    "model.reactions.get_by_id(\"FRD\").lower_bound = 0\n",
    "\n",
    "model.reactions.get_by_id(\"FRD2\").upper_bound = 0\n",
    "model.reactions.get_by_id(\"FRD2\").lower_bound = 0\n",
    "\n",
    "model.reactions.get_by_id(\"FRD3\").upper_bound = 0\n",
    "model.reactions.get_by_id(\"FRD3\").lower_bound = 0"
   ]
  },
  {
   "cell_type": "markdown",
   "metadata": {},
   "source": [
    "# Set NAD:FAD oxidoreduxtase to zero as its a bad annotation for the Fix reaction"
   ]
  },
  {
   "cell_type": "code",
   "execution_count": 18,
   "metadata": {
    "ExecuteTime": {
     "end_time": "2021-03-04T01:22:24.320205Z",
     "start_time": "2021-03-04T01:22:24.309825Z"
    }
   },
   "outputs": [],
   "source": [
    "model.reactions.get_by_id(\"NADFADOR\").upper_bound = 0\n",
    "model.reactions.get_by_id(\"NADFADOR\").lower_bound = 0\n",
    "\n",
    "model.reactions.get_by_id(\"NADHNQR\").upper_bound = 0\n",
    "model.reactions.get_by_id(\"NADHNQR\").lower_bound = 0"
   ]
  },
  {
   "cell_type": "markdown",
   "metadata": {},
   "source": [
    "## Remove hydrogen producing 3-hydroxyadiapyl-CoA dehydrogenase (keeping NAD dependant)"
   ]
  },
  {
   "cell_type": "code",
   "execution_count": 19,
   "metadata": {
    "ExecuteTime": {
     "end_time": "2021-03-04T01:22:24.329690Z",
     "start_time": "2021-03-04T01:22:24.321171Z"
    }
   },
   "outputs": [],
   "source": [
    "model.reactions.get_by_id(\"HADPCOADH\").upper_bound = 0\n",
    "model.reactions.get_by_id(\"HADPCOADH\").lower_bound = 0"
   ]
  },
  {
   "cell_type": "markdown",
   "metadata": {
    "ExecuteTime": {
     "end_time": "2021-02-19T18:36:45.606373Z",
     "start_time": "2021-02-19T18:36:45.597374Z"
    }
   },
   "source": [
    "#### Removing quinone loops"
   ]
  },
  {
   "cell_type": "code",
   "execution_count": 20,
   "metadata": {
    "ExecuteTime": {
     "end_time": "2021-03-04T01:22:24.341724Z",
     "start_time": "2021-03-04T01:22:24.330692Z"
    }
   },
   "outputs": [],
   "source": [
    "\n",
    "model.reactions.get_by_id(\"GLYCTO2\").upper_bound = 0\n",
    "model.reactions.get_by_id(\"GLYCTO2\").lower_bound = 0\n",
    "\n",
    "\n",
    "model.reactions.get_by_id(\"G3PD5\").upper_bound = 0\n",
    "model.reactions.get_by_id(\"G3PD5\").lower_bound = 0\n",
    "\n",
    "\n",
    "\n",
    "model.reactions.get_by_id(\"NADPHQR2\").upper_bound = 0\n",
    "model.reactions.get_by_id(\"NADPHQR2\").lower_bound = 0\n",
    "\n",
    "\n",
    "model.reactions.get_by_id(\"PROD3\").upper_bound = 0\n",
    "model.reactions.get_by_id(\"PROD3\").lower_bound = 0"
   ]
  },
  {
   "cell_type": "markdown",
   "metadata": {},
   "source": [
    "## Reversible transport ends in futile cycle so make irreversible "
   ]
  },
  {
   "cell_type": "code",
   "execution_count": 21,
   "metadata": {
    "ExecuteTime": {
     "end_time": "2021-03-04T01:22:24.355751Z",
     "start_time": "2021-03-04T01:22:24.342690Z"
    }
   },
   "outputs": [],
   "source": [
    "\n",
    "# Acetate\n",
    "model.reactions.get_by_id(\"ACt2rpp\").upper_bound = 1000\n",
    "model.reactions.get_by_id(\"ACt2rpp\").lower_bound = 0\n",
    "\n",
    "\n",
    "#Acetoacetate\n",
    "model.reactions.get_by_id(\"ACACt2pp\").upper_bound = 1000\n",
    "model.reactions.get_by_id(\"ACACt2pp\").lower_bound = 0\n",
    "\n",
    "#pyruvate\n",
    "\n",
    "model.reactions.get_by_id(\"PYRt2rpp\").upper_bound = 1000\n",
    "model.reactions.get_by_id(\"PYRt2rpp\").lower_bound = 0\n",
    "\n",
    "#Glyoxylate\n",
    "model.reactions.get_by_id(\"GLXtpp\").upper_bound = 1000\n",
    "model.reactions.get_by_id(\"GLXtpp\").lower_bound = 0\n",
    "\n",
    "#malonate \n",
    "\n",
    "model.reactions.get_by_id(\"MALONpp\").upper_bound = 1000\n",
    "model.reactions.get_by_id(\"MALONpp\").lower_bound = 0\n",
    "\n",
    "#alphaketogluterate\n",
    "\n",
    "model.reactions.get_by_id(\"AKGt2rpp\").upper_bound = 1000\n",
    "model.reactions.get_by_id(\"AKGt2rpp\").lower_bound = 0\n",
    "\n",
    "#fructose FUCtpp\n",
    "model.reactions.get_by_id(\"FUCtpp\").upper_bound = 1000\n",
    "model.reactions.get_by_id(\"FUCtpp\").lower_bound = 0\n",
    "\n",
    "#butyrate\n",
    "model.reactions.get_by_id(\"BUTt2rpp\").upper_bound = 1000\n",
    "model.reactions.get_by_id(\"BUTt2rpp\").lower_bound = 0\n",
    "\n",
    "#proline \n",
    "model.reactions.get_by_id(\"PROt2rpp\").upper_bound = 1000\n",
    "model.reactions.get_by_id(\"PROt2rpp\").lower_bound = 0\n",
    "\n",
    "#Glutamate \n",
    "model.reactions.get_by_id(\"GLUt2rpp\").upper_bound = 1000\n",
    "model.reactions.get_by_id(\"GLUt2rpp\").lower_bound = 0\n",
    "\n",
    "#glycolate \n",
    "model.reactions.get_by_id(\"GLYCLTt2rpp\").upper_bound = 1000\n",
    "model.reactions.get_by_id(\"GLYCLTt2rpp\").lower_bound = 0\n",
    "\n",
    "#lactate \n",
    "model.reactions.get_by_id(\"D_LACt2pp\").upper_bound = 1000\n",
    "model.reactions.get_by_id(\"D_LACt2pp\").lower_bound = 0\n",
    "\n",
    "#fumurate\n",
    "\n",
    "model.reactions.get_by_id(\"FUMt1pp\").upper_bound = 1000\n",
    "model.reactions.get_by_id(\"FUMt1pp\").lower_bound = 0"
   ]
  },
  {
   "cell_type": "markdown",
   "metadata": {},
   "source": [
    "## Fructose uptake is annotated twice\n",
    "Genes Avin_12210 and Avin_12190 which are FruA and FruB respectivly are in FRUptspp and FRUpts2pp which make Fructose-1-phophate and fructose-6-phosphate. Since there is no evidence of 6-phosphate transport mechanisms and ecoli FruAB a Fructose1-phosphate producing we will not use FRUpts2pp"
   ]
  },
  {
   "cell_type": "code",
   "execution_count": 22,
   "metadata": {
    "ExecuteTime": {
     "end_time": "2021-03-04T01:22:24.366707Z",
     "start_time": "2021-03-04T01:22:24.356729Z"
    }
   },
   "outputs": [],
   "source": [
    "model.reactions.get_by_id(\"FRUpts2pp\").upper_bound = 0\n",
    "model.reactions.get_by_id(\"FRUpts2pp\").lower_bound = 0"
   ]
  },
  {
   "cell_type": "markdown",
   "metadata": {},
   "source": [
    "## Remove Fructose 6 phosphate aldoase to direct flux to PFK\n",
    "left over from  ecoli model not enough evidencince to suppport use in Av"
   ]
  },
  {
   "cell_type": "code",
   "execution_count": 23,
   "metadata": {
    "ExecuteTime": {
     "end_time": "2021-03-04T01:22:24.377705Z",
     "start_time": "2021-03-04T01:22:24.367709Z"
    }
   },
   "outputs": [],
   "source": [
    " \n",
    "model.reactions.get_by_id(\"F6PA\").upper_bound = 0\n",
    "model.reactions.get_by_id(\"F6PA\").lower_bound = 0"
   ]
  },
  {
   "cell_type": "markdown",
   "metadata": {},
   "source": [
    "## Pentose phosphate modification"
   ]
  },
  {
   "cell_type": "code",
   "execution_count": 24,
   "metadata": {
    "ExecuteTime": {
     "end_time": "2021-03-04T01:22:24.389651Z",
     "start_time": "2021-03-04T01:22:24.378705Z"
    }
   },
   "outputs": [],
   "source": [
    " \n",
    "model.reactions.get_by_id(\"FBA3\").upper_bound = 0\n",
    "model.reactions.get_by_id(\"FBA3\").lower_bound = 0\n",
    "\n",
    "model.reactions.get_by_id(\"PFK_3\").upper_bound = 0\n",
    "model.reactions.get_by_id(\"PFK_3\").lower_bound = 0"
   ]
  },
  {
   "cell_type": "markdown",
   "metadata": {},
   "source": [
    "## remove ATP syntahsae that connects cytsol to extracellular"
   ]
  },
  {
   "cell_type": "code",
   "execution_count": 25,
   "metadata": {
    "ExecuteTime": {
     "end_time": "2021-03-04T01:22:24.400652Z",
     "start_time": "2021-03-04T01:22:24.392610Z"
    }
   },
   "outputs": [],
   "source": [
    "\n",
    "model.reactions.get_by_id(\"ATPS4r\").upper_bound = 1000\n",
    "model.reactions.get_by_id(\"ATPS4r\").lower_bound = 0\n"
   ]
  },
  {
   "cell_type": "markdown",
   "metadata": {},
   "source": [
    "## Glucose uptake "
   ]
  },
  {
   "cell_type": "code",
   "execution_count": 26,
   "metadata": {
    "ExecuteTime": {
     "end_time": "2021-03-04T01:22:24.410549Z",
     "start_time": "2021-03-04T01:22:24.402612Z"
    }
   },
   "outputs": [],
   "source": [
    "##Glucose uptake was shown to mostly be through gluP (Avin_04150, GLCt2pp) by Quiroz-Rocha et al \n",
    "#https://doi.org/10.1038/s41598-017-00980-5\n",
    "\n",
    "#set pyrophosphate dependant trasnport (GLCptspp) to zero\n",
    "\n",
    "model.reactions.get_by_id(\"GLCptspp\").upper_bound = 0\n",
    "model.reactions.get_by_id(\"GLCptspp\").lower_bound = 0"
   ]
  },
  {
   "cell_type": "markdown",
   "metadata": {},
   "source": [
    "## Determine new amonut of reactions and genes"
   ]
  },
  {
   "cell_type": "code",
   "execution_count": 31,
   "metadata": {
    "ExecuteTime": {
     "end_time": "2021-03-04T01:23:39.335663Z",
     "start_time": "2021-03-04T01:23:39.331652Z"
    }
   },
   "outputs": [
    {
     "name": "stdout",
     "output_type": "stream",
     "text": [
      "Genes: 1289\n",
      "Reations: 2475\n",
      "Metabolites: 2003\n"
     ]
    }
   ],
   "source": [
    "print('Genes:', len(model.genes))\n",
    "print('Reations:', len(model.reactions))\n",
    "print('Metabolites:', len(model.metabolites))"
   ]
  },
  {
   "cell_type": "markdown",
   "metadata": {},
   "source": [
    "## Make sure all reaction bounds are between -1000 and 1000"
   ]
  },
  {
   "cell_type": "code",
   "execution_count": 33,
   "metadata": {
    "ExecuteTime": {
     "end_time": "2021-03-04T01:26:20.931638Z",
     "start_time": "2021-03-04T01:26:20.864740Z"
    }
   },
   "outputs": [],
   "source": [
    "#limit reaction bounds to -1000 and 1000\n",
    "for reaction in model.reactions:\n",
    "    if reaction.lower_bound < -1000:\n",
    "        reaction.lower_bound = -1000\n",
    "    if reaction.upper_bound > 1000:\n",
    "        reaction.upper_bound = 1000\n",
    "        \n",
    "        \n",
    "#then check \n",
    "for reaction in model.reactions:\n",
    "    if (reaction.lower_bound < -1000\n",
    "        or reaction.upper_bound > 1000):\n",
    "        print(reaction.name)\n",
    "        print(reaction.lower_bound)\n",
    "        print(reaction.upper_bound)"
   ]
  },
  {
   "cell_type": "code",
   "execution_count": 42,
   "metadata": {
    "ExecuteTime": {
     "end_time": "2021-03-04T02:52:10.212225Z",
     "start_time": "2021-03-04T02:52:10.198201Z"
    }
   },
   "outputs": [
    {
     "ename": "AttributeError",
     "evalue": "'str' object has no attribute 'update'",
     "output_type": "error",
     "traceback": [
      "\u001b[1;31m---------------------------------------------------------------------------\u001b[0m",
      "\u001b[1;31mAttributeError\u001b[0m                            Traceback (most recent call last)",
      "\u001b[1;32m<ipython-input-42-0f8d37a8602c>\u001b[0m in \u001b[0;36m<module>\u001b[1;34m\u001b[0m\n\u001b[1;32m----> 1\u001b[1;33m \u001b[0mmodel\u001b[0m\u001b[1;33m.\u001b[0m\u001b[0mid\u001b[0m\u001b[1;33m.\u001b[0m\u001b[0mupdate\u001b[0m\u001b[1;33m\u001b[0m\u001b[1;33m\u001b[0m\u001b[0m\n\u001b[0m",
      "\u001b[1;31mAttributeError\u001b[0m: 'str' object has no attribute 'update'"
     ]
    }
   ],
   "source": [
    "model.id.update"
   ]
  },
  {
   "cell_type": "markdown",
   "metadata": {},
   "source": [
    "## Save model with name and number of genes"
   ]
  },
  {
   "cell_type": "code",
   "execution_count": 34,
   "metadata": {
    "ExecuteTime": {
     "end_time": "2021-03-04T01:27:55.842265Z",
     "start_time": "2021-03-04T01:27:52.660705Z"
    }
   },
   "outputs": [],
   "source": [
    "save_json_model(model, \"./Models/iAA1289.json\")\n",
    "write_sbml_model(model, \"./Models/iAA1289.xml\")"
   ]
  },
  {
   "cell_type": "code",
   "execution_count": null,
   "metadata": {},
   "outputs": [],
   "source": []
  }
 ],
 "metadata": {
  "kernelspec": {
   "display_name": "Python 3",
   "language": "python",
   "name": "python3"
  },
  "language_info": {
   "codemirror_mode": {
    "name": "ipython",
    "version": 3
   },
   "file_extension": ".py",
   "mimetype": "text/x-python",
   "name": "python",
   "nbconvert_exporter": "python",
   "pygments_lexer": "ipython3",
   "version": "3.7.6"
  }
 },
 "nbformat": 4,
 "nbformat_minor": 4
}
