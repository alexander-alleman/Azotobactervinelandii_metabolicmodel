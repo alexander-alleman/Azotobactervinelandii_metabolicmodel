{
 "cells": [
  {
   "cell_type": "code",
   "execution_count": 14,
   "metadata": {
    "ExecuteTime": {
     "end_time": "2021-03-10T22:47:49.654083Z",
     "start_time": "2021-03-10T22:47:46.192229Z"
    },
    "execution": {
     "iopub.execute_input": "2021-03-16T01:09:21.316927Z",
     "iopub.status.busy": "2021-03-16T01:09:21.315929Z",
     "iopub.status.idle": "2021-03-16T01:09:24.848190Z",
     "shell.execute_reply": "2021-03-16T01:09:24.847277Z",
     "shell.execute_reply.started": "2021-03-16T01:09:21.315929Z"
    }
   },
   "outputs": [],
   "source": [
    "import cobra.test\n",
    "import pandas\n",
    "import os\n",
    "from os.path import join\n",
    "from cobra import Model, Reaction, Metabolite\n",
    "from cobra.io import save_json_model\n",
    "from cobra.io import write_sbml_model\n",
    "from cobra.io import read_sbml_model\n",
    "\n",
    "data_dir = 'C:\\\\Users\\\\alexa\\\\Documents\\\\Research\\\\Metabolic models\\\\COBRA\\\\COBRApy'\n",
    "\n",
    "model = read_sbml_model(\"../Data/Models/Av_annotate.xml\")\n"
   ]
  },
  {
   "cell_type": "markdown",
   "metadata": {},
   "source": [
    "## Rnf reversibility and directionality\n",
    "\n",
    "Rnf has been characterized in aceotgens but not in any aerobic nitrogen fixer. We have made an argument for RNF stoichiometry in the reversible direction (pmf consuming) to be different and require at least 5 protons to reduce ferredoxin in the conditions present in *A. vinelandii*. Please refer to the markdown document Rnf_stoich.md in the notebook folder."
   ]
  },
  {
   "cell_type": "code",
   "execution_count": 15,
   "metadata": {
    "ExecuteTime": {
     "end_time": "2021-03-10T22:47:49.735254Z",
     "start_time": "2021-03-10T22:47:49.655997Z"
    },
    "execution": {
     "iopub.execute_input": "2021-03-16T01:09:24.849190Z",
     "iopub.status.busy": "2021-03-16T01:09:24.848190Z",
     "iopub.status.idle": "2021-03-16T01:09:24.958021Z",
     "shell.execute_reply": "2021-03-16T01:09:24.958021Z",
     "shell.execute_reply.started": "2021-03-16T01:09:24.849190Z"
    }
   },
   "outputs": [],
   "source": [
    "#chanage the direction of Rnf to reduced Fd and oxidize NADH\n",
    "RNF = model.reactions.get_by_id(\"RNF\")\n",
    "\n",
    "RNF.subtract_metabolites({model.metabolites.get_by_id(\"h_e\"): 2})\n",
    "RNF.add_metabolites({model.metabolites.get_by_id(\"h_p\"): -5})\n",
    "RNF.add_metabolites({model.metabolites.get_by_id(\"h_c\"): 8})\n",
    "RNF.add_metabolites({model.metabolites.get_by_id(\"fdxo_42_c\"): -1})\n",
    "RNF.add_metabolites({model.metabolites.get_by_id(\"fdxr_42_c\"): 1})\n",
    "RNF.add_metabolites({model.metabolites.get_by_id(\"nadh_c\"): -1})\n",
    "RNF.add_metabolites({model.metabolites.get_by_id(\"nad_c\"): 1})\n",
    "\n",
    "#change subsystem to nitrogen fixation\n",
    "\n",
    "RNF.subsystem = \"Nitrogen Fixation\"\n",
    "\n",
    "#clean up gene reaction rule\n",
    "\n",
    "RNF.gene_reaction_rule = '( Avin_19210 or Avin_50920 ) and ( Avin_19220 or Avin_50930 ) and ( Avin_19230 or Avin_50940 ) and ( Avin_19240 or Avin_50950 ) and ( Avin_19250 or Avin_50960 ) and ( Avin_19260 or Avin_50970 ) and ( Avin_19270  or Avin_50980)'\n"
   ]
  },
  {
   "cell_type": "code",
   "execution_count": 16,
   "metadata": {
    "ExecuteTime": {
     "end_time": "2021-03-10T22:47:49.739221Z",
     "start_time": "2021-03-10T22:47:49.737204Z"
    },
    "execution": {
     "iopub.execute_input": "2021-03-16T01:09:24.959009Z",
     "iopub.status.busy": "2021-03-16T01:09:24.959009Z",
     "iopub.status.idle": "2021-03-16T01:09:24.963010Z",
     "shell.execute_reply": "2021-03-16T01:09:24.963010Z",
     "shell.execute_reply.started": "2021-03-16T01:09:24.959009Z"
    }
   },
   "outputs": [],
   "source": [
    "#Set lower bound to 0 to make irreversable (can change to see effects later)\n",
    "model.reactions.get_by_id(\"RNF\").lower_bound = 0"
   ]
  },
  {
   "cell_type": "code",
   "execution_count": 17,
   "metadata": {
    "ExecuteTime": {
     "end_time": "2021-03-10T22:47:49.752168Z",
     "start_time": "2021-03-10T22:47:49.741169Z"
    },
    "execution": {
     "iopub.execute_input": "2021-03-16T01:09:24.964009Z",
     "iopub.status.busy": "2021-03-16T01:09:24.964009Z",
     "iopub.status.idle": "2021-03-16T01:09:24.976013Z",
     "shell.execute_reply": "2021-03-16T01:09:24.975017Z",
     "shell.execute_reply.started": "2021-03-16T01:09:24.964009Z"
    }
   },
   "outputs": [
    {
     "data": {
      "text/plain": [
       "'( Avin_19210 or Avin_50920 ) and ( Avin_19220 or Avin_50930 ) and ( Avin_19230 or Avin_50940 ) and ( Avin_19240 or Avin_50950 ) and ( Avin_19250 or Avin_50960 ) and ( Avin_19260 or Avin_50970 ) and ( Avin_19270  or Avin_50980)'"
      ]
     },
     "execution_count": 17,
     "metadata": {},
     "output_type": "execute_result"
    }
   ],
   "source": [
    "RNF.gene_reaction_rule"
   ]
  },
  {
   "cell_type": "markdown",
   "metadata": {},
   "source": [
    "## Add Fix to the model"
   ]
  },
  {
   "cell_type": "code",
   "execution_count": 18,
   "metadata": {
    "ExecuteTime": {
     "end_time": "2021-03-10T22:47:49.766198Z",
     "start_time": "2021-03-10T22:47:49.753183Z"
    },
    "execution": {
     "iopub.execute_input": "2021-03-16T01:09:24.977012Z",
     "iopub.status.busy": "2021-03-16T01:09:24.977012Z",
     "iopub.status.idle": "2021-03-16T01:09:24.991011Z",
     "shell.execute_reply": "2021-03-16T01:09:24.991011Z",
     "shell.execute_reply.started": "2021-03-16T01:09:24.977012Z"
    }
   },
   "outputs": [],
   "source": [
    "FIX = Reaction('FIX')\n",
    "FIX.name = 'Fix NADH Quinone ferrdoxin oxioreductase'\n",
    "FIX.lower_bound = 0.  # This is the default\n",
    "FIX.upper_bound = 1000.  # This is the default\n",
    "\n",
    "fdxo_42_c = model.metabolites.get_by_id(\"fdxo_42_c\")\n",
    "nadh_c = model.metabolites.get_by_id(\"nadh_c\")\n",
    "q8_c = model.metabolites.get_by_id(\"q8_c\")\n",
    "fdxr_42_c = model.metabolites.get_by_id(\"fdxr_42_c\")\n",
    "nad_c = model.metabolites.get_by_id(\"nad_c\")\n",
    "q8h2_c = model.metabolites.get_by_id(\"q8h2_c\")\n",
    "\n",
    "FIX.add_metabolites({\n",
    "    fdxo_42_c: -1.0,\n",
    "    nadh_c: -2.0,\n",
    "    q8_c: -1.0,\n",
    "    fdxr_42_c: 1.0,\n",
    "    nad_c: 2.0,\n",
    "    q8h2_c: 1.0\n",
    "})\n",
    "\n",
    "FIX.gene_reaction_rule = '(Avin_10520 and Avin_10530 and Avin_10540 and Avin_10550)'\n",
    "\n",
    "#No annotation for bifurcating fix so this is annotation for ETF its homolog check ledbetter et al for biochemical details 10.1021/acs.biochem.7b00389\n",
    "FIX.annotation.update({'ec-code': ['1.5.5.1'],\n",
    "                     'kegg.reaction': 'R04433',\n",
    "                      'seed.reaction': 'rxn17250'\n",
    "                      })\n",
    "\n",
    "FIX.subsystem = 'Nitrogen fixation'\n",
    "\n",
    "model.add_reactions([FIX])"
   ]
  },
  {
   "cell_type": "markdown",
   "metadata": {},
   "source": [
    "## Add NADH Dehydrogeanse I (coupled)"
   ]
  },
  {
   "cell_type": "code",
   "execution_count": 19,
   "metadata": {
    "ExecuteTime": {
     "end_time": "2021-03-10T22:47:49.791199Z",
     "start_time": "2021-03-10T22:47:49.767166Z"
    },
    "execution": {
     "iopub.execute_input": "2021-03-16T01:09:24.992011Z",
     "iopub.status.busy": "2021-03-16T01:09:24.992011Z",
     "iopub.status.idle": "2021-03-16T01:09:25.018009Z",
     "shell.execute_reply": "2021-03-16T01:09:25.018009Z",
     "shell.execute_reply.started": "2021-03-16T01:09:24.992011Z"
    }
   },
   "outputs": [],
   "source": [
    "NDHI = Reaction('NADH6')\n",
    "NDHI.name = 'NADH: quinone oxidoreductase'\n",
    "NDHI.lower_bound = -1000.  # This is the default\n",
    "NDHI.upper_bound = 1000.  # This is the default\n",
    "\n",
    "#Just add metabolites not added before\n",
    "h_c = model.metabolites.get_by_id(\"h_c\")\n",
    "h_p = model.metabolites.get_by_id(\"h_p\")\n",
    "\n",
    "#stochiometry of 4 protons translocated with extra proton for quniol production is from Berstova et al (Biochimica et Biophysica Acta 1363, 1998. 125–133)\n",
    "NDHI.add_metabolites({\n",
    "    h_c : -5.0,\n",
    "    nadh_c: -1.0,\n",
    "    q8_c: -1.0,\n",
    "    h_p : 4.0,\n",
    "    nad_c: 1.0,\n",
    "    q8h2_c: 1.0\n",
    "})\n",
    "\n",
    "\n",
    "NDHI.gene_reaction_rule = '((Avin_28540) and (Avin_28440) and (Avin_28560) and (Avin_28450) and (Avin_28490) and (Avin_28510) and (Avin_28460) and (Avin_28520) and (Avin_28470))'\n",
    "\n",
    "NDHI.annotation.update({'ec-code': ['7.1.1.2'],\n",
    "                        'bigg.reaction': 'NADH6',\n",
    "                        'kegg.reaction': 'R11945',\n",
    "                        'metanetx.reaction': 'MNXR101873',\n",
    "                        'seed.reaction': 'rxn10122'                        \n",
    "                      })\n",
    "\n",
    "\n",
    "\n",
    "model.add_reactions([NDHI])\n"
   ]
  },
  {
   "cell_type": "markdown",
   "metadata": {},
   "source": [
    "## Remove nuo subunit genes from NADH II GRP rules "
   ]
  },
  {
   "cell_type": "code",
   "execution_count": 20,
   "metadata": {
    "ExecuteTime": {
     "end_time": "2021-03-10T22:47:49.801216Z",
     "start_time": "2021-03-10T22:47:49.792168Z"
    },
    "execution": {
     "iopub.execute_input": "2021-03-16T01:09:25.019009Z",
     "iopub.status.busy": "2021-03-16T01:09:25.019009Z",
     "iopub.status.idle": "2021-03-16T01:09:25.031010Z",
     "shell.execute_reply": "2021-03-16T01:09:25.031010Z",
     "shell.execute_reply.started": "2021-03-16T01:09:25.019009Z"
    }
   },
   "outputs": [],
   "source": [
    "NADH5 = model.reactions.get_by_id('NADH5')\n",
    "NADH5.gene_reaction_rule = '(Avin_12000)'"
   ]
  },
  {
   "cell_type": "markdown",
   "metadata": {},
   "source": [
    "## Add Cytochrome c oxioreductase (quinone)"
   ]
  },
  {
   "cell_type": "code",
   "execution_count": 21,
   "metadata": {
    "ExecuteTime": {
     "end_time": "2021-03-10T22:47:49.826171Z",
     "start_time": "2021-03-10T22:47:49.805174Z"
    },
    "execution": {
     "iopub.execute_input": "2021-03-16T01:09:25.033009Z",
     "iopub.status.busy": "2021-03-16T01:09:25.033009Z",
     "iopub.status.idle": "2021-03-16T01:09:25.056011Z",
     "shell.execute_reply": "2021-03-16T01:09:25.055011Z",
     "shell.execute_reply.started": "2021-03-16T01:09:25.033009Z"
    }
   },
   "outputs": [],
   "source": [
    "QCCOR = Reaction('QCCOR')\n",
    "QCCOR.name = 'quinone: cytochrome c oxidoreductase'\n",
    "QCCOR.lower_bound = -1000.  # This is the default\n",
    "QCCOR.upper_bound = 1000.  # This is the default\n",
    "\n",
    "#Just add metabolites not added before\n",
    "ficytC_c = model.metabolites.get_by_id(\"ficytC_c\")\n",
    "focytC_c = model.metabolites.get_by_id(\"focytC_c\")\n",
    "\n",
    "QCCOR.add_metabolites({\n",
    "    \n",
    "    ficytC_c: -2.0,\n",
    "    q8h2_c: -1.0,\n",
    "    h_p : 4.0,\n",
    "    h_c : -2.0,\n",
    "    focytC_c: 2.0,\n",
    "    q8_c: 1.0\n",
    "})\n",
    "\n",
    "QCCOR.gene_reaction_rule = '(Avin_13060 and Avin_13070 and Avin_13080)'\n",
    "\n",
    "QCCOR.annotation.update({\n",
    "                        'metanetx.reaction': 'MNXR96964'                 \n",
    "                      })\n",
    "\n",
    "model.add_reactions([QCCOR])"
   ]
  },
  {
   "cell_type": "markdown",
   "metadata": {},
   "source": [
    "## Add Alternative Nitorgnease (V and Fe)"
   ]
  },
  {
   "cell_type": "code",
   "execution_count": 22,
   "metadata": {
    "ExecuteTime": {
     "end_time": "2021-03-10T22:47:49.859579Z",
     "start_time": "2021-03-10T22:47:49.827167Z"
    },
    "execution": {
     "iopub.execute_input": "2021-03-16T01:09:25.058010Z",
     "iopub.status.busy": "2021-03-16T01:09:25.057011Z",
     "iopub.status.idle": "2021-03-16T01:09:25.091008Z",
     "shell.execute_reply": "2021-03-16T01:09:25.091008Z",
     "shell.execute_reply.started": "2021-03-16T01:09:25.058010Z"
    }
   },
   "outputs": [],
   "source": [
    "VNIT = Reaction('VNIT')\n",
    "VNIT.name = 'Vanadium Nitrogenase'\n",
    "VNIT.lower_bound = 0.  # This is the default\n",
    "VNIT.upper_bound = 1000.  # This is the default\n",
    "\n",
    "fdxo_42_c = model.metabolites.get_by_id(\"fdxo_42_c\")\n",
    "n2_c = model.metabolites.get_by_id(\"n2_c\")\n",
    "atp_c = model.metabolites.get_by_id(\"atp_c\")\n",
    "fdxr_42_c = model.metabolites.get_by_id(\"fdxr_42_c\")\n",
    "adp_c = model.metabolites.get_by_id(\"adp_c\")\n",
    "h2o_c = model.metabolites.get_by_id(\"h2o_c\")\n",
    "h_c = model.metabolites.get_by_id(\"h_c\")\n",
    "pi_c = model.metabolites.get_by_id(\"pi_c\")\n",
    "nh4_c = model.metabolites.get_by_id(\"nh4_c\")\n",
    "h2_c = model.metabolites.get_by_id(\"h2_c\")\n",
    "\n",
    "VNIT.add_metabolites({\n",
    "    fdxr_42_c: -6.0,\n",
    "    n2_c: -1.0,\n",
    "    atp_c: -24.0,\n",
    "    h2o_c: -24.0,\n",
    "    fdxo_42_c: 6.0,\n",
    "    nh4_c: 2.0,\n",
    "    h2_c: 3.0,\n",
    "    adp_c: 24.0,\n",
    "    pi_c: 24.0,\n",
    "    h_c: 10\n",
    "})\n",
    "\n",
    "VNIT.gene_reaction_rule = '(Avin_02590 and Avin_02600 and Avin_02610 and Avin_02660)'\n",
    "\n",
    "#the alternative nitrogenases are not accuratley annotated anywhere! so this is the best we can do Kegg has vandium but the stoichometery is wrong\n",
    "VNIT.annotation.update({'ec-code': ['1.18.6.2'],\n",
    "                        'kegg.reaction': 'R12084'                  \n",
    "                      })\n",
    "\n",
    "VNIT.subsystem  = 'Nitrogen fixation'\n",
    "model.add_reactions([VNIT])"
   ]
  },
  {
   "cell_type": "code",
   "execution_count": 23,
   "metadata": {
    "ExecuteTime": {
     "end_time": "2021-03-10T22:47:49.891274Z",
     "start_time": "2021-03-10T22:47:49.860762Z"
    },
    "execution": {
     "iopub.execute_input": "2021-03-16T01:09:25.092008Z",
     "iopub.status.busy": "2021-03-16T01:09:25.092008Z",
     "iopub.status.idle": "2021-03-16T01:09:25.133014Z",
     "shell.execute_reply": "2021-03-16T01:09:25.132011Z",
     "shell.execute_reply.started": "2021-03-16T01:09:25.092008Z"
    }
   },
   "outputs": [],
   "source": [
    "FENIT = Reaction('FENIT')\n",
    "FENIT.name = 'Fe-only Nitrogenase'\n",
    "FENIT.lower_bound = 0.  # This is the default\n",
    "FENIT.upper_bound = 1000.  # This is the default\n",
    "\n",
    "\n",
    "FENIT.add_metabolites({\n",
    "    fdxr_42_c: -10.0,\n",
    "    n2_c: -1.0,\n",
    "    atp_c: -40.0,\n",
    "    h2o_c: -40.0,\n",
    "    fdxo_42_c: 10.0,\n",
    "    nh4_c: 2.0,\n",
    "    h2_c: 7.0,\n",
    "    adp_c: 40.0,\n",
    "    pi_c: 40.0,\n",
    "    h_c: 18\n",
    "})\n",
    "\n",
    "\n",
    "FENIT.gene_reaction_rule = '(Avin_48970 and Avin_48980 and Avin_48990 and Avin_49000)'\n",
    "\n",
    "#no Fe-only nitrogenase annotated in any database \n",
    "\n",
    "FENIT.subsystem = 'Nitrogen fixation'\n",
    "\n",
    "model.add_reactions([FENIT])"
   ]
  },
  {
   "cell_type": "markdown",
   "metadata": {},
   "source": [
    "## Fix nif GRP to only include nifHDK subunits \n",
    "Can adjust to all biosyntheis genes later"
   ]
  },
  {
   "cell_type": "code",
   "execution_count": 24,
   "metadata": {
    "ExecuteTime": {
     "end_time": "2021-03-10T22:47:49.896311Z",
     "start_time": "2021-03-10T22:47:49.892274Z"
    },
    "execution": {
     "iopub.execute_input": "2021-03-16T01:09:25.134013Z",
     "iopub.status.busy": "2021-03-16T01:09:25.134013Z",
     "iopub.status.idle": "2021-03-16T01:09:25.138010Z",
     "shell.execute_reply": "2021-03-16T01:09:25.138010Z",
     "shell.execute_reply.started": "2021-03-16T01:09:25.134013Z"
    }
   },
   "outputs": [],
   "source": [
    "NIT = model.reactions.get_by_id('NIT1b')\n",
    "NIT.gene_reaction_rule = '(Avin_01380 and Avin_01390 and Avin_01400)'\n",
    "\n",
    "NIT.subsystem = 'Nitrogen fixation'"
   ]
  },
  {
   "cell_type": "markdown",
   "metadata": {},
   "source": [
    "## Make soluble hydrogenase *hoxHY* consume H2 only"
   ]
  },
  {
   "cell_type": "code",
   "execution_count": 25,
   "metadata": {
    "ExecuteTime": {
     "end_time": "2021-03-10T22:47:49.907274Z",
     "start_time": "2021-03-10T22:47:49.897273Z"
    },
    "execution": {
     "iopub.execute_input": "2021-03-16T01:09:25.139010Z",
     "iopub.status.busy": "2021-03-16T01:09:25.139010Z",
     "iopub.status.idle": "2021-03-16T01:09:25.150009Z",
     "shell.execute_reply": "2021-03-16T01:09:25.150009Z",
     "shell.execute_reply.started": "2021-03-16T01:09:25.139010Z"
    }
   },
   "outputs": [],
   "source": [
    "NAD_H2 = model.reactions.get_by_id(\"NAD_H2\")\n",
    "NAD_H2.lower_bound = -1000\n",
    "NAD_H2.upper_bound = 0\n",
    "\n",
    "NAD_H2.gene_reaction_rule = '(Avin_04380 and Avin_04390 and Avin_04400 and Avin_04410)'\n",
    "\n",
    "NAD_H2.annotation.update({'ec-code': ['1.12.1.2', '1.12.1.5'],\n",
    "                        'bigg.reaction': 'NAD_H2',\n",
    "                        'kegg.reaction': 'R00700',\n",
    "                        'metanetx.reaction': 'MNXR101899',\n",
    "                        'seed.reaction': 'rxn05887'                        \n",
    "                      })\n",
    "\n"
   ]
  },
  {
   "cell_type": "markdown",
   "metadata": {
    "ExecuteTime": {
     "end_time": "2021-03-07T02:11:17.009430Z",
     "start_time": "2021-03-07T02:11:17.004429Z"
    }
   },
   "source": [
    "## Fix gene reaction rules for the Cytchrome C oxidase (*cta* and *coxAB*) and add cytochrome cbb3 (*ccoNOQP*)"
   ]
  },
  {
   "cell_type": "code",
   "execution_count": 26,
   "metadata": {
    "ExecuteTime": {
     "end_time": "2021-03-10T22:47:49.935274Z",
     "start_time": "2021-03-10T22:47:49.909272Z"
    },
    "execution": {
     "iopub.execute_input": "2021-03-16T01:09:25.151009Z",
     "iopub.status.busy": "2021-03-16T01:09:25.151009Z",
     "iopub.status.idle": "2021-03-16T01:09:25.181008Z",
     "shell.execute_reply": "2021-03-16T01:09:25.181008Z",
     "shell.execute_reply.started": "2021-03-16T01:09:25.151009Z"
    }
   },
   "outputs": [],
   "source": [
    "# cytochrome cbb3 (ccoNOQP) little is known about this and if cytochrome c is donor\n",
    "\n",
    "CYTCBB3pp = Reaction('CYTCBB3pp')\n",
    "CYTCBB3pp.name = 'Cytochrome c oxidase bb3 05 protons1 electron periplasm'\n",
    "CYTCBB3pp.lower_bound = 0.  # This is the default\n",
    "CYTCBB3pp.upper_bound = 0.  # This is set so we can compare bd/c as cbb3 is redudant\n",
    "\n",
    "o2_c = model.metabolites.get_by_id(\"o2_c\")\n",
    "\n",
    "CYTCBB3pp.add_metabolites({\n",
    "    h_c: -1.0,\n",
    "    o2_c: -0.5,\n",
    "    focytC_c: -2.0,\n",
    "    ficytC_c: 2.0,\n",
    "    h2o_c: 1.0,\n",
    "    h_p: 1.0\n",
    "})\n",
    "\n",
    "CYTCBB3pp.gene_reaction_rule = '(Avin_19980 and Avin_19990 and Avin_20000 and Avin_20010)'\n",
    "\n",
    "CYTCBB3pp.annotation.update({'ec-code': ['7.1.1.9'],\n",
    "                     'kegg.reaction': 'R000081',\n",
    "                      'seed.reaction': 'rxn14425'\n",
    "                      })\n",
    "\n",
    "CYTCBB3pp.subsystem = 'Oxidative Phosphorylation'\n",
    "\n",
    "model.add_reactions([CYTCBB3pp])"
   ]
  },
  {
   "cell_type": "code",
   "execution_count": 27,
   "metadata": {
    "ExecuteTime": {
     "end_time": "2021-03-10T22:47:49.946270Z",
     "start_time": "2021-03-10T22:47:49.936272Z"
    },
    "execution": {
     "iopub.execute_input": "2021-03-16T01:09:25.182009Z",
     "iopub.status.busy": "2021-03-16T01:09:25.182009Z",
     "iopub.status.idle": "2021-03-16T01:09:25.193014Z",
     "shell.execute_reply": "2021-03-16T01:09:25.192013Z",
     "shell.execute_reply.started": "2021-03-16T01:09:25.182009Z"
    }
   },
   "outputs": [],
   "source": [
    "#cytochrome o oxidase (coxAB and cta genes)\n",
    "\n",
    "CYOO2pp = model.reactions.get_by_id(\"CYOO2pp\")\n",
    "\n",
    "CYOO2pp.gene_reaction_rule = '(Avin_11180 and Avin_11170) or (Avin_00990 and Avin_01010 and Avin_01020)'\n",
    "\n",
    "CYOO2pp.annotation.update({'ec-code': ['7.1.1.9'],\n",
    "                        'bigg.reaction': 'CYOO2pp',\n",
    "                        'kegg.reaction': 'R00016',\n",
    "                        'metanetx.reaction': 'MNXR138189',\n",
    "                        'seed.reaction': 'rxn13688'                        \n",
    "                      })"
   ]
  },
  {
   "cell_type": "markdown",
   "metadata": {},
   "source": [
    "## Fix Cytochrome bd gpr\n",
    "There are two cytbd the first (cydAB I, Avin_11170-80) has been heavily invesitagted (see refs in paper). The second Avin_11040-50 is not expressed but very close in the genome."
   ]
  },
  {
   "cell_type": "code",
   "execution_count": 28,
   "metadata": {
    "ExecuteTime": {
     "end_time": "2021-03-10T22:47:49.959272Z",
     "start_time": "2021-03-10T22:47:49.947269Z"
    },
    "execution": {
     "iopub.execute_input": "2021-03-16T01:09:25.194012Z",
     "iopub.status.busy": "2021-03-16T01:09:25.194012Z",
     "iopub.status.idle": "2021-03-16T01:09:25.205011Z",
     "shell.execute_reply": "2021-03-16T01:09:25.204010Z",
     "shell.execute_reply.started": "2021-03-16T01:09:25.194012Z"
    }
   },
   "outputs": [],
   "source": [
    "CYTBDpp = model.reactions.get_by_id(\"CYTBDpp\")\n",
    "\n",
    "CYTBDpp.gene_reaction_rule = '(Avin_11170 and Avin_11180) or (Avin_11040 and 11050)'"
   ]
  },
  {
   "cell_type": "code",
   "execution_count": 29,
   "metadata": {
    "ExecuteTime": {
     "end_time": "2021-03-10T22:47:49.970306Z",
     "start_time": "2021-03-10T22:47:49.960274Z"
    },
    "execution": {
     "iopub.execute_input": "2021-03-16T01:09:25.206009Z",
     "iopub.status.busy": "2021-03-16T01:09:25.205011Z",
     "iopub.status.idle": "2021-03-16T01:09:25.217010Z",
     "shell.execute_reply": "2021-03-16T01:09:25.217010Z",
     "shell.execute_reply.started": "2021-03-16T01:09:25.206009Z"
    }
   },
   "outputs": [
    {
     "data": {
      "text/plain": [
       "{'sbo': 'SBO:0000185',\n",
       " 'bigg.reaction': 'CYTBDpp',\n",
       " 'metanetx.reaction': 'MNXR97031',\n",
       " 'seed.reaction': ['rxn12494', 'rxn10112', 'rxn08288']}"
      ]
     },
     "execution_count": 29,
     "metadata": {},
     "output_type": "execute_result"
    }
   ],
   "source": [
    "model.reactions.CYTBDpp.annotation"
   ]
  },
  {
   "cell_type": "markdown",
   "metadata": {},
   "source": [
    "## Add a transhydrogenase for NADPH to NADH electron transfer"
   ]
  },
  {
   "cell_type": "code",
   "execution_count": 30,
   "metadata": {
    "ExecuteTime": {
     "end_time": "2021-03-10T22:47:49.985334Z",
     "start_time": "2021-03-10T22:47:49.971303Z"
    },
    "execution": {
     "iopub.execute_input": "2021-03-16T01:09:25.218009Z",
     "iopub.status.busy": "2021-03-16T01:09:25.218009Z",
     "iopub.status.idle": "2021-03-16T01:09:25.235010Z",
     "shell.execute_reply": "2021-03-16T01:09:25.235010Z",
     "shell.execute_reply.started": "2021-03-16T01:09:25.218009Z"
    }
   },
   "outputs": [],
   "source": [
    "NADTRHD = Reaction('NADTRHD')\n",
    "NADTRHD.name = 'NAD transhydrogenase'\n",
    "NADTRHD.lower_bound = 0.  # This is the default\n",
    "NADTRHD.upper_bound = 1000.  # This is the default\n",
    "\n",
    "#Just add metabolites not added before\n",
    "nadph_c = model.metabolites.get_by_id(\"nadph_c\")\n",
    "nadp_c = model.metabolites.get_by_id(\"nadp_c\")\n",
    "\n",
    "\n",
    "NADTRHD.add_metabolites({\n",
    "    nad_c: -1.0,\n",
    "    nadph_c: -1.0,\n",
    "    nadh_c: 1.0,\n",
    "    nadp_c: 1.0\n",
    "})\n",
    "\n",
    "NADTRHD.gene_reaction_rule = '(Avin_01840 and Avin_01850 and Avin_01860)'\n",
    "\n",
    "NAD_H2.annotation.update({'ec-code': ['1.6.1.1', '1.6.1.2'],\n",
    "                        'bigg.reaction': 'NADTRHD',\n",
    "                        'kegg.reaction': 'R00112',\n",
    "                        'metanetx.reaction': 'MNXR101898',\n",
    "                        'seed.reaction': 'rxn00083'                        \n",
    "                      })\n",
    "\n",
    "\n",
    "model.add_reactions([NADTRHD])"
   ]
  },
  {
   "cell_type": "code",
   "execution_count": null,
   "metadata": {
    "ExecuteTime": {
     "end_time": "2021-03-10T00:17:39.140246Z",
     "start_time": "2021-03-10T00:17:39.135266Z"
    }
   },
   "outputs": [],
   "source": []
  },
  {
   "cell_type": "markdown",
   "metadata": {},
   "source": [
    "## Set Glutamate Dehydrogenase to zero as is only used under high NH<sub>4</sub> concentration \n",
    "Kleiner and Kleinschmidt 1976  Journal of bacterialogy and Kleiner 1975 Arch microbiology\n"
   ]
  },
  {
   "cell_type": "code",
   "execution_count": 31,
   "metadata": {
    "ExecuteTime": {
     "end_time": "2021-03-10T22:47:49.997303Z",
     "start_time": "2021-03-10T22:47:49.986325Z"
    },
    "execution": {
     "iopub.execute_input": "2021-03-16T01:09:25.236010Z",
     "iopub.status.busy": "2021-03-16T01:09:25.236010Z",
     "iopub.status.idle": "2021-03-16T01:09:25.247009Z",
     "shell.execute_reply": "2021-03-16T01:09:25.247009Z",
     "shell.execute_reply.started": "2021-03-16T01:09:25.236010Z"
    }
   },
   "outputs": [],
   "source": [
    "model.reactions.get_by_id(\"GLUDxi\").upper_bound = 1\n",
    "model.reactions.get_by_id(\"GLUDxi\").lower_bound = 0\n",
    "\n",
    "\n",
    "model.reactions.get_by_id(\"GLUDy\").upper_bound = 1\n",
    "model.reactions.get_by_id(\"GLUDy\").lower_bound = 0\n",
    "\n",
    "#Also pick one Glutamate synthetase (NADPH) for simplicity\n",
    "\n",
    "model.reactions.get_by_id(\"GLUSx\").upper_bound = 0\n",
    "model.reactions.get_by_id(\"GLUSx\").lower_bound = 0\n",
    "\n",
    "#Malic enzyme to NADH for simpicty \n",
    "model.reactions.get_by_id(\"ME2\").upper_bound = 0\n",
    "model.reactions.get_by_id(\"ME2\").lower_bound = 0\n",
    "\n",
    "#Malic enzyme to NADH for simpicty \n",
    "model.reactions.get_by_id(\"SSCOARy\").upper_bound = 0\n",
    "model.reactions.get_by_id(\"SSCOARy\").lower_bound = 0"
   ]
  },
  {
   "cell_type": "markdown",
   "metadata": {},
   "source": [
    "## Quninone is the only inter membrane aromatic electron carrier in A.v. \n",
    "\n",
    "There is no biochemical evidence of menaquinone in the membrane only Q8. \n",
    "\n",
    "See:\n",
    "Wong and Maier 1984 (https://jb.asm.org/content/159/1/348)\n",
    "Jurtshuk et al 1969 (J Bac 98:3 1120-1127. L-malate oxidation)\n",
    "Jones et al. 1966 Electron trasnport in Azotobacter vinelandii (BBA 113:3 467-481)\n",
    "\n"
   ]
  },
  {
   "cell_type": "code",
   "execution_count": 32,
   "metadata": {
    "ExecuteTime": {
     "end_time": "2021-03-10T22:47:50.008306Z",
     "start_time": "2021-03-10T22:47:49.998295Z"
    },
    "execution": {
     "iopub.execute_input": "2021-03-16T01:09:25.248008Z",
     "iopub.status.busy": "2021-03-16T01:09:25.248008Z",
     "iopub.status.idle": "2021-03-16T01:09:25.259010Z",
     "shell.execute_reply": "2021-03-16T01:09:25.259010Z",
     "shell.execute_reply.started": "2021-03-16T01:09:25.248008Z"
    }
   },
   "outputs": [],
   "source": [
    "model.reactions.get_by_id(\"HYD2pp\").upper_bound = 0\n",
    "model.reactions.get_by_id(\"HYD2pp\").lower_bound = 0\n",
    "\n",
    "model.remove_reactions\n",
    "model.reactions.get_by_id(\"HYD3pp\").upper_bound = 0\n",
    "model.reactions.get_by_id(\"HYD3pp\").lower_bound = 0\n",
    "\n",
    "model.reactions.get_by_id(\"NADH10\").upper_bound = 0\n",
    "model.reactions.get_by_id(\"NADH10\").lower_bound = 0\n",
    "\n",
    "model.reactions.get_by_id(\"NADH9\").upper_bound = 0\n",
    "model.reactions.get_by_id(\"NADH9\").lower_bound = 0\n",
    "\n",
    "model.reactions.get_by_id(\"NADPHQR3\").upper_bound = 0\n",
    "model.reactions.get_by_id(\"NADPHQR3\").lower_bound = 0\n",
    "\n",
    "model.reactions.get_by_id(\"NADPHQR4\").upper_bound = 0\n",
    "model.reactions.get_by_id(\"NADPHQR4\").lower_bound = 0\n",
    "\n",
    "model.reactions.get_by_id(\"FRD2\").upper_bound = 0\n",
    "model.reactions.get_by_id(\"FRD2\").lower_bound = 0\n",
    "\n",
    "model.reactions.get_by_id(\"MDH3\").upper_bound = 0\n",
    "model.reactions.get_by_id(\"MDH3\").lower_bound = 0\n",
    "\n",
    "model.reactions.get_by_id(\"DHORD5\").upper_bound = 0\n",
    "model.reactions.get_by_id(\"DHORD5\").lower_bound = 0\n",
    "\n",
    "model.reactions.get_by_id(\"CYTBD2pp\").upper_bound = 0\n",
    "model.reactions.get_by_id(\"CYTBD2pp\").lower_bound = 0\n",
    "\n",
    "\n",
    "menaquinone_rxns =[\"HYD2pp\", \"HYD3pp\", \"NADH10\", \"NADH9\", \"NADPHQR3\",\"NADPHQR4\",\"FRD2\", \"MDH3\", \"DHORD5\", \"CYTBD2pp\"]"
   ]
  },
  {
   "cell_type": "code",
   "execution_count": 33,
   "metadata": {
    "ExecuteTime": {
     "end_time": "2021-03-10T22:47:50.039340Z",
     "start_time": "2021-03-10T22:47:50.009299Z"
    },
    "execution": {
     "iopub.execute_input": "2021-03-16T01:09:25.260010Z",
     "iopub.status.busy": "2021-03-16T01:09:25.260010Z",
     "iopub.status.idle": "2021-03-16T01:09:25.318009Z",
     "shell.execute_reply": "2021-03-16T01:09:25.317010Z",
     "shell.execute_reply.started": "2021-03-16T01:09:25.260010Z"
    }
   },
   "outputs": [],
   "source": [
    "menaquinone_rxns =[\"HYD2pp\", \"HYD3pp\", \"NADH10\", \"NADH9\", \"NADPHQR3\",\"NADPHQR4\",\"FRD2\", \"MDH3\", \"DHORD5\", \"CYTBD2pp\"]\n",
    "model.remove_reactions(reactions = menaquinone_rxns)"
   ]
  },
  {
   "cell_type": "code",
   "execution_count": 34,
   "metadata": {
    "ExecuteTime": {
     "end_time": "2021-03-10T22:47:50.049272Z",
     "start_time": "2021-03-10T22:47:50.040323Z"
    },
    "execution": {
     "iopub.execute_input": "2021-03-16T01:09:25.319012Z",
     "iopub.status.busy": "2021-03-16T01:09:25.319012Z",
     "iopub.status.idle": "2021-03-16T01:09:25.322014Z",
     "shell.execute_reply": "2021-03-16T01:09:25.322014Z",
     "shell.execute_reply.started": "2021-03-16T01:09:25.319012Z"
    }
   },
   "outputs": [],
   "source": [
    "#model.reactions.get_by_id(\"CYTBD2pp\")"
   ]
  },
  {
   "cell_type": "markdown",
   "metadata": {},
   "source": [
    "## Set Succinate dehydrogenase to quinone not FADH"
   ]
  },
  {
   "cell_type": "code",
   "execution_count": 35,
   "metadata": {
    "ExecuteTime": {
     "end_time": "2021-03-10T22:47:50.063469Z",
     "start_time": "2021-03-10T22:47:50.050310Z"
    },
    "execution": {
     "iopub.execute_input": "2021-03-16T01:09:25.323012Z",
     "iopub.status.busy": "2021-03-16T01:09:25.323012Z",
     "iopub.status.idle": "2021-03-16T01:09:25.338010Z",
     "shell.execute_reply": "2021-03-16T01:09:25.338010Z",
     "shell.execute_reply.started": "2021-03-16T01:09:25.323012Z"
    }
   },
   "outputs": [],
   "source": [
    "model.reactions.get_by_id(\"SUCD1\").upper_bound = 0\n",
    "model.reactions.get_by_id(\"SUCD1\").lower_bound = 0\n",
    "\n",
    "\n",
    "model.reactions.get_by_id(\"FRD\").upper_bound = 0\n",
    "model.reactions.get_by_id(\"FRD\").lower_bound = 0\n",
    "\n",
    "\n",
    "model.reactions.get_by_id(\"FRD3\").upper_bound = 0\n",
    "model.reactions.get_by_id(\"FRD3\").lower_bound = 0"
   ]
  },
  {
   "cell_type": "markdown",
   "metadata": {},
   "source": [
    "# Set NAD:FAD oxidoreduxtase to zero as its a bad annotation for the Fix reaction"
   ]
  },
  {
   "cell_type": "code",
   "execution_count": 36,
   "metadata": {
    "ExecuteTime": {
     "end_time": "2021-03-10T22:47:50.073467Z",
     "start_time": "2021-03-10T22:47:50.066469Z"
    },
    "execution": {
     "iopub.execute_input": "2021-03-16T01:09:25.342012Z",
     "iopub.status.busy": "2021-03-16T01:09:25.342012Z",
     "iopub.status.idle": "2021-03-16T01:09:25.350013Z",
     "shell.execute_reply": "2021-03-16T01:09:25.350013Z",
     "shell.execute_reply.started": "2021-03-16T01:09:25.342012Z"
    }
   },
   "outputs": [],
   "source": [
    "model.reactions.get_by_id(\"NADFADOR\").upper_bound = 0\n",
    "model.reactions.get_by_id(\"NADFADOR\").lower_bound = 0\n",
    "\n",
    "model.reactions.get_by_id(\"NADHNQR\").upper_bound = 0\n",
    "model.reactions.get_by_id(\"NADHNQR\").lower_bound = 0"
   ]
  },
  {
   "cell_type": "markdown",
   "metadata": {},
   "source": [
    "## Remove hydrogen producing 3-hydroxyadiapyl-CoA dehydrogenase (keeping NAD dependant)"
   ]
  },
  {
   "cell_type": "code",
   "execution_count": 37,
   "metadata": {
    "ExecuteTime": {
     "end_time": "2021-03-10T22:47:50.084542Z",
     "start_time": "2021-03-10T22:47:50.074499Z"
    },
    "execution": {
     "iopub.execute_input": "2021-03-16T01:09:25.352010Z",
     "iopub.status.busy": "2021-03-16T01:09:25.351009Z",
     "iopub.status.idle": "2021-03-16T01:09:25.363012Z",
     "shell.execute_reply": "2021-03-16T01:09:25.363012Z",
     "shell.execute_reply.started": "2021-03-16T01:09:25.352010Z"
    }
   },
   "outputs": [],
   "source": [
    "model.reactions.get_by_id(\"HADPCOADH\").upper_bound = 0\n",
    "model.reactions.get_by_id(\"HADPCOADH\").lower_bound = 0"
   ]
  },
  {
   "cell_type": "markdown",
   "metadata": {
    "ExecuteTime": {
     "end_time": "2021-02-19T18:36:45.606373Z",
     "start_time": "2021-02-19T18:36:45.597374Z"
    }
   },
   "source": [
    "## Removing quinone loops"
   ]
  },
  {
   "cell_type": "code",
   "execution_count": 38,
   "metadata": {
    "ExecuteTime": {
     "end_time": "2021-03-10T22:47:50.096464Z",
     "start_time": "2021-03-10T22:47:50.085499Z"
    },
    "execution": {
     "iopub.execute_input": "2021-03-16T01:09:25.365014Z",
     "iopub.status.busy": "2021-03-16T01:09:25.365014Z",
     "iopub.status.idle": "2021-03-16T01:09:25.374046Z",
     "shell.execute_reply": "2021-03-16T01:09:25.374046Z",
     "shell.execute_reply.started": "2021-03-16T01:09:25.365014Z"
    }
   },
   "outputs": [],
   "source": [
    "\n",
    "model.reactions.get_by_id(\"GLYCTO2\").upper_bound = 0\n",
    "model.reactions.get_by_id(\"GLYCTO2\").lower_bound = 0\n",
    "\n",
    "\n",
    "model.reactions.get_by_id(\"G3PD5\").upper_bound = 0\n",
    "model.reactions.get_by_id(\"G3PD5\").lower_bound = 0\n",
    "\n",
    "\n",
    "\n",
    "model.reactions.get_by_id(\"NADPHQR2\").upper_bound = 0\n",
    "model.reactions.get_by_id(\"NADPHQR2\").lower_bound = 0\n",
    "\n",
    "\n",
    "model.reactions.get_by_id(\"PROD3\").upper_bound = 0\n",
    "model.reactions.get_by_id(\"PROD3\").lower_bound = 0"
   ]
  },
  {
   "cell_type": "markdown",
   "metadata": {},
   "source": [
    "## Reversible transport ends in futile cycle so make irreversible "
   ]
  },
  {
   "cell_type": "code",
   "execution_count": 39,
   "metadata": {
    "ExecuteTime": {
     "end_time": "2021-03-10T22:47:50.108530Z",
     "start_time": "2021-03-10T22:47:50.097499Z"
    },
    "execution": {
     "iopub.execute_input": "2021-03-16T01:09:25.376014Z",
     "iopub.status.busy": "2021-03-16T01:09:25.375020Z",
     "iopub.status.idle": "2021-03-16T01:09:25.387044Z",
     "shell.execute_reply": "2021-03-16T01:09:25.387044Z",
     "shell.execute_reply.started": "2021-03-16T01:09:25.376014Z"
    }
   },
   "outputs": [],
   "source": [
    "\n",
    "# Acetate\n",
    "model.reactions.get_by_id(\"ACt2rpp\").upper_bound = 1000\n",
    "model.reactions.get_by_id(\"ACt2rpp\").lower_bound = 0\n",
    "\n",
    "\n",
    "#Acetoacetate\n",
    "model.reactions.get_by_id(\"ACACt2pp\").upper_bound = 1000\n",
    "model.reactions.get_by_id(\"ACACt2pp\").lower_bound = 0\n",
    "\n",
    "#pyruvate\n",
    "\n",
    "model.reactions.get_by_id(\"PYRt2rpp\").upper_bound = 1000\n",
    "model.reactions.get_by_id(\"PYRt2rpp\").lower_bound = 0\n",
    "\n",
    "#Glyoxylate\n",
    "model.reactions.get_by_id(\"GLXtpp\").upper_bound = 1000\n",
    "model.reactions.get_by_id(\"GLXtpp\").lower_bound = 0\n",
    "\n",
    "#malonate \n",
    "\n",
    "model.reactions.get_by_id(\"MALONpp\").upper_bound = 1000\n",
    "model.reactions.get_by_id(\"MALONpp\").lower_bound = 0\n",
    "\n",
    "#alphaketogluterate\n",
    "\n",
    "model.reactions.get_by_id(\"AKGt2rpp\").upper_bound = 1000\n",
    "model.reactions.get_by_id(\"AKGt2rpp\").lower_bound = 0\n",
    "\n",
    "#fructose FUCtpp\n",
    "model.reactions.get_by_id(\"FUCtpp\").upper_bound = 1000\n",
    "model.reactions.get_by_id(\"FUCtpp\").lower_bound = 0\n",
    "\n",
    "#butyrate\n",
    "model.reactions.get_by_id(\"BUTt2rpp\").upper_bound = 1000\n",
    "model.reactions.get_by_id(\"BUTt2rpp\").lower_bound = 0\n",
    "\n",
    "#proline \n",
    "model.reactions.get_by_id(\"PROt2rpp\").upper_bound = 1000\n",
    "model.reactions.get_by_id(\"PROt2rpp\").lower_bound = 0\n",
    "\n",
    "#Glutamate \n",
    "model.reactions.get_by_id(\"GLUt2rpp\").upper_bound = 1000\n",
    "model.reactions.get_by_id(\"GLUt2rpp\").lower_bound = 0\n",
    "\n",
    "#glycolate \n",
    "model.reactions.get_by_id(\"GLYCLTt2rpp\").upper_bound = 1000\n",
    "model.reactions.get_by_id(\"GLYCLTt2rpp\").lower_bound = 0\n",
    "\n",
    "#lactate \n",
    "model.reactions.get_by_id(\"D_LACt2pp\").upper_bound = 1000\n",
    "model.reactions.get_by_id(\"D_LACt2pp\").lower_bound = 0\n",
    "\n",
    "#fumurate\n",
    "\n",
    "model.reactions.get_by_id(\"FUMt1pp\").upper_bound = 1000\n",
    "model.reactions.get_by_id(\"FUMt1pp\").lower_bound = 0"
   ]
  },
  {
   "cell_type": "markdown",
   "metadata": {},
   "source": [
    "## Fructose uptake is annotated twice\n",
    "Genes Avin_12210 and Avin_12190 which are FruA and FruB respectivly are in FRUptspp and FRUpts2pp which make Fructose-1-phophate and fructose-6-phosphate. Since there is no evidence of 6-phosphate transport mechanisms and ecoli FruAB a Fructose1-phosphate producing we will not use FRUpts2pp"
   ]
  },
  {
   "cell_type": "code",
   "execution_count": 40,
   "metadata": {
    "ExecuteTime": {
     "end_time": "2021-03-10T22:47:50.118491Z",
     "start_time": "2021-03-10T22:47:50.109501Z"
    },
    "execution": {
     "iopub.execute_input": "2021-03-16T01:09:25.388009Z",
     "iopub.status.busy": "2021-03-16T01:09:25.388009Z",
     "iopub.status.idle": "2021-03-16T01:09:25.399006Z",
     "shell.execute_reply": "2021-03-16T01:09:25.398460Z",
     "shell.execute_reply.started": "2021-03-16T01:09:25.388009Z"
    }
   },
   "outputs": [],
   "source": [
    "model.reactions.get_by_id(\"FRUpts2pp\").upper_bound = 0\n",
    "model.reactions.get_by_id(\"FRUpts2pp\").lower_bound = 0"
   ]
  },
  {
   "cell_type": "markdown",
   "metadata": {},
   "source": [
    "### PFK gene reaction rule includes FruK "
   ]
  },
  {
   "cell_type": "code",
   "execution_count": 41,
   "metadata": {
    "ExecuteTime": {
     "end_time": "2021-03-10T22:47:50.129517Z",
     "start_time": "2021-03-10T22:47:50.119490Z"
    },
    "execution": {
     "iopub.execute_input": "2021-03-16T01:09:25.400069Z",
     "iopub.status.busy": "2021-03-16T01:09:25.400069Z",
     "iopub.status.idle": "2021-03-16T01:09:25.410757Z",
     "shell.execute_reply": "2021-03-16T01:09:25.409753Z",
     "shell.execute_reply.started": "2021-03-16T01:09:25.400069Z"
    }
   },
   "outputs": [],
   "source": [
    "#PFK2 - Avin_23410 FRUK - Avin_12200\n",
    "model.reactions.get_by_id(\"PFK\").gene_reaction_rule = '(Avin_23410)'"
   ]
  },
  {
   "cell_type": "markdown",
   "metadata": {},
   "source": [
    "## Remove Fructose 6 phosphate aldoase to direct flux to PFK\n",
    "left over from  ecoli model not enough evidencince to suppport use in Av"
   ]
  },
  {
   "cell_type": "code",
   "execution_count": 42,
   "metadata": {
    "ExecuteTime": {
     "end_time": "2021-03-10T22:47:50.139534Z",
     "start_time": "2021-03-10T22:47:50.130493Z"
    },
    "execution": {
     "iopub.execute_input": "2021-03-16T01:09:25.411739Z",
     "iopub.status.busy": "2021-03-16T01:09:25.411739Z",
     "iopub.status.idle": "2021-03-16T01:09:25.424775Z",
     "shell.execute_reply": "2021-03-16T01:09:25.424775Z",
     "shell.execute_reply.started": "2021-03-16T01:09:25.411739Z"
    }
   },
   "outputs": [],
   "source": [
    " \n",
    "model.reactions.get_by_id(\"F6PA\").upper_bound = 0\n",
    "model.reactions.get_by_id(\"F6PA\").lower_bound = 0"
   ]
  },
  {
   "cell_type": "markdown",
   "metadata": {},
   "source": [
    "## Pentose phosphate modification"
   ]
  },
  {
   "cell_type": "code",
   "execution_count": 43,
   "metadata": {
    "ExecuteTime": {
     "end_time": "2021-03-10T22:47:50.149465Z",
     "start_time": "2021-03-10T22:47:50.140464Z"
    },
    "execution": {
     "iopub.execute_input": "2021-03-16T01:09:25.425738Z",
     "iopub.status.busy": "2021-03-16T01:09:25.425738Z",
     "iopub.status.idle": "2021-03-16T01:09:25.437787Z",
     "shell.execute_reply": "2021-03-16T01:09:25.437787Z",
     "shell.execute_reply.started": "2021-03-16T01:09:25.425738Z"
    }
   },
   "outputs": [],
   "source": [
    " \n",
    "model.reactions.get_by_id(\"FBA3\").upper_bound = 0\n",
    "model.reactions.get_by_id(\"FBA3\").lower_bound = 0\n",
    "\n",
    "model.reactions.get_by_id(\"PFK_3\").upper_bound = 0\n",
    "model.reactions.get_by_id(\"PFK_3\").lower_bound = 0"
   ]
  },
  {
   "cell_type": "markdown",
   "metadata": {},
   "source": []
  },
  {
   "cell_type": "code",
   "execution_count": 44,
   "metadata": {
    "ExecuteTime": {
     "end_time": "2021-03-10T22:47:50.160464Z",
     "start_time": "2021-03-10T22:47:50.150492Z"
    },
    "execution": {
     "iopub.execute_input": "2021-03-16T01:09:25.439738Z",
     "iopub.status.busy": "2021-03-16T01:09:25.438737Z",
     "iopub.status.idle": "2021-03-16T01:09:25.454779Z",
     "shell.execute_reply": "2021-03-16T01:09:25.454779Z",
     "shell.execute_reply.started": "2021-03-16T01:09:25.438737Z"
    }
   },
   "outputs": [
    {
     "data": {
      "text/html": [
       "\n",
       "        <table>\n",
       "            <tr>\n",
       "                <td><strong>Reaction identifier</strong></td><td>PFK</td>\n",
       "            </tr><tr>\n",
       "                <td><strong>Name</strong></td><td>Phosphofructokinase</td>\n",
       "            </tr><tr>\n",
       "                <td><strong>Memory address</strong></td>\n",
       "                <td>0x027f46107908</td>\n",
       "            </tr><tr>\n",
       "                <td><strong>Stoichiometry</strong></td>\n",
       "                <td>\n",
       "                    <p style='text-align:right'>atp_c + f6p_c --> adp_c + fdp_c + h_c</p>\n",
       "                    <p style='text-align:right'>ATP C10H12N5O13P3 + D-Fructose 6-phosphate --> ADP C10H12N5O10P2 + D-Fructose 1,6-bisphosphate + H+</p>\n",
       "                </td>\n",
       "            </tr><tr>\n",
       "                <td><strong>GPR</strong></td><td>(Avin_23410)</td>\n",
       "            </tr><tr>\n",
       "                <td><strong>Lower bound</strong></td><td>0.0</td>\n",
       "            </tr><tr>\n",
       "                <td><strong>Upper bound</strong></td><td>999999.0</td>\n",
       "            </tr>\n",
       "        </table>\n",
       "        "
      ],
      "text/plain": [
       "<Reaction PFK at 0x27f46107908>"
      ]
     },
     "execution_count": 44,
     "metadata": {},
     "output_type": "execute_result"
    }
   ],
   "source": [
    "model.reactions.PFK"
   ]
  },
  {
   "cell_type": "markdown",
   "metadata": {},
   "source": [
    "## remove ATP syntahsae that connects cytsol to extracellular"
   ]
  },
  {
   "cell_type": "code",
   "execution_count": 45,
   "metadata": {
    "ExecuteTime": {
     "end_time": "2021-03-10T22:47:50.170465Z",
     "start_time": "2021-03-10T22:47:50.161464Z"
    },
    "execution": {
     "iopub.execute_input": "2021-03-16T01:09:25.455737Z",
     "iopub.status.busy": "2021-03-16T01:09:25.455737Z",
     "iopub.status.idle": "2021-03-16T01:09:25.463772Z",
     "shell.execute_reply": "2021-03-16T01:09:25.463772Z",
     "shell.execute_reply.started": "2021-03-16T01:09:25.455737Z"
    }
   },
   "outputs": [],
   "source": [
    "\n",
    "model.reactions.get_by_id(\"ATPS4r\").upper_bound = 0\n",
    "model.reactions.get_by_id(\"ATPS4r\").lower_bound = 0\n"
   ]
  },
  {
   "cell_type": "markdown",
   "metadata": {},
   "source": [
    "## Glucose uptake "
   ]
  },
  {
   "cell_type": "code",
   "execution_count": 46,
   "metadata": {
    "ExecuteTime": {
     "end_time": "2021-03-10T22:47:50.179465Z",
     "start_time": "2021-03-10T22:47:50.171497Z"
    },
    "execution": {
     "iopub.execute_input": "2021-03-16T01:09:25.464737Z",
     "iopub.status.busy": "2021-03-16T01:09:25.464737Z",
     "iopub.status.idle": "2021-03-16T01:09:25.476737Z",
     "shell.execute_reply": "2021-03-16T01:09:25.476737Z",
     "shell.execute_reply.started": "2021-03-16T01:09:25.464737Z"
    }
   },
   "outputs": [],
   "source": [
    "##Glucose uptake was shown to mostly be through gluP (Avin_04150, GLCt2pp) by Quiroz-Rocha et al \n",
    "#https://doi.org/10.1038/s41598-017-00980-5\n",
    "\n",
    "#set pyrophosphate dependant trasnport (GLCptspp) to zero\n",
    "\n",
    "model.reactions.get_by_id(\"GLCptspp\").upper_bound = 0\n",
    "model.reactions.get_by_id(\"GLCptspp\").lower_bound = 0"
   ]
  },
  {
   "cell_type": "markdown",
   "metadata": {},
   "source": [
    "## Remove unwanted sink reactions"
   ]
  },
  {
   "cell_type": "code",
   "execution_count": 47,
   "metadata": {
    "execution": {
     "iopub.execute_input": "2021-03-16T01:09:25.477738Z",
     "iopub.status.busy": "2021-03-16T01:09:25.477738Z",
     "iopub.status.idle": "2021-03-16T01:09:25.489740Z",
     "shell.execute_reply": "2021-03-16T01:09:25.488781Z",
     "shell.execute_reply.started": "2021-03-16T01:09:25.477738Z"
    }
   },
   "outputs": [
    {
     "data": {
      "text/plain": [
       "(0.0, 999999.0)"
      ]
     },
     "execution_count": 47,
     "metadata": {},
     "output_type": "execute_result"
    }
   ],
   "source": [
    "model.reactions.get_by_id(\"DM_amob_c\").bounds"
   ]
  },
  {
   "cell_type": "code",
   "execution_count": 48,
   "metadata": {
    "execution": {
     "iopub.execute_input": "2021-03-16T01:09:25.490738Z",
     "iopub.status.busy": "2021-03-16T01:09:25.490738Z",
     "iopub.status.idle": "2021-03-16T01:09:25.502749Z",
     "shell.execute_reply": "2021-03-16T01:09:25.502749Z",
     "shell.execute_reply.started": "2021-03-16T01:09:25.490738Z"
    }
   },
   "outputs": [],
   "source": [
    "for reaction in model.reactions:\n",
    "    if 'DM_' in reaction.id:  \n",
    "        reaction.lower_bound = 0\n",
    "        reaction.upper_bound = 0"
   ]
  },
  {
   "cell_type": "code",
   "execution_count": 49,
   "metadata": {
    "execution": {
     "iopub.execute_input": "2021-03-16T01:09:25.503737Z",
     "iopub.status.busy": "2021-03-16T01:09:25.503737Z",
     "iopub.status.idle": "2021-03-16T01:09:25.514738Z",
     "shell.execute_reply": "2021-03-16T01:09:25.514738Z",
     "shell.execute_reply.started": "2021-03-16T01:09:25.503737Z"
    }
   },
   "outputs": [
    {
     "data": {
      "text/plain": [
       "(0, 0)"
      ]
     },
     "execution_count": 49,
     "metadata": {},
     "output_type": "execute_result"
    }
   ],
   "source": [
    "model.reactions.get_by_id(\"DM_amob_c\").bounds"
   ]
  },
  {
   "cell_type": "markdown",
   "metadata": {},
   "source": [
    "### Determine the amount of unused or blocked reactions and determine the amount of essential reactions "
   ]
  },
  {
   "cell_type": "code",
   "execution_count": null,
   "metadata": {},
   "outputs": [],
   "source": [
    "\n"
   ]
  },
  {
   "cell_type": "code",
   "execution_count": 60,
   "metadata": {
    "execution": {
     "iopub.execute_input": "2021-03-16T01:23:25.606560Z",
     "iopub.status.busy": "2021-03-16T01:23:25.606560Z",
     "iopub.status.idle": "2021-03-16T01:24:05.501651Z",
     "shell.execute_reply": "2021-03-16T01:24:05.501651Z",
     "shell.execute_reply.started": "2021-03-16T01:23:25.606560Z"
    }
   },
   "outputs": [
    {
     "name": "stdout",
     "output_type": "stream",
     "text": [
      "Number of reactions unable to carry flux: 1221\n",
      "Number of essential for any growth: 239\n"
     ]
    }
   ],
   "source": [
    "from cobra.flux_analysis.variability import find_blocked_reactions\n",
    "from cobra.flux_analysis.variability import find_essential_reactions\n",
    "\n",
    "#Find reactions that cannot carry flux with open exchage reaction\n",
    "blocked_reactions = find_blocked_reactions(model, open_exchanges = True, processes = 8 )\n",
    "print('Number of reactions unable to carry flux: {}'.format(len(blocked_reactions)))\n",
    "\n",
    "#Find essential reactions where if flux is restricted to zero the objective is also zero\n",
    "\n",
    "essential_reactions = find_essential_reactions(model, processes = 8)\n",
    "print('Number of essential for any growth: {}'.format(len(essential_reactions)))"
   ]
  },
  {
   "cell_type": "markdown",
   "metadata": {},
   "source": [
    "##### This is a lot of unused reactions, almost half, so lets first see how many have reactions in the model are without any genes from Av. These were presumably gap filled reactions but if they have no genes and they are blocked in the reaction then they are completely unused and wont  add to the model at all. "
   ]
  },
  {
   "cell_type": "code",
   "execution_count": 97,
   "metadata": {
    "execution": {
     "iopub.execute_input": "2021-03-16T02:11:33.882361Z",
     "iopub.status.busy": "2021-03-16T02:11:33.882361Z",
     "iopub.status.idle": "2021-03-16T02:11:33.890361Z",
     "shell.execute_reply": "2021-03-16T02:11:33.890361Z",
     "shell.execute_reply.started": "2021-03-16T02:11:33.882361Z"
    }
   },
   "outputs": [
    {
     "name": "stdout",
     "output_type": "stream",
     "text": [
      "Reactions in the model without Av genes : 520 \n",
      "Blocked reactions in the model without Av genes : 218 \n"
     ]
    }
   ],
   "source": [
    "#check if the reaction in the model contains any genes\n",
    "reactions_geneless= []\n",
    "for r in model.reactions:\n",
    "    if len(r.genes) == 0:\n",
    "        reactions_geneless.append(r.id)\n",
    "    \n",
    "print('Reactions in the model without Av genes : {} '.format(len(reactions_geneless)))\n",
    "\n",
    "\n",
    "\n",
    "blocked_geneless_reactions = set(blocked_reactions) & set(reactions_geneless)\n",
    "print('Blocked reactions in the model without Av genes : {} '.format(len(blocked_geneless_reactions)))"
   ]
  },
  {
   "cell_type": "code",
   "execution_count": 99,
   "metadata": {
    "execution": {
     "iopub.execute_input": "2021-03-16T02:17:32.650399Z",
     "iopub.status.busy": "2021-03-16T02:17:32.650399Z",
     "iopub.status.idle": "2021-03-16T02:17:32.654405Z",
     "shell.execute_reply": "2021-03-16T02:17:32.654405Z",
     "shell.execute_reply.started": "2021-03-16T02:17:32.650399Z"
    }
   },
   "outputs": [],
   "source": [
    "pfk = model.reactions.get_by_id(\"PFK\")\n",
    "\n",
    "pfk.gen\n",
    "\n",
    "\n"
   ]
  },
  {
   "cell_type": "markdown",
   "metadata": {},
   "source": [
    "## Determine new amount of reactions and genes"
   ]
  },
  {
   "cell_type": "code",
   "execution_count": 51,
   "metadata": {
    "ExecuteTime": {
     "end_time": "2021-03-10T22:47:50.190499Z",
     "start_time": "2021-03-10T22:47:50.180487Z"
    },
    "execution": {
     "iopub.execute_input": "2021-03-16T01:10:16.839323Z",
     "iopub.status.busy": "2021-03-16T01:10:16.839323Z",
     "iopub.status.idle": "2021-03-16T01:10:16.849324Z",
     "shell.execute_reply": "2021-03-16T01:10:16.849324Z",
     "shell.execute_reply.started": "2021-03-16T01:10:16.839323Z"
    }
   },
   "outputs": [
    {
     "name": "stdout",
     "output_type": "stream",
     "text": [
      "Genes: 1300\n",
      "Reations: 2466\n",
      "Metabolites: 2003\n"
     ]
    }
   ],
   "source": [
    "print('Genes:', len(model.genes))\n",
    "print('Reations:', len(model.reactions))\n",
    "print('Metabolites:', len(model.metabolites))"
   ]
  },
  {
   "cell_type": "markdown",
   "metadata": {},
   "source": [
    "## Make sure all reaction bounds are between -1000 and 1000"
   ]
  },
  {
   "cell_type": "code",
   "execution_count": 52,
   "metadata": {
    "ExecuteTime": {
     "end_time": "2021-03-10T22:47:50.259555Z",
     "start_time": "2021-03-10T22:47:50.191468Z"
    },
    "execution": {
     "iopub.execute_input": "2021-03-16T01:10:16.850324Z",
     "iopub.status.busy": "2021-03-16T01:10:16.850324Z",
     "iopub.status.idle": "2021-03-16T01:10:16.942323Z",
     "shell.execute_reply": "2021-03-16T01:10:16.942323Z",
     "shell.execute_reply.started": "2021-03-16T01:10:16.850324Z"
    }
   },
   "outputs": [],
   "source": [
    "#limit reaction bounds to -1000 and 1000\n",
    "for reaction in model.reactions:\n",
    "    if reaction.lower_bound < -1000:\n",
    "        reaction.lower_bound = -1000\n",
    "    if reaction.upper_bound > 1000:\n",
    "        reaction.upper_bound = 1000\n",
    "        \n",
    "        \n",
    "#then check \n",
    "for reaction in model.reactions:\n",
    "    if (reaction.lower_bound < -1000\n",
    "        or reaction.upper_bound > 1000):\n",
    "        print(reaction.name)\n",
    "        print(reaction.lower_bound)\n",
    "        print(reaction.upper_bound)"
   ]
  },
  {
   "cell_type": "markdown",
   "metadata": {},
   "source": [
    "## Set Nitrogen (N2) lower bounds to -1000"
   ]
  },
  {
   "cell_type": "code",
   "execution_count": 53,
   "metadata": {
    "ExecuteTime": {
     "end_time": "2021-03-10T22:47:50.264467Z",
     "start_time": "2021-03-10T22:47:50.261466Z"
    },
    "execution": {
     "iopub.execute_input": "2021-03-16T01:10:16.943324Z",
     "iopub.status.busy": "2021-03-16T01:10:16.943324Z",
     "iopub.status.idle": "2021-03-16T01:10:16.948326Z",
     "shell.execute_reply": "2021-03-16T01:10:16.947326Z",
     "shell.execute_reply.started": "2021-03-16T01:10:16.943324Z"
    }
   },
   "outputs": [],
   "source": [
    "model.reactions.get_by_id(\"EX_n2_e\").upper_bound = 1000\n",
    "model.reactions.get_by_id(\"EX_n2_e\").lower_bound = -1000"
   ]
  },
  {
   "cell_type": "code",
   "execution_count": 54,
   "metadata": {
    "ExecuteTime": {
     "end_time": "2021-03-10T22:47:50.276465Z",
     "start_time": "2021-03-10T22:47:50.266466Z"
    },
    "execution": {
     "iopub.execute_input": "2021-03-16T01:10:16.949326Z",
     "iopub.status.busy": "2021-03-16T01:10:16.949326Z",
     "iopub.status.idle": "2021-03-16T01:10:16.962327Z",
     "shell.execute_reply": "2021-03-16T01:10:16.961325Z",
     "shell.execute_reply.started": "2021-03-16T01:10:16.949326Z"
    }
   },
   "outputs": [
    {
     "data": {
      "text/plain": [
       "'iAA1300'"
      ]
     },
     "execution_count": 54,
     "metadata": {},
     "output_type": "execute_result"
    }
   ],
   "source": [
    "model.id = \"iAA1300\"\n",
    "model.id"
   ]
  },
  {
   "cell_type": "markdown",
   "metadata": {},
   "source": [
    "## Save model with name and number of genes"
   ]
  },
  {
   "cell_type": "code",
   "execution_count": 55,
   "metadata": {
    "ExecuteTime": {
     "end_time": "2021-03-10T22:47:53.205273Z",
     "start_time": "2021-03-10T22:47:50.278467Z"
    },
    "execution": {
     "iopub.execute_input": "2021-03-16T01:10:16.963326Z",
     "iopub.status.busy": "2021-03-16T01:10:16.963326Z",
     "iopub.status.idle": "2021-03-16T01:10:20.070824Z",
     "shell.execute_reply": "2021-03-16T01:10:20.070824Z",
     "shell.execute_reply.started": "2021-03-16T01:10:16.963326Z"
    }
   },
   "outputs": [],
   "source": [
    "save_json_model(model, \"../Data/Models/iAA1300.json\")\n",
    "write_sbml_model(model, \"../Data/Models/iAA1300.xml\")"
   ]
  },
  {
   "cell_type": "code",
   "execution_count": null,
   "metadata": {},
   "outputs": [],
   "source": []
  }
 ],
 "metadata": {
  "kernelspec": {
   "display_name": "Python 3",
   "language": "python",
   "name": "python3"
  },
  "language_info": {
   "codemirror_mode": {
    "name": "ipython",
    "version": 3
   },
   "file_extension": ".py",
   "mimetype": "text/x-python",
   "name": "python",
   "nbconvert_exporter": "python",
   "pygments_lexer": "ipython3",
   "version": "3.7.10"
  }
 },
 "nbformat": 4,
 "nbformat_minor": 4
}
