{
 "cells": [
  {
   "cell_type": "markdown",
   "id": "flush-trinidad",
   "metadata": {},
   "source": [
    "# Flux sampling vs oxygen concentration \n",
    "In order to better see the shifts of flux within the metabolism we can use two different approaches first we can use flux variability analysis to determine the range of flux for each reaction. While this will show how each reaction is able to change it does not show in which direction. To be more accurate and have the ability to apply statistics to show change we can use flux sampling. We will be following the work done by [Hermann et al.](https://www.nature.com/articles/s41540-019-0109-0) and be able to ask some systems wide questions that we cannot with regular FBA. \n",
    "\n",
    "1) What is the flux distributions between Rnf and Fix under high and low oxygen concentrations?\n",
    "2) How does carbon metabolism reorganize to increase energy to the ETS and nitrogenase? \n",
    "3) What is the metabolic cost of  increase oxygen on nitrogen fixation?\n",
    "\n",
    "Three main comparisons in the samples are shifts of the ETS, shifts of the ED and TCA pathways, and shifts of nitrogenase flux. "
   ]
  },
  {
   "cell_type": "markdown",
   "id": "broad-chance",
   "metadata": {},
   "source": [
    "From the previous work done in ATPM_compare.ipynb we can show that one pathway NII_BD_R limits the excess ATPM in all conditions but we are still not accurate in the higher oxygen concentrations of 148 and 192 uM. And while a difference between Fix and Rnf is seen in the ATPM study the difference is only a small effect and can be studied in by sampling. So to be accurate we will be using the 108 uM O2 as our high oxygen and 12 uM o2 as our low with only the NDH II and cyt BD as the ETS path. Using 108 uM as not only because it is more accurate but because it also has similar growth yeilds as the higher O2 concentrations while still being distinct from 12 uM conditions. "
   ]
  },
  {
   "cell_type": "code",
   "execution_count": 2,
   "id": "baking-guest",
   "metadata": {
    "execution": {
     "iopub.execute_input": "2021-04-23T19:24:05.560838Z",
     "iopub.status.busy": "2021-04-23T19:24:05.560838Z",
     "iopub.status.idle": "2021-04-23T19:24:09.893569Z",
     "shell.execute_reply": "2021-04-23T19:24:09.892569Z",
     "shell.execute_reply.started": "2021-04-23T19:24:05.560838Z"
    }
   },
   "outputs": [],
   "source": [
    "import cobra.test\n",
    "import pandas as pd\n",
    "import matplotlib.pyplot as plt\n",
    "import os\n",
    "import math\n",
    "from os.path import join\n",
    "from cobra import Model, Reaction, Metabolite\n",
    "from cobra.io import save_json_model\n",
    "from cobra.sampling import sample\n",
    "import numpy as np\n",
    "import time\n",
    "import pandas as pd\n",
    "import matplotlib.pyplot as plt\n",
    "import matplotlib.backends.backend_pdf\n",
    "from scipy.stats import mannwhitneyu\n",
    "from scipy.stats import kruskal\n",
    "from cobra.sampling import OptGPSampler\n",
    "from scipy.stats import wilcoxon\n",
    "from numpy import std, mean, sqrt\n",
    "import seaborn as sns"
   ]
  },
  {
   "cell_type": "code",
   "execution_count": 3,
   "id": "healthy-berry",
   "metadata": {
    "execution": {
     "iopub.execute_input": "2021-04-23T19:24:09.894570Z",
     "iopub.status.busy": "2021-04-23T19:24:09.894570Z",
     "iopub.status.idle": "2021-04-23T19:24:17.630827Z",
     "shell.execute_reply": "2021-04-23T19:24:17.629827Z",
     "shell.execute_reply.started": "2021-04-23T19:24:09.894570Z"
    }
   },
   "outputs": [],
   "source": [
    "#import model twice to make a high and low model\n",
    "\n",
    "model_n2_highO2 = cobra.io.load_json_model(\"../Data/Models/iAA1300_C.json\")\n",
    "model_n2_lowO2 = cobra.io.load_json_model(\"../Data/Models/iAA1300_C.json\")\n"
   ]
  },
  {
   "cell_type": "code",
   "execution_count": 4,
   "id": "sufficient-sociology",
   "metadata": {
    "execution": {
     "iopub.execute_input": "2021-04-23T19:24:17.633829Z",
     "iopub.status.busy": "2021-04-23T19:24:17.633829Z",
     "iopub.status.idle": "2021-04-23T19:24:17.661894Z",
     "shell.execute_reply": "2021-04-23T19:24:17.661350Z",
     "shell.execute_reply.started": "2021-04-23T19:24:17.633829Z"
    }
   },
   "outputs": [],
   "source": [
    "#change bounds of model to match growth rate of ~0.2 at the experimental sucrose uptake and predicted ATPM while removing NDH I and Cytchrome C\n",
    "#data 12uM NII_BD_R 3.79 suc 16.25 ATPM\n",
    "#data 108uM NII_BD_R 9.32 suc 110.8 ATPM     #rounded \n",
    "\n",
    "\n",
    "model_n2_highO2.reactions.get_by_id(\"EX_glc__D_e\").lower_bound = 0\n",
    "model_n2_highO2.reactions.get_by_id(\"EX_glc__D_e\").upper_bound = 0\n",
    "model_n2_lowO2.reactions.get_by_id(\"EX_glc__D_e\").lower_bound = 0\n",
    "model_n2_lowO2.reactions.get_by_id(\"EX_glc__D_e\").upper_bound = 0\n",
    "\n",
    "\n",
    "model_n2_highO2.reactions.get_by_id(\"EX_sucr_e\").lower_bound = -9\n",
    "model_n2_highO2.reactions.get_by_id(\"EX_sucr_e\").upper_bound = 0\n",
    "model_n2_lowO2.reactions.get_by_id(\"EX_sucr_e\").lower_bound = -4\n",
    "model_n2_lowO2.reactions.get_by_id(\"EX_sucr_e\").upper_bound = 0\n",
    "\n",
    "model_n2_highO2.reactions.get_by_id(\"PHBS_syn\").upper_bound = 1000\n",
    "model_n2_highO2.reactions.get_by_id(\"PHBS_syn\").lower_bound = 0\n",
    "model_n2_lowO2.reactions.get_by_id(\"PHBS_syn\").upper_bound = 1000\n",
    "model_n2_lowO2.reactions.get_by_id(\"PHBS_syn\").lower_bound = 0\n",
    "\n",
    "model_n2_highO2.reactions.get_by_id(\"ATPM\").lower_bound = 110\n",
    "model_n2_highO2.reactions.get_by_id(\"ATPM\").upper_bound = 110\n",
    "model_n2_lowO2.reactions.get_by_id(\"ATPM\").lower_bound = 16\n",
    "model_n2_lowO2.reactions.get_by_id(\"ATPM\").upper_bound = 16\n",
    "\n",
    "\n",
    "model_n2_highO2.reactions.get_by_id(\"O2tpp\").lower_bound = 0\n",
    "model_n2_highO2.reactions.get_by_id(\"O2tpp\").upper_bound = 1000\n",
    "model_n2_lowO2.reactions.get_by_id(\"O2tpp\").lower_bound = 0\n",
    "model_n2_lowO2.reactions.get_by_id(\"O2tpp\").upper_bound = 1000\n",
    "\n",
    "model_n2_highO2.reactions.get_by_id(\"NADH6\").lower_bound = 0\n",
    "model_n2_highO2.reactions.get_by_id(\"NADH6\").upper_bound = 0\n",
    "model_n2_lowO2.reactions.get_by_id(\"NADH6\").lower_bound = 0\n",
    "model_n2_lowO2.reactions.get_by_id(\"NADH6\").upper_bound = 0\n",
    "\n",
    "model_n2_highO2.reactions.get_by_id(\"CYOO2pp\").lower_bound = 0\n",
    "model_n2_highO2.reactions.get_by_id(\"CYOO2pp\").upper_bound = 0\n",
    "model_n2_lowO2.reactions.get_by_id(\"CYOO2pp\").lower_bound = 0\n",
    "model_n2_lowO2.reactions.get_by_id(\"CYOO2pp\").upper_bound = 0"
   ]
  },
  {
   "cell_type": "markdown",
   "id": "liable-outside",
   "metadata": {},
   "source": [
    "Lets run FBA on these conditions \n"
   ]
  },
  {
   "cell_type": "code",
   "execution_count": 5,
   "id": "simple-mediterranean",
   "metadata": {
    "execution": {
     "iopub.execute_input": "2021-04-23T19:24:17.664874Z",
     "iopub.status.busy": "2021-04-23T19:24:17.663873Z",
     "iopub.status.idle": "2021-04-23T19:24:18.949350Z",
     "shell.execute_reply": "2021-04-23T19:24:18.948351Z",
     "shell.execute_reply.started": "2021-04-23T19:24:17.664874Z"
    }
   },
   "outputs": [
    {
     "name": "stdout",
     "output_type": "stream",
     "text": [
      "High O2 sucrose growth rate:  0.201  1/h or a doubling time of  3.450 hrs\n"
     ]
    },
    {
     "data": {
      "text/html": [
       "<h3>Objective</h3><p>1.0 BIOMASS_Av_DJ_core = 0.20093649879386863</p><h4>Uptake</h4><table border=\"1\" class=\"dataframe\">\n",
       "  <thead>\n",
       "    <tr style=\"text-align: right;\">\n",
       "      <th>Metabolite</th>\n",
       "      <th>Reaction</th>\n",
       "      <th>Flux</th>\n",
       "      <th>C-Number</th>\n",
       "      <th>C-Flux</th>\n",
       "    </tr>\n",
       "  </thead>\n",
       "  <tbody>\n",
       "    <tr>\n",
       "      <td>ca2_e</td>\n",
       "      <td>EX_ca2_e</td>\n",
       "      <td>0.001046</td>\n",
       "      <td>0</td>\n",
       "      <td>0.00%</td>\n",
       "    </tr>\n",
       "    <tr>\n",
       "      <td>cl_e</td>\n",
       "      <td>EX_cl_e</td>\n",
       "      <td>0.001046</td>\n",
       "      <td>0</td>\n",
       "      <td>0.00%</td>\n",
       "    </tr>\n",
       "    <tr>\n",
       "      <td>cobalt2_e</td>\n",
       "      <td>EX_cobalt2_e</td>\n",
       "      <td>5.023E-06</td>\n",
       "      <td>0</td>\n",
       "      <td>0.00%</td>\n",
       "    </tr>\n",
       "    <tr>\n",
       "      <td>cu2_e</td>\n",
       "      <td>EX_cu2_e</td>\n",
       "      <td>0.0001425</td>\n",
       "      <td>0</td>\n",
       "      <td>0.00%</td>\n",
       "    </tr>\n",
       "    <tr>\n",
       "      <td>fe2_e</td>\n",
       "      <td>EX_fe2_e</td>\n",
       "      <td>0.001658</td>\n",
       "      <td>0</td>\n",
       "      <td>0.00%</td>\n",
       "    </tr>\n",
       "    <tr>\n",
       "      <td>fe3_e</td>\n",
       "      <td>EX_fe3_e</td>\n",
       "      <td>0.001569</td>\n",
       "      <td>0</td>\n",
       "      <td>0.00%</td>\n",
       "    </tr>\n",
       "    <tr>\n",
       "      <td>h_e</td>\n",
       "      <td>EX_h_e</td>\n",
       "      <td>0.2507</td>\n",
       "      <td>0</td>\n",
       "      <td>0.00%</td>\n",
       "    </tr>\n",
       "    <tr>\n",
       "      <td>k_e</td>\n",
       "      <td>EX_k_e</td>\n",
       "      <td>0.03922</td>\n",
       "      <td>0</td>\n",
       "      <td>0.00%</td>\n",
       "    </tr>\n",
       "    <tr>\n",
       "      <td>mg2_e</td>\n",
       "      <td>EX_mg2_e</td>\n",
       "      <td>0.001743</td>\n",
       "      <td>0</td>\n",
       "      <td>0.00%</td>\n",
       "    </tr>\n",
       "    <tr>\n",
       "      <td>mn2_e</td>\n",
       "      <td>EX_mn2_e</td>\n",
       "      <td>0.0001388</td>\n",
       "      <td>0</td>\n",
       "      <td>0.00%</td>\n",
       "    </tr>\n",
       "    <tr>\n",
       "      <td>mobd_e</td>\n",
       "      <td>EX_mobd_e</td>\n",
       "      <td>1.407E-06</td>\n",
       "      <td>0</td>\n",
       "      <td>0.00%</td>\n",
       "    </tr>\n",
       "    <tr>\n",
       "      <td>n2_e</td>\n",
       "      <td>EX_n2_e</td>\n",
       "      <td>1.051</td>\n",
       "      <td>0</td>\n",
       "      <td>0.00%</td>\n",
       "    </tr>\n",
       "    <tr>\n",
       "      <td>ni2_e</td>\n",
       "      <td>EX_ni2_e</td>\n",
       "      <td>6.49E-05</td>\n",
       "      <td>0</td>\n",
       "      <td>0.00%</td>\n",
       "    </tr>\n",
       "    <tr>\n",
       "      <td>o2_e</td>\n",
       "      <td>EX_o2_e</td>\n",
       "      <td>98.02</td>\n",
       "      <td>0</td>\n",
       "      <td>0.00%</td>\n",
       "    </tr>\n",
       "    <tr>\n",
       "      <td>pi_e</td>\n",
       "      <td>EX_pi_e</td>\n",
       "      <td>0.1938</td>\n",
       "      <td>0</td>\n",
       "      <td>0.00%</td>\n",
       "    </tr>\n",
       "    <tr>\n",
       "      <td>so4_e</td>\n",
       "      <td>EX_so4_e</td>\n",
       "      <td>0.03252</td>\n",
       "      <td>0</td>\n",
       "      <td>0.00%</td>\n",
       "    </tr>\n",
       "    <tr>\n",
       "      <td>sucr_e</td>\n",
       "      <td>EX_sucr_e</td>\n",
       "      <td>9</td>\n",
       "      <td>12</td>\n",
       "      <td>100.00%</td>\n",
       "    </tr>\n",
       "    <tr>\n",
       "      <td>zn2_e</td>\n",
       "      <td>EX_zn2_e</td>\n",
       "      <td>6.852E-05</td>\n",
       "      <td>0</td>\n",
       "      <td>0.00%</td>\n",
       "    </tr>\n",
       "  </tbody>\n",
       "</table><h4>Secretion</h4><table border=\"1\" class=\"dataframe\">\n",
       "  <thead>\n",
       "    <tr style=\"text-align: right;\">\n",
       "      <th>Metabolite</th>\n",
       "      <th>Reaction</th>\n",
       "      <th>Flux</th>\n",
       "      <th>C-Number</th>\n",
       "      <th>C-Flux</th>\n",
       "    </tr>\n",
       "  </thead>\n",
       "  <tbody>\n",
       "    <tr>\n",
       "      <td>4crsol_c</td>\n",
       "      <td>DM_4crsol_c</td>\n",
       "      <td>-4.481E-05</td>\n",
       "      <td>7</td>\n",
       "      <td>0.00%</td>\n",
       "    </tr>\n",
       "    <tr>\n",
       "      <td>5drib_c</td>\n",
       "      <td>DM_5drib_c</td>\n",
       "      <td>-4.521E-05</td>\n",
       "      <td>5</td>\n",
       "      <td>0.00%</td>\n",
       "    </tr>\n",
       "    <tr>\n",
       "      <td>amob_c</td>\n",
       "      <td>DM_amob_c</td>\n",
       "      <td>-4.019E-07</td>\n",
       "      <td>15</td>\n",
       "      <td>0.00%</td>\n",
       "    </tr>\n",
       "    <tr>\n",
       "      <td>ade_e</td>\n",
       "      <td>EX_ade_e</td>\n",
       "      <td>-4.521E-05</td>\n",
       "      <td>5</td>\n",
       "      <td>0.00%</td>\n",
       "    </tr>\n",
       "    <tr>\n",
       "      <td>co2_e</td>\n",
       "      <td>EX_co2_e</td>\n",
       "      <td>-99.98</td>\n",
       "      <td>1</td>\n",
       "      <td>100.00%</td>\n",
       "    </tr>\n",
       "    <tr>\n",
       "      <td>dxylnt_e</td>\n",
       "      <td>EX_dxylnt_e</td>\n",
       "      <td>-0.0001344</td>\n",
       "      <td>5</td>\n",
       "      <td>0.00%</td>\n",
       "    </tr>\n",
       "    <tr>\n",
       "      <td>fald_e</td>\n",
       "      <td>EX_fald_e</td>\n",
       "      <td>-4.019E-07</td>\n",
       "      <td>1</td>\n",
       "      <td>0.00%</td>\n",
       "    </tr>\n",
       "    <tr>\n",
       "      <td>h2o_e</td>\n",
       "      <td>EX_h2o_e</td>\n",
       "      <td>-93.07</td>\n",
       "      <td>0</td>\n",
       "      <td>0.00%</td>\n",
       "    </tr>\n",
       "  </tbody>\n",
       "</table>"
      ],
      "text/plain": [
       "<cobra.summary.model_summary.ModelSummary at 0x19bf8a75708>"
      ]
     },
     "execution_count": 5,
     "metadata": {},
     "output_type": "execute_result"
    }
   ],
   "source": [
    "solution_model_n2_highO2 = model_n2_highO2.optimize()\n",
    "\n",
    "u = solution_model_n2_highO2.objective_value\n",
    "DT = 0.69314718056/u\n",
    "\n",
    "#write flux to csv using pandas\n",
    "df= pd.DataFrame.from_dict([solution_model_n2_highO2.fluxes]).T\n",
    "df.to_csv('../Data/Sampling_O2/FBA_results/model_n2_highO2.csv')\n",
    "\n",
    "#Output growth rate\n",
    "print('High O2 sucrose growth rate: ' ,'%.3f' %u, ' 1/h' ' or a doubling time of ' ,'%.3f' %DT, 'hrs')\n",
    "model_n2_highO2.summary()"
   ]
  },
  {
   "cell_type": "code",
   "execution_count": 6,
   "id": "charged-muscle",
   "metadata": {
    "execution": {
     "iopub.execute_input": "2021-04-23T19:24:18.951352Z",
     "iopub.status.busy": "2021-04-23T19:24:18.951352Z",
     "iopub.status.idle": "2021-04-23T19:24:18.965352Z",
     "shell.execute_reply": "2021-04-23T19:24:18.964352Z",
     "shell.execute_reply.started": "2021-04-23T19:24:18.951352Z"
    }
   },
   "outputs": [
    {
     "data": {
      "text/plain": [
       "1.0506570392411834"
      ]
     },
     "execution_count": 6,
     "metadata": {},
     "output_type": "execute_result"
    }
   ],
   "source": [
    "solution_model_n2_highO2.fluxes[\"NIT1b\"]"
   ]
  },
  {
   "cell_type": "code",
   "execution_count": 7,
   "id": "pediatric-arrest",
   "metadata": {
    "execution": {
     "iopub.execute_input": "2021-04-23T19:24:18.968351Z",
     "iopub.status.busy": "2021-04-23T19:24:18.967352Z",
     "iopub.status.idle": "2021-04-23T19:24:19.489285Z",
     "shell.execute_reply": "2021-04-23T19:24:19.488283Z",
     "shell.execute_reply.started": "2021-04-23T19:24:18.968351Z"
    }
   },
   "outputs": [],
   "source": [
    "import escher\n",
    "from escher import Builder\n",
    "from time import sleep"
   ]
  },
  {
   "cell_type": "code",
   "execution_count": 8,
   "id": "focused-california",
   "metadata": {
    "execution": {
     "iopub.execute_input": "2021-04-23T19:24:19.491285Z",
     "iopub.status.busy": "2021-04-23T19:24:19.491285Z",
     "iopub.status.idle": "2021-04-23T19:24:19.693781Z",
     "shell.execute_reply": "2021-04-23T19:24:19.692781Z",
     "shell.execute_reply.started": "2021-04-23T19:24:19.491285Z"
    }
   },
   "outputs": [
    {
     "data": {
      "application/vnd.jupyter.widget-view+json": {
       "model_id": "45b445e0d1e8499cb9d117ab329a9ffa",
       "version_major": 2,
       "version_minor": 0
      },
      "text/plain": [
       "Builder(reaction_data={'ALATA_D2': 0.0, 'SHCHD2': 4.4808839231032875e-05, 'CPPPGO': 4.480883923103288e-05, 'GT…"
      ]
     },
     "metadata": {},
     "output_type": "display_data"
    }
   ],
   "source": [
    " Builder(model_json = \"../Data/Models/iAA1300_C.json\",\n",
    "                 map_json = '../Data/Escher/Maps/Full_metabolism_AV.json',\n",
    "                  reaction_data = solution_model_n2_highO2.fluxes\n",
    "                      )"
   ]
  },
  {
   "cell_type": "code",
   "execution_count": 9,
   "id": "divine-amino",
   "metadata": {
    "execution": {
     "iopub.execute_input": "2021-04-23T19:24:19.697782Z",
     "iopub.status.busy": "2021-04-23T19:24:19.697782Z",
     "iopub.status.idle": "2021-04-23T19:24:21.203326Z",
     "shell.execute_reply": "2021-04-23T19:24:21.202328Z",
     "shell.execute_reply.started": "2021-04-23T19:24:19.697782Z"
    }
   },
   "outputs": [
    {
     "name": "stdout",
     "output_type": "stream",
     "text": [
      "High O2 sucrose growth rate:  0.219  1/h or a doubling time of  3.158 hrs\n"
     ]
    },
    {
     "data": {
      "text/html": [
       "<h3>Objective</h3><p>1.0 BIOMASS_Av_DJ_core = 0.21946511058955412</p><h4>Uptake</h4><table border=\"1\" class=\"dataframe\">\n",
       "  <thead>\n",
       "    <tr style=\"text-align: right;\">\n",
       "      <th>Metabolite</th>\n",
       "      <th>Reaction</th>\n",
       "      <th>Flux</th>\n",
       "      <th>C-Number</th>\n",
       "      <th>C-Flux</th>\n",
       "    </tr>\n",
       "  </thead>\n",
       "  <tbody>\n",
       "    <tr>\n",
       "      <td>ca2_e</td>\n",
       "      <td>EX_ca2_e</td>\n",
       "      <td>0.001142</td>\n",
       "      <td>0</td>\n",
       "      <td>0.00%</td>\n",
       "    </tr>\n",
       "    <tr>\n",
       "      <td>cl_e</td>\n",
       "      <td>EX_cl_e</td>\n",
       "      <td>0.001142</td>\n",
       "      <td>0</td>\n",
       "      <td>0.00%</td>\n",
       "    </tr>\n",
       "    <tr>\n",
       "      <td>cobalt2_e</td>\n",
       "      <td>EX_cobalt2_e</td>\n",
       "      <td>5.487E-06</td>\n",
       "      <td>0</td>\n",
       "      <td>0.00%</td>\n",
       "    </tr>\n",
       "    <tr>\n",
       "      <td>cu2_e</td>\n",
       "      <td>EX_cu2_e</td>\n",
       "      <td>0.0001556</td>\n",
       "      <td>0</td>\n",
       "      <td>0.00%</td>\n",
       "    </tr>\n",
       "    <tr>\n",
       "      <td>fe2_e</td>\n",
       "      <td>EX_fe2_e</td>\n",
       "      <td>0.001811</td>\n",
       "      <td>0</td>\n",
       "      <td>0.00%</td>\n",
       "    </tr>\n",
       "    <tr>\n",
       "      <td>fe3_e</td>\n",
       "      <td>EX_fe3_e</td>\n",
       "      <td>0.001714</td>\n",
       "      <td>0</td>\n",
       "      <td>0.00%</td>\n",
       "    </tr>\n",
       "    <tr>\n",
       "      <td>h_e</td>\n",
       "      <td>EX_h_e</td>\n",
       "      <td>0.2738</td>\n",
       "      <td>0</td>\n",
       "      <td>0.00%</td>\n",
       "    </tr>\n",
       "    <tr>\n",
       "      <td>k_e</td>\n",
       "      <td>EX_k_e</td>\n",
       "      <td>0.04284</td>\n",
       "      <td>0</td>\n",
       "      <td>0.00%</td>\n",
       "    </tr>\n",
       "    <tr>\n",
       "      <td>mg2_e</td>\n",
       "      <td>EX_mg2_e</td>\n",
       "      <td>0.001904</td>\n",
       "      <td>0</td>\n",
       "      <td>0.00%</td>\n",
       "    </tr>\n",
       "    <tr>\n",
       "      <td>mn2_e</td>\n",
       "      <td>EX_mn2_e</td>\n",
       "      <td>0.0001517</td>\n",
       "      <td>0</td>\n",
       "      <td>0.00%</td>\n",
       "    </tr>\n",
       "    <tr>\n",
       "      <td>mobd_e</td>\n",
       "      <td>EX_mobd_e</td>\n",
       "      <td>1.536E-06</td>\n",
       "      <td>0</td>\n",
       "      <td>0.00%</td>\n",
       "    </tr>\n",
       "    <tr>\n",
       "      <td>n2_e</td>\n",
       "      <td>EX_n2_e</td>\n",
       "      <td>1.148</td>\n",
       "      <td>0</td>\n",
       "      <td>0.00%</td>\n",
       "    </tr>\n",
       "    <tr>\n",
       "      <td>ni2_e</td>\n",
       "      <td>EX_ni2_e</td>\n",
       "      <td>7.089E-05</td>\n",
       "      <td>0</td>\n",
       "      <td>0.00%</td>\n",
       "    </tr>\n",
       "    <tr>\n",
       "      <td>o2_e</td>\n",
       "      <td>EX_o2_e</td>\n",
       "      <td>37.1</td>\n",
       "      <td>0</td>\n",
       "      <td>0.00%</td>\n",
       "    </tr>\n",
       "    <tr>\n",
       "      <td>pi_e</td>\n",
       "      <td>EX_pi_e</td>\n",
       "      <td>0.2117</td>\n",
       "      <td>0</td>\n",
       "      <td>0.00%</td>\n",
       "    </tr>\n",
       "    <tr>\n",
       "      <td>so4_e</td>\n",
       "      <td>EX_so4_e</td>\n",
       "      <td>0.03551</td>\n",
       "      <td>0</td>\n",
       "      <td>0.00%</td>\n",
       "    </tr>\n",
       "    <tr>\n",
       "      <td>sucr_e</td>\n",
       "      <td>EX_sucr_e</td>\n",
       "      <td>4</td>\n",
       "      <td>12</td>\n",
       "      <td>100.00%</td>\n",
       "    </tr>\n",
       "    <tr>\n",
       "      <td>zn2_e</td>\n",
       "      <td>EX_zn2_e</td>\n",
       "      <td>7.484E-05</td>\n",
       "      <td>0</td>\n",
       "      <td>0.00%</td>\n",
       "    </tr>\n",
       "  </tbody>\n",
       "</table><h4>Secretion</h4><table border=\"1\" class=\"dataframe\">\n",
       "  <thead>\n",
       "    <tr style=\"text-align: right;\">\n",
       "      <th>Metabolite</th>\n",
       "      <th>Reaction</th>\n",
       "      <th>Flux</th>\n",
       "      <th>C-Number</th>\n",
       "      <th>C-Flux</th>\n",
       "    </tr>\n",
       "  </thead>\n",
       "  <tbody>\n",
       "    <tr>\n",
       "      <td>4crsol_c</td>\n",
       "      <td>DM_4crsol_c</td>\n",
       "      <td>-4.894E-05</td>\n",
       "      <td>7</td>\n",
       "      <td>0.00%</td>\n",
       "    </tr>\n",
       "    <tr>\n",
       "      <td>5drib_c</td>\n",
       "      <td>DM_5drib_c</td>\n",
       "      <td>-4.938E-05</td>\n",
       "      <td>5</td>\n",
       "      <td>0.00%</td>\n",
       "    </tr>\n",
       "    <tr>\n",
       "      <td>amob_c</td>\n",
       "      <td>DM_amob_c</td>\n",
       "      <td>-4.389E-07</td>\n",
       "      <td>15</td>\n",
       "      <td>0.00%</td>\n",
       "    </tr>\n",
       "    <tr>\n",
       "      <td>ade_e</td>\n",
       "      <td>EX_ade_e</td>\n",
       "      <td>-4.938E-05</td>\n",
       "      <td>5</td>\n",
       "      <td>0.00%</td>\n",
       "    </tr>\n",
       "    <tr>\n",
       "      <td>co2_e</td>\n",
       "      <td>EX_co2_e</td>\n",
       "      <td>-39.24</td>\n",
       "      <td>1</td>\n",
       "      <td>100.00%</td>\n",
       "    </tr>\n",
       "    <tr>\n",
       "      <td>dxylnt_e</td>\n",
       "      <td>EX_dxylnt_e</td>\n",
       "      <td>-0.0001468</td>\n",
       "      <td>5</td>\n",
       "      <td>0.00%</td>\n",
       "    </tr>\n",
       "    <tr>\n",
       "      <td>fald_e</td>\n",
       "      <td>EX_fald_e</td>\n",
       "      <td>-4.389E-07</td>\n",
       "      <td>1</td>\n",
       "      <td>0.00%</td>\n",
       "    </tr>\n",
       "    <tr>\n",
       "      <td>h2o_e</td>\n",
       "      <td>EX_h2o_e</td>\n",
       "      <td>-37.52</td>\n",
       "      <td>0</td>\n",
       "      <td>0.00%</td>\n",
       "    </tr>\n",
       "  </tbody>\n",
       "</table>"
      ],
      "text/plain": [
       "<cobra.summary.model_summary.ModelSummary at 0x19bf7eb52c8>"
      ]
     },
     "execution_count": 9,
     "metadata": {},
     "output_type": "execute_result"
    }
   ],
   "source": [
    "solution_model_n2_lowO2 = model_n2_lowO2.optimize()\n",
    "\n",
    "u = solution_model_n2_lowO2.objective_value\n",
    "DT = 0.69314718056/u\n",
    "\n",
    "#write flux to csv using pandas\n",
    "df= pd.DataFrame.from_dict([solution_model_n2_lowO2.fluxes]).T\n",
    "df.to_csv('../Data/Sampling_O2/FBA_results/model_n2_highO2.csv')\n",
    "\n",
    "#Output growth rate\n",
    "print('High O2 sucrose growth rate: ' ,'%.3f' %u, ' 1/h' ' or a doubling time of ' ,'%.3f' %DT, 'hrs')\n",
    "model_n2_lowO2.summary()"
   ]
  },
  {
   "cell_type": "markdown",
   "id": "violent-moore",
   "metadata": {
    "execution": {
     "iopub.execute_input": "2021-04-10T20:15:52.522515Z",
     "iopub.status.busy": "2021-04-10T20:15:52.522515Z",
     "iopub.status.idle": "2021-04-10T20:15:53.056144Z",
     "shell.execute_reply": "2021-04-10T20:15:53.056144Z",
     "shell.execute_reply.started": "2021-04-10T20:15:52.522515Z"
    }
   },
   "source": [
    "from the cobra.sampling we will using the sample function to get the samples for each condition. As this is a very computaional process below will just be a demo at 10000 samples. Further samples require a computer cluster and can be found in the sampling.py script. "
   ]
  },
  {
   "cell_type": "code",
   "execution_count": 10,
   "id": "initial-printing",
   "metadata": {
    "execution": {
     "iopub.execute_input": "2021-04-23T19:24:21.207326Z",
     "iopub.status.busy": "2021-04-23T19:24:21.206325Z",
     "iopub.status.idle": "2021-04-23T19:40:32.331714Z",
     "shell.execute_reply": "2021-04-23T19:40:32.327715Z",
     "shell.execute_reply.started": "2021-04-23T19:24:21.207326Z"
    }
   },
   "outputs": [],
   "source": [
    "S_model_n2_highO2 = sample(model_n2_highO2, n=10000, thinning=1000,  processes=8)"
   ]
  },
  {
   "cell_type": "code",
   "execution_count": 11,
   "id": "stylish-camping",
   "metadata": {
    "execution": {
     "iopub.execute_input": "2021-04-23T19:40:32.335716Z",
     "iopub.status.busy": "2021-04-23T19:40:32.334717Z",
     "iopub.status.idle": "2021-04-23T19:41:44.377831Z",
     "shell.execute_reply": "2021-04-23T19:41:44.376828Z",
     "shell.execute_reply.started": "2021-04-23T19:40:32.335716Z"
    }
   },
   "outputs": [],
   "source": [
    "S_model_n2_highO2.to_csv(\"../Data/Sampling_O2/Sampling_results/model_n2_highO2_samples.csv.gz\", compression=\"gzip\")"
   ]
  },
  {
   "cell_type": "code",
   "execution_count": 12,
   "id": "forced-groove",
   "metadata": {
    "execution": {
     "iopub.execute_input": "2021-04-23T19:41:44.378829Z",
     "iopub.status.busy": "2021-04-23T19:41:44.378829Z",
     "iopub.status.idle": "2021-04-23T19:50:48.917069Z",
     "shell.execute_reply": "2021-04-23T19:50:48.917069Z",
     "shell.execute_reply.started": "2021-04-23T19:41:44.378829Z"
    }
   },
   "outputs": [],
   "source": [
    "S_model_n2_lowO2 = sample(model_n2_lowO2, n=10000, thinning=1000,  processes=8)"
   ]
  },
  {
   "cell_type": "code",
   "execution_count": 13,
   "id": "blond-harrison",
   "metadata": {
    "execution": {
     "iopub.execute_input": "2021-04-23T19:50:48.918037Z",
     "iopub.status.busy": "2021-04-23T19:50:48.918037Z",
     "iopub.status.idle": "2021-04-23T19:52:00.775973Z",
     "shell.execute_reply": "2021-04-23T19:52:00.775048Z",
     "shell.execute_reply.started": "2021-04-23T19:50:48.918037Z"
    }
   },
   "outputs": [],
   "source": [
    "S_model_n2_lowO2.to_csv(\"../Data/Sampling_O2/Sampling_results/model_n2_lowO2_samples.csv.gz\", compression=\"gzip\")"
   ]
  },
  {
   "cell_type": "markdown",
   "id": "designed-prompt",
   "metadata": {},
   "source": [
    "In order to visualize some of the data we will use the histogram script from Herrmann et al as a template  "
   ]
  },
  {
   "cell_type": "code",
   "execution_count": 14,
   "id": "negative-laugh",
   "metadata": {
    "execution": {
     "iopub.execute_input": "2021-04-23T19:52:00.777953Z",
     "iopub.status.busy": "2021-04-23T19:52:00.776968Z",
     "iopub.status.idle": "2021-04-23T19:52:13.186329Z",
     "shell.execute_reply": "2021-04-23T19:52:13.185031Z",
     "shell.execute_reply.started": "2021-04-23T19:52:00.777953Z"
    }
   },
   "outputs": [],
   "source": [
    "#reload tables not need if just ran above \n",
    "\n",
    "S_model_n2_highO2 = pd.read_csv(\"../Data/Sampling_O2/Sampling_results/model_n2_highO2_samples.csv.gz\")\n",
    "S_model_n2_lowO2= pd.read_csv(\"../Data/Sampling_O2/Sampling_results/model_n2_lowO2_samples.csv.gz\")"
   ]
  },
  {
   "cell_type": "code",
   "execution_count": 15,
   "id": "electrical-robinson",
   "metadata": {
    "execution": {
     "iopub.execute_input": "2021-04-23T19:52:13.187972Z",
     "iopub.status.busy": "2021-04-23T19:52:13.187437Z",
     "iopub.status.idle": "2021-04-23T19:52:13.201980Z",
     "shell.execute_reply": "2021-04-23T19:52:13.200974Z",
     "shell.execute_reply.started": "2021-04-23T19:52:13.187437Z"
    }
   },
   "outputs": [],
   "source": [
    "# Load Function and modfied slightly from \n",
    "# https://github.com/HAHerrmann/FluxSamplingComparison/blob/master/ArabidopsisStudy/FluxSamplingAnalysisArabidopsis.ipynb\n",
    "def make_svg(i,samples1,samples2,x1,x2,Condition):\n",
    "    #print(i)\n",
    "    x = samples1[i]\n",
    "    y = samples2[i]\n",
    "    bns = 100\n",
    "    \n",
    "    \n",
    "    xn, xbins, xpatches = plt.hist(x, bins=bns, alpha=0.5,  color = \"#b05abd\", lw=0)\n",
    "    yn, ybins, ypatches = plt.hist(y, bins=bns, alpha=0.5,  color = \"#c7783b\", lw=0)\n",
    "    \n",
    "    #plot FBA results as vertical line\n",
    "    plt.axvline(x = x1,linewidth=2, linestyle='--', color=\"#b05abd\")\n",
    "    plt.axvline(x = x2,linewidth=2, linestyle='--', color=\"#c7783b\")\n",
    "    \n",
    "    #determine if distrubtions are different\n",
    "    stat, p = wilcoxon(x, y)\n",
    "    print(\"Reaction {}\".format(i), p)\n",
    "    alpha = 0.05\n",
    "    if p > alpha:\n",
    "        print('Same distribution')\n",
    "    else:\n",
    "        print('Different distribution')\n",
    "        \n",
    "    plt.xticks([round(min(min(x),min(y)),3),round(max(max(x),max(y)),3)],fontsize=30)\n",
    "    plt.yticks([],fontsize=30)\n",
    "    plt.title(\"{}\".format(i),y=0.99)\n",
    "    plt.tight_layout()\n",
    "    plt.savefig(\"../Outputs/Sampling_O2/{0:}/{0:}_{1:}_Sample_FBA.tiff\".format(Condition,i), dpi= 60, format=\"tiff\")\n",
    "    plt.close()"
   ]
  },
  {
   "cell_type": "code",
   "execution_count": 16,
   "id": "cloudy-adrian",
   "metadata": {
    "execution": {
     "iopub.execute_input": "2021-04-23T19:52:13.202973Z",
     "iopub.status.busy": "2021-04-23T19:52:13.202973Z",
     "iopub.status.idle": "2021-04-23T19:52:19.057419Z",
     "shell.execute_reply": "2021-04-23T19:52:19.055416Z",
     "shell.execute_reply.started": "2021-04-23T19:52:13.202973Z"
    }
   },
   "outputs": [
    {
     "name": "stdout",
     "output_type": "stream",
     "text": [
      "Reaction NADH5 0.0\n",
      "Different distribution\n",
      "Reaction RNF 5.579652969011196e-15\n",
      "Different distribution\n",
      "Reaction FIX 0.0\n",
      "Different distribution\n",
      "Reaction NIT1b 0.0\n",
      "Different distribution\n",
      "Reaction CYTBDpp 0.0\n",
      "Different distribution\n",
      "Reaction ATPS4rpp 0.0\n",
      "Different distribution\n",
      "Reaction PDH 7.587803420435317e-14\n",
      "Different distribution\n",
      "Reaction GLNS 1.9113276063904888e-209\n",
      "Different distribution\n",
      "Reaction ICL 0.0\n",
      "Different distribution\n",
      "Reaction ICDHyr 0.0\n",
      "Different distribution\n",
      "Reaction NAD_H2 0.7474431553782116\n",
      "Same distribution\n",
      "Reaction HYD1pp 6.1212029170741075e-12\n",
      "Different distribution\n",
      "Reaction GLCDpp 0.0\n",
      "Different distribution\n",
      "Reaction EDD 0.0\n",
      "Different distribution\n",
      "Reaction HEX1 1.8463582989349723e-17\n",
      "Different distribution\n",
      "Reaction GND 0.0\n",
      "Different distribution\n",
      "Reaction EDD 0.0\n",
      "Different distribution\n",
      "Reaction CS 0.0\n",
      "Different distribution\n",
      "Reaction ICDHyr 0.0\n",
      "Different distribution\n",
      "Reaction AKGDH 0.0\n",
      "Different distribution\n",
      "Reaction GLUSy 6.349850162754404e-182\n",
      "Different distribution\n",
      "Reaction PPCK 3.182729491079924e-10\n",
      "Different distribution\n",
      "Reaction MDH2 0.0\n",
      "Different distribution\n",
      "Reaction ME1 0.06278464908220574\n",
      "Same distribution\n"
     ]
    }
   ],
   "source": [
    "for i in [ \"NADH5\", \"RNF\", \"FIX\", \"NIT1b\", \"CYTBDpp\", \"ATPS4rpp\",\n",
    "         \"PDH\", \"GLNS\", \"ICL\", \"ICDHyr\", \"NAD_H2\", \"HYD1pp\", \"GLCDpp\", \"EDD\", \n",
    "         \"HEX1\", \"GND\", \"EDD\", \"CS\", \"ICDHyr\", \"AKGDH\", \"GLUSy\", \"PPCK\", \"MDH2\", \"ME1\"]: \n",
    "    x1 = solution_model_n2_lowO2.fluxes[i]\n",
    "    x2 = solution_model_n2_highO2.fluxes[i]\n",
    "    make_svg(i,S_model_n2_lowO2,S_model_n2_highO2,x1,x2,\"High_Low_O2\")"
   ]
  },
  {
   "cell_type": "markdown",
   "id": "democratic-recycling",
   "metadata": {},
   "source": [
    "As there is some obivous  differences in the flux samples inbetween condtions most of the difference is due to flux rates. So we will normalize them to sucrose uptake rates in order to better compare the two.  "
   ]
  },
  {
   "cell_type": "code",
   "execution_count": 17,
   "id": "incorrect-scroll",
   "metadata": {
    "execution": {
     "iopub.execute_input": "2021-04-23T19:52:19.060420Z",
     "iopub.status.busy": "2021-04-23T19:52:19.059422Z",
     "iopub.status.idle": "2021-04-23T19:52:19.086607Z",
     "shell.execute_reply": "2021-04-23T19:52:19.086607Z",
     "shell.execute_reply.started": "2021-04-23T19:52:19.060420Z"
    }
   },
   "outputs": [],
   "source": [
    "def make_svg_norm_suc(i,j,samples1,samples2,x1,x2,Condition):\n",
    "    #\"#b05abd\" purple \"#c7783b\" orange\n",
    "    x = samples1[i]\n",
    "    y = samples2[i]\n",
    "    #multiple to remove negative sign from sucrose import\n",
    "    x_norm = (samples1[i]/(samples1[j]*-1))\n",
    "    y_norm = (samples2[i]/(samples2[j]*-1))\n",
    "    \n",
    "    u1 = solution_model_n2_lowO2.fluxes[j]*-1\n",
    "    u2 = solution_model_n2_highO2.fluxes[j]*-1\n",
    "    \n",
    "    bns = 100\n",
    "\n",
    "    xn, xbins, xpatches = plt.hist(x_norm, bins=bns, alpha=0.5, color = \"#b05abd\", lw=0)\n",
    "    yn, ybins, ypatches = plt.hist(y_norm, bins=bns, alpha=0.5,  color = \"#c7783b\", lw=0)\n",
    "    \n",
    "    plt.axvline(x = (x1/u1),linewidth=2, linestyle='--', color=\"#b05abd\")\n",
    "    plt.axvline(x = (x2/u2),linewidth=2, linestyle='--', color=\"#c7783b\")\n",
    "    \n",
    "\n",
    "    #determine if distrubtions are different\n",
    "    stat, p = wilcoxon(x, y)\n",
    "    print(\"Reaction {}\".format(i), p)\n",
    "    alpha = 0.05\n",
    "    if p > alpha:\n",
    "        print('Same distribution')\n",
    "    else:\n",
    "        print('Different distribution')\n",
    "\n",
    "    plt.xticks([round(min(min(x_norm),min(y_norm)),3),round(max(max(x_norm),max(y_norm)),3)],fontsize=30)\n",
    "    plt.yticks([],fontsize=30)\n",
    "    plt.title(\"{}\".format(i),y=0.99, fontsize = 35)\n",
    "    plt.tight_layout()\n",
    "    plt.savefig(\"../Outputs/Sampling_O2/{0:}/{0:}_{1:}_Sample_FBA.tiff\".format(Condition,i), dpi= 60, format=\"tiff\")\n",
    "    plt.close()"
   ]
  },
  {
   "cell_type": "code",
   "execution_count": 18,
   "id": "nearby-costa",
   "metadata": {
    "execution": {
     "iopub.execute_input": "2021-04-23T19:52:19.087612Z",
     "iopub.status.busy": "2021-04-23T19:52:19.087612Z",
     "iopub.status.idle": "2021-04-23T19:52:25.130631Z",
     "shell.execute_reply": "2021-04-23T19:52:25.129717Z",
     "shell.execute_reply.started": "2021-04-23T19:52:19.087612Z"
    }
   },
   "outputs": [
    {
     "name": "stdout",
     "output_type": "stream",
     "text": [
      "Reaction NADH5 0.0\n",
      "Different distribution\n",
      "Reaction RNF 5.579652969011196e-15\n",
      "Different distribution\n",
      "Reaction FIX 0.0\n",
      "Different distribution\n",
      "Reaction NIT1b 0.0\n",
      "Different distribution\n",
      "Reaction CYTBDpp 0.0\n",
      "Different distribution\n",
      "Reaction ATPS4rpp 0.0\n",
      "Different distribution\n",
      "Reaction PDH 7.587803420435317e-14\n",
      "Different distribution\n",
      "Reaction GLNS 1.9113276063904888e-209\n",
      "Different distribution\n",
      "Reaction ICL 0.0\n",
      "Different distribution\n",
      "Reaction ICDHyr 0.0\n",
      "Different distribution\n",
      "Reaction NAD_H2 0.7474431553782116\n",
      "Same distribution\n",
      "Reaction HYD1pp 6.1212029170741075e-12\n",
      "Different distribution\n",
      "Reaction GLCDpp 0.0\n",
      "Different distribution\n",
      "Reaction EDD 0.0\n",
      "Different distribution\n",
      "Reaction HEX1 1.8463582989349723e-17\n",
      "Different distribution\n",
      "Reaction GND 0.0\n",
      "Different distribution\n",
      "Reaction EDD 0.0\n",
      "Different distribution\n",
      "Reaction CS 0.0\n",
      "Different distribution\n",
      "Reaction ICDHyr 0.0\n",
      "Different distribution\n",
      "Reaction AKGDH 0.0\n",
      "Different distribution\n",
      "Reaction GLUSy 6.349850162754404e-182\n",
      "Different distribution\n",
      "Reaction PPCK 3.182729491079924e-10\n",
      "Different distribution\n",
      "Reaction MDH2 0.0\n",
      "Different distribution\n",
      "Reaction ME1 0.06278464908220574\n",
      "Same distribution\n"
     ]
    }
   ],
   "source": [
    "for i in [ \"NADH5\", \"RNF\", \"FIX\", \"NIT1b\", \"CYTBDpp\", \"ATPS4rpp\",\n",
    "         \"PDH\", \"GLNS\", \"ICL\", \"ICDHyr\", \"NAD_H2\", \"HYD1pp\", \"GLCDpp\", \"EDD\", \n",
    "         \"HEX1\", \"GND\", \"EDD\", \"CS\", \"ICDHyr\", \"AKGDH\", \"GLUSy\", \"PPCK\", \"MDH2\", \"ME1\"]: \n",
    "    x1 = solution_model_n2_lowO2.fluxes[i]\n",
    "    x2 = solution_model_n2_highO2.fluxes[i]\n",
    "    j = \"EX_sucr_e\"\n",
    "    make_svg_norm_suc(i,j,S_model_n2_lowO2,S_model_n2_highO2,x1,x2,\"High_Low_O2_norm_suc\")"
   ]
  },
  {
   "cell_type": "code",
   "execution_count": 19,
   "id": "alive-precipitation",
   "metadata": {
    "execution": {
     "iopub.execute_input": "2021-04-23T19:52:25.131631Z",
     "iopub.status.busy": "2021-04-23T19:52:25.130631Z",
     "iopub.status.idle": "2021-04-23T19:52:25.146634Z",
     "shell.execute_reply": "2021-04-23T19:52:25.145631Z",
     "shell.execute_reply.started": "2021-04-23T19:52:25.131631Z"
    }
   },
   "outputs": [],
   "source": [
    "def make_svg_bar_norm_suc(i,j,samples1,samples2,Condition):\n",
    "    # \"#bc5d41\" orange #965da7 purplish\n",
    "\n",
    "    \n",
    "    #multiple to remove negative sign from sucrose import\n",
    "    x_norm = (samples1[i]/(samples1[j]*-1))\n",
    "    y_norm = (samples2[i]/(samples2[j]*-1))\n",
    "   \n",
    "    #round number to the 4 decimal some sampels only differ by 10^12 flux\n",
    "    x_norm_r = x_norm.round(4)\n",
    "    y_norm_r = y_norm.round(4)\n",
    "    \n",
    "    #create merged data frame\n",
    "    df = pd.DataFrame()\n",
    "   \n",
    "    df[\"Low\"] = x_norm_r\n",
    "    df[\"High\"] = y_norm_r\n",
    "    \n",
    "  \n",
    "    #melt df \n",
    "    df2 = pd.melt(df)\n",
    "    \n",
    "    \n",
    "    #measure effect size of data\n",
    "    \n",
    "    def cohen_d(x,y):\n",
    "        nx = len(x)\n",
    "        ny = len(y)\n",
    "        dof = nx + ny - 2\n",
    "        return (mean(x) - mean(y)) / sqrt(((nx-1)*std(x, ddof=1) ** 2 + (ny-1)*std(y, ddof=1) ** 2) / dof)\n",
    "    \n",
    "    d_xy = cohen_d(x_norm,y_norm)\n",
    "\n",
    "    \n",
    "    print(\"Reaction {} low vs high\".format(i), d_xy)\n",
    "\n",
    "    \n",
    "    plt.figure(figsize=(2, 5))\n",
    "    sns.boxplot(x=\"variable\", y=\"value\", data=df2, showfliers=False, width = 0.25, linewidth= 1.5)\n",
    "    #plt.axhline(y = (x1/u1),linewidth=2, linestyle='--', color=\"#bc5d41\")\n",
    "    #plt.axhline(y = (x2/u2),linewidth=2, linestyle='--', color=\"#965da7\")\n",
    "    #plt.yticks([],fontsize=30)\n",
    "    plt.title(\"{}\".format(i),y=0.99, fontsize = 20)\n",
    "    plt.xlabel('$[O_2]$')\n",
    "    plt.ylabel('Relative Flux')\n",
    "    plt.tight_layout()\n",
    "    plt.savefig(\"../Outputs/Sampling_O2/{0:}/{0:}_{1:}_Sample_FBA.tiff\".format(Condition,i), dpi= 300, format=\"tiff\")\n",
    "    plt.close()"
   ]
  },
  {
   "cell_type": "code",
   "execution_count": 20,
   "id": "accessory-overhead",
   "metadata": {
    "execution": {
     "iopub.execute_input": "2021-04-23T19:52:25.147654Z",
     "iopub.status.busy": "2021-04-23T19:52:25.147654Z",
     "iopub.status.idle": "2021-04-23T19:52:27.741846Z",
     "shell.execute_reply": "2021-04-23T19:52:27.741846Z",
     "shell.execute_reply.started": "2021-04-23T19:52:25.147654Z"
    }
   },
   "outputs": [
    {
     "name": "stdout",
     "output_type": "stream",
     "text": [
      "Reaction NADH5 low vs high -7.501004475335296\n",
      "Reaction RNF low vs high 0.817085302822725\n",
      "Reaction FIX low vs high 4.705706348764825\n",
      "Reaction NIT1b low vs high 4.699957362375521\n",
      "Reaction CYTBDpp low vs high -7.540212904096516\n",
      "Reaction ATPS4rpp low vs high -9.296732447482814\n",
      "Reaction PDH low vs high 0.8920958747087642\n",
      "Reaction GLNS low vs high 4.657224107362482\n",
      "Reaction ICL low vs high -4.316907823169067\n",
      "Reaction ICDHyr low vs high -4.316907823169978\n",
      "Reaction NAD_H2 low vs high -0.860074325986788\n",
      "Reaction HYD1pp low vs high 1.1933982892829336\n",
      "Reaction GLCDpp low vs high 0.7566533930665219\n",
      "Reaction EDD low vs high -1.1253397225106399\n",
      "Reaction HEX7 low vs high -0.9173589874217548\n",
      "Reaction HEX1 low vs high 1.5193642723109715\n",
      "Reaction GND low vs high -1.1253397225115436\n",
      "Reaction EDD low vs high -1.1253397225106399\n",
      "Reaction CS low vs high -4.284072060422106\n",
      "Reaction ICDHyr low vs high -4.316907823169978\n",
      "Reaction AKGDH low vs high -3.4992274032585953\n",
      "Reaction GLUSy low vs high 4.142957613166019\n",
      "Reaction PPCK low vs high 0.8161005292909511\n",
      "Reaction MDH2 low vs high -2.1228621638529783\n",
      "Reaction ME1 low vs high 0.7477480418606173\n"
     ]
    }
   ],
   "source": [
    "for i in [ \"NADH5\", \"RNF\", \"FIX\", \"NIT1b\", \"CYTBDpp\", \"ATPS4rpp\",\n",
    "         \"PDH\", \"GLNS\", \"ICL\", \"ICDHyr\", \"NAD_H2\", \"HYD1pp\", \"GLCDpp\", \"EDD\", \"HEX7\",\n",
    "         \"HEX1\", \"GND\", \"EDD\", \"CS\", \"ICDHyr\", \"AKGDH\", \"GLUSy\", \"PPCK\", \"MDH2\", \"ME1\"]: \n",
    "    j = \"EX_sucr_e\"\n",
    "    make_svg_bar_norm_suc(i,j,S_model_n2_lowO2,S_model_n2_highO2,\"High_Low_O2_norm_suc_bar\")"
   ]
  },
  {
   "cell_type": "code",
   "execution_count": 21,
   "id": "swedish-ownership",
   "metadata": {
    "execution": {
     "iopub.execute_input": "2021-04-23T19:52:27.742851Z",
     "iopub.status.busy": "2021-04-23T19:52:27.742851Z",
     "iopub.status.idle": "2021-04-23T19:52:30.926268Z",
     "shell.execute_reply": "2021-04-23T19:52:30.926268Z",
     "shell.execute_reply.started": "2021-04-23T19:52:27.742851Z"
    }
   },
   "outputs": [
    {
     "name": "stdout",
     "output_type": "stream",
     "text": [
      "Reaction NADH5 low vs high 4.253068157141144\n",
      "Reaction RNF low vs high -0.8648024977803909\n",
      "Reaction FIX low vs high -4.843109711887524\n",
      "Reaction NIT1b low vs high -4.801199936568114\n",
      "Reaction CYTBDpp low vs high 2.1786895986155037\n",
      "Reaction ATPS4rpp low vs high 5.965175107920816\n",
      "Reaction PDH low vs high -0.9619676403414149\n",
      "Reaction GLNS low vs high -4.974420711606844\n",
      "Reaction ICL low vs high -0.8596427839709262\n",
      "Reaction ICDHyr low vs high -0.859642783969134\n",
      "Reaction NAD_H2 low vs high 0.9197211650769338\n",
      "Reaction HYD1pp low vs high -1.264733128285718\n",
      "Reaction GLCDpp low vs high -0.7562509293758806\n",
      "Reaction EDD low vs high -3.727291933782115\n",
      "Reaction HEX7 low vs high -6.972383345911725\n",
      "Reaction HEX1 low vs high -1.6186277082478657\n",
      "Reaction GND low vs high -3.7272919337813173\n",
      "Reaction EDD low vs high -3.727291933782115\n",
      "Reaction CS low vs high -0.9761475467967567\n",
      "Reaction ICDHyr low vs high -0.859642783969134\n",
      "Reaction AKGDH low vs high 1.2192937883118515\n",
      "Reaction GLUSy low vs high -4.418133059692009\n",
      "Reaction PPCK low vs high -0.8668540452326591\n",
      "Reaction MDH2 low vs high -2.399045062768634\n",
      "Reaction ME1 low vs high -0.7980046864306076\n"
     ]
    }
   ],
   "source": [
    "for i in [ \"NADH5\", \"RNF\", \"FIX\", \"NIT1b\", \"CYTBDpp\", \"ATPS4rpp\",\n",
    "         \"PDH\", \"GLNS\", \"ICL\", \"ICDHyr\", \"NAD_H2\", \"HYD1pp\", \"GLCDpp\", \"EDD\", \"HEX7\",\n",
    "         \"HEX1\", \"GND\", \"EDD\", \"CS\", \"ICDHyr\", \"AKGDH\", \"GLUSy\", \"PPCK\", \"MDH2\", \"ME1\"]: \n",
    "    j = \"O2tpp\"\n",
    "    make_svg_bar_norm_suc(i,j,S_model_n2_lowO2,S_model_n2_highO2,\"High_Low_O2_norm_O2_bar\")"
   ]
  },
  {
   "cell_type": "code",
   "execution_count": 22,
   "id": "intimate-explorer",
   "metadata": {
    "execution": {
     "iopub.execute_input": "2021-04-23T19:52:30.928234Z",
     "iopub.status.busy": "2021-04-23T19:52:30.927235Z",
     "iopub.status.idle": "2021-04-23T19:52:30.943234Z",
     "shell.execute_reply": "2021-04-23T19:52:30.942235Z",
     "shell.execute_reply.started": "2021-04-23T19:52:30.928234Z"
    }
   },
   "outputs": [],
   "source": [
    "def make_svg_bar_norm_suc(i,j,k,samples1,samples2,Condition):\n",
    "    # \"#bc5d41\" orange #965da7 purplish\n",
    "\n",
    "    \n",
    "    #multiple to remove negative sign from sucrose import\n",
    "    x_norm = (samples1[i]/(samples1[j]*-1))\n",
    "    y_norm = (samples2[i]/(samples2[j]*-1))\n",
    "   \n",
    "    #round number to the 4 decimal some sampels only differ by 10^12 flux\n",
    "    x_norm_r = x_norm.round(4)\n",
    "    y_norm_r = y_norm.round(4)\n",
    "    \n",
    "    #create merged data frame\n",
    "    df = pd.DataFrame()\n",
    "   \n",
    "    df[\"Low\"] = x_norm_r\n",
    "    df[\"High\"] = y_norm_r\n",
    "    \n",
    "  \n",
    "    #melt df \n",
    "    df2 = pd.melt(df)\n",
    "    \n",
    "    \n",
    "    #measure effect size of data\n",
    "    \n",
    "    def cohen_d(x,y):\n",
    "        nx = len(x)\n",
    "        ny = len(y)\n",
    "        dof = nx + ny - 2\n",
    "        return (mean(x) - mean(y)) / sqrt(((nx-1)*std(x, ddof=1) ** 2 + (ny-1)*std(y, ddof=1) ** 2) / dof)\n",
    "    \n",
    "    d_xy = cohen_d(x_norm,y_norm)\n",
    "\n",
    "    \n",
    "    print(\"Reaction {} low vs high\".format(i), d_xy)\n",
    "\n",
    "    \n",
    "    plt.figure(figsize=(4, 1.5)) \n",
    "    \n",
    "    sns.boxplot(y=\"variable\", x=\"value\", data=df2, showfliers=False, width = 0.25, linewidth= 1.5)\n",
    "    sns.set_context(\"paper\")\n",
    "    #plt.axhline(y = (x1/u1),linewidth=2, linestyle='--', color=\"#bc5d41\")\n",
    "    #plt.axhline(y = (x2/u2),linewidth=2, linestyle='--', color=\"#965da7\")\n",
    "    plt.yticks([])\n",
    "    plt.title(\"{}\".format(k),y=1, fontsize = 12)\n",
    "    plt.xlabel(' ', fontsize = 1)\n",
    "    #plt.xlabel('Flux Relative to Sucrose Uptake ')\n",
    "    plt.ylabel(' ', fontsize = 1)\n",
    "    #plt.ylabel('$[O_2]$')\n",
    "    plt.tight_layout()\n",
    "    plt.savefig(\"../Outputs/Sampling_O2/{0:}/{0:}_{1:}_Sample_FBA.tiff\".format(Condition,i), dpi= 300, format=\"tiff\")\n",
    "    plt.close()"
   ]
  },
  {
   "cell_type": "code",
   "execution_count": 23,
   "id": "israeli-layer",
   "metadata": {
    "execution": {
     "iopub.execute_input": "2021-04-23T19:52:30.944238Z",
     "iopub.status.busy": "2021-04-23T19:52:30.944238Z",
     "iopub.status.idle": "2021-04-23T19:52:33.101182Z",
     "shell.execute_reply": "2021-04-23T19:52:33.099244Z",
     "shell.execute_reply.started": "2021-04-23T19:52:30.944238Z"
    }
   },
   "outputs": [
    {
     "name": "stdout",
     "output_type": "stream",
     "text": [
      "Reaction NADH5 low vs high -7.501004475335296\n",
      "Reaction RNF low vs high 0.817085302822725\n",
      "Reaction FIX low vs high 4.705706348764825\n",
      "Reaction NIT1b low vs high 4.699957362375521\n",
      "Reaction CYTBDpp low vs high -7.540212904096516\n",
      "Reaction ATPS4rpp low vs high -9.296732447482814\n",
      "Reaction PDH low vs high 0.8920958747087642\n",
      "Reaction GLNS low vs high 4.657224107362482\n",
      "Reaction ICL low vs high -4.316907823169067\n",
      "Reaction ICDHyr low vs high -4.316907823169978\n",
      "Reaction NAD_H2 low vs high -0.860074325986788\n",
      "Reaction HYD1pp low vs high 1.1933982892829336\n",
      "Reaction GLCDpp low vs high 0.7566533930665219\n",
      "Reaction EDD low vs high -1.1253397225106399\n",
      "Reaction HEX7 low vs high -0.9173589874217548\n",
      "Reaction GND low vs high -1.1253397225115436\n",
      "Reaction CS low vs high -4.284072060422106\n",
      "Reaction AKGDH low vs high -3.4992274032585953\n",
      "Reaction GLUSy low vs high 4.142957613166019\n",
      "Reaction PPCK low vs high 0.8161005292909511\n",
      "Reaction MDH2 low vs high -2.1228621638529783\n",
      "Reaction ME1 low vs high 0.7477480418606173\n",
      "Reaction SUCDi low vs high -4.171028934645653\n"
     ]
    }
   ],
   "source": [
    "rxn = [ \"NADH5\", \"RNF\", \"FIX\", \"NIT1b\", \"CYTBDpp\", \"ATPS4rpp\",\n",
    "         \"PDH\", \"GLNS\", \"ICL\", \"ICDHyr\", \"NAD_H2\", \"HYD1pp\", \"GLCDpp\", \"EDD\", \"HEX7\",\n",
    "          \"GND\", \"CS\",  \"AKGDH\", \"GLUSy\", \"PPCK\", \"MDH2\", \"ME1\", \"SUCDi\"]\n",
    "titles = [ \"NDH I\", \"RNF\", \"FIX\", \"Nitrogenase\", \"Cytchrome bd\", \"ATP synthase\",\n",
    "         \"Pyruvate dehydrogenase\", \"Glutamine synthetase\", \"Isocitrate lyase\", \"Isocitrate dehyrdogenase\", \"Soluble hydrogenase\",\n",
    "          \"Uptake hydrogenase\", \"Glucose dehydrogenase\", \"6-P-gluconate dehydratase\", \"Hexokinase (fructose)\",\n",
    "          \"Phosphogluconate dehydrogenase\", \"Citrate synthase\", \"2-Oxogluterate dehydrogenase\", \"Glutamate synthase\", \n",
    "          \"PEP carboxykinase\", \"Malate dehydrogenase\", \"Malic enzyme\", \"Succinate dehydrogenase\"]\n",
    "for i, k, in zip(rxn, titles):\n",
    "    j = \"EX_sucr_e\"\n",
    "    make_svg_bar_norm_suc(i,j,k,S_model_n2_lowO2,S_model_n2_highO2,\"High_Low_O2_norm_O2_bar\")"
   ]
  },
  {
   "cell_type": "code",
   "execution_count": 24,
   "id": "comic-bernard",
   "metadata": {
    "execution": {
     "iopub.execute_input": "2021-04-23T19:52:33.105167Z",
     "iopub.status.busy": "2021-04-23T19:52:33.105167Z",
     "iopub.status.idle": "2021-04-23T19:52:33.116169Z",
     "shell.execute_reply": "2021-04-23T19:52:33.115168Z",
     "shell.execute_reply.started": "2021-04-23T19:52:33.105167Z"
    }
   },
   "outputs": [
    {
     "name": "stdout",
     "output_type": "stream",
     "text": [
      "0.7035933437663353\n"
     ]
    }
   ],
   "source": [
    "print(max(S_model_n2_highO2[\"NIT1b\"]))"
   ]
  },
  {
   "cell_type": "code",
   "execution_count": 25,
   "id": "mediterranean-reflection",
   "metadata": {
    "execution": {
     "iopub.execute_input": "2021-04-23T19:52:33.117167Z",
     "iopub.status.busy": "2021-04-23T19:52:33.117167Z",
     "iopub.status.idle": "2021-04-23T19:52:33.211972Z",
     "shell.execute_reply": "2021-04-23T19:52:33.211241Z",
     "shell.execute_reply.started": "2021-04-23T19:52:33.117167Z"
    }
   },
   "outputs": [
    {
     "name": "stdout",
     "output_type": "stream",
     "text": [
      "Reaction NIT1b low vs high 4.699957362375521\n"
     ]
    }
   ],
   "source": [
    "i = \"NIT1b\"\n",
    "j = \"EX_sucr_e\"\n",
    "k = \"Nitrogenase1\"\n",
    "make_svg_bar_norm_suc(i, j, k,S_model_n2_lowO2,S_model_n2_highO2,\"High_Low_O2_norm_O2_bar\")"
   ]
  },
  {
   "cell_type": "code",
   "execution_count": 27,
   "id": "aquatic-climb",
   "metadata": {
    "execution": {
     "iopub.execute_input": "2021-04-23T21:28:09.882065Z",
     "iopub.status.busy": "2021-04-23T21:28:09.879097Z",
     "iopub.status.idle": "2021-04-23T21:28:10.035082Z",
     "shell.execute_reply": "2021-04-23T21:28:10.034577Z",
     "shell.execute_reply.started": "2021-04-23T21:28:09.882065Z"
    }
   },
   "outputs": [
    {
     "ename": "NameError",
     "evalue": "name 'samples1' is not defined",
     "output_type": "error",
     "traceback": [
      "\u001b[1;31m---------------------------------------------------------------------------\u001b[0m",
      "\u001b[1;31mNameError\u001b[0m                                 Traceback (most recent call last)",
      "\u001b[1;32m<ipython-input-27-8785851550cf>\u001b[0m in \u001b[0;36m<module>\u001b[1;34m\u001b[0m\n\u001b[1;32m----> 1\u001b[1;33m \u001b[0mx_norm\u001b[0m \u001b[1;33m=\u001b[0m \u001b[1;33m(\u001b[0m\u001b[0msamples1\u001b[0m\u001b[1;33m[\u001b[0m\u001b[1;34m\"NIT1b\"\u001b[0m\u001b[1;33m]\u001b[0m\u001b[1;33m/\u001b[0m\u001b[1;33m(\u001b[0m\u001b[0msamples1\u001b[0m\u001b[1;33m[\u001b[0m\u001b[1;34m\"EX_sucr_e\"\u001b[0m\u001b[1;33m]\u001b[0m\u001b[1;33m*\u001b[0m\u001b[1;33m-\u001b[0m\u001b[1;36m1\u001b[0m\u001b[1;33m)\u001b[0m\u001b[1;33m)\u001b[0m\u001b[1;33m\u001b[0m\u001b[1;33m\u001b[0m\u001b[0m\n\u001b[0m\u001b[0;32m      2\u001b[0m \u001b[0my_norm\u001b[0m \u001b[1;33m=\u001b[0m \u001b[1;33m(\u001b[0m\u001b[0msamples2\u001b[0m\u001b[1;33m[\u001b[0m\u001b[1;34m\"NIT1b\"\u001b[0m\u001b[1;33m]\u001b[0m\u001b[1;33m/\u001b[0m\u001b[1;33m(\u001b[0m\u001b[0msamples2\u001b[0m\u001b[1;33m[\u001b[0m\u001b[1;34m\"EX_sucr_e\"\u001b[0m\u001b[1;33m]\u001b[0m\u001b[1;33m*\u001b[0m\u001b[1;33m-\u001b[0m\u001b[1;36m1\u001b[0m\u001b[1;33m)\u001b[0m\u001b[1;33m)\u001b[0m\u001b[1;33m\u001b[0m\u001b[1;33m\u001b[0m\u001b[0m\n",
      "\u001b[1;31mNameError\u001b[0m: name 'samples1' is not defined"
     ]
    }
   ],
   "source": [
    "x_norm = (samples1[\"NIT1b\"]/(samples1[\"EX_sucr_e\"]*-1))\n",
    "y_norm = (samples2[\"NIT1b\"]/(samples2[\"EX_sucr_e\"]*-1))"
   ]
  },
  {
   "cell_type": "code",
   "execution_count": null,
   "id": "recognized-sympathy",
   "metadata": {},
   "outputs": [],
   "source": []
  }
 ],
 "metadata": {
  "kernelspec": {
   "display_name": "Python 3",
   "language": "python",
   "name": "python3"
  },
  "language_info": {
   "codemirror_mode": {
    "name": "ipython",
    "version": 3
   },
   "file_extension": ".py",
   "mimetype": "text/x-python",
   "name": "python",
   "nbconvert_exporter": "python",
   "pygments_lexer": "ipython3",
   "version": "3.7.10"
  }
 },
 "nbformat": 4,
 "nbformat_minor": 5
}
