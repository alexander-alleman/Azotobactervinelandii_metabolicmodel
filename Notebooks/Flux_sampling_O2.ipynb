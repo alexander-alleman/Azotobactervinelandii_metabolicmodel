{
 "cells": [
  {
   "cell_type": "markdown",
   "id": "vanilla-southwest",
   "metadata": {},
   "source": [
    "# Flux sampling vs oxygen concentration \n",
    "In order to better see the shifts of flux within the metabolism we can use two different approaches first we can use flux variability analysis to determine the range of flux for each reaction. While this will show how each reaction is able to change it does not show in which direction. To be more accurate and have the ability to apply statistics to show change we can use flux sampling. We will be following the work done by [Hermann et al.](https://www.nature.com/articles/s41540-019-0109-0) and be able to ask some systems wide questions that we cannot with regular FBA. \n",
    "\n",
    "1) What is the flux distributions between Rnf and Fix under high and low oxygen concentrations?\n",
    "2) How does carbon metabolism reorganize to increase energy to the ETS and nitrogenase? \n",
    "3) What is the metabolic cost of  increase oxygen on nitrogen fixation?\n",
    "\n",
    "Three main comparisons in the samples are shifts of the ETS, shifts of the ED and TCA pathways, and shifts of nitrogenase flux. "
   ]
  },
  {
   "cell_type": "markdown",
   "id": "sensitive-psychology",
   "metadata": {},
   "source": [
    "From the previous work done in ATPM_compare.ipynb we can show that one pathway NII_BD_R limits the excess ATPM in all conditions but we are still not accurate in the higher oxygen concentrations of 148 and 192 uM. And while a difference between Fix and Rnf is seen in the ATPM study the difference is only a small effect and can be studied in by sampling. So to be accurate we will be using the 108 uM O2 as our high oxygen and 12 uM o2 as our low with only the NDH II and cyt BD as the ETS path. Using 108 uM as not only because it is more accurate but because it also has similar growth yeilds as the higher O2 concentrations while still being distinct from 12 uM conditions. "
   ]
  },
  {
   "cell_type": "code",
   "execution_count": 5,
   "id": "english-prime",
   "metadata": {
    "execution": {
     "iopub.execute_input": "2021-04-11T19:21:31.256764Z",
     "iopub.status.busy": "2021-04-11T19:21:31.256764Z",
     "iopub.status.idle": "2021-04-11T19:21:31.264505Z",
     "shell.execute_reply": "2021-04-11T19:21:31.263757Z",
     "shell.execute_reply.started": "2021-04-11T19:21:31.256764Z"
    }
   },
   "outputs": [],
   "source": [
    "import cobra.test\n",
    "import pandas as pd\n",
    "import matplotlib.pyplot as plt\n",
    "import os\n",
    "import math\n",
    "from os.path import join\n",
    "from cobra import Model, Reaction, Metabolite\n",
    "from cobra.io import save_json_model\n",
    "from cobra.sampling import sample\n",
    "import numpy as np\n",
    "import time\n",
    "import pandas as pd\n",
    "import matplotlib.pyplot as plt\n",
    "import matplotlib.backends.backend_pdf\n",
    "from scipy.stats import mannwhitneyu\n",
    "from scipy.stats import kruskal\n",
    "from cobra.sampling import OptGPSampler\n",
    "from scipy.stats import wilcoxon\n",
    "from numpy import std, mean, sqrt\n",
    "import seaborn as sns"
   ]
  },
  {
   "cell_type": "code",
   "execution_count": 6,
   "id": "complete-buying",
   "metadata": {
    "execution": {
     "iopub.execute_input": "2021-04-11T19:21:31.818268Z",
     "iopub.status.busy": "2021-04-11T19:21:31.818268Z",
     "iopub.status.idle": "2021-04-11T19:21:34.963229Z",
     "shell.execute_reply": "2021-04-11T19:21:34.962267Z",
     "shell.execute_reply.started": "2021-04-11T19:21:31.818268Z"
    }
   },
   "outputs": [],
   "source": [
    "#import model twice to make a high and low model\n",
    "\n",
    "model_n2_highO2 = cobra.io.load_json_model(\"../Data/Models/iAA1300_C.json\")\n",
    "model_n2_lowO2 = cobra.io.load_json_model(\"../Data/Models/iAA1300_C.json\")\n"
   ]
  },
  {
   "cell_type": "code",
   "execution_count": 7,
   "id": "emerging-beads",
   "metadata": {
    "execution": {
     "iopub.execute_input": "2021-04-11T19:21:35.089282Z",
     "iopub.status.busy": "2021-04-11T19:21:35.089282Z",
     "iopub.status.idle": "2021-04-11T19:21:35.103324Z",
     "shell.execute_reply": "2021-04-11T19:21:35.102365Z",
     "shell.execute_reply.started": "2021-04-11T19:21:35.089282Z"
    }
   },
   "outputs": [],
   "source": [
    "#change bounds of model to match growth rate of ~0.2 at the experimental sucrose uptake and predicted ATPM while removing NDH I and Cytchrome C\n",
    "#data 12uM NII_BD_R 3.79 suc 16.25 ATPM\n",
    "#data 108uM NII_BD_R 9.32 suc 110.8 ATPM     #rounded \n",
    "\n",
    "\n",
    "model_n2_highO2.reactions.get_by_id(\"EX_glc__D_e\").lower_bound = 0\n",
    "model_n2_highO2.reactions.get_by_id(\"EX_glc__D_e\").upper_bound = 0\n",
    "model_n2_lowO2.reactions.get_by_id(\"EX_glc__D_e\").lower_bound = 0\n",
    "model_n2_lowO2.reactions.get_by_id(\"EX_glc__D_e\").upper_bound = 0\n",
    "\n",
    "\n",
    "model_n2_highO2.reactions.get_by_id(\"EX_sucr_e\").lower_bound = -9\n",
    "model_n2_highO2.reactions.get_by_id(\"EX_sucr_e\").upper_bound = 0\n",
    "model_n2_lowO2.reactions.get_by_id(\"EX_sucr_e\").lower_bound = -4\n",
    "model_n2_lowO2.reactions.get_by_id(\"EX_sucr_e\").upper_bound = 0\n",
    "\n",
    "model_n2_highO2.reactions.get_by_id(\"PHBS_syn\").upper_bound = 1000\n",
    "model_n2_highO2.reactions.get_by_id(\"PHBS_syn\").lower_bound = 0\n",
    "model_n2_lowO2.reactions.get_by_id(\"PHBS_syn\").upper_bound = 1000\n",
    "model_n2_lowO2.reactions.get_by_id(\"PHBS_syn\").lower_bound = 0\n",
    "\n",
    "model_n2_highO2.reactions.get_by_id(\"ATPM\").lower_bound = 110\n",
    "model_n2_highO2.reactions.get_by_id(\"ATPM\").upper_bound = 110\n",
    "model_n2_lowO2.reactions.get_by_id(\"ATPM\").lower_bound = 16\n",
    "model_n2_lowO2.reactions.get_by_id(\"ATPM\").upper_bound = 16\n",
    "\n",
    "\n",
    "model_n2_highO2.reactions.get_by_id(\"O2tpp\").lower_bound = 0\n",
    "model_n2_highO2.reactions.get_by_id(\"O2tpp\").upper_bound = 1000\n",
    "model_n2_lowO2.reactions.get_by_id(\"O2tpp\").lower_bound = 0\n",
    "model_n2_lowO2.reactions.get_by_id(\"O2tpp\").upper_bound = 1000\n",
    "\n",
    "model_n2_highO2.reactions.get_by_id(\"NADH6\").lower_bound = 0\n",
    "model_n2_highO2.reactions.get_by_id(\"NADH6\").upper_bound = 0\n",
    "model_n2_lowO2.reactions.get_by_id(\"NADH6\").lower_bound = 0\n",
    "model_n2_lowO2.reactions.get_by_id(\"NADH6\").upper_bound = 0\n",
    "\n",
    "model_n2_highO2.reactions.get_by_id(\"CYOO2pp\").lower_bound = 0\n",
    "model_n2_highO2.reactions.get_by_id(\"CYOO2pp\").upper_bound = 0\n",
    "model_n2_lowO2.reactions.get_by_id(\"CYOO2pp\").lower_bound = 0\n",
    "model_n2_lowO2.reactions.get_by_id(\"CYOO2pp\").upper_bound = 0"
   ]
  },
  {
   "cell_type": "markdown",
   "id": "hungarian-percentage",
   "metadata": {},
   "source": [
    "Lets run FBA on these conditions \n"
   ]
  },
  {
   "cell_type": "code",
   "execution_count": 8,
   "id": "miniature-peoples",
   "metadata": {
    "execution": {
     "iopub.execute_input": "2021-04-11T19:21:36.834623Z",
     "iopub.status.busy": "2021-04-11T19:21:36.834623Z",
     "iopub.status.idle": "2021-04-11T19:21:37.339792Z",
     "shell.execute_reply": "2021-04-11T19:21:37.338682Z",
     "shell.execute_reply.started": "2021-04-11T19:21:36.834623Z"
    }
   },
   "outputs": [
    {
     "name": "stdout",
     "output_type": "stream",
     "text": [
      "High O2 sucrose growth rate:  0.201  1/h or a doubling time of  3.450 hrs\n"
     ]
    },
    {
     "data": {
      "text/html": [
       "<h3>Objective</h3><p>1.0 BIOMASS_Av_DJ_core = 0.20093649879386863</p><h4>Uptake</h4><table border=\"1\" class=\"dataframe\">\n",
       "  <thead>\n",
       "    <tr style=\"text-align: right;\">\n",
       "      <th>Metabolite</th>\n",
       "      <th>Reaction</th>\n",
       "      <th>Flux</th>\n",
       "      <th>C-Number</th>\n",
       "      <th>C-Flux</th>\n",
       "    </tr>\n",
       "  </thead>\n",
       "  <tbody>\n",
       "    <tr>\n",
       "      <td>ca2_e</td>\n",
       "      <td>EX_ca2_e</td>\n",
       "      <td>0.001046</td>\n",
       "      <td>0</td>\n",
       "      <td>0.00%</td>\n",
       "    </tr>\n",
       "    <tr>\n",
       "      <td>cl_e</td>\n",
       "      <td>EX_cl_e</td>\n",
       "      <td>0.001046</td>\n",
       "      <td>0</td>\n",
       "      <td>0.00%</td>\n",
       "    </tr>\n",
       "    <tr>\n",
       "      <td>cobalt2_e</td>\n",
       "      <td>EX_cobalt2_e</td>\n",
       "      <td>5.023E-06</td>\n",
       "      <td>0</td>\n",
       "      <td>0.00%</td>\n",
       "    </tr>\n",
       "    <tr>\n",
       "      <td>cu2_e</td>\n",
       "      <td>EX_cu2_e</td>\n",
       "      <td>0.0001425</td>\n",
       "      <td>0</td>\n",
       "      <td>0.00%</td>\n",
       "    </tr>\n",
       "    <tr>\n",
       "      <td>fe2_e</td>\n",
       "      <td>EX_fe2_e</td>\n",
       "      <td>0.001658</td>\n",
       "      <td>0</td>\n",
       "      <td>0.00%</td>\n",
       "    </tr>\n",
       "    <tr>\n",
       "      <td>fe3_e</td>\n",
       "      <td>EX_fe3_e</td>\n",
       "      <td>0.001569</td>\n",
       "      <td>0</td>\n",
       "      <td>0.00%</td>\n",
       "    </tr>\n",
       "    <tr>\n",
       "      <td>h_e</td>\n",
       "      <td>EX_h_e</td>\n",
       "      <td>0.2507</td>\n",
       "      <td>0</td>\n",
       "      <td>0.00%</td>\n",
       "    </tr>\n",
       "    <tr>\n",
       "      <td>k_e</td>\n",
       "      <td>EX_k_e</td>\n",
       "      <td>0.03922</td>\n",
       "      <td>0</td>\n",
       "      <td>0.00%</td>\n",
       "    </tr>\n",
       "    <tr>\n",
       "      <td>mg2_e</td>\n",
       "      <td>EX_mg2_e</td>\n",
       "      <td>0.001743</td>\n",
       "      <td>0</td>\n",
       "      <td>0.00%</td>\n",
       "    </tr>\n",
       "    <tr>\n",
       "      <td>mn2_e</td>\n",
       "      <td>EX_mn2_e</td>\n",
       "      <td>0.0001388</td>\n",
       "      <td>0</td>\n",
       "      <td>0.00%</td>\n",
       "    </tr>\n",
       "    <tr>\n",
       "      <td>mobd_e</td>\n",
       "      <td>EX_mobd_e</td>\n",
       "      <td>1.407E-06</td>\n",
       "      <td>0</td>\n",
       "      <td>0.00%</td>\n",
       "    </tr>\n",
       "    <tr>\n",
       "      <td>n2_e</td>\n",
       "      <td>EX_n2_e</td>\n",
       "      <td>1.051</td>\n",
       "      <td>0</td>\n",
       "      <td>0.00%</td>\n",
       "    </tr>\n",
       "    <tr>\n",
       "      <td>ni2_e</td>\n",
       "      <td>EX_ni2_e</td>\n",
       "      <td>6.49E-05</td>\n",
       "      <td>0</td>\n",
       "      <td>0.00%</td>\n",
       "    </tr>\n",
       "    <tr>\n",
       "      <td>o2_e</td>\n",
       "      <td>EX_o2_e</td>\n",
       "      <td>98.02</td>\n",
       "      <td>0</td>\n",
       "      <td>0.00%</td>\n",
       "    </tr>\n",
       "    <tr>\n",
       "      <td>pi_e</td>\n",
       "      <td>EX_pi_e</td>\n",
       "      <td>0.1938</td>\n",
       "      <td>0</td>\n",
       "      <td>0.00%</td>\n",
       "    </tr>\n",
       "    <tr>\n",
       "      <td>so4_e</td>\n",
       "      <td>EX_so4_e</td>\n",
       "      <td>0.03252</td>\n",
       "      <td>0</td>\n",
       "      <td>0.00%</td>\n",
       "    </tr>\n",
       "    <tr>\n",
       "      <td>sucr_e</td>\n",
       "      <td>EX_sucr_e</td>\n",
       "      <td>9</td>\n",
       "      <td>12</td>\n",
       "      <td>100.00%</td>\n",
       "    </tr>\n",
       "    <tr>\n",
       "      <td>zn2_e</td>\n",
       "      <td>EX_zn2_e</td>\n",
       "      <td>6.852E-05</td>\n",
       "      <td>0</td>\n",
       "      <td>0.00%</td>\n",
       "    </tr>\n",
       "  </tbody>\n",
       "</table><h4>Secretion</h4><table border=\"1\" class=\"dataframe\">\n",
       "  <thead>\n",
       "    <tr style=\"text-align: right;\">\n",
       "      <th>Metabolite</th>\n",
       "      <th>Reaction</th>\n",
       "      <th>Flux</th>\n",
       "      <th>C-Number</th>\n",
       "      <th>C-Flux</th>\n",
       "    </tr>\n",
       "  </thead>\n",
       "  <tbody>\n",
       "    <tr>\n",
       "      <td>4crsol_c</td>\n",
       "      <td>DM_4crsol_c</td>\n",
       "      <td>-4.481E-05</td>\n",
       "      <td>7</td>\n",
       "      <td>0.00%</td>\n",
       "    </tr>\n",
       "    <tr>\n",
       "      <td>5drib_c</td>\n",
       "      <td>DM_5drib_c</td>\n",
       "      <td>-4.521E-05</td>\n",
       "      <td>5</td>\n",
       "      <td>0.00%</td>\n",
       "    </tr>\n",
       "    <tr>\n",
       "      <td>amob_c</td>\n",
       "      <td>DM_amob_c</td>\n",
       "      <td>-4.019E-07</td>\n",
       "      <td>15</td>\n",
       "      <td>0.00%</td>\n",
       "    </tr>\n",
       "    <tr>\n",
       "      <td>ade_e</td>\n",
       "      <td>EX_ade_e</td>\n",
       "      <td>-4.521E-05</td>\n",
       "      <td>5</td>\n",
       "      <td>0.00%</td>\n",
       "    </tr>\n",
       "    <tr>\n",
       "      <td>co2_e</td>\n",
       "      <td>EX_co2_e</td>\n",
       "      <td>-99.98</td>\n",
       "      <td>1</td>\n",
       "      <td>100.00%</td>\n",
       "    </tr>\n",
       "    <tr>\n",
       "      <td>dxylnt_e</td>\n",
       "      <td>EX_dxylnt_e</td>\n",
       "      <td>-0.0001344</td>\n",
       "      <td>5</td>\n",
       "      <td>0.00%</td>\n",
       "    </tr>\n",
       "    <tr>\n",
       "      <td>fald_e</td>\n",
       "      <td>EX_fald_e</td>\n",
       "      <td>-4.019E-07</td>\n",
       "      <td>1</td>\n",
       "      <td>0.00%</td>\n",
       "    </tr>\n",
       "    <tr>\n",
       "      <td>h2o_e</td>\n",
       "      <td>EX_h2o_e</td>\n",
       "      <td>-93.07</td>\n",
       "      <td>0</td>\n",
       "      <td>0.00%</td>\n",
       "    </tr>\n",
       "  </tbody>\n",
       "</table>"
      ],
      "text/plain": [
       "<cobra.summary.model_summary.ModelSummary at 0x1d40bc7e148>"
      ]
     },
     "execution_count": 8,
     "metadata": {},
     "output_type": "execute_result"
    }
   ],
   "source": [
    "solution_model_n2_highO2 = model_n2_highO2.optimize()\n",
    "\n",
    "u = solution_model_n2_highO2.objective_value\n",
    "DT = 0.69314718056/u\n",
    "\n",
    "#write flux to csv using pandas\n",
    "df= pd.DataFrame.from_dict([solution_model_n2_highO2.fluxes]).T\n",
    "df.to_csv('../Data/Sampling_O2/FBA_results/model_n2_highO2.csv')\n",
    "\n",
    "#Output growth rate\n",
    "print('High O2 sucrose growth rate: ' ,'%.3f' %u, ' 1/h' ' or a doubling time of ' ,'%.3f' %DT, 'hrs')\n",
    "model_n2_highO2.summary()"
   ]
  },
  {
   "cell_type": "code",
   "execution_count": 47,
   "id": "curious-blocking",
   "metadata": {
    "execution": {
     "iopub.execute_input": "2021-04-11T19:44:26.432163Z",
     "iopub.status.busy": "2021-04-11T19:44:26.431164Z",
     "iopub.status.idle": "2021-04-11T19:44:26.443363Z",
     "shell.execute_reply": "2021-04-11T19:44:26.443363Z",
     "shell.execute_reply.started": "2021-04-11T19:44:26.431164Z"
    }
   },
   "outputs": [
    {
     "data": {
      "text/plain": [
       "1.0506570392411834"
      ]
     },
     "execution_count": 47,
     "metadata": {},
     "output_type": "execute_result"
    }
   ],
   "source": [
    "solution_model_n2_highO2.fluxes[\"NIT1b\"]"
   ]
  },
  {
   "cell_type": "code",
   "execution_count": 9,
   "id": "dressed-consent",
   "metadata": {
    "execution": {
     "iopub.execute_input": "2021-04-11T17:33:35.078649Z",
     "iopub.status.busy": "2021-04-11T17:33:35.078649Z",
     "iopub.status.idle": "2021-04-11T17:33:35.124580Z",
     "shell.execute_reply": "2021-04-11T17:33:35.123578Z",
     "shell.execute_reply.started": "2021-04-11T17:33:35.078649Z"
    }
   },
   "outputs": [
    {
     "ename": "ModuleNotFoundError",
     "evalue": "No module named 'escher'",
     "output_type": "error",
     "traceback": [
      "\u001b[1;31m---------------------------------------------------------------------------\u001b[0m",
      "\u001b[1;31mModuleNotFoundError\u001b[0m                       Traceback (most recent call last)",
      "\u001b[1;32m<ipython-input-9-d64b68882889>\u001b[0m in \u001b[0;36m<module>\u001b[1;34m\u001b[0m\n\u001b[1;32m----> 1\u001b[1;33m \u001b[1;32mimport\u001b[0m \u001b[0mescher\u001b[0m\u001b[1;33m\u001b[0m\u001b[1;33m\u001b[0m\u001b[0m\n\u001b[0m\u001b[0;32m      2\u001b[0m \u001b[1;32mfrom\u001b[0m \u001b[0mescher\u001b[0m \u001b[1;32mimport\u001b[0m \u001b[0mBuilder\u001b[0m\u001b[1;33m\u001b[0m\u001b[1;33m\u001b[0m\u001b[0m\n\u001b[0;32m      3\u001b[0m \u001b[1;32mfrom\u001b[0m \u001b[0mtime\u001b[0m \u001b[1;32mimport\u001b[0m \u001b[0msleep\u001b[0m\u001b[1;33m\u001b[0m\u001b[1;33m\u001b[0m\u001b[0m\n",
      "\u001b[1;31mModuleNotFoundError\u001b[0m: No module named 'escher'"
     ]
    }
   ],
   "source": [
    "import escher\n",
    "from escher import Builder\n",
    "from time import sleep"
   ]
  },
  {
   "cell_type": "code",
   "execution_count": null,
   "id": "decreased-tyler",
   "metadata": {
    "execution": {
     "iopub.status.busy": "2021-04-11T17:33:35.125598Z",
     "iopub.status.idle": "2021-04-11T17:33:35.125598Z"
    }
   },
   "outputs": [],
   "source": [
    " Builder(model_json = \"../Data/Models/iAA1300_C.json\",\n",
    "                 map_json = '../Data/Escher/Maps/Full_metabolism_AV.json',\n",
    "                  reaction_data = solution_model_n2_highO2.fluxes\n",
    "                      )"
   ]
  },
  {
   "cell_type": "code",
   "execution_count": null,
   "id": "impossible-stand",
   "metadata": {
    "execution": {
     "iopub.status.busy": "2021-04-11T17:33:35.126545Z",
     "iopub.status.idle": "2021-04-11T17:33:35.126545Z"
    }
   },
   "outputs": [],
   "source": [
    "solution_model_n2_lowO2 = model_n2_lowO2.optimize()\n",
    "\n",
    "u = solution_model_n2_lowO2.objective_value\n",
    "DT = 0.69314718056/u\n",
    "\n",
    "#write flux to csv using pandas\n",
    "df= pd.DataFrame.from_dict([solution_model_n2_lowO2.fluxes]).T\n",
    "df.to_csv('../Data/Sampling_O2/FBA_results/model_n2_highO2.csv')\n",
    "\n",
    "#Output growth rate\n",
    "print('High O2 sucrose growth rate: ' ,'%.3f' %u, ' 1/h' ' or a doubling time of ' ,'%.3f' %DT, 'hrs')\n",
    "model_n2_lowO2.summary()"
   ]
  },
  {
   "cell_type": "markdown",
   "id": "retained-apollo",
   "metadata": {
    "execution": {
     "iopub.execute_input": "2021-04-10T20:15:52.522515Z",
     "iopub.status.busy": "2021-04-10T20:15:52.522515Z",
     "iopub.status.idle": "2021-04-10T20:15:53.056144Z",
     "shell.execute_reply": "2021-04-10T20:15:53.056144Z",
     "shell.execute_reply.started": "2021-04-10T20:15:52.522515Z"
    }
   },
   "source": [
    "from the cobra.sampling we will using the sample function to get the samples for each condition. As this is a very computaional process below will just be a demo at 10000 samples. Further samples require a computer cluster and can be found in the sampling.py script. "
   ]
  },
  {
   "cell_type": "code",
   "execution_count": null,
   "id": "objective-public",
   "metadata": {
    "execution": {
     "iopub.status.busy": "2021-04-11T17:33:35.127550Z",
     "iopub.status.idle": "2021-04-11T17:33:35.127550Z"
    }
   },
   "outputs": [],
   "source": [
    "#S_model_n2_highO2 = sample(model_n2_highO2, n=10000, thinning=1000,  processes=8)"
   ]
  },
  {
   "cell_type": "code",
   "execution_count": null,
   "id": "modular-clock",
   "metadata": {
    "execution": {
     "iopub.status.busy": "2021-04-11T17:33:35.128543Z",
     "iopub.status.idle": "2021-04-11T17:33:35.128543Z"
    }
   },
   "outputs": [],
   "source": [
    "#S_model_n2_highO2.to_csv(\"../Data/Sampling_O2/Sampling_results/model_n2_highO2_samples.csv\")"
   ]
  },
  {
   "cell_type": "code",
   "execution_count": null,
   "id": "sensitive-demand",
   "metadata": {
    "execution": {
     "iopub.status.busy": "2021-04-11T17:33:35.129548Z",
     "iopub.status.idle": "2021-04-11T17:33:35.129548Z"
    }
   },
   "outputs": [],
   "source": [
    "#S_model_n2_lowO2 = sample(model_n2_lowO2, n=10000, thinning=1000,  processes=8)"
   ]
  },
  {
   "cell_type": "code",
   "execution_count": null,
   "id": "frequent-invasion",
   "metadata": {
    "execution": {
     "iopub.status.busy": "2021-04-11T17:33:35.130583Z",
     "iopub.status.idle": "2021-04-11T17:33:35.130583Z"
    }
   },
   "outputs": [],
   "source": [
    "#S_model_n2_lowO2.to_csv(\"../Data/Sampling_O2/Sampling_results/model_n2_lowO2_samples.csv\")"
   ]
  },
  {
   "cell_type": "markdown",
   "id": "synthetic-deficit",
   "metadata": {},
   "source": [
    "In order to visualize some of the data we will use the histogram script from Herrmann et al as a template  "
   ]
  },
  {
   "cell_type": "code",
   "execution_count": 9,
   "id": "raising-hartford",
   "metadata": {
    "execution": {
     "iopub.execute_input": "2021-04-11T19:21:45.955723Z",
     "iopub.status.busy": "2021-04-11T19:21:45.954757Z",
     "iopub.status.idle": "2021-04-11T19:21:55.717146Z",
     "shell.execute_reply": "2021-04-11T19:21:55.716199Z",
     "shell.execute_reply.started": "2021-04-11T19:21:45.955723Z"
    }
   },
   "outputs": [],
   "source": [
    "#reload tables not need if just ran above \n",
    "\n",
    "S_model_n2_highO2 = pd.read_csv(\"../Data/Sampling_O2/Sampling_results/model_n2_highO2_samples.csv\")\n",
    "S_model_n2_lowO2= pd.read_csv(\"../Data/Sampling_O2/Sampling_results/model_n2_lowO2_samples.csv\")"
   ]
  },
  {
   "cell_type": "code",
   "execution_count": null,
   "id": "peaceful-lighter",
   "metadata": {},
   "outputs": [],
   "source": []
  },
  {
   "cell_type": "code",
   "execution_count": null,
   "id": "decimal-russian",
   "metadata": {
    "execution": {
     "iopub.status.busy": "2021-04-11T17:33:35.131545Z",
     "iopub.status.idle": "2021-04-11T17:33:35.131545Z"
    }
   },
   "outputs": [],
   "source": [
    "# Load Function and modfied slightly from \n",
    "# https://github.com/HAHerrmann/FluxSamplingComparison/blob/master/ArabidopsisStudy/FluxSamplingAnalysisArabidopsis.ipynb\n",
    "def make_svg(i,samples1,samples2,x1,x2,Condition):\n",
    "    #print(i)\n",
    "    x = samples1[i]\n",
    "    y = samples2[i]\n",
    "    bns = 100\n",
    "    \n",
    "    \n",
    "    xn, xbins, xpatches = plt.hist(x, bins=bns, alpha=0.5,  color = \"#b05abd\", lw=0)\n",
    "    yn, ybins, ypatches = plt.hist(y, bins=bns, alpha=0.5,  color = \"#c7783b\", lw=0)\n",
    "    \n",
    "    #plot FBA results as vertical line\n",
    "    plt.axvline(x = x1,linewidth=2, linestyle='--', color=\"#b05abd\")\n",
    "    plt.axvline(x = x2,linewidth=2, linestyle='--', color=\"#c7783b\")\n",
    "    \n",
    "    #determine if distrubtions are different\n",
    "    stat, p = wilcoxon(x, y)\n",
    "    print(\"Reaction {}\".format(i), p)\n",
    "    alpha = 0.05\n",
    "    if p > alpha:\n",
    "        print('Same distribution')\n",
    "    else:\n",
    "        print('Different distribution')\n",
    "        \n",
    "    plt.xticks([round(min(min(x),min(y)),3),round(max(max(x),max(y)),3)],fontsize=30)\n",
    "    plt.yticks([],fontsize=30)\n",
    "    plt.title(\"{}\".format(i),y=0.99)\n",
    "    plt.tight_layout()\n",
    "    plt.savefig(\"../Outputs/Sampling_O2/{0:}/{0:}_{1:}_Sample_FBA.tiff\".format(Condition,i), dpi= 60, format=\"tiff\")\n",
    "    plt.close()"
   ]
  },
  {
   "cell_type": "code",
   "execution_count": null,
   "id": "senior-friendly",
   "metadata": {
    "execution": {
     "iopub.status.busy": "2021-04-11T17:33:35.132547Z",
     "iopub.status.idle": "2021-04-11T17:33:35.133545Z"
    }
   },
   "outputs": [],
   "source": [
    "for i in [ \"NADH5\", \"RNF\", \"FIX\", \"NIT1b\", \"CYTBDpp\", \"ATPS4rpp\",\n",
    "         \"PDH\", \"GLNS\", \"ICL\", \"ICDHyr\", \"NAD_H2\", \"HYD1pp\", \"GLCDpp\", \"EDD\", \n",
    "         \"HEX1\", \"GND\", \"EDD\", \"CS\", \"ICDHyr\", \"AKGDH\", \"GLUSy\", \"PPCK\", \"MDH2\", \"ME1\"]: \n",
    "    x1 = solution_model_n2_lowO2.fluxes[i]\n",
    "    x2 = solution_model_n2_highO2.fluxes[i]\n",
    "    make_svg(i,S_model_n2_lowO2,S_model_n2_highO2,x1,x2,\"High_Low_O2\")"
   ]
  },
  {
   "cell_type": "markdown",
   "id": "legislative-plaza",
   "metadata": {},
   "source": [
    "As there is some obivous  differences in the flux samples inbetween condtions most of the difference is due to flux rates. So we will normalize them to sucrose uptake rates in order to better compare the two.  "
   ]
  },
  {
   "cell_type": "code",
   "execution_count": null,
   "id": "following-money",
   "metadata": {
    "execution": {
     "iopub.status.busy": "2021-04-11T17:33:35.133545Z",
     "iopub.status.idle": "2021-04-11T17:33:35.133545Z"
    }
   },
   "outputs": [],
   "source": [
    "def make_svg_norm_suc(i,j,samples1,samples2,x1,x2,Condition):\n",
    "    #\"#b05abd\" purple \"#c7783b\" orange\n",
    "    x = samples1[i]\n",
    "    y = samples2[i]\n",
    "    #multiple to remove negative sign from sucrose import\n",
    "    x_norm = (samples1[i]/(samples1[j]*-1))\n",
    "    y_norm = (samples2[i]/(samples2[j]*-1))\n",
    "    \n",
    "    u1 = solution_model_n2_lowO2.fluxes[j]*-1\n",
    "    u2 = solution_model_n2_highO2.fluxes[j]*-1\n",
    "    \n",
    "    bns = 100\n",
    "\n",
    "    xn, xbins, xpatches = plt.hist(x_norm, bins=bns, alpha=0.5, color = \"#b05abd\", lw=0)\n",
    "    yn, ybins, ypatches = plt.hist(y_norm, bins=bns, alpha=0.5,  color = \"#c7783b\", lw=0)\n",
    "    \n",
    "    plt.axvline(x = (x1/u1),linewidth=2, linestyle='--', color=\"#b05abd\")\n",
    "    plt.axvline(x = (x2/u2),linewidth=2, linestyle='--', color=\"#c7783b\")\n",
    "    \n",
    "\n",
    "    #determine if distrubtions are different\n",
    "    stat, p = wilcoxon(x, y)\n",
    "    print(\"Reaction {}\".format(i), p)\n",
    "    alpha = 0.05\n",
    "    if p > alpha:\n",
    "        print('Same distribution')\n",
    "    else:\n",
    "        print('Different distribution')\n",
    "\n",
    "    plt.xticks([round(min(min(x_norm),min(y_norm)),3),round(max(max(x_norm),max(y_norm)),3)],fontsize=30)\n",
    "    plt.yticks([],fontsize=30)\n",
    "    plt.title(\"{}\".format(i),y=0.99, fontsize = 35)\n",
    "    plt.tight_layout()\n",
    "    plt.savefig(\"../Outputs/Sampling_O2/{0:}/{0:}_{1:}_Sample_FBA.tiff\".format(Condition,i), dpi= 60, format=\"tiff\")\n",
    "    plt.close()"
   ]
  },
  {
   "cell_type": "code",
   "execution_count": null,
   "id": "checked-removal",
   "metadata": {
    "execution": {
     "iopub.status.busy": "2021-04-11T17:33:35.134546Z",
     "iopub.status.idle": "2021-04-11T17:33:35.134546Z"
    }
   },
   "outputs": [],
   "source": [
    "for i in [ \"NADH5\", \"RNF\", \"FIX\", \"NIT1b\", \"CYTBDpp\", \"ATPS4rpp\",\n",
    "         \"PDH\", \"GLNS\", \"ICL\", \"ICDHyr\", \"NAD_H2\", \"HYD1pp\", \"GLCDpp\", \"EDD\", \n",
    "         \"HEX1\", \"GND\", \"EDD\", \"CS\", \"ICDHyr\", \"AKGDH\", \"GLUSy\", \"PPCK\", \"MDH2\", \"ME1\"]: \n",
    "    x1 = solution_model_n2_lowO2.fluxes[i]\n",
    "    x2 = solution_model_n2_highO2.fluxes[i]\n",
    "    j = \"EX_sucr_e\"\n",
    "    make_svg_norm_suc(i,j,S_model_n2_lowO2,S_model_n2_highO2,x1,x2,\"High_Low_O2_norm_suc\")"
   ]
  },
  {
   "cell_type": "code",
   "execution_count": 10,
   "id": "breathing-bernard",
   "metadata": {
    "execution": {
     "iopub.execute_input": "2021-04-11T19:21:55.719105Z",
     "iopub.status.busy": "2021-04-11T19:21:55.719105Z",
     "iopub.status.idle": "2021-04-11T19:21:55.747933Z",
     "shell.execute_reply": "2021-04-11T19:21:55.746925Z",
     "shell.execute_reply.started": "2021-04-11T19:21:55.719105Z"
    }
   },
   "outputs": [],
   "source": [
    "def make_svg_bar_norm_suc(i,j,samples1,samples2,Condition):\n",
    "    # \"#bc5d41\" orange #965da7 purplish\n",
    "\n",
    "    \n",
    "    #multiple to remove negative sign from sucrose import\n",
    "    x_norm = (samples1[i]/(samples1[j]*-1))\n",
    "    y_norm = (samples2[i]/(samples2[j]*-1))\n",
    "   \n",
    "    #round number to the 4 decimal some sampels only differ by 10^12 flux\n",
    "    x_norm_r = x_norm.round(4)\n",
    "    y_norm_r = y_norm.round(4)\n",
    "    \n",
    "    #create merged data frame\n",
    "    df = pd.DataFrame()\n",
    "   \n",
    "    df[\"Low\"] = x_norm_r\n",
    "    df[\"High\"] = y_norm_r\n",
    "    \n",
    "  \n",
    "    #melt df \n",
    "    df2 = pd.melt(df)\n",
    "    \n",
    "    \n",
    "    #measure effect size of data\n",
    "    \n",
    "    def cohen_d(x,y):\n",
    "        nx = len(x)\n",
    "        ny = len(y)\n",
    "        dof = nx + ny - 2\n",
    "        return (mean(x) - mean(y)) / sqrt(((nx-1)*std(x, ddof=1) ** 2 + (ny-1)*std(y, ddof=1) ** 2) / dof)\n",
    "    \n",
    "    d_xy = cohen_d(x_norm,y_norm)\n",
    "\n",
    "    \n",
    "    print(\"Reaction {} low vs high\".format(i), d_xy)\n",
    "\n",
    "    \n",
    "    plt.figure(figsize=(2, 5))\n",
    "    sns.boxplot(x=\"variable\", y=\"value\", data=df2, showfliers=False, width = 0.25, linewidth= 1.5)\n",
    "    #plt.axhline(y = (x1/u1),linewidth=2, linestyle='--', color=\"#bc5d41\")\n",
    "    #plt.axhline(y = (x2/u2),linewidth=2, linestyle='--', color=\"#965da7\")\n",
    "    #plt.yticks([],fontsize=30)\n",
    "    plt.title(\"{}\".format(i),y=0.99, fontsize = 20)\n",
    "    plt.xlabel('$[O_2]$')\n",
    "    plt.ylabel('Relative Flux')\n",
    "    plt.tight_layout()\n",
    "    plt.savefig(\"../Outputs/Sampling_O2/{0:}/{0:}_{1:}_Sample_FBA.tiff\".format(Condition,i), dpi= 300, format=\"tiff\")\n",
    "    plt.close()"
   ]
  },
  {
   "cell_type": "code",
   "execution_count": 11,
   "id": "civilian-train",
   "metadata": {
    "execution": {
     "iopub.execute_input": "2021-04-11T19:21:56.668709Z",
     "iopub.status.busy": "2021-04-11T19:21:56.668709Z",
     "iopub.status.idle": "2021-04-11T19:21:59.722029Z",
     "shell.execute_reply": "2021-04-11T19:21:59.721030Z",
     "shell.execute_reply.started": "2021-04-11T19:21:56.668709Z"
    }
   },
   "outputs": [
    {
     "name": "stdout",
     "output_type": "stream",
     "text": [
      "Reaction NADH5 low vs high -7.423586326258397\n",
      "Reaction RNF low vs high 0.7906005343662608\n",
      "Reaction FIX low vs high 4.703324730474055\n",
      "Reaction NIT1b low vs high 4.295089448167433\n",
      "Reaction CYTBDpp low vs high -7.423888899046835\n",
      "Reaction ATPS4rpp low vs high -9.280737444937062\n",
      "Reaction PDH low vs high 0.8799161351139672\n",
      "Reaction GLNS low vs high 4.6388091302868375\n",
      "Reaction ICL low vs high -3.74832387008235\n",
      "Reaction ICDHyr low vs high -3.7483238700824164\n",
      "Reaction NAD_H2 low vs high -1.0649095353277378\n",
      "Reaction HYD1pp low vs high 1.3169030656888763\n",
      "Reaction GLCDpp low vs high -0.1522332385216501\n",
      "Reaction EDD low vs high -1.0672153492005187\n",
      "Reaction HEX7 low vs high -0.23372175216167443\n",
      "Reaction HEX1 low vs high 1.4986231341861747\n",
      "Reaction GND low vs high -1.0672153492019767\n",
      "Reaction EDD low vs high -1.0672153492005187\n",
      "Reaction CS low vs high -3.7368369246919784\n",
      "Reaction ICDHyr low vs high -3.7483238700824164\n",
      "Reaction AKGDH low vs high -3.4320055147200472\n",
      "Reaction GLUSy low vs high 4.106682080191784\n",
      "Reaction PPCK low vs high 0.8916310048909434\n",
      "Reaction MDH2 low vs high -1.7924523603252878\n",
      "Reaction ME1 low vs high 0.7751426328325138\n"
     ]
    }
   ],
   "source": [
    "for i in [ \"NADH5\", \"RNF\", \"FIX\", \"NIT1b\", \"CYTBDpp\", \"ATPS4rpp\",\n",
    "         \"PDH\", \"GLNS\", \"ICL\", \"ICDHyr\", \"NAD_H2\", \"HYD1pp\", \"GLCDpp\", \"EDD\", \"HEX7\",\n",
    "         \"HEX1\", \"GND\", \"EDD\", \"CS\", \"ICDHyr\", \"AKGDH\", \"GLUSy\", \"PPCK\", \"MDH2\", \"ME1\"]: \n",
    "    j = \"EX_sucr_e\"\n",
    "    make_svg_bar_norm_suc(i,j,S_model_n2_lowO2,S_model_n2_highO2,\"High_Low_O2_norm_suc_bar\")"
   ]
  },
  {
   "cell_type": "code",
   "execution_count": 12,
   "id": "atlantic-income",
   "metadata": {
    "execution": {
     "iopub.execute_input": "2021-04-11T19:21:59.723028Z",
     "iopub.status.busy": "2021-04-11T19:21:59.723028Z",
     "iopub.status.idle": "2021-04-11T19:22:03.163998Z",
     "shell.execute_reply": "2021-04-11T19:22:03.163998Z",
     "shell.execute_reply.started": "2021-04-11T19:21:59.723028Z"
    }
   },
   "outputs": [
    {
     "name": "stdout",
     "output_type": "stream",
     "text": [
      "Reaction NADH5 low vs high 4.0613562597653\n",
      "Reaction RNF low vs high -0.8286741731981392\n",
      "Reaction FIX low vs high -4.876073044188804\n",
      "Reaction NIT1b low vs high -4.442277220914098\n",
      "Reaction CYTBDpp low vs high 2.2007133317658956\n",
      "Reaction ATPS4rpp low vs high 6.184788427469455\n",
      "Reaction PDH low vs high -0.9451140347247323\n",
      "Reaction GLNS low vs high -4.946293052916989\n",
      "Reaction ICL low vs high -0.35257636792770847\n",
      "Reaction ICDHyr low vs high -0.3525763679281865\n",
      "Reaction NAD_H2 low vs high 1.1232533896395125\n",
      "Reaction HYD1pp low vs high -1.387517739074213\n",
      "Reaction GLCDpp low vs high 0.14121887563894533\n",
      "Reaction EDD low vs high -3.2236311312975037\n",
      "Reaction HEX7 low vs high -6.313382454943441\n",
      "Reaction HEX1 low vs high -1.5976993335417753\n",
      "Reaction GND low vs high -3.2236311312963433\n",
      "Reaction EDD low vs high -3.2236311312975037\n",
      "Reaction CS low vs high -0.437183002149052\n",
      "Reaction ICDHyr low vs high -0.3525763679281865\n",
      "Reaction AKGDH low vs high 1.275525747619266\n",
      "Reaction GLUSy low vs high -4.370787840208576\n",
      "Reaction PPCK low vs high -0.9355096839609521\n",
      "Reaction MDH2 low vs high -2.326108184852969\n",
      "Reaction ME1 low vs high -0.8257674279380119\n"
     ]
    }
   ],
   "source": [
    "for i in [ \"NADH5\", \"RNF\", \"FIX\", \"NIT1b\", \"CYTBDpp\", \"ATPS4rpp\",\n",
    "         \"PDH\", \"GLNS\", \"ICL\", \"ICDHyr\", \"NAD_H2\", \"HYD1pp\", \"GLCDpp\", \"EDD\", \"HEX7\",\n",
    "         \"HEX1\", \"GND\", \"EDD\", \"CS\", \"ICDHyr\", \"AKGDH\", \"GLUSy\", \"PPCK\", \"MDH2\", \"ME1\"]: \n",
    "    j = \"O2tpp\"\n",
    "    make_svg_bar_norm_suc(i,j,S_model_n2_lowO2,S_model_n2_highO2,\"High_Low_O2_norm_O2_bar\")"
   ]
  },
  {
   "cell_type": "code",
   "execution_count": 90,
   "id": "suitable-robert",
   "metadata": {
    "execution": {
     "iopub.execute_input": "2021-04-11T20:28:55.572968Z",
     "iopub.status.busy": "2021-04-11T20:28:55.572968Z",
     "iopub.status.idle": "2021-04-11T20:28:55.586965Z",
     "shell.execute_reply": "2021-04-11T20:28:55.586965Z",
     "shell.execute_reply.started": "2021-04-11T20:28:55.572968Z"
    }
   },
   "outputs": [],
   "source": [
    "def make_svg_bar_norm_suc(i,j,k,samples1,samples2,Condition):\n",
    "    # \"#bc5d41\" orange #965da7 purplish\n",
    "\n",
    "    \n",
    "    #multiple to remove negative sign from sucrose import\n",
    "    x_norm = (samples1[i]/(samples1[j]*-1))\n",
    "    y_norm = (samples2[i]/(samples2[j]*-1))\n",
    "   \n",
    "    #round number to the 4 decimal some sampels only differ by 10^12 flux\n",
    "    x_norm_r = x_norm.round(2)\n",
    "    y_norm_r = y_norm.round(2)\n",
    "    \n",
    "    #create merged data frame\n",
    "    df = pd.DataFrame()\n",
    "   \n",
    "    df[\"Low\"] = x_norm_r\n",
    "    df[\"High\"] = y_norm_r\n",
    "    \n",
    "  \n",
    "    #melt df \n",
    "    df2 = pd.melt(df)\n",
    "    \n",
    "    \n",
    "    #measure effect size of data\n",
    "    \n",
    "    def cohen_d(x,y):\n",
    "        nx = len(x)\n",
    "        ny = len(y)\n",
    "        dof = nx + ny - 2\n",
    "        return (mean(x) - mean(y)) / sqrt(((nx-1)*std(x, ddof=1) ** 2 + (ny-1)*std(y, ddof=1) ** 2) / dof)\n",
    "    \n",
    "    d_xy = cohen_d(x_norm,y_norm)\n",
    "\n",
    "    \n",
    "    print(\"Reaction {} low vs high\".format(i), d_xy)\n",
    "\n",
    "    \n",
    "    plt.figure(figsize=(4, 1.5)) \n",
    "    \n",
    "    sns.boxplot(y=\"variable\", x=\"value\", data=df2, showfliers=False, width = 0.25, linewidth= 1.5)\n",
    "    sns.set_context(\"paper\")\n",
    "    #plt.axhline(y = (x1/u1),linewidth=2, linestyle='--', color=\"#bc5d41\")\n",
    "    #plt.axhline(y = (x2/u2),linewidth=2, linestyle='--', color=\"#965da7\")\n",
    "    plt.yticks([])\n",
    "    plt.title(\"{}\".format(k),y=1, fontsize = 12)\n",
    "    plt.xlabel(' ', fontsize = 1)\n",
    "    #plt.xlabel('Flux Relative to Sucrose Uptake ')\n",
    "    plt.ylabel(' ', fontsize = 1)\n",
    "    #plt.ylabel('$[O_2]$')\n",
    "    plt.tight_layout()\n",
    "    plt.savefig(\"../Outputs/Sampling_O2/{0:}/{0:}_{1:}_Sample_FBA.tiff\".format(Condition,i), dpi= 300, format=\"tiff\")\n",
    "    plt.close()"
   ]
  },
  {
   "cell_type": "code",
   "execution_count": 93,
   "id": "great-proposal",
   "metadata": {
    "execution": {
     "iopub.execute_input": "2021-04-11T22:23:45.689406Z",
     "iopub.status.busy": "2021-04-11T22:23:45.686406Z",
     "iopub.status.idle": "2021-04-11T22:23:48.359896Z",
     "shell.execute_reply": "2021-04-11T22:23:48.358917Z",
     "shell.execute_reply.started": "2021-04-11T22:23:45.689406Z"
    }
   },
   "outputs": [
    {
     "name": "stdout",
     "output_type": "stream",
     "text": [
      "Reaction NADH5 low vs high -7.423586326258397\n",
      "Reaction RNF low vs high 0.7906005343662608\n",
      "Reaction FIX low vs high 4.703324730474055\n",
      "Reaction NIT1b low vs high 4.295089448167433\n",
      "Reaction CYTBDpp low vs high -7.423888899046835\n",
      "Reaction ATPS4rpp low vs high -9.280737444937062\n",
      "Reaction PDH low vs high 0.8799161351139672\n",
      "Reaction GLNS low vs high 4.6388091302868375\n",
      "Reaction ICL low vs high -3.74832387008235\n",
      "Reaction ICDHyr low vs high -3.7483238700824164\n",
      "Reaction NAD_H2 low vs high -1.0649095353277378\n",
      "Reaction HYD1pp low vs high 1.3169030656888763\n",
      "Reaction GLCDpp low vs high -0.1522332385216501\n",
      "Reaction EDD low vs high -1.0672153492005187\n",
      "Reaction HEX7 low vs high -0.23372175216167443\n",
      "Reaction GND low vs high -1.0672153492019767\n",
      "Reaction CS low vs high -3.7368369246919784\n",
      "Reaction AKGDH low vs high -3.4320055147200472\n",
      "Reaction GLUSy low vs high 4.106682080191784\n",
      "Reaction PPCK low vs high 0.8916310048909434\n",
      "Reaction MDH2 low vs high -1.7924523603252878\n",
      "Reaction ME1 low vs high 0.7751426328325138\n",
      "Reaction SUCDi low vs high -3.6338979713831048\n"
     ]
    }
   ],
   "source": [
    "rxn = [ \"NADH5\", \"RNF\", \"FIX\", \"NIT1b\", \"CYTBDpp\", \"ATPS4rpp\",\n",
    "         \"PDH\", \"GLNS\", \"ICL\", \"ICDHyr\", \"NAD_H2\", \"HYD1pp\", \"GLCDpp\", \"EDD\", \"HEX7\",\n",
    "          \"GND\", \"CS\",  \"AKGDH\", \"GLUSy\", \"PPCK\", \"MDH2\", \"ME1\", \"SUCDi\"]\n",
    "titles = [ \"NDH I\", \"RNF\", \"FIX\", \"Nitrogenase\", \"Cytchrome bd\", \"ATP synthase\",\n",
    "         \"Pyruvate dehydrogenase\", \"Glutamine synthetase\", \"Isocitrate lyase\", \"Isocitrate dehyrdogenase\", \"Soluble hydrogenase\",\n",
    "          \"Uptake hydrogenase\", \"Glucose dehydrogenase\", \"6-P-gluconate dehydratase\", \"Hexokinase (fructose)\",\n",
    "          \"Phosphogluconate dehydrogenase\", \"Citrate synthase\", \"2-Oxogluterate dehydrogenase\", \"Glutamate synthase\", \n",
    "          \"PEP carboxykinase\", \"Malate dehydrogenase\", \"Malic enzyme\", \"Succinate dehydrogenase\"]\n",
    "for i, k, in zip(rxn, titles):\n",
    "    j = \"EX_sucr_e\"\n",
    "    make_svg_bar_norm_suc(i,j,k,S_model_n2_lowO2,S_model_n2_highO2,\"High_Low_O2_norm_O2_bar\")"
   ]
  },
  {
   "cell_type": "code",
   "execution_count": 48,
   "id": "stretch-vitamin",
   "metadata": {
    "execution": {
     "iopub.execute_input": "2021-04-11T19:44:43.907195Z",
     "iopub.status.busy": "2021-04-11T19:44:43.907195Z",
     "iopub.status.idle": "2021-04-11T19:44:43.915226Z",
     "shell.execute_reply": "2021-04-11T19:44:43.915226Z",
     "shell.execute_reply.started": "2021-04-11T19:44:43.907195Z"
    }
   },
   "outputs": [
    {
     "name": "stdout",
     "output_type": "stream",
     "text": [
      "0.9871284351088124\n"
     ]
    }
   ],
   "source": [
    "print(max(S_model_n2_highO2[\"NIT1b\"]))"
   ]
  },
  {
   "cell_type": "code",
   "execution_count": null,
   "id": "million-concord",
   "metadata": {},
   "outputs": [],
   "source": []
  }
 ],
 "metadata": {
  "kernelspec": {
   "display_name": "Python 3",
   "language": "python",
   "name": "python3"
  },
  "language_info": {
   "codemirror_mode": {
    "name": "ipython",
    "version": 3
   },
   "file_extension": ".py",
   "mimetype": "text/x-python",
   "name": "python",
   "nbconvert_exporter": "python",
   "pygments_lexer": "ipython3",
   "version": "3.7.10"
  }
 },
 "nbformat": 4,
 "nbformat_minor": 5
}
