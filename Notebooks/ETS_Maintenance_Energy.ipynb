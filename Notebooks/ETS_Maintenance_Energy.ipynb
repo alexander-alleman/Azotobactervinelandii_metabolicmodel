{
 "cells": [
  {
   "cell_type": "code",
   "execution_count": 9,
   "metadata": {
    "ExecuteTime": {
     "end_time": "2021-03-06T21:16:30.638879Z",
     "start_time": "2021-03-06T21:16:26.938754Z"
    },
    "execution": {
     "iopub.execute_input": "2021-03-26T18:13:01.930382Z",
     "iopub.status.busy": "2021-03-26T18:13:01.930382Z",
     "iopub.status.idle": "2021-03-26T18:13:02.360826Z",
     "shell.execute_reply": "2021-03-26T18:13:02.359909Z",
     "shell.execute_reply.started": "2021-03-26T18:13:01.930382Z"
    }
   },
   "outputs": [],
   "source": [
    "import cobra.test\n",
    "import pandas as pd\n",
    "import matplotlib.pyplot as plt\n",
    "from numpy.polynomial.polynomial import polyfit\n",
    "import numpy as np\n",
    "import seaborn as sns\n",
    "import os\n",
    "import math\n",
    "from os.path import join\n",
    "from cobra import Model, Reaction, Metabolite\n",
    "from cobra.io import save_json_model\n"
   ]
  },
  {
   "cell_type": "markdown",
   "metadata": {},
   "source": [
    "### Determine Maintenance energy for each biologically relevant combination of the electron transport system\n",
    "\n",
    "To do this we will have a set of enzyme combinations to make a unique path that will share electrons between O2 reduction and N2 reduction. Each path will have a different stoichiometry for proton translocation leading to different sucrose per ATP ratio. So given a the experimentally determined maintenance coefficient (mmol of sucrose/ hr/ gCDW) different maintenance rates (ATPM) will be given for each ETS pathway. The assumption that will be made is that a minimizing of the ATP maintenance is preferred (more on this assumption later). So each ETS path will have a corresponding ATPM flux in each O2 concentration we can then use this ATPM flux (determined from experimental maintenance coefficient) and make it a constant in a simulation with experimentally determined sucrose uptake rate. With the given sucrose uptake rate and the determined ATPM flux we can test how similar the predicted growth is to the experimental growth. \n",
    "\n",
    "By looking at the branched diagram below we can divide the ETS network into 8 paths each with the NADHI/NADHII, RNF/FIX, or Cytbd/cytco pairs. \n",
    "\n"
   ]
  },
  {
   "cell_type": "markdown",
   "metadata": {},
   "source": [
    "<img src=\"Images/branched.PNG\" width=800 height=400 />"
   ]
  },
  {
   "cell_type": "markdown",
   "metadata": {},
   "source": [
    "For nomenclature we will simplify names as follows: \n",
    "\n",
    "- **NADH5**- NADH dehydrogenase II (uncoupled) = NII\n",
    "- **NADH6**- NADH dehyrdogenase I (coupled) = NI\n",
    "- **FIX**- Fix = F\n",
    "- **RNF**- Rnf = R\n",
    "- **CYTBDpp**- Cytochrome bd = BD\n",
    "- **CYOO2pp**- Cytochrome c pathways (complex III and IV) = CO\n",
    "\n",
    "So there are 8 combinations \n",
    "\n",
    "- NII_BD_F\n",
    "- NII_CO_F\n",
    "- NII_BD_R\n",
    "- NII_CO_R\n",
    "- NI_BD_F\n",
    "- NI_CO_F\n",
    "- NI_BD_R\n",
    "- NI_CO_R\n",
    "\n",
    "*We know that there will be overlap in total H+/e- translocated and that some of these combinations are not biologically relevant (NII CO) but looking at all combinations allow for interpretations of \"inbetween\" states*\n",
    "\n",
    "Now to add some confusion to nomenclature we will have to knockout the enzymes not in the path. So we will make a list of reaction ids of enzymes not in the path. "
   ]
  },
  {
   "cell_type": "code",
   "execution_count": 16,
   "metadata": {
    "ExecuteTime": {
     "end_time": "2021-03-07T01:17:49.043501Z",
     "start_time": "2021-03-07T01:17:49.037501Z"
    },
    "execution": {
     "iopub.execute_input": "2021-03-26T18:14:30.068777Z",
     "iopub.status.busy": "2021-03-26T18:14:30.067744Z",
     "iopub.status.idle": "2021-03-26T18:14:30.077359Z",
     "shell.execute_reply": "2021-03-26T18:14:30.077359Z",
     "shell.execute_reply.started": "2021-03-26T18:14:30.068777Z"
    }
   },
   "outputs": [],
   "source": [
    "#reaction ids not in pathway then \"name\" of pathway\n",
    "NII_BD_F = [\"NADH6\", \"CYOO2pp\", \"RNF\", \"NII_BD_F\"]\n",
    "NII_CO_F = [\"NADH6\", \"CYTBDpp\", \"RNF\", \"NII_CO_F\"]\n",
    "NII_BD_R = [\"NADH6\", \"CYOO2pp\", \"FIX\", \"NII_BD_R\"]\n",
    "NII_CO_R = [\"NADH6\", \"CYTBDpp\", \"FIX\", \"NII_CO_R\"]\n",
    "NI_BD_F = [\"NADH5\", \"CYTBDpp\", \"RNF\", \"NI_BD_F\"]\n",
    "NI_CO_F = [\"NADH5\", \"CYTBDpp\", \"RNF\", \"NI_CO_F\"] \n",
    "NI_BD_R = [\"NADH5\", \"CYOO2pp\", \"FIX\", \"NI_BD_R\"]\n",
    "NI_CO_R= [\"NADH5\", \"CYTBDpp\", \"FIX\", \"NI_CO_R\"]\n",
    "\n",
    "all_paths = [NII_BD_F,\n",
    "                NII_CO_F, \n",
    "                NII_BD_R,\n",
    "                NII_CO_R,\n",
    "                NI_BD_F,\n",
    "                NI_CO_F,\n",
    "                NI_BD_R,\n",
    "                NI_CO_R]"
   ]
  },
  {
   "cell_type": "code",
   "execution_count": 17,
   "metadata": {
    "ExecuteTime": {
     "end_time": "2021-03-07T01:17:51.244994Z",
     "start_time": "2021-03-07T01:17:51.240997Z"
    },
    "execution": {
     "iopub.execute_input": "2021-03-26T18:16:51.735896Z",
     "iopub.status.busy": "2021-03-26T18:16:51.734895Z",
     "iopub.status.idle": "2021-03-26T18:16:51.752851Z",
     "shell.execute_reply": "2021-03-26T18:16:51.751851Z",
     "shell.execute_reply.started": "2021-03-26T18:16:51.735896Z"
    }
   },
   "outputs": [
    {
     "data": {
      "text/plain": [
       "[['NADH6', 'CYOO2pp', 'RNF', 'NII_BD_F'],\n",
       " ['NADH6', 'CYTBDpp', 'RNF', 'NII_CO_F'],\n",
       " ['NADH6', 'CYOO2pp', 'FIX', 'NII_BD_R'],\n",
       " ['NADH6', 'CYTBDpp', 'FIX', 'NII_CO_R'],\n",
       " ['NADH5', 'CYTBDpp', 'RNF', 'NI_BD_F'],\n",
       " ['NADH5', 'CYTBDpp', 'RNF', 'NI_CO_F'],\n",
       " ['NADH5', 'CYOO2pp', 'FIX', 'NI_BD_R'],\n",
       " ['NADH5', 'CYTBDpp', 'FIX', 'NI_CO_R']]"
      ]
     },
     "execution_count": 17,
     "metadata": {},
     "output_type": "execute_result"
    }
   ],
   "source": [
    "#check names\n",
    "all_paths"
   ]
  },
  {
   "cell_type": "markdown",
   "metadata": {
    "ExecuteTime": {
     "end_time": "2021-03-06T20:53:57.859610Z",
     "start_time": "2021-03-06T20:53:57.854608Z"
    }
   },
   "source": [
    "Now we want to write a function that can determine the ATPM flux over under multiple different $O_2$ concentrations for each pathway. First lay out the maintenance coefficients from Khula and Oelze 1988 (in data folder): \"Khula_Oelze_1988_Table_1.csv\""
   ]
  },
  {
   "cell_type": "code",
   "execution_count": 18,
   "metadata": {
    "ExecuteTime": {
     "end_time": "2021-03-07T01:17:57.245497Z",
     "start_time": "2021-03-07T01:17:57.242494Z"
    },
    "execution": {
     "iopub.execute_input": "2021-03-26T18:16:54.748770Z",
     "iopub.status.busy": "2021-03-26T18:16:54.748770Z",
     "iopub.status.idle": "2021-03-26T18:16:54.756930Z",
     "shell.execute_reply": "2021-03-26T18:16:54.756356Z",
     "shell.execute_reply.started": "2021-03-26T18:16:54.748770Z"
    }
   },
   "outputs": [],
   "source": [
    "#Add the maintenance coefficent values from Khula et al converted into mmol of sucrose / hr / gCDW \n",
    "Maintenance_coefficient = [0.9, 4.4, 6.2, 7, 8]\n",
    "\n",
    "#Add the coresponding O2 concentration for labeling\n",
    "O2_concentration = [12, 48, 108, 144, 192]"
   ]
  },
  {
   "cell_type": "code",
   "execution_count": 19,
   "metadata": {
    "ExecuteTime": {
     "end_time": "2021-03-07T01:17:58.416279Z",
     "start_time": "2021-03-07T01:17:58.387225Z"
    },
    "execution": {
     "iopub.execute_input": "2021-03-26T18:16:55.222116Z",
     "iopub.status.busy": "2021-03-26T18:16:55.222116Z",
     "iopub.status.idle": "2021-03-26T18:16:55.242118Z",
     "shell.execute_reply": "2021-03-26T18:16:55.242118Z",
     "shell.execute_reply.started": "2021-03-26T18:16:55.222116Z"
    }
   },
   "outputs": [],
   "source": [
    "def determine_maintenance(Model, rxn_path, lb, ub, interval, maint_coef, O2_conc, path_name):\n",
    "    \"\"\"\n",
    "    This takes a cobra model in json format and knockouts reactions (sets bounds to zero) of interest \n",
    "    listed in rxn_path. For this version there is only three reactions to be changed.\n",
    "\n",
    "    The function iterates over different experimentally determined maintenance coefficients \n",
    "    (mmol of substrate/ hr/ gCDW) and predicts a ATP maintenance rates by creating a array of testable\n",
    "    lower bounds for ATPM. When the growth rate is zero the ATPM flux matches the given\n",
    "    maintenance coefficient in (maint_coef) resulting in the ATPM for that condition (O2_conc).\n",
    "\n",
    "    Variables lb, ub, and interval are to be played with. If expected to have large maintenance then set \n",
    "    ub to a large number (never exceed 1000). The higher the interval the more accurate the ATPM rate when\n",
    "    zero but also increases the iterations of the function.\n",
    "\n",
    "    \"\"\"\n",
    "\n",
    "    print(path_name)\n",
    "    # create array of testable bounds\n",
    "    ATPM_bound = np.linspace(lb, ub, interval).tolist()\n",
    "    ATPM_bound.reverse()\n",
    "    ATPM_bound_value = []\n",
    "    Growth_rate = []\n",
    "    Main_co = []\n",
    "\n",
    "    for j in maint_coef:\n",
    "        model = cobra.io.load_json_model(Model)\n",
    "\n",
    "        # Make sure glucose is set to zero\n",
    "        model.reactions.get_by_id(\"EX_glc__D_e\").lower_bound = 0\n",
    "        model.reactions.get_by_id(\"EX_glc__D_e\").upper_bound = 0\n",
    "\n",
    "        # Make sure model is diazotrophic\n",
    "        model.reactions.get_by_id(\"EX_nh4_e\").lower_bound = 0\n",
    "        model.reactions.get_by_id(\"EX_nh4_e\").upper_bound = 0\n",
    "\n",
    "        # set the flux to zero of corresponding reactions in pathway of interest\n",
    "        model.reactions.get_by_id(rxn_path[0]).upper_bound = 0\n",
    "        model.reactions.get_by_id(rxn_path[0]).lower_bound = 0\n",
    "\n",
    "        model.reactions.get_by_id(rxn_path[1]).upper_bound = 0\n",
    "        model.reactions.get_by_id(rxn_path[1]).lower_bound = 0\n",
    "\n",
    "        model.reactions.get_by_id(rxn_path[2]).upper_bound = 0\n",
    "        model.reactions.get_by_id(rxn_path[2]).lower_bound = 0\n",
    "\n",
    "        # Set sucrose uptake to maintenance coefficient\n",
    "        model.reactions.get_by_id(\"EX_sucr_e\").lower_bound = -j\n",
    "        model.reactions.get_by_id(\"EX_sucr_e\").upper_bound = -j\n",
    "\n",
    "        # save model if needed for extra analysis\n",
    "\n",
    "        save_json_model(model,'../Data/Models/Maintenance_Models/MaintenanceRate_sucrose_{}_O2_{}.json'.format(j, path_name))\n",
    "\n",
    "        # This takes some time so nice to know what step its on\n",
    "        print(f'Running maintenance coefficient {j}')\n",
    "\n",
    "        for i in ATPM_bound:\n",
    "            model.reactions.get_by_id(\"ATPM\").upper_bound = 1000\n",
    "            model.reactions.get_by_id(\"ATPM\").lower_bound = i\n",
    "            solution = model.optimize()\n",
    "            ATPM_bound_value.append(i)\n",
    "            Growth_rate.append(solution.objective_value)\n",
    "            Main_co.append(j)\n",
    "\n",
    "    # Make data frame\n",
    "    df = pd.DataFrame({\n",
    "        'Maintenance_coefficient': Main_co,\n",
    "        'ATPM_bound_value': ATPM_bound_value,\n",
    "        'Growth_Rate': Growth_rate})\n",
    "\n",
    "    # add column with pathway label\n",
    "    df.insert(0, 'ETS_path', path_name)\n",
    "\n",
    "    # label row with oxygen concentration (I am sure there is a better way to do this)\n",
    "    def o2_label(n):\n",
    "        if n['Maintenance_coefficient'] == 0.9:\n",
    "            return 12\n",
    "        elif n['Maintenance_coefficient'] == 4.4:\n",
    "            return 48\n",
    "        elif n['Maintenance_coefficient'] == 6.2:\n",
    "            return 108\n",
    "        elif n['Maintenance_coefficient'] == 7.0:\n",
    "            return 144\n",
    "        else:\n",
    "            return 192\n",
    "\n",
    "    df['O2_concentration'] = df.apply(o2_label, axis=1)\n",
    "\n",
    "    # save to csv with details on which path an which conditions were used\n",
    "\n",
    "    df.to_csv('../Data/Maintenance_rates/MaintenanceRate_sucrose_O2_{}.csv'.format(path_name), sep=',', index=False)\n",
    "\n",
    "    # output maintenance rate by determining where each condition hits zero\n",
    "    print('Maintenance rates for pathway {} :'.format(path_name))\n",
    "    df_12_limit = df[(df.Growth_Rate == 0) & (df.O2_concentration == 12)]\n",
    "    print(f' ATP Maintenance at 12 \\u03BC Mol of O2 is:{df_12_limit[\"ATPM_bound_value\"].iloc[-1]}')\n",
    "    df_48_limit = df[(df.Growth_Rate == 0) & (df.O2_concentration == 48)]\n",
    "    print(f' ATP Maintenance at 48 \\u03BC Mol of O2 is:{df_48_limit[\"ATPM_bound_value\"].iloc[-1]}')\n",
    "    df_108_limit = df[(df.Growth_Rate == 0) & (df.O2_concentration == 108)]\n",
    "    print(f' ATP Maintenance at 108 \\u03BC Mol of O2 is:{df_108_limit[\"ATPM_bound_value\"].iloc[-1]}')\n",
    "    df_144_limit = df[(df.Growth_Rate == 0) & (df.O2_concentration == 144)]\n",
    "    print(f' ATP Maintenance at 144 \\u03BC Mol of O2 is:{df_144_limit[\"ATPM_bound_value\"].iloc[-1]}')\n",
    "    df_192_limit = df[(df.Growth_Rate == 0) & (df.O2_concentration == 192)]\n",
    "    print(f' ATP Maintenance at 192 \\u03BC Mol of O2 is: {df_192_limit[\"ATPM_bound_value\"].iloc[-1]}')\n"
   ]
  },
  {
   "cell_type": "code",
   "execution_count": 22,
   "metadata": {
    "ExecuteTime": {
     "end_time": "2021-03-07T01:20:35.118141Z",
     "start_time": "2021-03-07T01:19:59.472036Z"
    },
    "execution": {
     "iopub.execute_input": "2021-03-26T18:22:16.831921Z",
     "iopub.status.busy": "2021-03-26T18:22:16.830922Z",
     "iopub.status.idle": "2021-03-26T18:22:49.234099Z",
     "shell.execute_reply": "2021-03-26T18:22:49.233067Z",
     "shell.execute_reply.started": "2021-03-26T18:22:16.830922Z"
    }
   },
   "outputs": [
    {
     "name": "stdout",
     "output_type": "stream",
     "text": [
      "NI_CO_F\n",
      "Running maintenance coefficient 0.9\n",
      "Running maintenance coefficient 4.4\n",
      "Running maintenance coefficient 6.2\n",
      "Running maintenance coefficient 7\n",
      "Running maintenance coefficient 8\n",
      "Maintenance rates for pathway NI_CO_F :\n",
      " ATP Maintenance at 12 μ Mol of O2 is:53.03030303030303\n",
      " ATP Maintenance at 48 μ Mol of O2 is:250.0\n",
      " ATP Maintenance at 108 μ Mol of O2 is:348.4848484848485\n",
      " ATP Maintenance at 144 μ Mol of O2 is:393.93939393939394\n",
      " ATP Maintenance at 192 μ Mol of O2 is: 446.969696969697\n"
     ]
    }
   ],
   "source": [
    "#check that it works for a single pathway\n",
    "determine_maintenance(\"../Data/Models/iAA1300_C.json\", NI_CO_F, 0, 750, 100, Maintenance_coefficient, O2_concentration,  \"NI_CO_F\")"
   ]
  },
  {
   "cell_type": "code",
   "execution_count": 26,
   "metadata": {
    "ExecuteTime": {
     "end_time": "2021-03-07T02:31:06.529953Z",
     "start_time": "2021-03-07T01:21:38.519779Z"
    },
    "execution": {
     "iopub.execute_input": "2021-03-26T18:24:19.307926Z",
     "iopub.status.busy": "2021-03-26T18:24:19.306925Z",
     "iopub.status.idle": "2021-03-26T19:21:04.227024Z",
     "shell.execute_reply": "2021-03-26T19:21:04.226023Z",
     "shell.execute_reply.started": "2021-03-26T18:24:19.307926Z"
    }
   },
   "outputs": [
    {
     "name": "stdout",
     "output_type": "stream",
     "text": [
      "NII_BD_F\n",
      "Running maintenance coefficient 0.9\n"
     ]
    },
    {
     "name": "stderr",
     "output_type": "stream",
     "text": [
      "C:\\Users\\alexa\\anaconda3\\envs\\Metabolic_models\\lib\\site-packages\\cobra\\util\\solver.py:508: UserWarning: Solver status is 'infeasible'.\n",
      "  warn(f\"Solver status is '{status}'.\", UserWarning)\n"
     ]
    },
    {
     "name": "stdout",
     "output_type": "stream",
     "text": [
      "Running maintenance coefficient 4.4\n",
      "Running maintenance coefficient 6.2\n",
      "Running maintenance coefficient 7\n",
      "Running maintenance coefficient 8\n",
      "Maintenance rates for pathway NII_BD_F :\n",
      " ATP Maintenance at 12 μ Mol of O2 is:16.258129064532266\n",
      " ATP Maintenance at 48 μ Mol of O2 is:78.78939469734868\n",
      " ATP Maintenance at 108 μ Mol of O2 is:110.80540270135069\n",
      " ATP Maintenance at 144 μ Mol of O2 is:125.06253126563283\n",
      " ATP Maintenance at 192 μ Mol of O2 is: 143.07153576788394\n",
      "NII_CO_F\n",
      "Running maintenance coefficient 0.9\n"
     ]
    },
    {
     "name": "stderr",
     "output_type": "stream",
     "text": [
      "C:\\Users\\alexa\\anaconda3\\envs\\Metabolic_models\\lib\\site-packages\\cobra\\util\\solver.py:508: UserWarning: Solver status is 'infeasible'.\n",
      "  warn(f\"Solver status is '{status}'.\", UserWarning)\n"
     ]
    },
    {
     "name": "stdout",
     "output_type": "stream",
     "text": [
      "Running maintenance coefficient 4.4\n",
      "Running maintenance coefficient 6.2\n",
      "Running maintenance coefficient 7\n",
      "Running maintenance coefficient 8\n",
      "Maintenance rates for pathway NII_CO_F :\n",
      " ATP Maintenance at 12 μ Mol of O2 is:37.768884442221115\n",
      " ATP Maintenance at 48 μ Mol of O2 is:184.3421710855428\n",
      " ATP Maintenance at 108 μ Mol of O2 is:259.62981490745375\n",
      " ATP Maintenance at 144 μ Mol of O2 is:293.14657328664333\n",
      " ATP Maintenance at 192 μ Mol of O2 is: 334.9174587293647\n",
      "NII_BD_R\n",
      "Running maintenance coefficient 0.9\n"
     ]
    },
    {
     "name": "stderr",
     "output_type": "stream",
     "text": [
      "C:\\Users\\alexa\\anaconda3\\envs\\Metabolic_models\\lib\\site-packages\\cobra\\util\\solver.py:508: UserWarning: Solver status is 'infeasible'.\n",
      "  warn(f\"Solver status is '{status}'.\", UserWarning)\n"
     ]
    },
    {
     "name": "stdout",
     "output_type": "stream",
     "text": [
      "Running maintenance coefficient 4.4\n",
      "Running maintenance coefficient 6.2\n",
      "Running maintenance coefficient 7\n",
      "Running maintenance coefficient 8\n",
      "Maintenance rates for pathway NII_BD_R :\n",
      " ATP Maintenance at 12 μ Mol of O2 is:16.258129064532266\n",
      " ATP Maintenance at 48 μ Mol of O2 is:78.78939469734868\n",
      " ATP Maintenance at 108 μ Mol of O2 is:110.80540270135069\n",
      " ATP Maintenance at 144 μ Mol of O2 is:125.06253126563283\n",
      " ATP Maintenance at 192 μ Mol of O2 is: 143.07153576788394\n",
      "NII_CO_R\n",
      "Running maintenance coefficient 0.9\n"
     ]
    },
    {
     "name": "stderr",
     "output_type": "stream",
     "text": [
      "C:\\Users\\alexa\\anaconda3\\envs\\Metabolic_models\\lib\\site-packages\\cobra\\util\\solver.py:508: UserWarning: Solver status is 'infeasible'.\n",
      "  warn(f\"Solver status is '{status}'.\", UserWarning)\n"
     ]
    },
    {
     "name": "stdout",
     "output_type": "stream",
     "text": [
      "Running maintenance coefficient 4.4\n",
      "Running maintenance coefficient 6.2\n",
      "Running maintenance coefficient 7\n",
      "Running maintenance coefficient 8\n",
      "Maintenance rates for pathway NII_CO_R :\n",
      " ATP Maintenance at 12 μ Mol of O2 is:37.768884442221115\n",
      " ATP Maintenance at 48 μ Mol of O2 is:184.3421710855428\n",
      " ATP Maintenance at 108 μ Mol of O2 is:259.62981490745375\n",
      " ATP Maintenance at 144 μ Mol of O2 is:293.14657328664333\n",
      " ATP Maintenance at 192 μ Mol of O2 is: 334.9174587293647\n",
      "NI_BD_F\n",
      "Running maintenance coefficient 0.9\n"
     ]
    },
    {
     "name": "stderr",
     "output_type": "stream",
     "text": [
      "C:\\Users\\alexa\\anaconda3\\envs\\Metabolic_models\\lib\\site-packages\\cobra\\util\\solver.py:508: UserWarning: Solver status is 'infeasible'.\n",
      "  warn(f\"Solver status is '{status}'.\", UserWarning)\n"
     ]
    },
    {
     "name": "stdout",
     "output_type": "stream",
     "text": [
      "Running maintenance coefficient 4.4\n",
      "Running maintenance coefficient 6.2\n",
      "Running maintenance coefficient 7\n",
      "Running maintenance coefficient 8\n",
      "Maintenance rates for pathway NI_BD_F :\n",
      " ATP Maintenance at 12 μ Mol of O2 is:50.275137568784395\n",
      " ATP Maintenance at 48 μ Mol of O2 is:245.62281140570286\n",
      " ATP Maintenance at 108 μ Mol of O2 is:346.17308654327167\n",
      " ATP Maintenance at 144 μ Mol of O2 is:390.94547273636823\n",
      " ATP Maintenance at 192 μ Mol of O2 is: 446.72336168084047\n",
      "NI_CO_F\n",
      "Running maintenance coefficient 0.9\n"
     ]
    },
    {
     "name": "stderr",
     "output_type": "stream",
     "text": [
      "C:\\Users\\alexa\\anaconda3\\envs\\Metabolic_models\\lib\\site-packages\\cobra\\util\\solver.py:508: UserWarning: Solver status is 'infeasible'.\n",
      "  warn(f\"Solver status is '{status}'.\", UserWarning)\n"
     ]
    },
    {
     "name": "stdout",
     "output_type": "stream",
     "text": [
      "Running maintenance coefficient 4.4\n",
      "Running maintenance coefficient 6.2\n",
      "Running maintenance coefficient 7\n",
      "Running maintenance coefficient 8\n",
      "Maintenance rates for pathway NI_CO_F :\n",
      " ATP Maintenance at 12 μ Mol of O2 is:50.275137568784395\n",
      " ATP Maintenance at 48 μ Mol of O2 is:245.62281140570286\n",
      " ATP Maintenance at 108 μ Mol of O2 is:346.17308654327167\n",
      " ATP Maintenance at 144 μ Mol of O2 is:390.94547273636823\n",
      " ATP Maintenance at 192 μ Mol of O2 is: 446.72336168084047\n",
      "NI_BD_R\n",
      "Running maintenance coefficient 0.9\n"
     ]
    },
    {
     "name": "stderr",
     "output_type": "stream",
     "text": [
      "C:\\Users\\alexa\\anaconda3\\envs\\Metabolic_models\\lib\\site-packages\\cobra\\util\\solver.py:508: UserWarning: Solver status is 'infeasible'.\n",
      "  warn(f\"Solver status is '{status}'.\", UserWarning)\n"
     ]
    },
    {
     "name": "stdout",
     "output_type": "stream",
     "text": [
      "Running maintenance coefficient 4.4\n",
      "Running maintenance coefficient 6.2\n",
      "Running maintenance coefficient 7\n",
      "Running maintenance coefficient 8\n",
      "Maintenance rates for pathway NI_BD_R :\n",
      " ATP Maintenance at 12 μ Mol of O2 is:28.76438219109555\n",
      " ATP Maintenance at 48 μ Mol of O2 is:0.0\n",
      " ATP Maintenance at 108 μ Mol of O2 is:22.761380690345174\n",
      " ATP Maintenance at 144 μ Mol of O2 is:15.50775387693847\n",
      " ATP Maintenance at 192 μ Mol of O2 is: 14.007003501750876\n",
      "NI_CO_R\n",
      "Running maintenance coefficient 0.9\n"
     ]
    },
    {
     "name": "stderr",
     "output_type": "stream",
     "text": [
      "C:\\Users\\alexa\\anaconda3\\envs\\Metabolic_models\\lib\\site-packages\\cobra\\util\\solver.py:508: UserWarning: Solver status is 'infeasible'.\n",
      "  warn(f\"Solver status is '{status}'.\", UserWarning)\n"
     ]
    },
    {
     "name": "stdout",
     "output_type": "stream",
     "text": [
      "Running maintenance coefficient 4.4\n",
      "Running maintenance coefficient 6.2\n",
      "Running maintenance coefficient 7\n",
      "Running maintenance coefficient 8\n",
      "Maintenance rates for pathway NI_CO_R :\n",
      " ATP Maintenance at 12 μ Mol of O2 is:50.275137568784395\n",
      " ATP Maintenance at 48 μ Mol of O2 is:245.62281140570286\n",
      " ATP Maintenance at 108 μ Mol of O2 is:346.17308654327167\n",
      " ATP Maintenance at 144 μ Mol of O2 is:390.94547273636823\n",
      " ATP Maintenance at 192 μ Mol of O2 is: 446.72336168084047\n"
     ]
    }
   ],
   "source": [
    "#iterate of all pathways \n",
    "\n",
    "for ETS_path in all_paths:\n",
    "    determine_maintenance(\"../Data/Models/iAA1300_C.json\", ETS_path, 0, 500, 2000, Maintenance_coefficient, O2_concentration, ETS_path[3])"
   ]
  },
  {
   "cell_type": "code",
   "execution_count": 64,
   "metadata": {
    "execution": {
     "iopub.execute_input": "2021-03-27T01:50:28.815305Z",
     "iopub.status.busy": "2021-03-27T01:50:28.815305Z",
     "iopub.status.idle": "2021-03-27T01:51:03.459189Z",
     "shell.execute_reply": "2021-03-27T01:51:03.458183Z",
     "shell.execute_reply.started": "2021-03-27T01:50:28.815305Z"
    }
   },
   "outputs": [
    {
     "name": "stdout",
     "output_type": "stream",
     "text": [
      "NI_BD_R\n",
      "Running maintenance coefficient 0.9\n"
     ]
    },
    {
     "name": "stderr",
     "output_type": "stream",
     "text": [
      "C:\\Users\\alexa\\anaconda3\\envs\\Metabolic_models\\lib\\site-packages\\cobra\\util\\solver.py:508: UserWarning: Solver status is 'infeasible'.\n",
      "  warn(f\"Solver status is '{status}'.\", UserWarning)\n"
     ]
    },
    {
     "name": "stdout",
     "output_type": "stream",
     "text": [
      "Running maintenance coefficient 4.4\n",
      "Running maintenance coefficient 6.2\n",
      "Running maintenance coefficient 7\n",
      "Running maintenance coefficient 8\n",
      "Maintenance rates for pathway NI_BD_R :\n",
      " ATP Maintenance at 12 μ Mol of O2 is:30.303030303030305\n",
      " ATP Maintenance at 48 μ Mol of O2 is:143.93939393939394\n",
      " ATP Maintenance at 108 μ Mol of O2 is:204.54545454545456\n",
      " ATP Maintenance at 144 μ Mol of O2 is:227.27272727272728\n",
      " ATP Maintenance at 192 μ Mol of O2 is: 257.57575757575756\n"
     ]
    }
   ],
   "source": [
    "#check that it works for a single pathway\n",
    "determine_maintenance(\"../Data/Models/iAA1300_C.json\", NI_BD_R, 0, 750, 100, Maintenance_coefficient, O2_concentration,  \"NI_BD_R\")"
   ]
  },
  {
   "cell_type": "code",
   "execution_count": 65,
   "metadata": {
    "ExecuteTime": {
     "end_time": "2021-03-07T01:03:25.825140Z",
     "start_time": "2021-03-07T01:03:24.578224Z"
    },
    "execution": {
     "iopub.execute_input": "2021-03-27T01:51:20.126404Z",
     "iopub.status.busy": "2021-03-27T01:51:20.126404Z",
     "iopub.status.idle": "2021-03-27T01:51:20.208002Z",
     "shell.execute_reply": "2021-03-27T01:51:20.208002Z",
     "shell.execute_reply.started": "2021-03-27T01:51:20.126404Z"
    },
    "scrolled": true
   },
   "outputs": [],
   "source": [
    "#lets reupload the files and merge to pullout the above infromation to make a table\n",
    "import glob\n",
    "\n",
    "path = r'../Data/Maintenance_rates' \n",
    "all_files = glob.glob(path + \"/*.csv\")\n",
    "\n",
    "li = []\n",
    "\n",
    "for filename in all_files:\n",
    "    df = pd.read_csv(filename, index_col=None, header=0)\n",
    "    li.append(df)\n",
    "\n",
    "all_paths_df = pd.concat(li, axis=0, ignore_index=True)"
   ]
  },
  {
   "cell_type": "code",
   "execution_count": 66,
   "metadata": {
    "execution": {
     "iopub.execute_input": "2021-03-27T01:51:21.552287Z",
     "iopub.status.busy": "2021-03-27T01:51:21.552287Z",
     "iopub.status.idle": "2021-03-27T01:51:21.639324Z",
     "shell.execute_reply": "2021-03-27T01:51:21.639324Z",
     "shell.execute_reply.started": "2021-03-27T01:51:21.552287Z"
    }
   },
   "outputs": [
    {
     "data": {
      "text/plain": [
       "group\n",
       "NII_BD_F_12      16.258129\n",
       "NII_BD_R_12      16.258129\n",
       "NI_BD_R_12       30.303030\n",
       "NII_CO_R_12      37.768884\n",
       "NII_CO_F_12      37.768884\n",
       "NI_CO_F_12       50.275138\n",
       "NI_CO_R_12       50.275138\n",
       "NI_BD_F_12       50.275138\n",
       "NII_BD_F_48      78.789395\n",
       "NII_BD_R_48      78.789395\n",
       "NII_BD_F_108    110.805403\n",
       "NII_BD_R_108    110.805403\n",
       "NII_BD_F_144    125.062531\n",
       "NII_BD_R_144    125.062531\n",
       "NII_BD_F_192    143.071536\n",
       "NII_BD_R_192    143.071536\n",
       "NI_BD_R_48      143.939394\n",
       "NII_CO_R_48     184.342171\n",
       "NII_CO_F_48     184.342171\n",
       "NI_BD_R_108     204.545455\n",
       "NI_BD_R_144     227.272727\n",
       "NI_CO_R_48      245.622811\n",
       "NI_CO_F_48      245.622811\n",
       "NI_BD_F_48      245.622811\n",
       "NI_BD_R_192     257.575758\n",
       "NII_CO_R_108    259.629815\n",
       "NII_CO_F_108    259.629815\n",
       "NII_CO_R_144    293.146573\n",
       "NII_CO_F_144    293.146573\n",
       "NII_CO_F_192    334.917459\n",
       "NII_CO_R_192    334.917459\n",
       "NI_BD_F_108     346.173087\n",
       "NI_CO_F_108     346.173087\n",
       "NI_CO_R_108     346.173087\n",
       "NI_BD_F_144     390.945473\n",
       "NI_CO_F_144     390.945473\n",
       "NI_CO_R_144     390.945473\n",
       "NI_CO_F_192     446.723362\n",
       "NI_CO_R_192     446.723362\n",
       "NI_BD_F_192     446.723362\n",
       "Name: ATPM_bound_value, dtype: float64"
      ]
     },
     "execution_count": 66,
     "metadata": {},
     "output_type": "execute_result"
    }
   ],
   "source": [
    "#make path and O2 concentration variable\n",
    "all_paths_df[\"group\"] = all_paths_df[\"ETS_path\"].astype(str) + \"_\" + all_paths_df[\"O2_concentration\"].astype(str)\n",
    "#select only zero growth rates\n",
    "all_paths_df_0 = all_paths_df[all_paths_df[\"Growth_Rate\"] == 0]\n",
    "#find minimum ATPM_bound for each group \n",
    "all_paths_df_min = all_paths_df_0.groupby('group')['ATPM_bound_value'].min()\n",
    "all_paths_df_min.astype(int)\n",
    "all_paths_df_min.sort_values(ascending=True, inplace = True)\n",
    "all_paths_df_min\n"
   ]
  },
  {
   "cell_type": "code",
   "execution_count": 38,
   "metadata": {
    "ExecuteTime": {
     "end_time": "2021-03-07T01:03:43.113075Z",
     "start_time": "2021-03-07T01:03:43.082040Z"
    },
    "execution": {
     "iopub.execute_input": "2021-03-27T01:04:24.802744Z",
     "iopub.status.busy": "2021-03-27T01:04:24.802744Z",
     "iopub.status.idle": "2021-03-27T01:04:24.812104Z",
     "shell.execute_reply": "2021-03-27T01:04:24.812104Z",
     "shell.execute_reply.started": "2021-03-27T01:04:24.802744Z"
    }
   },
   "outputs": [
    {
     "data": {
      "text/html": [
       "<div>\n",
       "<style scoped>\n",
       "    .dataframe tbody tr th:only-of-type {\n",
       "        vertical-align: middle;\n",
       "    }\n",
       "\n",
       "    .dataframe tbody tr th {\n",
       "        vertical-align: top;\n",
       "    }\n",
       "\n",
       "    .dataframe thead th {\n",
       "        text-align: right;\n",
       "    }\n",
       "</style>\n",
       "<table border=\"1\" class=\"dataframe\">\n",
       "  <thead>\n",
       "    <tr style=\"text-align: right;\">\n",
       "      <th></th>\n",
       "      <th>ETS_path</th>\n",
       "      <th>Maintenance_coefficient</th>\n",
       "      <th>ATPM_bound_value</th>\n",
       "      <th>Growth_Rate</th>\n",
       "      <th>O2_concentration</th>\n",
       "    </tr>\n",
       "  </thead>\n",
       "  <tbody>\n",
       "    <tr>\n",
       "      <th>79995</th>\n",
       "      <td>NI_CO_R</td>\n",
       "      <td>8.0</td>\n",
       "      <td>1.000500</td>\n",
       "      <td>-1.082090e-15</td>\n",
       "      <td>192</td>\n",
       "    </tr>\n",
       "    <tr>\n",
       "      <th>79996</th>\n",
       "      <td>NI_CO_R</td>\n",
       "      <td>8.0</td>\n",
       "      <td>0.750375</td>\n",
       "      <td>-9.527309e-16</td>\n",
       "      <td>192</td>\n",
       "    </tr>\n",
       "    <tr>\n",
       "      <th>79997</th>\n",
       "      <td>NI_CO_R</td>\n",
       "      <td>8.0</td>\n",
       "      <td>0.500250</td>\n",
       "      <td>-9.333308e-16</td>\n",
       "      <td>192</td>\n",
       "    </tr>\n",
       "    <tr>\n",
       "      <th>79998</th>\n",
       "      <td>NI_CO_R</td>\n",
       "      <td>8.0</td>\n",
       "      <td>0.250125</td>\n",
       "      <td>1.990539e-16</td>\n",
       "      <td>192</td>\n",
       "    </tr>\n",
       "    <tr>\n",
       "      <th>79999</th>\n",
       "      <td>NI_CO_R</td>\n",
       "      <td>8.0</td>\n",
       "      <td>0.000000</td>\n",
       "      <td>-1.800557e-15</td>\n",
       "      <td>192</td>\n",
       "    </tr>\n",
       "  </tbody>\n",
       "</table>\n",
       "</div>"
      ],
      "text/plain": [
       "      ETS_path  Maintenance_coefficient  ATPM_bound_value   Growth_Rate  \\\n",
       "79995  NI_CO_R                      8.0          1.000500 -1.082090e-15   \n",
       "79996  NI_CO_R                      8.0          0.750375 -9.527309e-16   \n",
       "79997  NI_CO_R                      8.0          0.500250 -9.333308e-16   \n",
       "79998  NI_CO_R                      8.0          0.250125  1.990539e-16   \n",
       "79999  NI_CO_R                      8.0          0.000000 -1.800557e-15   \n",
       "\n",
       "       O2_concentration  \n",
       "79995               192  \n",
       "79996               192  \n",
       "79997               192  \n",
       "79998               192  \n",
       "79999               192  "
      ]
     },
     "execution_count": 38,
     "metadata": {},
     "output_type": "execute_result"
    }
   ],
   "source": [
    "    print('Maintenance rates for pathway {} :'.format(path_name))\n",
    "    df_12_limit = df[(df.Growth_Rate == 0) & (df.O2_concentration == 12)]\n",
    "    print(f' ATP Maintenance at 12 \\u03BC Mol of O2 is:{df_12_limit[\"ATPM_bound_value\"].iloc[-1]}')\n",
    "    df_48_limit = df[(df.Growth_Rate == 0) & (df.O2_concentration == 48)]\n",
    "    print(f' ATP Maintenance at 48 \\u03BC Mol of O2 is:{df_48_limit[\"ATPM_bound_value\"].iloc[-1]}')\n",
    "    df_108_limit = df[(df.Growth_Rate == 0) & (df.O2_concentration == 108)]\n",
    "    print(f' ATP Maintenance at 108 \\u03BC Mol of O2 is:{df_108_limit[\"ATPM_bound_value\"].iloc[-1]}')\n",
    "    df_144_limit = df[(df.Growth_Rate == 0) & (df.O2_concentration == 144)]\n",
    "    print(f' ATP Maintenance at 144 \\u03BC Mol of O2 is:{df_144_limit[\"ATPM_bound_value\"].iloc[-1]}')\n",
    "    df_192_limit = df[(df.Growth_Rate == 0) & (df.O2_concentration == 192)]\n",
    "    print(f' ATP Maintenance at 192 \\u03BC Mol of O2 is: {df_192_limit[\"ATPM_bound_value\"].iloc[-1]}')"
   ]
  },
  {
   "cell_type": "code",
   "execution_count": null,
   "metadata": {},
   "outputs": [],
   "source": []
  }
 ],
 "metadata": {
  "kernelspec": {
   "display_name": "Python 3",
   "language": "python",
   "name": "python3"
  },
  "language_info": {
   "codemirror_mode": {
    "name": "ipython",
    "version": 3
   },
   "file_extension": ".py",
   "mimetype": "text/x-python",
   "name": "python",
   "nbconvert_exporter": "python",
   "pygments_lexer": "ipython3",
   "version": "3.7.10"
  }
 },
 "nbformat": 4,
 "nbformat_minor": 4
}
