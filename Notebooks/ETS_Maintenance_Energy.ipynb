{
 "cells": [
  {
   "cell_type": "code",
   "execution_count": 13,
   "metadata": {
    "ExecuteTime": {
     "end_time": "2021-03-06T21:16:30.638879Z",
     "start_time": "2021-03-06T21:16:26.938754Z"
    }
   },
   "outputs": [],
   "source": [
    "import cobra.test\n",
    "import pandas as pd\n",
    "import matplotlib.pyplot as plt\n",
    "from numpy.polynomial.polynomial import polyfit\n",
    "import numpy as np\n",
    "import seaborn as sns\n",
    "import os\n",
    "import math\n",
    "from os.path import join\n",
    "from cobra import Model, Reaction, Metabolite\n",
    "from cobra.io import save_json_model\n"
   ]
  },
  {
   "cell_type": "markdown",
   "metadata": {},
   "source": [
    "### Determine Maintenance energy for each biolgoically relvenat combination of the electron transport system\n",
    "\n",
    "To do this we will have a set of enzyme combinations to make a uqiue path that will share electrons between O2 reduction and N2 reduction. Each path will have a diffrenent stoichiometery for proton tanslocation leading to differnet sucrose per ATP ratio. So given a the experimentally determined maintenance coefficent (mmol of scurose/ hr/ gCDW) different maintence rates (ATPM)  will be given for each ETS pathway. The assumption that will be made is that a minimizing of the ATP maintence is perfered (more on this assumption later). So each ETS path will have a coressponding ATPM flux in each O2 concentration we can then use this ATPM flux (determined from experimental maintence coefficent) and make it a constant in a simulation with experimentally determined sucrose uptake rate. With the given sucrose uptake rate and the determined ATPM flux we can test how similar the predicted growth is to the experimental growth. \n",
    "\n",
    "By looking at the branched diagram below we can divde the ETS paths into 8 paths each with the NADHI/NADHII, RNF/FIX, or Cytbd/cytco pairs. \n",
    "\n"
   ]
  },
  {
   "cell_type": "markdown",
   "metadata": {},
   "source": [
    "<img src=\"Images/branched.PNG\" width=800 height=400 />"
   ]
  },
  {
   "cell_type": "markdown",
   "metadata": {},
   "source": [
    "For nomeclature we will simplfy names as follows: \n",
    "\n",
    "- **NADH5**- NADH dehydrogenase II (uncoupled) = NII\n",
    "- **NADH6**- NADH dehyrdogenase I (coupled) = NI\n",
    "- **FIX**- Fix = F\n",
    "- **RNF**- Rnf = R\n",
    "- **CYTBDpp**- Cytochrome bd = BD\n",
    "- **CYOO2pp**- Cytochrome c pathways (complex III and IV) = CO\n",
    "\n",
    "So there are 8 combinations \n",
    "\n",
    "- NII_BD_F\n",
    "- NII_CO_F\n",
    "- NII_BD_R\n",
    "- NII_CO_R\n",
    "- NI_BD_F\n",
    "- NI_CO_F\n",
    "- NI_BD_R\n",
    "- NI_CO_R\n",
    "\n",
    "*We know that there will be overlap in total H+/e- translocated and that some of these combinations are not biologically relvent (NII CO) but looking at all combinations allow for interpretations of \"inbetween\" states*\n",
    "\n",
    "Now to add some confusion to nomenclature we will have to knockout the enzymes not in the path. So we will make a list of reacion ids of enzymes not in the path. "
   ]
  },
  {
   "cell_type": "code",
   "execution_count": 86,
   "metadata": {
    "ExecuteTime": {
     "end_time": "2021-03-07T01:17:49.043501Z",
     "start_time": "2021-03-07T01:17:49.037501Z"
    }
   },
   "outputs": [],
   "source": [
    "#reaction ids not in pathway then \"name\" of pathway\n",
    "NII_BD_F = [\"NDHI\", \"CYOO2pp\", \"RNF\", \"NII_BD_F\"]\n",
    "NII_CO_F = [\"NDHI\", \"CYTBDpp\", \"RNF\", \"NII_CO_F\"]\n",
    "NII_BD_R = [\"NDHI\", \"CYOO2pp\", \"FIX\", \"NII_BD_R\"]\n",
    "NII_CO_R = [\"NDHI\", \"CYTBDpp\", \"FIX\", \"NII_CO_R\"]\n",
    "NI_BD_F = [\"NADH5\", \"CYTBDpp\", \"RNF\", \"NI_BD_F\"]\n",
    "NI_CO_F = [\"NADH5\", \"CYTBDpp\", \"RNF\", \"NI_CO_F\"] \n",
    "NI_BD_R = [\"NADH5\", \"CYOO2pp\", \"FIX\", \"NI_BD_R\"]\n",
    "NI_CO_R= [\"NADH5\", \"CYTBDpp\", \"FIX\", \"NI_CO_R\"]\n",
    "\n",
    "all_paths = [NII_BD_F,\n",
    "                NII_CO_F, \n",
    "                NII_BD_R,\n",
    "                NII_CO_R,\n",
    "                NI_BD_F,\n",
    "                NI_CO_F,\n",
    "                NI_BD_R,\n",
    "                NI_CO_R]"
   ]
  },
  {
   "cell_type": "code",
   "execution_count": 87,
   "metadata": {
    "ExecuteTime": {
     "end_time": "2021-03-07T01:17:51.244994Z",
     "start_time": "2021-03-07T01:17:51.240997Z"
    }
   },
   "outputs": [
    {
     "data": {
      "text/plain": [
       "[['NDHI', 'CYOO2pp', 'RNF', 'NII_BD_F'],\n",
       " ['NDHI', 'CYTBDpp', 'RNF', 'NII_CO_F'],\n",
       " ['NDHI', 'CYOO2pp', 'FIX', 'NII_BD_R'],\n",
       " ['NDHI', 'CYTBDpp', 'FIX', 'NII_CO_R'],\n",
       " ['NADH5', 'CYTBDpp', 'RNF', 'NI_BD_F'],\n",
       " ['NADH5', 'CYTBDpp', 'RNF', 'NI_CO_F'],\n",
       " ['NADH5', 'CYOO2pp', 'FIX', 'NI_BD_R'],\n",
       " ['NADH5', 'CYTBDpp', 'FIX', 'NI_CO_R']]"
      ]
     },
     "execution_count": 87,
     "metadata": {},
     "output_type": "execute_result"
    }
   ],
   "source": [
    "all_paths"
   ]
  },
  {
   "cell_type": "markdown",
   "metadata": {
    "ExecuteTime": {
     "end_time": "2021-03-06T20:53:57.859610Z",
     "start_time": "2021-03-06T20:53:57.854608Z"
    }
   },
   "source": [
    "Now we want to write a function that can determine the ATPM flux over under multiple diffrent O2 concentrations for each pathway. Frist lay out the maintenance coefficent from Khula and Oelze 1988 (in data folder):"
   ]
  },
  {
   "cell_type": "code",
   "execution_count": 88,
   "metadata": {
    "ExecuteTime": {
     "end_time": "2021-03-07T01:17:57.245497Z",
     "start_time": "2021-03-07T01:17:57.242494Z"
    }
   },
   "outputs": [],
   "source": [
    "#Add the maintenance coefficent values from Khula et al converted into mmol of sucrose / hr / gCDW \n",
    "Maintenance_coefficient = [0.9, 4.4, 6.2, 7, 8]\n",
    "\n",
    "#Add the coresponding O2 concentration for labeling\n",
    "O2_concentration = [12, 48, 108, 144, 192]"
   ]
  },
  {
   "cell_type": "code",
   "execution_count": 89,
   "metadata": {
    "ExecuteTime": {
     "end_time": "2021-03-07T01:17:58.416279Z",
     "start_time": "2021-03-07T01:17:58.387225Z"
    }
   },
   "outputs": [],
   "source": [
    "def Determine_maintenance(Model, rxn_path, lb, ub, interval, maint_coef, O2_conc, path_name ):\n",
    "    \n",
    "    '''\n",
    "    This takes a cobra model in json format and knockouts reactions (sets bounds to zero) of intrest listed in rxn_path.\n",
    "    For this version there is only three reactions to be changed. \n",
    "    \n",
    "    The function interates over diffrent experimentally determined maintenance coefficents and predicts a ATP maintenance\n",
    "    rates by creating a array of testable lower bounds for ATPM. When the growth rate is zero the ATPM flux matches the given\n",
    "    maintenance coefficent in (Maint_coef) resulting in the ATPM for that condition (O2_conc). \n",
    "    \n",
    "    Variables lb, ub, and interval are to be played with. If expected to have large maintenance that set ub to a large number\n",
    "    (never exceed 1000). The high the interval the more accurate the ATPM rate when zero but also increases the iterations of \n",
    "    the function. \n",
    "    \n",
    "    \n",
    "    '''\n",
    "    print(path_name)\n",
    "    #create array of testable bounds\n",
    "    ATPM_bound = np.linspace(lb, ub, interval).tolist()\n",
    "    ATPM_bound.reverse()\n",
    "    #print(ATPM_bound)\n",
    "    ATPM_bound_value = []\n",
    "    Growth_rate =[]\n",
    "    Main_co = [] \n",
    "    \n",
    "    \n",
    "    for (j) in (maint_coef): \n",
    "        model = cobra.io.load_json_model(Model)\n",
    "        \n",
    "        #Make sure glucose is set to zero\n",
    "        model.reactions.get_by_id(\"EX_glc__D_e\").lower_bound = 0\n",
    "        model.reactions.get_by_id(\"EX_glc__D_e\").upper_bound = 0\n",
    "       \n",
    "        #Make sure model is diazotrophic\n",
    "        model.reactions.get_by_id(\"EX_nh4_e\").lower_bound = 0\n",
    "        model.reactions.get_by_id(\"EX_nh4_e\").upper_bound = 0\n",
    "        \n",
    "        #set the flux to zero of corresponding reactions in pathway of interest\n",
    "        model.reactions.get_by_id(rxn_path[0]).upper_bound = 0\n",
    "        model.reactions.get_by_id(rxn_path[0]).lower_bound = 0\n",
    "\n",
    "        model.reactions.get_by_id(rxn_path[1]).upper_bound = 0\n",
    "        model.reactions.get_by_id(rxn_path[1]).lower_bound = 0\n",
    "        \n",
    "        model.reactions.get_by_id(rxn_path[2]).upper_bound = 0\n",
    "        model.reactions.get_by_id(rxn_path[2]).lower_bound = 0\n",
    "        \n",
    "        #Set sucrose uptake to maintenance coefficent\n",
    "        model.reactions.get_by_id(\"EX_sucr_e\").lower_bound = -j\n",
    "        model.reactions.get_by_id(\"EX_sucr_e\").upper_bound = -j\n",
    "        \n",
    "        #save model if needed for extra analysis\n",
    "        \n",
    "        save_json_model(model, './Models/Maintenance_Models/MaintenanceRate_sucrose{}_O2_{}.json'.format(j, path_name))\n",
    "        \n",
    "        #This takes some time so nice to know what step its on \n",
    "        print(f'Running maintenance coefficient {j}')\n",
    "         \n",
    "        for i in ATPM_bound:\n",
    "            model.reactions.get_by_id(\"ATPM\").upper_bound = 1000\n",
    "            model.reactions.get_by_id(\"ATPM\").lower_bound = i\n",
    "            solution = model.optimize()\n",
    "            ATPM_bound_value.append(i)\n",
    "            Growth_rate.append(solution.objective_value)\n",
    "            Main_co.append(j)\n",
    "            #O2_conc.append(k) ### removed adding oxygen concentraition here as it messed with array length\n",
    "            \n",
    "    #these were to make sure the arrays were of equal length\n",
    "    #print(len(ATPM_bound_value))\n",
    "    #print(len(Growth_rate))    \n",
    "    #print(len(Main_co))\n",
    "    #print(len(O2_conc)) \n",
    "    \n",
    "    #Make data frame\n",
    "    df = pd.DataFrame({\n",
    "            #'O2_concentration': O2_conc,\n",
    "            'Maintenance_coefficient':Main_co,\n",
    "            'ATPM_bound_value':ATPM_bound_value,\n",
    "            'Growth_Rate':Growth_rate})\n",
    "    \n",
    "    #add colummn with pathway label\n",
    "    df.insert(0, 'ETS_path', path_name)\n",
    "    \n",
    "    #label row with oxygen concentration (I am sure there is a better way to do this)\n",
    "    def o2_label(l):\n",
    "        if l['Maintenance_coefficient'] == 0.9:\n",
    "            return 12\n",
    "        elif l['Maintenance_coefficient'] == 4.4:\n",
    "            return 48\n",
    "        elif l['Maintenance_coefficient'] == 6.2:\n",
    "            return 108\n",
    "        elif l['Maintenance_coefficient'] == 7.0:\n",
    "            return 144\n",
    "        else:\n",
    "            return 192\n",
    "    df['O2_concentration'] =df.apply(o2_label, axis=1)\n",
    "    \n",
    "    #save to csv with details on which path an which conditions were used \n",
    "    \n",
    "    df.to_csv('MaintenanceRate_sucrose_O2_{}.csv'.format(path_name), sep=',', index=False)\n",
    "    \n",
    "    #output maintenance rate by determining where each condition hits zero\n",
    "    print('Maintenance rates for pathway {} :'.format(path_name))\n",
    "    df_12_limit = df[(df.Growth_Rate == 0) & (df.O2_concentration == 12)]\n",
    "    print(f' ATP Maintenance at 12 \\u03BC Mol of O2 is:{df_12_limit[\"ATPM_bound_value\"].iloc[-1]}')\n",
    "    df_48_limit = df[(df.Growth_Rate == 0) & (df.O2_concentration == 48)]\n",
    "    print(f' ATP Maintenance at 48 \\u03BC Mol of O2 is:{df_48_limit[\"ATPM_bound_value\"].iloc[-1]}')\n",
    "    df_108_limit = df[(df.Growth_Rate == 0) & (df.O2_concentration == 108)]\n",
    "    print(f' ATP Maintenance at 108 \\u03BC Mol of O2 is:{df_108_limit[\"ATPM_bound_value\"].iloc[-1]}')\n",
    "    df_144_limit = df[(df.Growth_Rate == 0) & (df.O2_concentration == 144)]\n",
    "    print(f' ATP Maintenance at 144 \\u03BC Mol of O2 is:{df_144_limit[\"ATPM_bound_value\"].iloc[-1]}')\n",
    "    df_192_limit = df[(df.Growth_Rate == 0) & (df.O2_concentration == 192)]\n",
    "    print(f' ATP Maintenance at 192 \\u03BC Mol of O2 is: {df_192_limit[\"ATPM_bound_value\"].iloc[-1]}')\n",
    "    ;\n",
    "    "
   ]
  },
  {
   "cell_type": "code",
   "execution_count": 92,
   "metadata": {
    "ExecuteTime": {
     "end_time": "2021-03-07T01:20:35.118141Z",
     "start_time": "2021-03-07T01:19:59.472036Z"
    }
   },
   "outputs": [
    {
     "name": "stdout",
     "output_type": "stream",
     "text": [
      "NII_BD_F\n",
      "Running maintenance coefficient 0.9\n",
      "Running maintenance coefficient 4.4\n",
      "Running maintenance coefficient 6.2\n",
      "Running maintenance coefficient 7\n",
      "Running maintenance coefficient 8\n",
      "Maintenance rates for pathway NII_BD_F :\n",
      " ATP Maintenance at 12 μ Mol of O2 is:22.727272727272727\n",
      " ATP Maintenance at 48 μ Mol of O2 is:83.33333333333334\n",
      " ATP Maintenance at 108 μ Mol of O2 is:113.63636363636364\n",
      " ATP Maintenance at 144 μ Mol of O2 is:128.78787878787878\n",
      " ATP Maintenance at 192 μ Mol of O2 is: 143.93939393939394\n"
     ]
    }
   ],
   "source": [
    "#check that it works for a single pathway\n",
    "Determine_maintenance(\"./Models/model_n2_MFA.json\", NII_BD_F, 0, 750, 100, Maintenance_coefficient, O2_concentration,  \"NII_BD_F\")"
   ]
  },
  {
   "cell_type": "code",
   "execution_count": 93,
   "metadata": {
    "ExecuteTime": {
     "end_time": "2021-03-07T02:31:06.529953Z",
     "start_time": "2021-03-07T01:21:38.519779Z"
    }
   },
   "outputs": [
    {
     "name": "stdout",
     "output_type": "stream",
     "text": [
      "NII_BD_F\n",
      "Running maintenance coefficient 0.9\n",
      "Running maintenance coefficient 4.4\n",
      "Running maintenance coefficient 6.2\n",
      "Running maintenance coefficient 7\n",
      "Running maintenance coefficient 8\n",
      "Maintenance rates for pathway NII_BD_F :\n",
      " ATP Maintenance at 12 μ Mol of O2 is:16.133066533266632\n",
      " ATP Maintenance at 48 μ Mol of O2 is:78.41420710355177\n",
      " ATP Maintenance at 108 μ Mol of O2 is:110.68034017008503\n",
      " ATP Maintenance at 144 μ Mol of O2 is:124.93746873436717\n",
      " ATP Maintenance at 192 μ Mol of O2 is: 142.5712856428214\n",
      "NII_CO_F\n",
      "Running maintenance coefficient 0.9\n",
      "Running maintenance coefficient 4.4\n",
      "Running maintenance coefficient 6.2\n",
      "Running maintenance coefficient 7\n",
      "Running maintenance coefficient 8\n",
      "Maintenance rates for pathway NII_CO_F :\n",
      " ATP Maintenance at 12 μ Mol of O2 is:37.89394697348674\n",
      " ATP Maintenance at 48 μ Mol of O2 is:184.21710855427713\n",
      " ATP Maintenance at 108 μ Mol of O2 is:259.2546273136568\n",
      " ATP Maintenance at 144 μ Mol of O2 is:293.0215107553777\n",
      " ATP Maintenance at 192 μ Mol of O2 is: 334.6673336668334\n",
      "NII_BD_R\n",
      "Running maintenance coefficient 0.9\n",
      "Running maintenance coefficient 4.4\n",
      "Running maintenance coefficient 6.2\n",
      "Running maintenance coefficient 7\n",
      "Running maintenance coefficient 8\n",
      "Maintenance rates for pathway NII_BD_R :\n",
      " ATP Maintenance at 12 μ Mol of O2 is:16.133066533266632\n",
      " ATP Maintenance at 48 μ Mol of O2 is:78.41420710355177\n",
      " ATP Maintenance at 108 μ Mol of O2 is:110.68034017008503\n",
      " ATP Maintenance at 144 μ Mol of O2 is:124.93746873436717\n",
      " ATP Maintenance at 192 μ Mol of O2 is: 142.5712856428214\n",
      "NII_CO_R\n",
      "Running maintenance coefficient 0.9\n",
      "Running maintenance coefficient 4.4\n",
      "Running maintenance coefficient 6.2\n",
      "Running maintenance coefficient 7\n",
      "Running maintenance coefficient 8\n",
      "Maintenance rates for pathway NII_CO_R :\n",
      " ATP Maintenance at 12 μ Mol of O2 is:37.89394697348674\n",
      " ATP Maintenance at 48 μ Mol of O2 is:184.21710855427713\n",
      " ATP Maintenance at 108 μ Mol of O2 is:259.2546273136568\n",
      " ATP Maintenance at 144 μ Mol of O2 is:293.0215107553777\n",
      " ATP Maintenance at 192 μ Mol of O2 is: 334.6673336668334\n",
      "NI_BD_F\n",
      "Running maintenance coefficient 0.9\n",
      "Running maintenance coefficient 4.4\n",
      "Running maintenance coefficient 6.2\n",
      "Running maintenance coefficient 7\n",
      "Running maintenance coefficient 8\n",
      "Maintenance rates for pathway NI_BD_F :\n",
      " ATP Maintenance at 12 μ Mol of O2 is:51.025512756378184\n",
      " ATP Maintenance at 48 μ Mol of O2 is:248.37418709354677\n",
      " ATP Maintenance at 108 μ Mol of O2 is:350.05002501250624\n",
      " ATP Maintenance at 144 μ Mol of O2 is:395.4477238619309\n",
      " ATP Maintenance at 192 μ Mol of O2 is: 451.7258629314657\n",
      "NI_CO_F\n",
      "Running maintenance coefficient 0.9\n",
      "Running maintenance coefficient 4.4\n",
      "Running maintenance coefficient 6.2\n",
      "Running maintenance coefficient 7\n",
      "Running maintenance coefficient 8\n",
      "Maintenance rates for pathway NI_CO_F :\n",
      " ATP Maintenance at 12 μ Mol of O2 is:51.025512756378184\n",
      " ATP Maintenance at 48 μ Mol of O2 is:248.37418709354677\n",
      " ATP Maintenance at 108 μ Mol of O2 is:350.05002501250624\n",
      " ATP Maintenance at 144 μ Mol of O2 is:395.4477238619309\n",
      " ATP Maintenance at 192 μ Mol of O2 is: 451.7258629314657\n",
      "NI_BD_R\n",
      "Running maintenance coefficient 0.9\n",
      "Running maintenance coefficient 4.4\n",
      "Running maintenance coefficient 6.2\n",
      "Running maintenance coefficient 7\n",
      "Running maintenance coefficient 8\n",
      "Maintenance rates for pathway NI_BD_R :\n",
      " ATP Maintenance at 12 μ Mol of O2 is:29.264632316158078\n",
      " ATP Maintenance at 48 μ Mol of O2 is:142.9464732366183\n",
      " ATP Maintenance at 108 μ Mol of O2 is:201.47573786893446\n",
      " ATP Maintenance at 144 μ Mol of O2 is:227.36368184092044\n",
      " ATP Maintenance at 192 μ Mol of O2 is: 259.6298149074537\n",
      "NI_CO_R\n",
      "Running maintenance coefficient 0.9\n",
      "Running maintenance coefficient 4.4\n",
      "Running maintenance coefficient 6.2\n",
      "Running maintenance coefficient 7\n",
      "Running maintenance coefficient 8\n",
      "Maintenance rates for pathway NI_CO_R :\n",
      " ATP Maintenance at 12 μ Mol of O2 is:51.025512756378184\n",
      " ATP Maintenance at 48 μ Mol of O2 is:248.37418709354677\n",
      " ATP Maintenance at 108 μ Mol of O2 is:350.05002501250624\n",
      " ATP Maintenance at 144 μ Mol of O2 is:395.4477238619309\n",
      " ATP Maintenance at 192 μ Mol of O2 is: 451.7258629314657\n"
     ]
    }
   ],
   "source": [
    "#iterate of all pathways \n",
    "\n",
    "for ETS_path in all_paths:\n",
    "    Determine_maintenance(\"./Models/model_n2_MFA.json\", ETS_path, 0, 750, 2000, Maintenance_coefficient, O2_concentration, ETS_path[3])"
   ]
  },
  {
   "cell_type": "code",
   "execution_count": 78,
   "metadata": {
    "ExecuteTime": {
     "end_time": "2021-03-07T01:03:25.825140Z",
     "start_time": "2021-03-07T01:03:24.578224Z"
    },
    "scrolled": true
   },
   "outputs": [
    {
     "data": {
      "text/html": [
       "<div>\n",
       "<style scoped>\n",
       "    .dataframe tbody tr th:only-of-type {\n",
       "        vertical-align: middle;\n",
       "    }\n",
       "\n",
       "    .dataframe tbody tr th {\n",
       "        vertical-align: top;\n",
       "    }\n",
       "\n",
       "    .dataframe thead tr th {\n",
       "        text-align: left;\n",
       "    }\n",
       "</style>\n",
       "<table border=\"1\" class=\"dataframe\">\n",
       "  <thead>\n",
       "    <tr>\n",
       "      <th></th>\n",
       "      <th colspan=\"2\" halign=\"left\">IN_FLUXES</th>\n",
       "      <th colspan=\"2\" halign=\"left\">OUT_FLUXES</th>\n",
       "      <th colspan=\"2\" halign=\"left\">OBJECTIVES</th>\n",
       "    </tr>\n",
       "    <tr>\n",
       "      <th></th>\n",
       "      <th>ID</th>\n",
       "      <th>FLUX</th>\n",
       "      <th>ID</th>\n",
       "      <th>FLUX</th>\n",
       "      <th>ID</th>\n",
       "      <th>FLUX</th>\n",
       "    </tr>\n",
       "  </thead>\n",
       "  <tbody>\n",
       "    <tr>\n",
       "      <th>0</th>\n",
       "      <td>o2_e</td>\n",
       "      <td>14.617978</td>\n",
       "      <td>h2o_e</td>\n",
       "      <td>24.910972</td>\n",
       "      <td>BIOMASS_Av_DJ_core</td>\n",
       "      <td>0.367899</td>\n",
       "    </tr>\n",
       "    <tr>\n",
       "      <th>1</th>\n",
       "      <td>glc__D_e</td>\n",
       "      <td>5.000000</td>\n",
       "      <td>co2_e</td>\n",
       "      <td>15.315916</td>\n",
       "      <td>NaN</td>\n",
       "      <td>NaN</td>\n",
       "    </tr>\n",
       "    <tr>\n",
       "      <th>2</th>\n",
       "      <td>nh4_e</td>\n",
       "      <td>3.847347</td>\n",
       "      <td>h_e</td>\n",
       "      <td>3.385419</td>\n",
       "      <td>NaN</td>\n",
       "      <td>NaN</td>\n",
       "    </tr>\n",
       "    <tr>\n",
       "      <th>3</th>\n",
       "      <td>pi_e</td>\n",
       "      <td>0.354878</td>\n",
       "      <td>NaN</td>\n",
       "      <td>NaN</td>\n",
       "      <td>NaN</td>\n",
       "      <td>NaN</td>\n",
       "    </tr>\n",
       "  </tbody>\n",
       "</table>\n",
       "</div>"
      ],
      "text/plain": [
       "<cobra.core.summary.model_summary.ModelSummary at 0x2147a5f1f88>"
      ]
     },
     "execution_count": 78,
     "metadata": {},
     "output_type": "execute_result"
    }
   ],
   "source": [
    "model = cobra.io.load_json_model(\"./Models/iAA1289.json\")  \n",
    "    \n",
    "rxn_path = [\"NADH6\", \"CYOO2pp\", \"RNF\", \"NII_BD_F\"]\n",
    "\n",
    "    \n",
    "model.reactions.get_by_id(rxn_path[0]).upper_bound = 0\n",
    "model.reactions.get_by_id(rxn_path[0]).lower_bound = 0\n",
    "\n",
    "model.reactions.get_by_id(rxn_path[1]).upper_bound = 0\n",
    "model.reactions.get_by_id(rxn_path[1]).lower_bound = 0\n",
    "        \n",
    "model.reactions.get_by_id(rxn_path[2]).upper_bound = 0\n",
    "model.reactions.get_by_id(rxn_path[2]).lower_bound = 0\n",
    "\n",
    "solution = model.optimize()\n",
    "model.summary()"
   ]
  },
  {
   "cell_type": "code",
   "execution_count": 79,
   "metadata": {
    "ExecuteTime": {
     "end_time": "2021-03-07T01:03:43.113075Z",
     "start_time": "2021-03-07T01:03:43.082040Z"
    }
   },
   "outputs": [
    {
     "data": {
      "text/html": [
       "<div>\n",
       "<style scoped>\n",
       "    .dataframe tbody tr th:only-of-type {\n",
       "        vertical-align: middle;\n",
       "    }\n",
       "\n",
       "    .dataframe tbody tr th {\n",
       "        vertical-align: top;\n",
       "    }\n",
       "\n",
       "    .dataframe thead th {\n",
       "        text-align: right;\n",
       "    }\n",
       "</style>\n",
       "<table border=\"1\" class=\"dataframe\">\n",
       "  <thead>\n",
       "    <tr style=\"text-align: right;\">\n",
       "      <th></th>\n",
       "      <th></th>\n",
       "      <th>PERCENT</th>\n",
       "      <th>FLUX</th>\n",
       "      <th>REACTION_STRING</th>\n",
       "    </tr>\n",
       "    <tr>\n",
       "      <th>RXN_STAT</th>\n",
       "      <th>ID</th>\n",
       "      <th></th>\n",
       "      <th></th>\n",
       "      <th></th>\n",
       "    </tr>\n",
       "  </thead>\n",
       "  <tbody>\n",
       "    <tr>\n",
       "      <th>PRODUCING</th>\n",
       "      <th>O2tpp</th>\n",
       "      <td>100.000000</td>\n",
       "      <td>14.617260</td>\n",
       "      <td>o2_p &lt;=&gt; o2_c</td>\n",
       "    </tr>\n",
       "    <tr>\n",
       "      <th>CONSUMING</th>\n",
       "      <th>CYTBDpp</th>\n",
       "      <td>99.998877</td>\n",
       "      <td>14.617096</td>\n",
       "      <td>2.0 h_c + 0.5 o2_c + q8h2_c --&gt; h2o_c + 2.0 h_...</td>\n",
       "    </tr>\n",
       "  </tbody>\n",
       "</table>\n",
       "</div>"
      ],
      "text/plain": [
       "<cobra.core.summary.metabolite_summary.MetaboliteSummary at 0x2147cc7bc08>"
      ]
     },
     "execution_count": 79,
     "metadata": {},
     "output_type": "execute_result"
    }
   ],
   "source": [
    "model.metabolites.o2_c.summary()"
   ]
  },
  {
   "cell_type": "code",
   "execution_count": null,
   "metadata": {},
   "outputs": [],
   "source": []
  }
 ],
 "metadata": {
  "kernelspec": {
   "display_name": "Python 3",
   "language": "python",
   "name": "python3"
  },
  "language_info": {
   "codemirror_mode": {
    "name": "ipython",
    "version": 3
   },
   "file_extension": ".py",
   "mimetype": "text/x-python",
   "name": "python",
   "nbconvert_exporter": "python",
   "pygments_lexer": "ipython3",
   "version": "3.7.6"
  }
 },
 "nbformat": 4,
 "nbformat_minor": 4
}
