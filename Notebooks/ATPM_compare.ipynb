{
 "cells": [
  {
   "cell_type": "markdown",
   "id": "norwegian-joshua",
   "metadata": {},
   "source": [
    "## Testing of maintenance rates"
   ]
  },
  {
   "cell_type": "markdown",
   "id": "undefined-thriller",
   "metadata": {},
   "source": [
    "From experimental data we have produced a set of maintenance rate estimates for each oxygen concentration and each possible path through the ETS of Av. While assuming the lowest maintenance rate would be biologically relevant we will test each maintenance rate with an experimentally derived substrate uptake rate and determine how accurate it can predict growth. Data is from Khula and Oelze 1988 and was extracted using [WebplotDigitizer](https://automeris.io/WebPlotDigitizer)."
   ]
  },
  {
   "cell_type": "code",
   "execution_count": 29,
   "id": "southeast-worth",
   "metadata": {
    "execution": {
     "iopub.execute_input": "2021-03-29T04:50:04.294879Z",
     "iopub.status.busy": "2021-03-29T04:50:04.293933Z",
     "iopub.status.idle": "2021-03-29T04:50:04.313080Z",
     "shell.execute_reply": "2021-03-29T04:50:04.312092Z",
     "shell.execute_reply.started": "2021-03-29T04:50:04.294879Z"
    }
   },
   "outputs": [],
   "source": [
    "import cobra.test\n",
    "import pandas as pd\n",
    "import matplotlib.pyplot as plt\n",
    "from numpy.polynomial.polynomial import polyfit\n",
    "import numpy as np\n",
    "import seaborn as sns\n",
    "import os\n",
    "import math\n",
    "from os.path import join\n",
    "from cobra import Model, Reaction, Metabolite\n",
    "from cobra.io import save_json_model"
   ]
  },
  {
   "cell_type": "code",
   "execution_count": 30,
   "id": "second-wages",
   "metadata": {
    "execution": {
     "iopub.execute_input": "2021-03-29T04:50:05.494736Z",
     "iopub.status.busy": "2021-03-29T04:50:05.494736Z",
     "iopub.status.idle": "2021-03-29T04:50:05.528751Z",
     "shell.execute_reply": "2021-03-29T04:50:05.527732Z",
     "shell.execute_reply.started": "2021-03-29T04:50:05.494736Z"
    }
   },
   "outputs": [
    {
     "data": {
      "text/html": [
       "<div>\n",
       "<style scoped>\n",
       "    .dataframe tbody tr th:only-of-type {\n",
       "        vertical-align: middle;\n",
       "    }\n",
       "\n",
       "    .dataframe tbody tr th {\n",
       "        vertical-align: top;\n",
       "    }\n",
       "\n",
       "    .dataframe thead th {\n",
       "        text-align: right;\n",
       "    }\n",
       "</style>\n",
       "<table border=\"1\" class=\"dataframe\">\n",
       "  <thead>\n",
       "    <tr style=\"text-align: right;\">\n",
       "      <th></th>\n",
       "      <th>Oxygen_conc</th>\n",
       "      <th>Growth_rate</th>\n",
       "      <th>Sucrose_uptake_p</th>\n",
       "      <th>Sucrose_uptake_gcdw</th>\n",
       "    </tr>\n",
       "  </thead>\n",
       "  <tbody>\n",
       "    <tr>\n",
       "      <th>0</th>\n",
       "      <td>192</td>\n",
       "      <td>0.05</td>\n",
       "      <td>11.63</td>\n",
       "      <td>8.81</td>\n",
       "    </tr>\n",
       "    <tr>\n",
       "      <th>1</th>\n",
       "      <td>192</td>\n",
       "      <td>0.07</td>\n",
       "      <td>13.06</td>\n",
       "      <td>9.89</td>\n",
       "    </tr>\n",
       "    <tr>\n",
       "      <th>2</th>\n",
       "      <td>192</td>\n",
       "      <td>0.10</td>\n",
       "      <td>14.85</td>\n",
       "      <td>11.25</td>\n",
       "    </tr>\n",
       "    <tr>\n",
       "      <th>3</th>\n",
       "      <td>192</td>\n",
       "      <td>0.16</td>\n",
       "      <td>16.07</td>\n",
       "      <td>12.18</td>\n",
       "    </tr>\n",
       "    <tr>\n",
       "      <th>4</th>\n",
       "      <td>192</td>\n",
       "      <td>0.17</td>\n",
       "      <td>16.48</td>\n",
       "      <td>12.48</td>\n",
       "    </tr>\n",
       "  </tbody>\n",
       "</table>\n",
       "</div>"
      ],
      "text/plain": [
       "   Oxygen_conc  Growth_rate  Sucrose_uptake_p  Sucrose_uptake_gcdw\n",
       "0          192         0.05             11.63                 8.81\n",
       "1          192         0.07             13.06                 9.89\n",
       "2          192         0.10             14.85                11.25\n",
       "3          192         0.16             16.07                12.18\n",
       "4          192         0.17             16.48                12.48"
      ]
     },
     "execution_count": 30,
     "metadata": {},
     "output_type": "execute_result"
    }
   ],
   "source": [
    "#Load data from Fig 4 of Khula and Oelze \n",
    "\n",
    "Fig4_data = pd.read_csv(\"../Data/Experimental_Data/Khula_Oelze_1988_Figure_4.csv\")\n",
    "Fig4_data.head()"
   ]
  },
  {
   "cell_type": "code",
   "execution_count": 31,
   "id": "material-complex",
   "metadata": {
    "execution": {
     "iopub.execute_input": "2021-03-29T04:50:08.637095Z",
     "iopub.status.busy": "2021-03-29T04:50:08.636539Z",
     "iopub.status.idle": "2021-03-29T04:50:08.661215Z",
     "shell.execute_reply": "2021-03-29T04:50:08.660196Z",
     "shell.execute_reply.started": "2021-03-29T04:50:08.637095Z"
    }
   },
   "outputs": [
    {
     "data": {
      "text/html": [
       "<div>\n",
       "<style scoped>\n",
       "    .dataframe tbody tr th:only-of-type {\n",
       "        vertical-align: middle;\n",
       "    }\n",
       "\n",
       "    .dataframe tbody tr th {\n",
       "        vertical-align: top;\n",
       "    }\n",
       "\n",
       "    .dataframe thead th {\n",
       "        text-align: right;\n",
       "    }\n",
       "</style>\n",
       "<table border=\"1\" class=\"dataframe\">\n",
       "  <thead>\n",
       "    <tr style=\"text-align: right;\">\n",
       "      <th></th>\n",
       "      <th>ETS_path</th>\n",
       "      <th>Oxygen_conc</th>\n",
       "      <th>group</th>\n",
       "      <th>ATPM_pred</th>\n",
       "    </tr>\n",
       "  </thead>\n",
       "  <tbody>\n",
       "    <tr>\n",
       "      <th>0</th>\n",
       "      <td>NII_BD_F</td>\n",
       "      <td>12</td>\n",
       "      <td>NII_BD_F_12</td>\n",
       "      <td>16.258129</td>\n",
       "    </tr>\n",
       "    <tr>\n",
       "      <th>1</th>\n",
       "      <td>NII_BD_F</td>\n",
       "      <td>48</td>\n",
       "      <td>NII_BD_F_48</td>\n",
       "      <td>78.789395</td>\n",
       "    </tr>\n",
       "    <tr>\n",
       "      <th>2</th>\n",
       "      <td>NII_BD_F</td>\n",
       "      <td>108</td>\n",
       "      <td>NII_BD_F_108</td>\n",
       "      <td>110.805403</td>\n",
       "    </tr>\n",
       "    <tr>\n",
       "      <th>3</th>\n",
       "      <td>NII_BD_F</td>\n",
       "      <td>144</td>\n",
       "      <td>NII_BD_F_144</td>\n",
       "      <td>125.062531</td>\n",
       "    </tr>\n",
       "    <tr>\n",
       "      <th>4</th>\n",
       "      <td>NII_BD_F</td>\n",
       "      <td>192</td>\n",
       "      <td>NII_BD_F_192</td>\n",
       "      <td>143.071536</td>\n",
       "    </tr>\n",
       "  </tbody>\n",
       "</table>\n",
       "</div>"
      ],
      "text/plain": [
       "   ETS_path  Oxygen_conc         group   ATPM_pred\n",
       "0  NII_BD_F           12   NII_BD_F_12   16.258129\n",
       "1  NII_BD_F           48   NII_BD_F_48   78.789395\n",
       "2  NII_BD_F          108  NII_BD_F_108  110.805403\n",
       "3  NII_BD_F          144  NII_BD_F_144  125.062531\n",
       "4  NII_BD_F          192  NII_BD_F_192  143.071536"
      ]
     },
     "execution_count": 31,
     "metadata": {},
     "output_type": "execute_result"
    }
   ],
   "source": [
    "#load ATPM predictions\n",
    "ATPM_pred = pd.read_csv(\"../Data/Maintenance_rates/Maintenance_rates_pred.csv\", index_col=0)\n",
    "ATPM_pred.rename({'O2_concentration': 'Oxygen_conc', 'ATPM_bound_value': 'ATPM_pred'}, axis=1, inplace=True) \n",
    "ATPM_pred.head()\n"
   ]
  },
  {
   "cell_type": "code",
   "execution_count": 46,
   "id": "selective-maple",
   "metadata": {
    "execution": {
     "iopub.execute_input": "2021-03-29T05:20:25.647113Z",
     "iopub.status.busy": "2021-03-29T05:20:25.647113Z",
     "iopub.status.idle": "2021-03-29T05:20:25.678716Z",
     "shell.execute_reply": "2021-03-29T05:20:25.677686Z",
     "shell.execute_reply.started": "2021-03-29T05:20:25.647113Z"
    }
   },
   "outputs": [
    {
     "data": {
      "text/html": [
       "<div>\n",
       "<style scoped>\n",
       "    .dataframe tbody tr th:only-of-type {\n",
       "        vertical-align: middle;\n",
       "    }\n",
       "\n",
       "    .dataframe tbody tr th {\n",
       "        vertical-align: top;\n",
       "    }\n",
       "\n",
       "    .dataframe thead th {\n",
       "        text-align: right;\n",
       "    }\n",
       "</style>\n",
       "<table border=\"1\" class=\"dataframe\">\n",
       "  <thead>\n",
       "    <tr style=\"text-align: right;\">\n",
       "      <th></th>\n",
       "      <th>ETS_path</th>\n",
       "      <th>Oxygen_conc</th>\n",
       "      <th>group</th>\n",
       "      <th>ATPM_pred</th>\n",
       "      <th>Growth_rate</th>\n",
       "      <th>Sucrose_uptake_p</th>\n",
       "      <th>Sucrose_uptake_gcdw</th>\n",
       "    </tr>\n",
       "  </thead>\n",
       "  <tbody>\n",
       "    <tr>\n",
       "      <th>0</th>\n",
       "      <td>NII_BD_F</td>\n",
       "      <td>12</td>\n",
       "      <td>NII_BD_F_12</td>\n",
       "      <td>16.258129</td>\n",
       "      <td>0.06</td>\n",
       "      <td>2.65</td>\n",
       "      <td>2.01</td>\n",
       "    </tr>\n",
       "    <tr>\n",
       "      <th>1</th>\n",
       "      <td>NII_BD_F</td>\n",
       "      <td>12</td>\n",
       "      <td>NII_BD_F_12</td>\n",
       "      <td>16.258129</td>\n",
       "      <td>0.07</td>\n",
       "      <td>2.96</td>\n",
       "      <td>2.24</td>\n",
       "    </tr>\n",
       "    <tr>\n",
       "      <th>2</th>\n",
       "      <td>NII_BD_F</td>\n",
       "      <td>12</td>\n",
       "      <td>NII_BD_F_12</td>\n",
       "      <td>16.258129</td>\n",
       "      <td>0.10</td>\n",
       "      <td>2.96</td>\n",
       "      <td>2.24</td>\n",
       "    </tr>\n",
       "    <tr>\n",
       "      <th>3</th>\n",
       "      <td>NII_BD_F</td>\n",
       "      <td>12</td>\n",
       "      <td>NII_BD_F_12</td>\n",
       "      <td>16.258129</td>\n",
       "      <td>0.12</td>\n",
       "      <td>3.16</td>\n",
       "      <td>2.40</td>\n",
       "    </tr>\n",
       "    <tr>\n",
       "      <th>4</th>\n",
       "      <td>NII_BD_F</td>\n",
       "      <td>12</td>\n",
       "      <td>NII_BD_F_12</td>\n",
       "      <td>16.258129</td>\n",
       "      <td>0.18</td>\n",
       "      <td>5.00</td>\n",
       "      <td>3.79</td>\n",
       "    </tr>\n",
       "    <tr>\n",
       "      <th>...</th>\n",
       "      <td>...</td>\n",
       "      <td>...</td>\n",
       "      <td>...</td>\n",
       "      <td>...</td>\n",
       "      <td>...</td>\n",
       "      <td>...</td>\n",
       "      <td>...</td>\n",
       "    </tr>\n",
       "    <tr>\n",
       "      <th>283</th>\n",
       "      <td>NI_CO_R</td>\n",
       "      <td>192</td>\n",
       "      <td>NI_CO_R_192</td>\n",
       "      <td>446.723362</td>\n",
       "      <td>0.07</td>\n",
       "      <td>13.06</td>\n",
       "      <td>9.89</td>\n",
       "    </tr>\n",
       "    <tr>\n",
       "      <th>284</th>\n",
       "      <td>NI_CO_R</td>\n",
       "      <td>192</td>\n",
       "      <td>NI_CO_R_192</td>\n",
       "      <td>446.723362</td>\n",
       "      <td>0.10</td>\n",
       "      <td>14.85</td>\n",
       "      <td>11.25</td>\n",
       "    </tr>\n",
       "    <tr>\n",
       "      <th>285</th>\n",
       "      <td>NI_CO_R</td>\n",
       "      <td>192</td>\n",
       "      <td>NI_CO_R_192</td>\n",
       "      <td>446.723362</td>\n",
       "      <td>0.16</td>\n",
       "      <td>16.07</td>\n",
       "      <td>12.18</td>\n",
       "    </tr>\n",
       "    <tr>\n",
       "      <th>286</th>\n",
       "      <td>NI_CO_R</td>\n",
       "      <td>192</td>\n",
       "      <td>NI_CO_R_192</td>\n",
       "      <td>446.723362</td>\n",
       "      <td>0.17</td>\n",
       "      <td>16.48</td>\n",
       "      <td>12.48</td>\n",
       "    </tr>\n",
       "    <tr>\n",
       "      <th>287</th>\n",
       "      <td>NI_CO_R</td>\n",
       "      <td>192</td>\n",
       "      <td>NI_CO_R_192</td>\n",
       "      <td>446.723362</td>\n",
       "      <td>0.21</td>\n",
       "      <td>18.42</td>\n",
       "      <td>13.95</td>\n",
       "    </tr>\n",
       "  </tbody>\n",
       "</table>\n",
       "<p>288 rows × 7 columns</p>\n",
       "</div>"
      ],
      "text/plain": [
       "     ETS_path  Oxygen_conc        group   ATPM_pred  Growth_rate  \\\n",
       "0    NII_BD_F           12  NII_BD_F_12   16.258129         0.06   \n",
       "1    NII_BD_F           12  NII_BD_F_12   16.258129         0.07   \n",
       "2    NII_BD_F           12  NII_BD_F_12   16.258129         0.10   \n",
       "3    NII_BD_F           12  NII_BD_F_12   16.258129         0.12   \n",
       "4    NII_BD_F           12  NII_BD_F_12   16.258129         0.18   \n",
       "..        ...          ...          ...         ...          ...   \n",
       "283   NI_CO_R          192  NI_CO_R_192  446.723362         0.07   \n",
       "284   NI_CO_R          192  NI_CO_R_192  446.723362         0.10   \n",
       "285   NI_CO_R          192  NI_CO_R_192  446.723362         0.16   \n",
       "286   NI_CO_R          192  NI_CO_R_192  446.723362         0.17   \n",
       "287   NI_CO_R          192  NI_CO_R_192  446.723362         0.21   \n",
       "\n",
       "     Sucrose_uptake_p  Sucrose_uptake_gcdw  \n",
       "0                2.65                 2.01  \n",
       "1                2.96                 2.24  \n",
       "2                2.96                 2.24  \n",
       "3                3.16                 2.40  \n",
       "4                5.00                 3.79  \n",
       "..                ...                  ...  \n",
       "283             13.06                 9.89  \n",
       "284             14.85                11.25  \n",
       "285             16.07                12.18  \n",
       "286             16.48                12.48  \n",
       "287             18.42                13.95  \n",
       "\n",
       "[288 rows x 7 columns]"
      ]
     },
     "execution_count": 46,
     "metadata": {},
     "output_type": "execute_result"
    }
   ],
   "source": [
    "#Merge ATPM predictions and experimental data \n",
    "\n",
    "ATPM_pred_merge = pd.merge(left=ATPM_pred, right=Fig4_data, left_on='Oxygen_conc', right_on='Oxygen_conc')\n",
    "ATPM_pred_merge.to_csv(\"../Data/Maintenance_rates/ATPM_pred_merge.csv\")\n",
    "ATPM_pred_merge"
   ]
  },
  {
   "cell_type": "code",
   "execution_count": 33,
   "id": "excessive-garlic",
   "metadata": {
    "execution": {
     "iopub.execute_input": "2021-03-29T04:50:12.505291Z",
     "iopub.status.busy": "2021-03-29T04:50:12.505291Z",
     "iopub.status.idle": "2021-03-29T04:50:12.527239Z",
     "shell.execute_reply": "2021-03-29T04:50:12.526271Z",
     "shell.execute_reply.started": "2021-03-29T04:50:12.505291Z"
    }
   },
   "outputs": [],
   "source": [
    "#reaction ids not in pathway then \"name\" of pathway\n",
    "NII_BD_F = [\"NADH6\", \"CYOO2pp\", \"RNF\", \"NII_BD_F\"]\n",
    "NII_CO_F = [\"NADH6\", \"CYTBDpp\", \"RNF\", \"NII_CO_F\"]\n",
    "NII_BD_R = [\"NADH6\", \"CYOO2pp\", \"FIX\", \"NII_BD_R\"]\n",
    "NII_CO_R = [\"NADH6\", \"CYTBDpp\", \"FIX\", \"NII_CO_R\"]\n",
    "NI_BD_F = [\"NADH5\", \"CYOO2pp\", \"RNF\", \"NI_BD_F\"]\n",
    "NI_CO_F = [\"NADH5\", \"CYTBDpp\", \"RNF\", \"NI_CO_F\"] \n",
    "NI_BD_R = [\"NADH5\", \"CYOO2pp\", \"FIX\", \"NI_BD_R\"]\n",
    "NI_CO_R= [\"NADH5\", \"CYTBDpp\", \"FIX\", \"NI_CO_R\"]\n",
    "\n",
    "all_paths = [NII_BD_F,\n",
    "                NII_CO_F, \n",
    "                NII_BD_R,\n",
    "                NII_CO_R,\n",
    "                NI_BD_F,\n",
    "                NI_CO_F,\n",
    "                NI_BD_R,\n",
    "                NI_CO_R]"
   ]
  },
  {
   "cell_type": "code",
   "execution_count": 34,
   "id": "continuous-accounting",
   "metadata": {
    "execution": {
     "iopub.execute_input": "2021-03-29T04:50:15.772362Z",
     "iopub.status.busy": "2021-03-29T04:50:15.772362Z",
     "iopub.status.idle": "2021-03-29T04:50:15.792956Z",
     "shell.execute_reply": "2021-03-29T04:50:15.791656Z",
     "shell.execute_reply.started": "2021-03-29T04:50:15.772362Z"
    }
   },
   "outputs": [],
   "source": [
    "def metabolite_flux_balance(metabolite, solution):\n",
    "    \"\"\"\n",
    "    Return a vector of reaction fluxes scaled by the stoichiometric coefficient.\n",
    "\n",
    "    Parameters\n",
    "    ----------\n",
    "    metabolite : cobra.Metabolite\n",
    "        The metabolite whose fluxes are to be investigated.\n",
    "    solution : cobra.Solution\n",
    "        Solution with flux values.\n",
    "\n",
    "    Returns\n",
    "    -------\n",
    "    pandas.Series\n",
    "        A vector with fluxes of reactions that consume or produce the given\n",
    "        metabolite scaled by the corresponding stoichiometric coefficients. The\n",
    "        reaction identifiers are given by the index.\n",
    "    \"\"\"\n",
    "    rxn_ids = list()\n",
    "    rxn_sub = list()\n",
    "    adj_flux = list()\n",
    "    for rxn in metabolite.reactions:\n",
    "        coef = rxn.get_coefficient(metabolite)\n",
    "        rxn_ids.append(rxn.id)\n",
    "        rxn_sub.append(rxn.subsystem)\n",
    "        adj_flux.append(coef * solution.fluxes[rxn.id])\n",
    "    return pd.DataFrame({'Rxn_id': rxn_ids, 'Subsystem': rxn_sub, 'Adjusted_Flux': adj_flux})\n",
    "\n",
    "\n",
    "\n",
    "# Two functions that will pull the total ATP produced and the ratio of ATPM/Total ATP from the above function\n",
    "def ATP_total(df):\n",
    "    positive_num = df[(df.Adjusted_Flux > 0)]\n",
    "    ATP_total = positive_num['Adjusted_Flux'].sum()\n",
    "    return ATP_total\n",
    "\n",
    "def ATP_ratio(df, ATP_total):\n",
    "    ATPM = df.loc[df['Rxn_id'] == 'ATPM', 'Adjusted_Flux'].values[0]\n",
    "    ATPM_ratio = (ATPM * -1)/ATP_total\n",
    "    return ATPM_ratio"
   ]
  },
  {
   "cell_type": "code",
   "execution_count": null,
   "id": "realistic-pickup",
   "metadata": {},
   "outputs": [],
   "source": []
  },
  {
   "cell_type": "code",
   "execution_count": 73,
   "id": "mysterious-intranet",
   "metadata": {
    "execution": {
     "iopub.execute_input": "2021-03-29T05:48:40.256758Z",
     "iopub.status.busy": "2021-03-29T05:48:40.256758Z",
     "iopub.status.idle": "2021-03-29T05:48:40.282714Z",
     "shell.execute_reply": "2021-03-29T05:48:40.281747Z",
     "shell.execute_reply.started": "2021-03-29T05:48:40.256758Z"
    }
   },
   "outputs": [],
   "source": [
    "ATPM_pred_final = ATPM_pred_merge\n",
    "\n",
    "\n",
    "def growth_rate_prediction(path_to_model, rxn_path):\n",
    "    suc_uptake = ATPM_pred_final['Sucrose_uptake_gcdw'].tolist()\n",
    "    ATPM_flux = ATPM_pred_final['ATPM_pred'].tolist()\n",
    "    ETS_path = ATPM_pred_final['ETS_path'].tolist()\n",
    "    Growth_rate_pred = []\n",
    "    Oxygen_consumption_pred = []\n",
    "    ATP_production = []\n",
    "    ATPM_ATP_prect = []\n",
    "    \n",
    "    \n",
    "    for (i, j, k) in zip(ETS_path, suc_uptake, ATPM_flux):\n",
    "        \n",
    "        if i == rxn_path[3]:\n",
    "            \n",
    "            model = cobra.io.load_json_model(path_to_model)\n",
    "\n",
    "            # Make sure glucose is set to zero\n",
    "            model.reactions.get_by_id(\"EX_glc__D_e\").lower_bound = 0\n",
    "            model.reactions.get_by_id(\"EX_glc__D_e\").upper_bound = 0\n",
    "\n",
    "            # Make sure glucose is set to zero\n",
    "            model.reactions.get_by_id(\"EX_glc__D_e\").lower_bound = 0\n",
    "            model.reactions.get_by_id(\"EX_glc__D_e\").upper_bound = 0\n",
    "\n",
    "            # Make sure model is diazotrophic\n",
    "            model.reactions.get_by_id(\"EX_nh4_e\").lower_bound = 0\n",
    "            model.reactions.get_by_id(\"EX_nh4_e\").upper_bound = 0\n",
    "\n",
    "            # set the flux to zero of corresponding reactions in pathway of interest\n",
    "            model.reactions.get_by_id(rxn_path[0]).upper_bound = 0\n",
    "            model.reactions.get_by_id(rxn_path[0]).lower_bound = 0\n",
    "\n",
    "            model.reactions.get_by_id(rxn_path[1]).upper_bound = 0\n",
    "            model.reactions.get_by_id(rxn_path[1]).lower_bound = 0\n",
    "\n",
    "            model.reactions.get_by_id(rxn_path[2]).upper_bound = 0\n",
    "            model.reactions.get_by_id(rxn_path[2]).lower_bound = 0\n",
    "\n",
    "            # Set sucrose uptake to maintenance coefficient\n",
    "            model.reactions.get_by_id(\"EX_sucr_e\").lower_bound = -j\n",
    "            model.reactions.get_by_id(\"EX_sucr_e\").upper_bound = -j\n",
    "\n",
    "            # Set ATPM to theoretical derived\n",
    "            model.reactions.get_by_id(\"ATPM\").upper_bound = 1000\n",
    "            model.reactions.get_by_id(\"ATPM\").lower_bound = k\n",
    "\n",
    "            # solve the model\n",
    "\n",
    "            solution = model.optimize()\n",
    "\n",
    "            Growth_rate_pred.append(solution.objective_value)\n",
    "            Oxygen_consumption_pred.append(solution.fluxes[\"O2tpp\"])\n",
    "            atp_total_df = metabolite_flux_balance(model.metabolites.atp_c, solution)\n",
    "            ATP_production.append(ATP_total(atp_total_df))\n",
    "            ATPM_ATP_prect.append(ATP_ratio(atp_total_df, atp_total))\n",
    "            print(\"Calculating growth rate for path {} at {} sucrose uptake and {} ATPM ...\".format(rxn_path[3], j, k))\n",
    "            \n",
    "        else:\n",
    "            \n",
    "            pass\n",
    "\n",
    "    ATPM_pred_final['Growth_rate_pred'] = Growth_rate_pred\n",
    "    ATPM_pred_final['Oxygen_consumption_pred'] = Oxygen_consumption_pred\n",
    "    ATPM_pred_final['ATP_production'] = ATP_production\n",
    "    ATPM_pred_final['ATPM_ATP_prect'] = ATPM_ATP_prect\n",
    "\n",
    "    ATPM_pred_final.to_csv(\"ATPM_pred_final.csv\")\n",
    "\n",
    "    ATPM_pred_final.head()\n"
   ]
  },
  {
   "cell_type": "code",
   "execution_count": null,
   "id": "above-silly",
   "metadata": {},
   "outputs": [],
   "source": []
  },
  {
   "cell_type": "code",
   "execution_count": 75,
   "id": "protective-freedom",
   "metadata": {
    "execution": {
     "iopub.execute_input": "2021-03-29T05:50:51.017723Z",
     "iopub.status.busy": "2021-03-29T05:50:51.017723Z",
     "iopub.status.idle": "2021-03-29T05:50:54.618609Z",
     "shell.execute_reply": "2021-03-29T05:50:54.617062Z",
     "shell.execute_reply.started": "2021-03-29T05:50:51.017723Z"
    }
   },
   "outputs": [
    {
     "name": "stdout",
     "output_type": "stream",
     "text": [
      "Calculating growth rate for path NII_BD_F at 2.01 sucrose uptake and 16.258129064532266 ATPM ...\n"
     ]
    },
    {
     "ename": "KeyboardInterrupt",
     "evalue": "",
     "output_type": "error",
     "traceback": [
      "\u001b[1;31m---------------------------------------------------------------------------\u001b[0m",
      "\u001b[1;31mKeyboardInterrupt\u001b[0m                         Traceback (most recent call last)",
      "\u001b[1;32m<ipython-input-75-85cefdc38835>\u001b[0m in \u001b[0;36m<module>\u001b[1;34m\u001b[0m\n\u001b[0;32m      1\u001b[0m \u001b[1;32mfor\u001b[0m \u001b[0mETS_path\u001b[0m \u001b[1;32min\u001b[0m \u001b[0mall_paths\u001b[0m\u001b[1;33m:\u001b[0m\u001b[1;33m\u001b[0m\u001b[1;33m\u001b[0m\u001b[0m\n\u001b[1;32m----> 2\u001b[1;33m     \u001b[0mgrowth_rate_prediction\u001b[0m\u001b[1;33m(\u001b[0m\u001b[1;34m\"../Data/Models/iAA1300.json\"\u001b[0m\u001b[1;33m,\u001b[0m \u001b[0mETS_path\u001b[0m\u001b[1;33m)\u001b[0m\u001b[1;33m\u001b[0m\u001b[1;33m\u001b[0m\u001b[0m\n\u001b[0m",
      "\u001b[1;32m<ipython-input-73-d79138732950>\u001b[0m in \u001b[0;36mgrowth_rate_prediction\u001b[1;34m(path_to_model, rxn_path)\u001b[0m\n\u001b[0;32m     16\u001b[0m         \u001b[1;32mif\u001b[0m \u001b[0mi\u001b[0m \u001b[1;33m==\u001b[0m \u001b[0mrxn_path\u001b[0m\u001b[1;33m[\u001b[0m\u001b[1;36m3\u001b[0m\u001b[1;33m]\u001b[0m\u001b[1;33m:\u001b[0m\u001b[1;33m\u001b[0m\u001b[1;33m\u001b[0m\u001b[0m\n\u001b[0;32m     17\u001b[0m \u001b[1;33m\u001b[0m\u001b[0m\n\u001b[1;32m---> 18\u001b[1;33m             \u001b[0mmodel\u001b[0m \u001b[1;33m=\u001b[0m \u001b[0mcobra\u001b[0m\u001b[1;33m.\u001b[0m\u001b[0mio\u001b[0m\u001b[1;33m.\u001b[0m\u001b[0mload_json_model\u001b[0m\u001b[1;33m(\u001b[0m\u001b[0mpath_to_model\u001b[0m\u001b[1;33m)\u001b[0m\u001b[1;33m\u001b[0m\u001b[1;33m\u001b[0m\u001b[0m\n\u001b[0m\u001b[0;32m     19\u001b[0m \u001b[1;33m\u001b[0m\u001b[0m\n\u001b[0;32m     20\u001b[0m             \u001b[1;31m# Make sure glucose is set to zero\u001b[0m\u001b[1;33m\u001b[0m\u001b[1;33m\u001b[0m\u001b[1;33m\u001b[0m\u001b[0m\n",
      "\u001b[1;32m~\\anaconda3\\envs\\Metabolic_models\\lib\\site-packages\\cobra\\io\\json.py\u001b[0m in \u001b[0;36mload_json_model\u001b[1;34m(filename)\u001b[0m\n\u001b[0;32m    140\u001b[0m     \u001b[1;32mif\u001b[0m \u001b[0misinstance\u001b[0m\u001b[1;33m(\u001b[0m\u001b[0mfilename\u001b[0m\u001b[1;33m,\u001b[0m \u001b[0mstring_types\u001b[0m\u001b[1;33m)\u001b[0m\u001b[1;33m:\u001b[0m\u001b[1;33m\u001b[0m\u001b[1;33m\u001b[0m\u001b[0m\n\u001b[0;32m    141\u001b[0m         \u001b[1;32mwith\u001b[0m \u001b[0mopen\u001b[0m\u001b[1;33m(\u001b[0m\u001b[0mfilename\u001b[0m\u001b[1;33m,\u001b[0m \u001b[1;34m\"r\"\u001b[0m\u001b[1;33m)\u001b[0m \u001b[1;32mas\u001b[0m \u001b[0mfile_handle\u001b[0m\u001b[1;33m:\u001b[0m\u001b[1;33m\u001b[0m\u001b[1;33m\u001b[0m\u001b[0m\n\u001b[1;32m--> 142\u001b[1;33m             \u001b[1;32mreturn\u001b[0m \u001b[0mmodel_from_dict\u001b[0m\u001b[1;33m(\u001b[0m\u001b[0mjson\u001b[0m\u001b[1;33m.\u001b[0m\u001b[0mload\u001b[0m\u001b[1;33m(\u001b[0m\u001b[0mfile_handle\u001b[0m\u001b[1;33m)\u001b[0m\u001b[1;33m)\u001b[0m\u001b[1;33m\u001b[0m\u001b[1;33m\u001b[0m\u001b[0m\n\u001b[0m\u001b[0;32m    143\u001b[0m     \u001b[1;32melse\u001b[0m\u001b[1;33m:\u001b[0m\u001b[1;33m\u001b[0m\u001b[1;33m\u001b[0m\u001b[0m\n\u001b[0;32m    144\u001b[0m         \u001b[1;32mreturn\u001b[0m \u001b[0mmodel_from_dict\u001b[0m\u001b[1;33m(\u001b[0m\u001b[0mjson\u001b[0m\u001b[1;33m.\u001b[0m\u001b[0mload\u001b[0m\u001b[1;33m(\u001b[0m\u001b[0mfilename\u001b[0m\u001b[1;33m)\u001b[0m\u001b[1;33m)\u001b[0m\u001b[1;33m\u001b[0m\u001b[1;33m\u001b[0m\u001b[0m\n",
      "\u001b[1;32m~\\anaconda3\\envs\\Metabolic_models\\lib\\site-packages\\cobra\\io\\dict.py\u001b[0m in \u001b[0;36mmodel_from_dict\u001b[1;34m(obj)\u001b[0m\n\u001b[0;32m    254\u001b[0m     \u001b[0mmodel\u001b[0m\u001b[1;33m.\u001b[0m\u001b[0mgenes\u001b[0m\u001b[1;33m.\u001b[0m\u001b[0mextend\u001b[0m\u001b[1;33m(\u001b[0m\u001b[1;33m[\u001b[0m\u001b[0mgene_from_dict\u001b[0m\u001b[1;33m(\u001b[0m\u001b[0mgene\u001b[0m\u001b[1;33m)\u001b[0m \u001b[1;32mfor\u001b[0m \u001b[0mgene\u001b[0m \u001b[1;32min\u001b[0m \u001b[0mobj\u001b[0m\u001b[1;33m[\u001b[0m\u001b[1;34m\"genes\"\u001b[0m\u001b[1;33m]\u001b[0m\u001b[1;33m]\u001b[0m\u001b[1;33m)\u001b[0m\u001b[1;33m\u001b[0m\u001b[1;33m\u001b[0m\u001b[0m\n\u001b[0;32m    255\u001b[0m     model.add_reactions(\n\u001b[1;32m--> 256\u001b[1;33m         \u001b[1;33m[\u001b[0m\u001b[0mreaction_from_dict\u001b[0m\u001b[1;33m(\u001b[0m\u001b[0mreaction\u001b[0m\u001b[1;33m,\u001b[0m \u001b[0mmodel\u001b[0m\u001b[1;33m)\u001b[0m \u001b[1;32mfor\u001b[0m \u001b[0mreaction\u001b[0m \u001b[1;32min\u001b[0m \u001b[0mobj\u001b[0m\u001b[1;33m[\u001b[0m\u001b[1;34m\"reactions\"\u001b[0m\u001b[1;33m]\u001b[0m\u001b[1;33m]\u001b[0m\u001b[1;33m\u001b[0m\u001b[1;33m\u001b[0m\u001b[0m\n\u001b[0m\u001b[0;32m    257\u001b[0m     )\n\u001b[0;32m    258\u001b[0m     objective_reactions = [\n",
      "\u001b[1;32m~\\anaconda3\\envs\\Metabolic_models\\lib\\site-packages\\cobra\\core\\model.py\u001b[0m in \u001b[0;36madd_reactions\u001b[1;34m(self, reaction_list)\u001b[0m\n\u001b[0;32m    726\u001b[0m \u001b[1;33m\u001b[0m\u001b[0m\n\u001b[0;32m    727\u001b[0m         \u001b[1;31m# from cameo ...\u001b[0m\u001b[1;33m\u001b[0m\u001b[1;33m\u001b[0m\u001b[1;33m\u001b[0m\u001b[0m\n\u001b[1;32m--> 728\u001b[1;33m         \u001b[0mself\u001b[0m\u001b[1;33m.\u001b[0m\u001b[0m_populate_solver\u001b[0m\u001b[1;33m(\u001b[0m\u001b[0mpruned\u001b[0m\u001b[1;33m)\u001b[0m\u001b[1;33m\u001b[0m\u001b[1;33m\u001b[0m\u001b[0m\n\u001b[0m\u001b[0;32m    729\u001b[0m \u001b[1;33m\u001b[0m\u001b[0m\n\u001b[0;32m    730\u001b[0m     \u001b[1;32mdef\u001b[0m \u001b[0mremove_reactions\u001b[0m\u001b[1;33m(\u001b[0m\u001b[0mself\u001b[0m\u001b[1;33m,\u001b[0m \u001b[0mreactions\u001b[0m\u001b[1;33m,\u001b[0m \u001b[0mremove_orphans\u001b[0m\u001b[1;33m=\u001b[0m\u001b[1;32mFalse\u001b[0m\u001b[1;33m)\u001b[0m\u001b[1;33m:\u001b[0m\u001b[1;33m\u001b[0m\u001b[1;33m\u001b[0m\u001b[0m\n",
      "\u001b[1;32m~\\anaconda3\\envs\\Metabolic_models\\lib\\site-packages\\cobra\\core\\model.py\u001b[0m in \u001b[0;36m_populate_solver\u001b[1;34m(self, reaction_list, metabolite_list)\u001b[0m\n\u001b[0;32m   1043\u001b[0m             \u001b[0mreaction\u001b[0m\u001b[1;33m.\u001b[0m\u001b[0mupdate_variable_bounds\u001b[0m\u001b[1;33m(\u001b[0m\u001b[1;33m)\u001b[0m\u001b[1;33m\u001b[0m\u001b[1;33m\u001b[0m\u001b[0m\n\u001b[0;32m   1044\u001b[0m         \u001b[1;32mfor\u001b[0m \u001b[0mconstraint\u001b[0m\u001b[1;33m,\u001b[0m \u001b[0mterms\u001b[0m \u001b[1;32min\u001b[0m \u001b[0msix\u001b[0m\u001b[1;33m.\u001b[0m\u001b[0miteritems\u001b[0m\u001b[1;33m(\u001b[0m\u001b[0mconstraint_terms\u001b[0m\u001b[1;33m)\u001b[0m\u001b[1;33m:\u001b[0m\u001b[1;33m\u001b[0m\u001b[1;33m\u001b[0m\u001b[0m\n\u001b[1;32m-> 1045\u001b[1;33m             \u001b[0mconstraint\u001b[0m\u001b[1;33m.\u001b[0m\u001b[0mset_linear_coefficients\u001b[0m\u001b[1;33m(\u001b[0m\u001b[0mterms\u001b[0m\u001b[1;33m)\u001b[0m\u001b[1;33m\u001b[0m\u001b[1;33m\u001b[0m\u001b[0m\n\u001b[0m\u001b[0;32m   1046\u001b[0m \u001b[1;33m\u001b[0m\u001b[0m\n\u001b[0;32m   1047\u001b[0m     \u001b[1;32mdef\u001b[0m \u001b[0mslim_optimize\u001b[0m\u001b[1;33m(\u001b[0m\u001b[0mself\u001b[0m\u001b[1;33m,\u001b[0m \u001b[0merror_value\u001b[0m\u001b[1;33m=\u001b[0m\u001b[0mfloat\u001b[0m\u001b[1;33m(\u001b[0m\u001b[1;34m\"nan\"\u001b[0m\u001b[1;33m)\u001b[0m\u001b[1;33m,\u001b[0m \u001b[0mmessage\u001b[0m\u001b[1;33m=\u001b[0m\u001b[1;32mNone\u001b[0m\u001b[1;33m)\u001b[0m\u001b[1;33m:\u001b[0m\u001b[1;33m\u001b[0m\u001b[1;33m\u001b[0m\u001b[0m\n",
      "\u001b[1;32m~\\anaconda3\\envs\\Metabolic_models\\lib\\site-packages\\optlang\\glpk_interface.py\u001b[0m in \u001b[0;36mset_linear_coefficients\u001b[1;34m(self, coefficients)\u001b[0m\n\u001b[0;32m    282\u001b[0m \u001b[1;33m\u001b[0m\u001b[0m\n\u001b[0;32m    283\u001b[0m             \u001b[1;32mfor\u001b[0m \u001b[0mi\u001b[0m\u001b[1;33m,\u001b[0m \u001b[1;33m(\u001b[0m\u001b[0mname\u001b[0m\u001b[1;33m,\u001b[0m \u001b[0mcoeff\u001b[0m\u001b[1;33m)\u001b[0m \u001b[1;32min\u001b[0m \u001b[0menumerate\u001b[0m\u001b[1;33m(\u001b[0m\u001b[0msix\u001b[0m\u001b[1;33m.\u001b[0m\u001b[0miteritems\u001b[0m\u001b[1;33m(\u001b[0m\u001b[0mfinal_variables_and_coefficients\u001b[0m\u001b[1;33m)\u001b[0m\u001b[1;33m)\u001b[0m\u001b[1;33m:\u001b[0m\u001b[1;33m\u001b[0m\u001b[1;33m\u001b[0m\u001b[0m\n\u001b[1;32m--> 284\u001b[1;33m                 \u001b[0mia\u001b[0m\u001b[1;33m[\u001b[0m\u001b[0mi\u001b[0m \u001b[1;33m+\u001b[0m \u001b[1;36m1\u001b[0m\u001b[1;33m]\u001b[0m \u001b[1;33m=\u001b[0m \u001b[0mself\u001b[0m\u001b[1;33m.\u001b[0m\u001b[0mproblem\u001b[0m\u001b[1;33m.\u001b[0m\u001b[0m_variables\u001b[0m\u001b[1;33m[\u001b[0m\u001b[0mname\u001b[0m\u001b[1;33m]\u001b[0m\u001b[1;33m.\u001b[0m\u001b[0m_index\u001b[0m\u001b[1;33m\u001b[0m\u001b[1;33m\u001b[0m\u001b[0m\n\u001b[0m\u001b[0;32m    285\u001b[0m                 \u001b[0mva\u001b[0m\u001b[1;33m[\u001b[0m\u001b[0mi\u001b[0m \u001b[1;33m+\u001b[0m \u001b[1;36m1\u001b[0m\u001b[1;33m]\u001b[0m \u001b[1;33m=\u001b[0m \u001b[0mfloat\u001b[0m\u001b[1;33m(\u001b[0m\u001b[0mcoeff\u001b[0m\u001b[1;33m)\u001b[0m\u001b[1;33m\u001b[0m\u001b[1;33m\u001b[0m\u001b[0m\n\u001b[0;32m    286\u001b[0m \u001b[1;33m\u001b[0m\u001b[0m\n",
      "\u001b[1;32m~\\anaconda3\\envs\\Metabolic_models\\lib\\site-packages\\optlang\\glpk_interface.py\u001b[0m in \u001b[0;36m_index\u001b[1;34m(self)\u001b[0m\n\u001b[0;32m     91\u001b[0m     \u001b[1;32mdef\u001b[0m \u001b[0m_index\u001b[0m\u001b[1;33m(\u001b[0m\u001b[0mself\u001b[0m\u001b[1;33m)\u001b[0m\u001b[1;33m:\u001b[0m\u001b[1;33m\u001b[0m\u001b[1;33m\u001b[0m\u001b[0m\n\u001b[0;32m     92\u001b[0m         \u001b[1;32mif\u001b[0m \u001b[0mself\u001b[0m\u001b[1;33m.\u001b[0m\u001b[0mproblem\u001b[0m \u001b[1;32mis\u001b[0m \u001b[1;32mnot\u001b[0m \u001b[1;32mNone\u001b[0m\u001b[1;33m:\u001b[0m\u001b[1;33m\u001b[0m\u001b[1;33m\u001b[0m\u001b[0m\n\u001b[1;32m---> 93\u001b[1;33m             \u001b[0mi\u001b[0m \u001b[1;33m=\u001b[0m \u001b[0mglp_find_col\u001b[0m\u001b[1;33m(\u001b[0m\u001b[0mself\u001b[0m\u001b[1;33m.\u001b[0m\u001b[0mproblem\u001b[0m\u001b[1;33m.\u001b[0m\u001b[0mproblem\u001b[0m\u001b[1;33m,\u001b[0m \u001b[0mstr\u001b[0m\u001b[1;33m(\u001b[0m\u001b[0mself\u001b[0m\u001b[1;33m.\u001b[0m\u001b[0mname\u001b[0m\u001b[1;33m)\u001b[0m\u001b[1;33m)\u001b[0m\u001b[1;33m\u001b[0m\u001b[1;33m\u001b[0m\u001b[0m\n\u001b[0m\u001b[0;32m     94\u001b[0m             \u001b[1;32mif\u001b[0m \u001b[0mi\u001b[0m \u001b[1;33m!=\u001b[0m \u001b[1;36m0\u001b[0m\u001b[1;33m:\u001b[0m\u001b[1;33m\u001b[0m\u001b[1;33m\u001b[0m\u001b[0m\n\u001b[0;32m     95\u001b[0m                 \u001b[1;32mreturn\u001b[0m \u001b[0mi\u001b[0m\u001b[1;33m\u001b[0m\u001b[1;33m\u001b[0m\u001b[0m\n",
      "\u001b[1;31mKeyboardInterrupt\u001b[0m: "
     ]
    }
   ],
   "source": [
    "for ETS_path in all_paths:\n",
    "    growth_rate_prediction(\"../Data/Models/iAA1300.json\", ETS_path)"
   ]
  },
  {
   "cell_type": "code",
   "execution_count": 70,
   "id": "available-collector",
   "metadata": {
    "execution": {
     "iopub.execute_input": "2021-03-29T05:46:50.796482Z",
     "iopub.status.busy": "2021-03-29T05:46:50.796482Z",
     "iopub.status.idle": "2021-03-29T05:46:52.768851Z",
     "shell.execute_reply": "2021-03-29T05:46:52.767902Z",
     "shell.execute_reply.started": "2021-03-29T05:46:50.796482Z"
    }
   },
   "outputs": [],
   "source": []
  },
  {
   "cell_type": "code",
   "execution_count": 72,
   "id": "senior-latex",
   "metadata": {
    "execution": {
     "iopub.execute_input": "2021-03-29T05:46:59.717300Z",
     "iopub.status.busy": "2021-03-29T05:46:59.717300Z",
     "iopub.status.idle": "2021-03-29T05:46:59.731341Z",
     "shell.execute_reply": "2021-03-29T05:46:59.730301Z",
     "shell.execute_reply.started": "2021-03-29T05:46:59.717300Z"
    }
   },
   "outputs": [
    {
     "data": {
      "text/plain": [
       "[0.1110023264053916]"
      ]
     },
     "execution_count": 72,
     "metadata": {},
     "output_type": "execute_result"
    }
   ],
   "source": []
  },
  {
   "cell_type": "code",
   "execution_count": 71,
   "id": "rotary-malaysia",
   "metadata": {
    "execution": {
     "iopub.execute_input": "2021-03-29T05:46:57.315883Z",
     "iopub.status.busy": "2021-03-29T05:46:57.315883Z",
     "iopub.status.idle": "2021-03-29T05:46:57.326885Z",
     "shell.execute_reply": "2021-03-29T05:46:57.324883Z",
     "shell.execute_reply.started": "2021-03-29T05:46:57.315883Z"
    }
   },
   "outputs": [
    {
     "data": {
      "text/plain": [
       "[61.800506549264504]"
      ]
     },
     "execution_count": 71,
     "metadata": {},
     "output_type": "execute_result"
    }
   ],
   "source": []
  },
  {
   "cell_type": "code",
   "execution_count": null,
   "id": "derived-pharmaceutical",
   "metadata": {},
   "outputs": [],
   "source": []
  }
 ],
 "metadata": {
  "kernelspec": {
   "display_name": "Python 3",
   "language": "python",
   "name": "python3"
  },
  "language_info": {
   "codemirror_mode": {
    "name": "ipython",
    "version": 3
   },
   "file_extension": ".py",
   "mimetype": "text/x-python",
   "name": "python",
   "nbconvert_exporter": "python",
   "pygments_lexer": "ipython3",
   "version": "3.7.10"
  }
 },
 "nbformat": 4,
 "nbformat_minor": 5
}
