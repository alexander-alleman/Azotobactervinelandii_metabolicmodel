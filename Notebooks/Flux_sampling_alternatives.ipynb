{
 "cells": [
  {
   "cell_type": "markdown",
   "id": "waiting-medline",
   "metadata": {},
   "source": [
    "The alternative nitrogenases V-nitrogenase and Fe-nitrogenase are less efficient that Mo-nitrogenase requiring more energy per mol of N2 reduced. This increase in energy demand while slows the observed growth rate does not slow it in proportion to the increased energy demand. With the model developed in this project we can ask a key question on how does Av reorganize the carbon metabolism and ETS to compensate for the alternative nitrogenases. \n",
    "\n",
    "First we will make three models for each nitrogenase and determine the flux at the condtions of 108 uM. "
   ]
  },
  {
   "cell_type": "code",
   "execution_count": 4,
   "id": "foreign-listing",
   "metadata": {
    "execution": {
     "iopub.execute_input": "2021-04-11T17:53:46.322769Z",
     "iopub.status.busy": "2021-04-11T17:53:46.322769Z",
     "iopub.status.idle": "2021-04-11T17:53:48.030375Z",
     "shell.execute_reply": "2021-04-11T17:53:48.029445Z",
     "shell.execute_reply.started": "2021-04-11T17:53:46.322769Z"
    }
   },
   "outputs": [],
   "source": [
    "import cobra.test\n",
    "import pandas as pd\n",
    "import matplotlib.pyplot as plt\n",
    "import os\n",
    "import math\n",
    "from os.path import join\n",
    "from cobra import Model, Reaction, Metabolite\n",
    "from cobra.io import save_json_model\n",
    "from cobra.sampling import sample\n",
    "import numpy as np\n",
    "import time\n",
    "import pandas as pd\n",
    "import matplotlib.pyplot as plt\n",
    "import matplotlib.backends.backend_pdf\n",
    "from scipy.stats import mannwhitneyu\n",
    "from scipy.stats import kruskal\n",
    "from cobra.sampling import OptGPSampler\n",
    "from scipy.stats import wilcoxon\n",
    "from numpy import std, mean, sqrt\n",
    "import seaborn as sns"
   ]
  },
  {
   "cell_type": "code",
   "execution_count": 6,
   "id": "peripheral-japanese",
   "metadata": {
    "execution": {
     "iopub.execute_input": "2021-04-11T17:54:11.309214Z",
     "iopub.status.busy": "2021-04-11T17:54:11.309214Z",
     "iopub.status.idle": "2021-04-11T17:54:15.200700Z",
     "shell.execute_reply": "2021-04-11T17:54:15.199709Z",
     "shell.execute_reply.started": "2021-04-11T17:54:11.309214Z"
    }
   },
   "outputs": [],
   "source": [
    "#ATPM rate at 110.7 mmmol of ATP at 108uM at 0.2 growth\n",
    "\n",
    "model_n2_Mo = cobra.io.load_json_model(\"../Data/Models/iAA1300_C.json\")\n",
    "model_n2_V = cobra.io.load_json_model(\"../Data/Models/iAA1300_C.json\")\n",
    "model_n2_Fe = cobra.io.load_json_model(\"../Data/Models/iAA1300_C.json\")\n",
    "\n",
    "#make sure glucose is off\n",
    "model_n2_Mo.reactions.get_by_id(\"EX_glc__D_e\").lower_bound = 0\n",
    "model_n2_Mo.reactions.get_by_id(\"EX_glc__D_e\").upper_bound = 0\n",
    "model_n2_V.reactions.get_by_id(\"EX_glc__D_e\").lower_bound = 0\n",
    "model_n2_V.reactions.get_by_id(\"EX_glc__D_e\").upper_bound = 0\n",
    "model_n2_Fe.reactions.get_by_id(\"EX_glc__D_e\").lower_bound = 0\n",
    "model_n2_Fe.reactions.get_by_id(\"EX_glc__D_e\").upper_bound = 0\n",
    "\n",
    "#set sucrose uptake to observed rate\n",
    "model_n2_Mo.reactions.get_by_id(\"EX_sucr_e\").lower_bound = -9\n",
    "model_n2_Mo.reactions.get_by_id(\"EX_sucr_e\").upper_bound = -9\n",
    "model_n2_V.reactions.get_by_id(\"EX_sucr_e\").lower_bound = -9\n",
    "model_n2_V.reactions.get_by_id(\"EX_sucr_e\").upper_bound = -9\n",
    "model_n2_Fe.reactions.get_by_id(\"EX_sucr_e\").lower_bound = -9\n",
    "model_n2_Fe.reactions.get_by_id(\"EX_sucr_e\").upper_bound = -9\n",
    "\n",
    "#Set ATPM rate to predicted rate\n",
    "model_n2_Mo.reactions.get_by_id(\"ATPM\").lower_bound = 110.7\n",
    "model_n2_Mo.reactions.get_by_id(\"ATPM\").upper_bound = 110.7\n",
    "model_n2_V.reactions.get_by_id(\"ATPM\").lower_bound = 110.7\n",
    "model_n2_V.reactions.get_by_id(\"ATPM\").upper_bound = 110.7\n",
    "model_n2_Fe.reactions.get_by_id(\"ATPM\").lower_bound = 110.7\n",
    "model_n2_Fe.reactions.get_by_id(\"ATPM\").upper_bound = 110.7\n",
    "\n",
    "#set bounds to zero for NDH I\n",
    "model_n2_Mo.reactions.get_by_id(\"NADH6\").lower_bound = 0\n",
    "model_n2_Mo.reactions.get_by_id(\"NADH6\").upper_bound = 0\n",
    "model_n2_V.reactions.get_by_id(\"NADH6\").lower_bound = 0\n",
    "model_n2_V.reactions.get_by_id(\"NADH6\").upper_bound = 0\n",
    "model_n2_Fe.reactions.get_by_id(\"NADH6\").lower_bound = 0\n",
    "model_n2_Fe.reactions.get_by_id(\"NADH6\").upper_bound = 0\n",
    "\n",
    "#set bounds to zero for Cyt c\n",
    "model_n2_Mo.reactions.get_by_id(\"CYOO2pp\").lower_bound = 0\n",
    "model_n2_Mo.reactions.get_by_id(\"CYOO2pp\").upper_bound = 0\n",
    "model_n2_V.reactions.get_by_id(\"CYOO2pp\").lower_bound = 0\n",
    "model_n2_V.reactions.get_by_id(\"CYOO2pp\").upper_bound = 0\n",
    "model_n2_Fe.reactions.get_by_id(\"CYOO2pp\").lower_bound = 0\n",
    "model_n2_Fe.reactions.get_by_id(\"CYOO2pp\").upper_bound = 0\n",
    "\n",
    "#make sure O2 is unbounded  \n",
    "model_n2_Mo.reactions.get_by_id(\"O2tpp\").lower_bound = 0\n",
    "model_n2_Mo.reactions.get_by_id(\"O2tpp\").upper_bound = 1000\n",
    "model_n2_V.reactions.get_by_id(\"O2tpp\").lower_bound = 0\n",
    "model_n2_V.reactions.get_by_id(\"O2tpp\").upper_bound = 1000\n",
    "model_n2_Fe.reactions.get_by_id(\"O2tpp\").lower_bound = 0\n",
    "model_n2_Fe.reactions.get_by_id(\"O2tpp\").upper_bound = 1000\n",
    "\n",
    "#set Mo-nitrogense to zero for V-nitrogenase\n",
    "model_n2_V.reactions.get_by_id(\"NIT1b\").lower_bound = 0\n",
    "model_n2_V.reactions.get_by_id(\"NIT1b\").upper_bound = 0\n",
    "\n",
    "#set Mo-nitrogense and v-nitrogenase to zero for fe-only-nitrogenase\n",
    "model_n2_Fe.reactions.get_by_id(\"NIT1b\").lower_bound = 0\n",
    "model_n2_Fe.reactions.get_by_id(\"NIT1b\").upper_bound = 0\n",
    "model_n2_Fe.reactions.get_by_id(\"VNIT\").lower_bound = 0\n",
    "model_n2_Fe.reactions.get_by_id(\"VNIT\").upper_bound = 0"
   ]
  },
  {
   "cell_type": "markdown",
   "id": "average-manchester",
   "metadata": {},
   "source": [
    "Lets see how they grow:"
   ]
  },
  {
   "cell_type": "code",
   "execution_count": 11,
   "id": "smoking-algebra",
   "metadata": {
    "execution": {
     "iopub.execute_input": "2021-04-11T17:58:47.057062Z",
     "iopub.status.busy": "2021-04-11T17:58:47.057062Z",
     "iopub.status.idle": "2021-04-11T17:58:49.002889Z",
     "shell.execute_reply": "2021-04-11T17:58:49.001429Z",
     "shell.execute_reply.started": "2021-04-11T17:58:47.057062Z"
    }
   },
   "outputs": [
    {
     "name": "stdout",
     "output_type": "stream",
     "text": [
      "Diazotrophic growth for model_n2_Mo : 0.19816620149628947\n",
      "Diazotrophic growth for model_n2_V : 0.17309308892841585\n",
      "Diazotrophic growth for model_n2_Fe : 0.13813726684335645\n"
     ]
    }
   ],
   "source": [
    "models = [model_n2_Mo, model_n2_V, model_n2_Fe ]\n",
    "models_names = [\"model_n2_Mo\", \"model_n2_V\", \"model_n2_Fe\" ]\n",
    "for i, j in zip(models, models_names):\n",
    "    model = i.copy()\n",
    "    \n",
    "    print(\"Diazotrophic growth for {} : {}\".format(j, model.optimize().objective_value))\n",
    "    "
   ]
  },
  {
   "cell_type": "markdown",
   "id": "informative-concentration",
   "metadata": {},
   "source": [
    "As we can see the alternatives grow slightly slower than the Mo-nitrogenase showing compensation for the increased energy demands of 30 and 60%  respectively. \n",
    "\n",
    "Lets look at the escher maps:"
   ]
  },
  {
   "cell_type": "code",
   "execution_count": 12,
   "id": "union-acrobat",
   "metadata": {
    "execution": {
     "iopub.execute_input": "2021-04-11T18:01:49.747561Z",
     "iopub.status.busy": "2021-04-11T18:01:49.746561Z",
     "iopub.status.idle": "2021-04-11T18:01:49.907599Z",
     "shell.execute_reply": "2021-04-11T18:01:49.906648Z",
     "shell.execute_reply.started": "2021-04-11T18:01:49.747561Z"
    }
   },
   "outputs": [],
   "source": [
    "import escher\n",
    "from escher import Builder\n",
    "from time import sleep"
   ]
  },
  {
   "cell_type": "code",
   "execution_count": 13,
   "id": "optional-navigation",
   "metadata": {
    "execution": {
     "iopub.execute_input": "2021-04-11T18:02:31.642637Z",
     "iopub.status.busy": "2021-04-11T18:02:31.642637Z",
     "iopub.status.idle": "2021-04-11T18:02:31.912408Z",
     "shell.execute_reply": "2021-04-11T18:02:31.911388Z",
     "shell.execute_reply.started": "2021-04-11T18:02:31.642637Z"
    }
   },
   "outputs": [
    {
     "data": {
      "application/vnd.jupyter.widget-view+json": {
       "model_id": "3dfce89f6e334d68859c6826d5c830e2",
       "version_major": 2,
       "version_minor": 0
      },
      "text/plain": [
       "Builder(reaction_data={'ALATA_D2': 0.0, 'SHCHD2': 4.4191062933666204e-05, 'CPPPGO': 4.4191062933666204e-05, 'G…"
      ]
     },
     "metadata": {},
     "output_type": "display_data"
    }
   ],
   "source": [
    " Builder(model_json = \"../Data/Models/iAA1300.json\",\n",
    "                 map_json = '../Data/Escher/Maps/Full_metabolism_AV.json',\n",
    "                  reaction_data = model_n2_Mo.optimize().fluxes\n",
    "                      )"
   ]
  },
  {
   "cell_type": "code",
   "execution_count": 14,
   "id": "about-breathing",
   "metadata": {
    "execution": {
     "iopub.execute_input": "2021-04-11T18:02:45.250632Z",
     "iopub.status.busy": "2021-04-11T18:02:45.250632Z",
     "iopub.status.idle": "2021-04-11T18:02:45.505901Z",
     "shell.execute_reply": "2021-04-11T18:02:45.504884Z",
     "shell.execute_reply.started": "2021-04-11T18:02:45.250632Z"
    }
   },
   "outputs": [
    {
     "data": {
      "application/vnd.jupyter.widget-view+json": {
       "model_id": "0d5b597921b341b0a3e2405833cfca99",
       "version_major": 2,
       "version_minor": 0
      },
      "text/plain": [
       "Builder(reaction_data={'ALATA_D2': 0.0, 'SHCHD2': 3.859975883103566e-05, 'CPPPGO': 3.859975883103566e-05, 'GTH…"
      ]
     },
     "metadata": {},
     "output_type": "display_data"
    }
   ],
   "source": [
    " Builder(model_json = \"../Data/Models/iAA1300.json\",\n",
    "                 map_json = '../Data/Escher/Maps/Full_metabolism_AV.json',\n",
    "                  reaction_data = model_n2_V.optimize().fluxes\n",
    "                      )"
   ]
  },
  {
   "cell_type": "code",
   "execution_count": 15,
   "id": "hazardous-permit",
   "metadata": {
    "execution": {
     "iopub.execute_input": "2021-04-11T18:03:02.259315Z",
     "iopub.status.busy": "2021-04-11T18:03:02.259315Z",
     "iopub.status.idle": "2021-04-11T18:03:02.524847Z",
     "shell.execute_reply": "2021-04-11T18:03:02.524847Z",
     "shell.execute_reply.started": "2021-04-11T18:03:02.259315Z"
    }
   },
   "outputs": [
    {
     "data": {
      "application/vnd.jupyter.widget-view+json": {
       "model_id": "a3e15c5cf3ca4601a293f6aafee25ea9",
       "version_major": 2,
       "version_minor": 0
      },
      "text/plain": [
       "Builder(reaction_data={'ALATA_D2': 0.0, 'SHCHD2': 3.080461050607628e-05, 'CPPPGO': 3.080461050607628e-05, 'GTH…"
      ]
     },
     "metadata": {},
     "output_type": "display_data"
    }
   ],
   "source": [
    " Builder(model_json = \"../Data/Models/iAA1300.json\",\n",
    "                 map_json = '../Data/Escher/Maps/Full_metabolism_AV.json',\n",
    "                  reaction_data = model_n2_Fe.optimize().fluxes\n",
    "                      )"
   ]
  },
  {
   "cell_type": "markdown",
   "id": "interesting-worthy",
   "metadata": {},
   "source": [
    "As we can see from the maps there is a increase in flux but no new pathways so comparing these fluxes with flux sampling should make it easier to see the differences. "
   ]
  },
  {
   "cell_type": "code",
   "execution_count": 18,
   "id": "elect-variable",
   "metadata": {
    "execution": {
     "iopub.execute_input": "2021-04-11T18:06:09.687897Z",
     "iopub.status.busy": "2021-04-11T18:06:09.686897Z",
     "iopub.status.idle": "2021-04-11T18:15:42.627350Z",
     "shell.execute_reply": "2021-04-11T18:15:42.626349Z",
     "shell.execute_reply.started": "2021-04-11T18:06:09.687897Z"
    }
   },
   "outputs": [],
   "source": [
    "S_model_n2_Mo = sample(model_n2_Mo, n=10000, thinning=1000,  processes=8)"
   ]
  },
  {
   "cell_type": "code",
   "execution_count": 19,
   "id": "infinite-diary",
   "metadata": {
    "execution": {
     "iopub.execute_input": "2021-04-11T18:16:17.456125Z",
     "iopub.status.busy": "2021-04-11T18:16:17.456125Z",
     "iopub.status.idle": "2021-04-11T18:16:40.563740Z",
     "shell.execute_reply": "2021-04-11T18:16:40.561740Z",
     "shell.execute_reply.started": "2021-04-11T18:16:17.456125Z"
    }
   },
   "outputs": [],
   "source": [
    "S_model_n2_Mo.to_csv(\"../Data/Sampling_alternatives/Sampling_results/model_n2_Mo_samples.csv\")"
   ]
  },
  {
   "cell_type": "code",
   "execution_count": 21,
   "id": "reasonable-helmet",
   "metadata": {
    "execution": {
     "iopub.execute_input": "2021-04-11T18:16:53.490708Z",
     "iopub.status.busy": "2021-04-11T18:16:53.490708Z",
     "iopub.status.idle": "2021-04-11T18:26:12.477012Z",
     "shell.execute_reply": "2021-04-11T18:26:12.476047Z",
     "shell.execute_reply.started": "2021-04-11T18:16:53.490708Z"
    }
   },
   "outputs": [],
   "source": [
    "S_model_n2_V = sample(model_n2_V, n=10000, thinning=1000,  processes=8)"
   ]
  },
  {
   "cell_type": "code",
   "execution_count": 22,
   "id": "destroyed-character",
   "metadata": {
    "execution": {
     "iopub.execute_input": "2021-04-11T18:26:12.478012Z",
     "iopub.status.busy": "2021-04-11T18:26:12.478012Z",
     "iopub.status.idle": "2021-04-11T18:26:42.679498Z",
     "shell.execute_reply": "2021-04-11T18:26:42.678569Z",
     "shell.execute_reply.started": "2021-04-11T18:26:12.478012Z"
    }
   },
   "outputs": [],
   "source": [
    "S_model_n2_V.to_csv(\"../Data/Sampling_alternatives/Sampling_results/model_n2_V_samples.csv\")"
   ]
  },
  {
   "cell_type": "code",
   "execution_count": 23,
   "id": "resistant-acting",
   "metadata": {
    "execution": {
     "iopub.execute_input": "2021-04-11T18:26:42.680495Z",
     "iopub.status.busy": "2021-04-11T18:26:42.680495Z",
     "iopub.status.idle": "2021-04-11T18:37:20.783337Z",
     "shell.execute_reply": "2021-04-11T18:37:20.782371Z",
     "shell.execute_reply.started": "2021-04-11T18:26:42.680495Z"
    }
   },
   "outputs": [],
   "source": [
    "S_model_n2_Fe = sample(model_n2_Fe, n=10000, thinning=1000,  processes=8)"
   ]
  },
  {
   "cell_type": "code",
   "execution_count": 24,
   "id": "variable-banana",
   "metadata": {
    "execution": {
     "iopub.execute_input": "2021-04-11T18:37:20.784341Z",
     "iopub.status.busy": "2021-04-11T18:37:20.784341Z",
     "iopub.status.idle": "2021-04-11T18:37:46.746818Z",
     "shell.execute_reply": "2021-04-11T18:37:46.745904Z",
     "shell.execute_reply.started": "2021-04-11T18:37:20.784341Z"
    }
   },
   "outputs": [],
   "source": [
    "S_model_n2_Fe.to_csv(\"../Data/Sampling_alternatives/Sampling_results/model_n2_Fe_samples.csv\")"
   ]
  },
  {
   "cell_type": "code",
   "execution_count": 25,
   "id": "congressional-oregon",
   "metadata": {
    "execution": {
     "iopub.execute_input": "2021-04-11T18:37:46.747848Z",
     "iopub.status.busy": "2021-04-11T18:37:46.747848Z",
     "iopub.status.idle": "2021-04-11T18:38:01.190901Z",
     "shell.execute_reply": "2021-04-11T18:38:01.189965Z",
     "shell.execute_reply.started": "2021-04-11T18:37:46.747848Z"
    }
   },
   "outputs": [],
   "source": [
    "#reupload sample files\n",
    "S_model_n2_Mo = pd.read_csv(\"../Data/Sampling_alternatives/Sampling_results/model_n2_Mo_samples.csv\")\n",
    "S_model_n2_V= pd.read_csv(\"../Data/Sampling_alternatives/Sampling_results/model_n2_V_samples.csv\")\n",
    "S_model_n2_Fe = pd.read_csv(\"../Data/Sampling_alternatives/Sampling_results/model_n2_Fe_samples.csv\")\n"
   ]
  },
  {
   "cell_type": "code",
   "execution_count": 34,
   "id": "through-rebecca",
   "metadata": {
    "execution": {
     "iopub.execute_input": "2021-04-11T19:03:28.962626Z",
     "iopub.status.busy": "2021-04-11T19:03:28.962626Z",
     "iopub.status.idle": "2021-04-11T19:03:28.983778Z",
     "shell.execute_reply": "2021-04-11T19:03:28.982810Z",
     "shell.execute_reply.started": "2021-04-11T19:03:28.962626Z"
    }
   },
   "outputs": [],
   "source": [
    "def make_svg_norm_suc(i,j,samples1,samples2,samples3,x1,x2,x3,Condition):\n",
    "    #\"#84a955\" greenish \"#bc5d41\" orange #965da7 purplish\n",
    "    x = samples1[i]\n",
    "    y = samples2[i]\n",
    "    z = samples3[i]\n",
    "    \n",
    "    #multiple to remove negative sign from sucrose import\n",
    "    x_norm = (samples1[i]/(samples1[j]*-1))\n",
    "    y_norm = (samples2[i]/(samples2[j]*-1))\n",
    "    z_norm = (samples3[i]/(samples3[j]*-1))\n",
    "    \n",
    "    u1 = model_n2_Mo.optimize().fluxes[j]*-1\n",
    "    u2 = model_n2_V.optimize().fluxes[j]*-1\n",
    "    u3 = model_n2_Fe.optimize().fluxes[j]*-1\n",
    "    bns = 100\n",
    "\n",
    "    \n",
    "    xn, xbins, xpatches = plt.hist(x_norm, bins=bns, alpha=0.5, color = \"#84a955\", lw=0)\n",
    "    yn, ybins, ypatches = plt.hist(y_norm, bins=bns, alpha=0.5, color = \"#bc5d41\", lw=0)\n",
    "    zn, zbins, zpatches = plt.hist(z_norm, bins=bns, alpha=0.5, color = \"#965da7\", lw=0)\n",
    "        \n",
    "    plt.axvline(x = (x1/u1),linewidth=2, linestyle='--', color=\"#84a955\")\n",
    "    plt.axvline(x = (x2/u2),linewidth=2, linestyle='--', color=\"#bc5d41\")\n",
    "    plt.axvline(x = (x3/u3),linewidth=2, linestyle='--', color=\"#965da7\")\n",
    "\n",
    "        #measure effect size of data\n",
    "    \n",
    "    def cohen_d(x,y):\n",
    "        nx = len(x)\n",
    "        ny = len(y)\n",
    "        dof = nx + ny - 2\n",
    "        return (mean(x) - mean(y)) / sqrt(((nx-1)*std(x, ddof=1) ** 2 + (ny-1)*std(y, ddof=1) ** 2) / dof)\n",
    "    \n",
    "    d_xy = cohen_d(x_norm,y_norm)\n",
    "    d_xz = cohen_d(x_norm,z_norm)\n",
    "    d_yz = cohen_d(y_norm,z_norm)\n",
    "    \n",
    "    print(\"Reaction {} Mo vs V\".format(i), d_xy)\n",
    "    print(\"Reaction {} Mo vs Fe\".format(i), d_xz)\n",
    "    print(\"Reaction {} V vs Fe\".format(i), d_yz)\n",
    "    \n",
    "    plt.xticks([round(min(min(x_norm),min(y_norm),min(z_norm)),3),round(max(max(x_norm),max(y_norm),max(z_norm)),3)],fontsize=30)\n",
    "    plt.yticks([],fontsize=30)\n",
    "    plt.title(\"{}\".format(i),y=0.99, fontsize = 35)\n",
    "    plt.tight_layout()\n",
    "    plt.savefig(\"../Outputs/Sampling_alternatives/{0:}/{1:}_Sample_FBA.tiff\".format(Condition,i), dpi= 300, format=\"tiff\")\n",
    "    plt.close()"
   ]
  },
  {
   "cell_type": "code",
   "execution_count": 35,
   "id": "blank-poison",
   "metadata": {
    "execution": {
     "iopub.execute_input": "2021-04-11T19:03:29.319562Z",
     "iopub.status.busy": "2021-04-11T19:03:29.318591Z",
     "iopub.status.idle": "2021-04-11T19:03:42.106091Z",
     "shell.execute_reply": "2021-04-11T19:03:42.106091Z",
     "shell.execute_reply.started": "2021-04-11T19:03:29.319562Z"
    }
   },
   "outputs": [
    {
     "name": "stdout",
     "output_type": "stream",
     "text": [
      "Reaction NADH5 Mo vs V 0.05033755880902821\n",
      "Reaction NADH5 Mo vs Fe 0.22055348336776154\n",
      "Reaction NADH5 V vs Fe 0.16774842430127712\n",
      "Reaction RNF Mo vs V 0.007483051953450747\n",
      "Reaction RNF Mo vs Fe 0.04454278593647257\n",
      "Reaction RNF V vs Fe 0.03590949860846875\n",
      "Reaction FIX Mo vs V -0.8383426452527071\n",
      "Reaction FIX Mo vs Fe -2.258836230131189\n",
      "Reaction FIX V vs Fe -1.4324056465780954\n"
     ]
    },
    {
     "name": "stderr",
     "output_type": "stream",
     "text": [
      "C:\\Users\\alexa\\anaconda3\\envs\\Metabolic_models\\lib\\site-packages\\ipykernel_launcher.py:32: RuntimeWarning: invalid value encountered in double_scalars\n"
     ]
    },
    {
     "name": "stdout",
     "output_type": "stream",
     "text": [
      "Reaction NIT1b Mo vs V 8.284934609041475\n",
      "Reaction NIT1b Mo vs Fe 8.284934609041475\n",
      "Reaction NIT1b V vs Fe nan\n",
      "Reaction CYTBDpp Mo vs V -0.6502387423408653\n",
      "Reaction CYTBDpp Mo vs Fe -1.367960351065949\n",
      "Reaction CYTBDpp V vs Fe -0.706093624675115\n",
      "Reaction ATPS4rpp Mo vs V -0.4436023106410174\n",
      "Reaction ATPS4rpp Mo vs Fe -1.0520810835591565\n",
      "Reaction ATPS4rpp V vs Fe -0.5786462110009875\n",
      "Reaction PDH Mo vs V 0.09706782394625538\n",
      "Reaction PDH Mo vs Fe -0.17524543722811634\n",
      "Reaction PDH V vs Fe -0.273989971218738\n",
      "Reaction GLNS Mo vs V 0.09225502955462829\n",
      "Reaction GLNS Mo vs Fe 0.3600483194778521\n",
      "Reaction GLNS V vs Fe 0.26369309029466853\n",
      "Reaction ICL Mo vs V -0.4313517846328582\n",
      "Reaction ICL Mo vs Fe -0.7998924970068708\n",
      "Reaction ICL V vs Fe -0.35831212358235787\n",
      "Reaction ICDHyr Mo vs V -0.43135178462867996\n",
      "Reaction ICDHyr Mo vs Fe -0.7998924970020781\n",
      "Reaction ICDHyr V vs Fe -0.35831212358182707\n",
      "Reaction NAD_H2 Mo vs V 0.19571868085051616\n",
      "Reaction NAD_H2 Mo vs Fe 0.8013481795180757\n",
      "Reaction NAD_H2 V vs Fe 0.6200698929143206\n",
      "Reaction HYD1pp Mo vs V -1.6159880879994064\n",
      "Reaction HYD1pp Mo vs Fe -2.9748376580235507\n",
      "Reaction HYD1pp V vs Fe -1.6043135003088014\n",
      "Reaction GLCDpp Mo vs V 0.544904514082401\n",
      "Reaction GLCDpp Mo vs Fe 0.1853966099071433\n",
      "Reaction GLCDpp V vs Fe 0.18536247894285887\n",
      "Reaction EDD Mo vs V -0.06812550360109594\n",
      "Reaction EDD Mo vs Fe -0.21221633971447182\n",
      "Reaction EDD V vs Fe -0.16522405159931958\n",
      "Reaction HEX7 Mo vs V 0.6831602166113974\n",
      "Reaction HEX7 Mo vs Fe 0.9692991755033196\n",
      "Reaction HEX7 V vs Fe 0.2289103626233218\n",
      "Reaction HEX1 Mo vs V -0.04250556979478064\n",
      "Reaction HEX1 Mo vs Fe -0.044681646498064\n",
      "Reaction HEX1 V vs Fe -0.0014639618581845518\n",
      "Reaction GND Mo vs V -0.06812550360185525\n",
      "Reaction GND Mo vs Fe -0.21221633971354195\n",
      "Reaction GND V vs Fe -0.16522405159791304\n",
      "Reaction EDD Mo vs V -0.06812550360109594\n",
      "Reaction EDD Mo vs Fe -0.21221633971447182\n",
      "Reaction EDD V vs Fe -0.16522405159931958\n",
      "Reaction CS Mo vs V -0.42716707298027207\n",
      "Reaction CS Mo vs Fe -0.8125796102206936\n",
      "Reaction CS V vs Fe -0.37470533341782974\n",
      "Reaction ICDHyr Mo vs V -0.43135178462867996\n",
      "Reaction ICDHyr Mo vs Fe -0.7998924970020781\n",
      "Reaction ICDHyr V vs Fe -0.35831212358182707\n",
      "Reaction AKGDH Mo vs V -0.1521780137288826\n",
      "Reaction AKGDH Mo vs Fe -0.4114362412342844\n",
      "Reaction AKGDH V vs Fe -0.24135139416019488\n",
      "Reaction GLUSy Mo vs V 0.07431604236469184\n",
      "Reaction GLUSy Mo vs Fe 0.29507002453260023\n",
      "Reaction GLUSy V vs Fe 0.2201799779402072\n",
      "Reaction PPCK Mo vs V -0.05467502674991363\n",
      "Reaction PPCK Mo vs Fe -0.003132567258385525\n",
      "Reaction PPCK V vs Fe 0.051933850395829824\n",
      "Reaction MDH2 Mo vs V -0.4019110582342184\n",
      "Reaction MDH2 Mo vs Fe -0.6715591824277742\n",
      "Reaction MDH2 V vs Fe -0.2653696484126449\n",
      "Reaction ME1 Mo vs V -0.05004961138125836\n",
      "Reaction ME1 Mo vs Fe -0.04328958937033961\n",
      "Reaction ME1 V vs Fe 0.007185346771066497\n"
     ]
    }
   ],
   "source": [
    "for i in [ \"NADH5\", \"RNF\", \"FIX\", \"NIT1b\", \"CYTBDpp\", \"ATPS4rpp\",\n",
    "         \"PDH\", \"GLNS\", \"ICL\", \"ICDHyr\", \"NAD_H2\", \"HYD1pp\", \"GLCDpp\", \"EDD\", \"HEX7\",\n",
    "         \"HEX1\", \"GND\", \"EDD\", \"CS\", \"ICDHyr\", \"AKGDH\", \"GLUSy\", \"PPCK\", \"MDH2\", \"ME1\"]: \n",
    "    x1 = model_n2_Mo.optimize().fluxes[i]\n",
    "    x2 = model_n2_V.optimize().fluxes[i]\n",
    "    x3 = model_n2_Fe.optimize().fluxes[i]\n",
    "    j = \"EX_sucr_e\"\n",
    "    make_svg_norm_suc(i, j, S_model_n2_Mo, S_model_n2_V, S_model_n2_Fe, x1, x2, x3, \"Alternatives_hist_suc_norm\")"
   ]
  },
  {
   "cell_type": "markdown",
   "id": "rational-double",
   "metadata": {},
   "source": [
    "Lets do a bar plot for this too "
   ]
  },
  {
   "cell_type": "code",
   "execution_count": 36,
   "id": "successful-delaware",
   "metadata": {
    "execution": {
     "iopub.execute_input": "2021-04-11T19:04:58.036767Z",
     "iopub.status.busy": "2021-04-11T19:04:58.036767Z",
     "iopub.status.idle": "2021-04-11T19:04:58.054869Z",
     "shell.execute_reply": "2021-04-11T19:04:58.053913Z",
     "shell.execute_reply.started": "2021-04-11T19:04:58.036767Z"
    }
   },
   "outputs": [],
   "source": [
    "import seaborn as sns"
   ]
  },
  {
   "cell_type": "code",
   "execution_count": 37,
   "id": "enhanced-colors",
   "metadata": {
    "execution": {
     "iopub.execute_input": "2021-04-11T19:05:03.075056Z",
     "iopub.status.busy": "2021-04-11T19:05:03.074057Z",
     "iopub.status.idle": "2021-04-11T19:05:03.092655Z",
     "shell.execute_reply": "2021-04-11T19:05:03.092142Z",
     "shell.execute_reply.started": "2021-04-11T19:05:03.075056Z"
    }
   },
   "outputs": [],
   "source": [
    "def make_svg_bar_norm_suc(i,j,samples1,samples2,samples3,x1,x2,x3,Condition):\n",
    "    #\"#84a955\" greenish \"#bc5d41\" orange #965da7 purplish\n",
    "    x = samples1[i]\n",
    "    y = samples2[i]\n",
    "    z = samples3[i]\n",
    "    \n",
    "    #multiple to remove negative sign from sucrose import\n",
    "    x_norm = (samples1[i]/(samples1[j]*-1))\n",
    "    y_norm = (samples2[i]/(samples2[j]*-1))\n",
    "    z_norm = (samples3[i]/(samples3[j]*-1))\n",
    "    \n",
    "\n",
    "    #create merged data frame\n",
    "    df = pd.DataFrame()\n",
    "    df[\"x\"] = x_norm\n",
    "    df[\"V\"] = y_norm\n",
    "    df[\"Fe\"] = z_norm\n",
    "    \n",
    "\n",
    "    df2 = pd.melt(df)\n",
    "    \n",
    "    \n",
    "    #measure effect size of data\n",
    "    \n",
    "    def cohen_d(x,y):\n",
    "        nx = len(x)\n",
    "        ny = len(y)\n",
    "        dof = nx + ny - 2\n",
    "        return (mean(x) - mean(y)) / sqrt(((nx-1)*std(x, ddof=1) ** 2 + (ny-1)*std(y, ddof=1) ** 2) / dof)\n",
    "    \n",
    "    d_xy = cohen_d(x_norm,y_norm)\n",
    "    d_xz = cohen_d(x_norm,z_norm)\n",
    "    d_yz = cohen_d(y_norm,z_norm)\n",
    "    \n",
    "    print(\"Reaction {} Mo vs V\".format(i), d_xy)\n",
    "    print(\"Reaction {} Mo vs Fe\".format(i), d_xz)\n",
    "    print(\"Reaction {} V vs Fe\".format(i), d_yz)\n",
    "    \n",
    "    plt.figure(figsize=(2, 5))\n",
    "    sns.boxplot(x=\"variable\", y=\"value\", data=df2, showfliers=False, width = 0.25, linewidth= 1.5)\n",
    "    plt.title(\"{}\".format(i),y=0.99, fontsize = 20)\n",
    "    plt.xlabel('Nitrogenase')\n",
    "    plt.ylabel('Relative Flux')\n",
    "    plt.tight_layout()\n",
    "    plt.savefig(\"../Outputs/Sampling_alternatives/{0:}/{1:}_Sample_FBA.tiff\".format(Condition,i), dpi= 300, format=\"tiff\")\n",
    "    plt.close()"
   ]
  },
  {
   "cell_type": "code",
   "execution_count": 38,
   "id": "automotive-jason",
   "metadata": {
    "execution": {
     "iopub.execute_input": "2021-04-11T19:05:05.364815Z",
     "iopub.status.busy": "2021-04-11T19:05:05.364815Z",
     "iopub.status.idle": "2021-04-11T19:05:09.533935Z",
     "shell.execute_reply": "2021-04-11T19:05:09.533935Z",
     "shell.execute_reply.started": "2021-04-11T19:05:05.364815Z"
    }
   },
   "outputs": [
    {
     "name": "stdout",
     "output_type": "stream",
     "text": [
      "Reaction NADH5 Mo vs V 0.05033755880902821\n",
      "Reaction NADH5 Mo vs Fe 0.22055348336776154\n",
      "Reaction NADH5 V vs Fe 0.16774842430127712\n",
      "Reaction RNF Mo vs V 0.007483051953450747\n",
      "Reaction RNF Mo vs Fe 0.04454278593647257\n",
      "Reaction RNF V vs Fe 0.03590949860846875\n",
      "Reaction FIX Mo vs V -0.8383426452527071\n",
      "Reaction FIX Mo vs Fe -2.258836230131189\n",
      "Reaction FIX V vs Fe -1.4324056465780954\n"
     ]
    },
    {
     "name": "stderr",
     "output_type": "stream",
     "text": [
      "C:\\Users\\alexa\\anaconda3\\envs\\Metabolic_models\\lib\\site-packages\\ipykernel_launcher.py:29: RuntimeWarning: invalid value encountered in double_scalars\n"
     ]
    },
    {
     "name": "stdout",
     "output_type": "stream",
     "text": [
      "Reaction NIT1b Mo vs V 8.284934609041475\n",
      "Reaction NIT1b Mo vs Fe 8.284934609041475\n",
      "Reaction NIT1b V vs Fe nan\n",
      "Reaction CYTBDpp Mo vs V -0.6502387423408653\n",
      "Reaction CYTBDpp Mo vs Fe -1.367960351065949\n",
      "Reaction CYTBDpp V vs Fe -0.706093624675115\n",
      "Reaction ATPS4rpp Mo vs V -0.4436023106410174\n",
      "Reaction ATPS4rpp Mo vs Fe -1.0520810835591565\n",
      "Reaction ATPS4rpp V vs Fe -0.5786462110009875\n",
      "Reaction PDH Mo vs V 0.09706782394625538\n",
      "Reaction PDH Mo vs Fe -0.17524543722811634\n",
      "Reaction PDH V vs Fe -0.273989971218738\n",
      "Reaction GLNS Mo vs V 0.09225502955462829\n",
      "Reaction GLNS Mo vs Fe 0.3600483194778521\n",
      "Reaction GLNS V vs Fe 0.26369309029466853\n",
      "Reaction ICL Mo vs V -0.4313517846328582\n",
      "Reaction ICL Mo vs Fe -0.7998924970068708\n",
      "Reaction ICL V vs Fe -0.35831212358235787\n",
      "Reaction ICDHyr Mo vs V -0.43135178462867996\n",
      "Reaction ICDHyr Mo vs Fe -0.7998924970020781\n",
      "Reaction ICDHyr V vs Fe -0.35831212358182707\n",
      "Reaction NAD_H2 Mo vs V 0.19571868085051616\n",
      "Reaction NAD_H2 Mo vs Fe 0.8013481795180757\n",
      "Reaction NAD_H2 V vs Fe 0.6200698929143206\n",
      "Reaction HYD1pp Mo vs V -1.6159880879994064\n",
      "Reaction HYD1pp Mo vs Fe -2.9748376580235507\n",
      "Reaction HYD1pp V vs Fe -1.6043135003088014\n",
      "Reaction GLCDpp Mo vs V 0.544904514082401\n",
      "Reaction GLCDpp Mo vs Fe 0.1853966099071433\n",
      "Reaction GLCDpp V vs Fe 0.18536247894285887\n",
      "Reaction EDD Mo vs V -0.06812550360109594\n",
      "Reaction EDD Mo vs Fe -0.21221633971447182\n",
      "Reaction EDD V vs Fe -0.16522405159931958\n",
      "Reaction HEX7 Mo vs V 0.6831602166113974\n",
      "Reaction HEX7 Mo vs Fe 0.9692991755033196\n",
      "Reaction HEX7 V vs Fe 0.2289103626233218\n",
      "Reaction HEX1 Mo vs V -0.04250556979478064\n",
      "Reaction HEX1 Mo vs Fe -0.044681646498064\n",
      "Reaction HEX1 V vs Fe -0.0014639618581845518\n",
      "Reaction GND Mo vs V -0.06812550360185525\n",
      "Reaction GND Mo vs Fe -0.21221633971354195\n",
      "Reaction GND V vs Fe -0.16522405159791304\n",
      "Reaction EDD Mo vs V -0.06812550360109594\n",
      "Reaction EDD Mo vs Fe -0.21221633971447182\n",
      "Reaction EDD V vs Fe -0.16522405159931958\n",
      "Reaction CS Mo vs V -0.42716707298027207\n",
      "Reaction CS Mo vs Fe -0.8125796102206936\n",
      "Reaction CS V vs Fe -0.37470533341782974\n",
      "Reaction ICDHyr Mo vs V -0.43135178462867996\n",
      "Reaction ICDHyr Mo vs Fe -0.7998924970020781\n",
      "Reaction ICDHyr V vs Fe -0.35831212358182707\n",
      "Reaction AKGDH Mo vs V -0.1521780137288826\n",
      "Reaction AKGDH Mo vs Fe -0.4114362412342844\n",
      "Reaction AKGDH V vs Fe -0.24135139416019488\n",
      "Reaction GLUSy Mo vs V 0.07431604236469184\n",
      "Reaction GLUSy Mo vs Fe 0.29507002453260023\n",
      "Reaction GLUSy V vs Fe 0.2201799779402072\n",
      "Reaction PPCK Mo vs V -0.05467502674991363\n",
      "Reaction PPCK Mo vs Fe -0.003132567258385525\n",
      "Reaction PPCK V vs Fe 0.051933850395829824\n",
      "Reaction MDH2 Mo vs V -0.4019110582342184\n",
      "Reaction MDH2 Mo vs Fe -0.6715591824277742\n",
      "Reaction MDH2 V vs Fe -0.2653696484126449\n",
      "Reaction ME1 Mo vs V -0.05004961138125836\n",
      "Reaction ME1 Mo vs Fe -0.04328958937033961\n",
      "Reaction ME1 V vs Fe 0.007185346771066497\n"
     ]
    }
   ],
   "source": [
    "for i in [ \"NADH5\", \"RNF\", \"FIX\", \"NIT1b\", \"CYTBDpp\", \"ATPS4rpp\",\n",
    "         \"PDH\", \"GLNS\", \"ICL\", \"ICDHyr\", \"NAD_H2\", \"HYD1pp\", \"GLCDpp\", \"EDD\", \"HEX7\",\n",
    "         \"HEX1\", \"GND\", \"EDD\", \"CS\", \"ICDHyr\", \"AKGDH\", \"GLUSy\", \"PPCK\", \"MDH2\", \"ME1\"]: \n",
    "    x1 = model_n2_Mo.optimize().fluxes[i]\n",
    "    x2 = model_n2_V.optimize().fluxes[i]\n",
    "    x3 = model_n2_Fe.optimize().fluxes[i]\n",
    "    j = \"EX_sucr_e\"\n",
    "    make_svg_bar_norm_suc(i, j, S_model_n2_Mo, S_model_n2_V, S_model_n2_Fe, x1, x2, x3, \"Alternatives_bar_suc_norm\")"
   ]
  },
  {
   "cell_type": "code",
   "execution_count": 40,
   "id": "numeric-anxiety",
   "metadata": {
    "execution": {
     "iopub.execute_input": "2021-04-11T19:06:44.242362Z",
     "iopub.status.busy": "2021-04-11T19:06:44.242362Z",
     "iopub.status.idle": "2021-04-11T19:06:44.254360Z",
     "shell.execute_reply": "2021-04-11T19:06:44.253360Z",
     "shell.execute_reply.started": "2021-04-11T19:06:44.242362Z"
    }
   },
   "outputs": [],
   "source": [
    "def make_svg_bar_norm_suc_Mo(i,j,samples1,samples2,samples3,x1,x2,x3,Condition):\n",
    "    #\"#84a955\" greenish \"#bc5d41\" orange #965da7 purplish\n",
    "    x = samples1[i]\n",
    "    y = samples2[i]\n",
    "    z = samples3[i]\n",
    "    \n",
    "    #multiple to remove negative sign from sucrose import\n",
    "    x_norm = (samples1[i]/(samples1[j]*-1))\n",
    "    y_norm = (samples2[i]/(samples2[j]*-1))\n",
    "    z_norm = (samples3[i]/(samples3[j]*-1))\n",
    "    \n",
    "    \n",
    "    #make data relative to Mo conditions for bar plot scaling\n",
    "    y_rel = y_norm/x_norm\n",
    "    z_rel = z_norm/x_norm\n",
    "    \n",
    "    #create merged data frame\n",
    "    df = pd.DataFrame()\n",
    "    df[\"V\"] = y_rel\n",
    "    df[\"Fe\"] = z_rel\n",
    "    \n",
    "\n",
    "    df2 = pd.melt(df)\n",
    "    \n",
    "    \n",
    "    #measure effect size of data\n",
    "    \n",
    "    def cohen_d(x,y):\n",
    "        nx = len(x)\n",
    "        ny = len(y)\n",
    "        dof = nx + ny - 2\n",
    "        return (mean(x) - mean(y)) / sqrt(((nx-1)*std(x, ddof=1) ** 2 + (ny-1)*std(y, ddof=1) ** 2) / dof)\n",
    "    \n",
    "    d_xy = cohen_d(x_norm,y_norm)\n",
    "    d_xz = cohen_d(x_norm,z_norm)\n",
    "    d_yz = cohen_d(y_norm,z_norm)\n",
    "    \n",
    "    print(\"Reaction {} Mo vs V\".format(i), d_xy)\n",
    "    print(\"Reaction {} Mo vs Fe\".format(i), d_xz)\n",
    "    print(\"Reaction {} V vs Fe\".format(i), d_yz)\n",
    "    \n",
    "    plt.figure(figsize=(2, 5))\n",
    "    sns.boxplot(x=\"variable\", y=\"value\", data=df2, showfliers=False, width = 0.25, linewidth= 1.5)\n",
    "    plt.axhline(y=1, color='black', linestyle='--')\n",
    "    plt.annotate(\"Mo\", xy = (1.2, 1), xycoords='data',\n",
    "            xytext=(0, 10), textcoords='offset pixels' )\n",
    "    plt.yticks([],fontsize=30)\n",
    "    plt.title(\"{}\".format(i),y=0.99, fontsize = 20)\n",
    "    plt.xlabel('Nitrogenase')\n",
    "    plt.ylabel('Relative Flux')\n",
    "    plt.tight_layout()\n",
    "    plt.savefig(\"../Outputs/Sampling_alternatives/{0:}/{1:}_Sample_FBA.tiff\".format(Condition,i), dpi= 300, format=\"tiff\")\n",
    "    plt.close()"
   ]
  },
  {
   "cell_type": "code",
   "execution_count": 43,
   "id": "auburn-longitude",
   "metadata": {
    "execution": {
     "iopub.execute_input": "2021-04-11T19:13:05.344663Z",
     "iopub.status.busy": "2021-04-11T19:13:05.344663Z",
     "iopub.status.idle": "2021-04-11T19:13:09.420749Z",
     "shell.execute_reply": "2021-04-11T19:13:09.419747Z",
     "shell.execute_reply.started": "2021-04-11T19:13:05.344663Z"
    }
   },
   "outputs": [
    {
     "name": "stdout",
     "output_type": "stream",
     "text": [
      "Reaction NADH5 Mo vs V 0.05033755880902821\n",
      "Reaction NADH5 Mo vs Fe 0.22055348336776154\n",
      "Reaction NADH5 V vs Fe 0.16774842430127712\n",
      "Reaction RNF Mo vs V 0.007483051953450747\n",
      "Reaction RNF Mo vs Fe 0.04454278593647257\n",
      "Reaction RNF V vs Fe 0.03590949860846875\n",
      "Reaction FIX Mo vs V -0.8383426452527071\n",
      "Reaction FIX Mo vs Fe -2.258836230131189\n",
      "Reaction FIX V vs Fe -1.4324056465780954\n"
     ]
    },
    {
     "name": "stderr",
     "output_type": "stream",
     "text": [
      "C:\\Users\\alexa\\anaconda3\\envs\\Metabolic_models\\lib\\site-packages\\ipykernel_launcher.py:32: RuntimeWarning: invalid value encountered in double_scalars\n"
     ]
    },
    {
     "name": "stdout",
     "output_type": "stream",
     "text": [
      "Reaction NIT1b Mo vs V 8.284934609041475\n",
      "Reaction NIT1b Mo vs Fe 8.284934609041475\n",
      "Reaction NIT1b V vs Fe nan\n",
      "Reaction CYTBDpp Mo vs V -0.6502387423408653\n",
      "Reaction CYTBDpp Mo vs Fe -1.367960351065949\n",
      "Reaction CYTBDpp V vs Fe -0.706093624675115\n",
      "Reaction ATPS4rpp Mo vs V -0.4436023106410174\n",
      "Reaction ATPS4rpp Mo vs Fe -1.0520810835591565\n",
      "Reaction ATPS4rpp V vs Fe -0.5786462110009875\n",
      "Reaction PDH Mo vs V 0.09706782394625538\n",
      "Reaction PDH Mo vs Fe -0.17524543722811634\n",
      "Reaction PDH V vs Fe -0.273989971218738\n",
      "Reaction GLNS Mo vs V 0.09225502955462829\n",
      "Reaction GLNS Mo vs Fe 0.3600483194778521\n",
      "Reaction GLNS V vs Fe 0.26369309029466853\n",
      "Reaction ICL Mo vs V -0.4313517846328582\n",
      "Reaction ICL Mo vs Fe -0.7998924970068708\n",
      "Reaction ICL V vs Fe -0.35831212358235787\n",
      "Reaction ICDHyr Mo vs V -0.43135178462867996\n",
      "Reaction ICDHyr Mo vs Fe -0.7998924970020781\n",
      "Reaction ICDHyr V vs Fe -0.35831212358182707\n",
      "Reaction NAD_H2 Mo vs V 0.19571868085051616\n",
      "Reaction NAD_H2 Mo vs Fe 0.8013481795180757\n",
      "Reaction NAD_H2 V vs Fe 0.6200698929143206\n",
      "Reaction HYD1pp Mo vs V -1.6159880879994064\n",
      "Reaction HYD1pp Mo vs Fe -2.9748376580235507\n",
      "Reaction HYD1pp V vs Fe -1.6043135003088014\n",
      "Reaction GLCDpp Mo vs V 0.544904514082401\n",
      "Reaction GLCDpp Mo vs Fe 0.1853966099071433\n",
      "Reaction GLCDpp V vs Fe 0.18536247894285887\n",
      "Reaction EDD Mo vs V -0.06812550360109594\n",
      "Reaction EDD Mo vs Fe -0.21221633971447182\n",
      "Reaction EDD V vs Fe -0.16522405159931958\n",
      "Reaction HEX7 Mo vs V 0.6831602166113974\n",
      "Reaction HEX7 Mo vs Fe 0.9692991755033196\n",
      "Reaction HEX7 V vs Fe 0.2289103626233218\n",
      "Reaction HEX1 Mo vs V -0.04250556979478064\n",
      "Reaction HEX1 Mo vs Fe -0.044681646498064\n",
      "Reaction HEX1 V vs Fe -0.0014639618581845518\n",
      "Reaction GND Mo vs V -0.06812550360185525\n",
      "Reaction GND Mo vs Fe -0.21221633971354195\n",
      "Reaction GND V vs Fe -0.16522405159791304\n",
      "Reaction EDD Mo vs V -0.06812550360109594\n",
      "Reaction EDD Mo vs Fe -0.21221633971447182\n",
      "Reaction EDD V vs Fe -0.16522405159931958\n",
      "Reaction CS Mo vs V -0.42716707298027207\n",
      "Reaction CS Mo vs Fe -0.8125796102206936\n",
      "Reaction CS V vs Fe -0.37470533341782974\n",
      "Reaction ICDHyr Mo vs V -0.43135178462867996\n",
      "Reaction ICDHyr Mo vs Fe -0.7998924970020781\n",
      "Reaction ICDHyr V vs Fe -0.35831212358182707\n",
      "Reaction AKGDH Mo vs V -0.1521780137288826\n",
      "Reaction AKGDH Mo vs Fe -0.4114362412342844\n",
      "Reaction AKGDH V vs Fe -0.24135139416019488\n",
      "Reaction GLUSy Mo vs V 0.07431604236469184\n",
      "Reaction GLUSy Mo vs Fe 0.29507002453260023\n",
      "Reaction GLUSy V vs Fe 0.2201799779402072\n",
      "Reaction PPCK Mo vs V -0.05467502674991363\n",
      "Reaction PPCK Mo vs Fe -0.003132567258385525\n",
      "Reaction PPCK V vs Fe 0.051933850395829824\n",
      "Reaction MDH2 Mo vs V -0.4019110582342184\n",
      "Reaction MDH2 Mo vs Fe -0.6715591824277742\n",
      "Reaction MDH2 V vs Fe -0.2653696484126449\n",
      "Reaction ME1 Mo vs V -0.05004961138125836\n",
      "Reaction ME1 Mo vs Fe -0.04328958937033961\n",
      "Reaction ME1 V vs Fe 0.007185346771066497\n"
     ]
    }
   ],
   "source": [
    "for i in [ \"NADH5\", \"RNF\", \"FIX\", \"NIT1b\", \"CYTBDpp\", \"ATPS4rpp\",\n",
    "         \"PDH\", \"GLNS\", \"ICL\", \"ICDHyr\", \"NAD_H2\", \"HYD1pp\", \"GLCDpp\", \"EDD\", \"HEX7\",\n",
    "         \"HEX1\", \"GND\", \"EDD\", \"CS\", \"ICDHyr\", \"AKGDH\", \"GLUSy\", \"PPCK\", \"MDH2\", \"ME1\"]: \n",
    "    x1 = model_n2_Mo.optimize().fluxes[i]\n",
    "    x2 = model_n2_V.optimize().fluxes[i]\n",
    "    x3 = model_n2_Fe.optimize().fluxes[i]\n",
    "    j = \"EX_sucr_e\"\n",
    "    make_svg_bar_norm_suc_Mo(i, j, S_model_n2_Mo, S_model_n2_V, S_model_n2_Fe, x1, x2, x3, \"Alternatives_bar_suc_norm_Mo\")"
   ]
  },
  {
   "cell_type": "code",
   "execution_count": 45,
   "id": "satisfied-march",
   "metadata": {
    "execution": {
     "iopub.execute_input": "2021-04-11T19:13:49.915254Z",
     "iopub.status.busy": "2021-04-11T19:13:49.914259Z",
     "iopub.status.idle": "2021-04-11T19:13:53.375450Z",
     "shell.execute_reply": "2021-04-11T19:13:53.375450Z",
     "shell.execute_reply.started": "2021-04-11T19:13:49.915254Z"
    }
   },
   "outputs": [
    {
     "name": "stdout",
     "output_type": "stream",
     "text": [
      "Reaction NADH5 Mo vs V -0.49388019216003237\n",
      "Reaction NADH5 Mo vs Fe -1.1046715525948634\n",
      "Reaction NADH5 V vs Fe -0.612116595966718\n",
      "Reaction RNF Mo vs V -0.011552676927394433\n",
      "Reaction RNF Mo vs Fe -0.052684677340360024\n",
      "Reaction RNF V vs Fe -0.039753406111626775\n",
      "Reaction FIX Mo vs V 0.8106190598013661\n",
      "Reaction FIX Mo vs Fe 2.196423732619891\n",
      "Reaction FIX V vs Fe 1.3965410020795854\n"
     ]
    },
    {
     "name": "stderr",
     "output_type": "stream",
     "text": [
      "C:\\Users\\alexa\\anaconda3\\envs\\Metabolic_models\\lib\\site-packages\\ipykernel_launcher.py:32: RuntimeWarning: invalid value encountered in double_scalars\n"
     ]
    },
    {
     "name": "stdout",
     "output_type": "stream",
     "text": [
      "Reaction NIT1b Mo vs V -8.204308460556108\n",
      "Reaction NIT1b Mo vs Fe -8.204308460556108\n",
      "Reaction NIT1b V vs Fe nan\n",
      "Reaction CYTBDpp Mo vs V -0.049621353931719216\n",
      "Reaction CYTBDpp Mo vs Fe -0.045231423068071944\n",
      "Reaction CYTBDpp V vs Fe 0.004204645828980919\n",
      "Reaction ATPS4rpp Mo vs V 0.06970896471397948\n",
      "Reaction ATPS4rpp Mo vs Fe 0.28439082769596036\n",
      "Reaction ATPS4rpp V vs Fe 0.20447887935860393\n",
      "Reaction PDH Mo vs V -0.10344087021534669\n",
      "Reaction PDH Mo vs Fe 0.16159996229651127\n",
      "Reaction PDH V vs Fe 0.2672632948014175\n",
      "Reaction GLNS Mo vs V -0.1169100619771268\n",
      "Reaction GLNS Mo vs Fe -0.40954793031336467\n",
      "Reaction GLNS V vs Fe -0.2885425091280067\n",
      "Reaction ICL Mo vs V -0.07469015315905614\n",
      "Reaction ICL Mo vs Fe -0.2393604562256488\n",
      "Reaction ICL V vs Fe -0.16259265489735739\n",
      "Reaction ICDHyr Mo vs V -0.07469015316408947\n",
      "Reaction ICDHyr Mo vs Fe -0.23936045623110747\n",
      "Reaction ICDHyr V vs Fe -0.16259265489786198\n",
      "Reaction NAD_H2 Mo vs V -0.19063403498682402\n",
      "Reaction NAD_H2 Mo vs Fe -0.7930987352239198\n",
      "Reaction NAD_H2 V vs Fe -0.6156755958171376\n",
      "Reaction HYD1pp Mo vs V 1.6094727596903529\n",
      "Reaction HYD1pp Mo vs Fe 2.9631239590666003\n",
      "Reaction HYD1pp V vs Fe 1.593335681872522\n",
      "Reaction GLCDpp Mo vs V -0.54483945167406\n",
      "Reaction GLCDpp Mo vs Fe -0.18538491848531957\n",
      "Reaction GLCDpp V vs Fe -0.18535065193495964\n",
      "Reaction EDD Mo vs V -0.42669611367405613\n",
      "Reaction EDD Mo vs Fe -0.5164125538071785\n",
      "Reaction EDD V vs Fe -0.19906506933959797\n",
      "Reaction HEX7 Mo vs V -0.848644616123885\n",
      "Reaction HEX7 Mo vs Fe -1.7520024936469696\n",
      "Reaction HEX7 V vs Fe -0.8907752840104196\n",
      "Reaction HEX1 Mo vs V 0.034339549062011365\n",
      "Reaction HEX1 Mo vs Fe 0.027899613221052312\n",
      "Reaction HEX1 V vs Fe -0.006898549754296169\n",
      "Reaction GND Mo vs V -0.4266961136734174\n",
      "Reaction GND Mo vs Fe -0.5164125538081076\n",
      "Reaction GND V vs Fe -0.19906506934093202\n",
      "Reaction EDD Mo vs V -0.42669611367405613\n",
      "Reaction EDD Mo vs Fe -0.5164125538071785\n",
      "Reaction EDD V vs Fe -0.19906506933959797\n",
      "Reaction CS Mo vs V -0.08592134372976881\n",
      "Reaction CS Mo vs Fe -0.23531795344741255\n",
      "Reaction CS V vs Fe -0.14800267019197136\n",
      "Reaction ICDHyr Mo vs V -0.07469015316408947\n",
      "Reaction ICDHyr Mo vs Fe -0.23936045623110747\n",
      "Reaction ICDHyr V vs Fe -0.16259265489786198\n",
      "Reaction AKGDH Mo vs V -0.09553015772541529\n",
      "Reaction AKGDH Mo vs Fe -0.09176660830935524\n",
      "Reaction AKGDH V vs Fe 0.004463048700253073\n",
      "Reaction GLUSy Mo vs V -0.0962853375187588\n",
      "Reaction GLUSy Mo vs Fe -0.33849710832878427\n",
      "Reaction GLUSy V vs Fe -0.24216041905690464\n",
      "Reaction PPCK Mo vs V 0.05063168917295729\n",
      "Reaction PPCK Mo vs Fe -0.005338791287075488\n",
      "Reaction PPCK V vs Fe -0.0562995162603164\n",
      "Reaction MDH2 Mo vs V -0.030412364097864766\n",
      "Reaction MDH2 Mo vs Fe -0.2289158229881992\n",
      "Reaction MDH2 V vs Fe -0.19322200080684565\n",
      "Reaction ME1 Mo vs V 0.04594392160086272\n",
      "Reaction ME1 Mo vs Fe 0.034773389894845186\n",
      "Reaction ME1 V vs Fe -0.011534041974111557\n"
     ]
    }
   ],
   "source": [
    "for i in [ \"NADH5\", \"RNF\", \"FIX\", \"NIT1b\", \"CYTBDpp\", \"ATPS4rpp\",\n",
    "         \"PDH\", \"GLNS\", \"ICL\", \"ICDHyr\", \"NAD_H2\", \"HYD1pp\", \"GLCDpp\", \"EDD\", \"HEX7\",\n",
    "         \"HEX1\", \"GND\", \"EDD\", \"CS\", \"ICDHyr\", \"AKGDH\", \"GLUSy\", \"PPCK\", \"MDH2\", \"ME1\"]: \n",
    "    x1 = model_n2_Mo.optimize().fluxes[i]\n",
    "    x2 = model_n2_V.optimize().fluxes[i]\n",
    "    x3 = model_n2_Fe.optimize().fluxes[i]\n",
    "    j = \"O2tpp\"\n",
    "    make_svg_bar_norm_suc_Mo(i, j, S_model_n2_Mo, S_model_n2_V, S_model_n2_Fe, x1, x2, x3, \"Alternatives_bar_o2_norm_Mo\")"
   ]
  },
  {
   "cell_type": "code",
   "execution_count": 50,
   "id": "disciplinary-sword",
   "metadata": {
    "execution": {
     "iopub.execute_input": "2021-04-11T19:17:18.510753Z",
     "iopub.status.busy": "2021-04-11T19:17:18.509761Z",
     "iopub.status.idle": "2021-04-11T19:17:18.532461Z",
     "shell.execute_reply": "2021-04-11T19:17:18.531497Z",
     "shell.execute_reply.started": "2021-04-11T19:17:18.510753Z"
    }
   },
   "outputs": [],
   "source": [
    "def make_svg_bar_nit(j,samples1,samples2,samples3,x1,x2,x3,Condition):   \n",
    "    #\"#84a955\" greenish \"#bc5d41\" orange #965da7 purplish\n",
    "    x = samples1[\"NIT1b\"]\n",
    "    y = samples2[\"VNIT\"]\n",
    "    z = samples3[\"FENIT\"]\n",
    "    \n",
    "    #normalize to O2 import\n",
    "    x_norm = (samples1[\"NIT1b\"]/(samples1[\"O2tpp\"]))\n",
    "    y_norm = (samples2[\"VNIT\"]/(samples2[\"O2tpp\"]))\n",
    "    z_norm = (samples3[\"FENIT\"]/(samples3[\"O2tpp\"]))\n",
    "    \n",
    "    \n",
    "    #make data relative to Mo conditions for bar plot scaling\n",
    "    y_rel = y_norm/x_norm\n",
    "    z_rel = z_norm/x_norm\n",
    "    \n",
    "    #create merged data frame\n",
    "    df = pd.DataFrame()\n",
    "    #df[\"x\"] = x_norm\n",
    "    df[\"V\"] = y_rel\n",
    "    df[\"Fe\"] = z_rel\n",
    "    \n",
    "    #print(df.dtypes)\n",
    "    #df = df.astype(\"Int64\")\n",
    "    #df2 = df2.apply(pd.to_numeric) \n",
    "    #melt df \n",
    "    df2 = pd.melt(df)\n",
    "    \n",
    "    \n",
    "    #measure effect size of data\n",
    "    \n",
    "    def cohen_d(x,y):\n",
    "        nx = len(x)\n",
    "        ny = len(y)\n",
    "        dof = nx + ny - 2\n",
    "        return (mean(x) - mean(y)) / sqrt(((nx-1)*std(x, ddof=1) ** 2 + (ny-1)*std(y, ddof=1) ** 2) / dof)\n",
    "    \n",
    "    d_xy = cohen_d(x_norm,y_norm)\n",
    "    d_xz = cohen_d(x_norm,z_norm)\n",
    "    d_yz = cohen_d(y_norm,z_norm)\n",
    "    \n",
    "    print(\"Reaction {} Mo vs V\".format(i), d_xy)\n",
    "    print(\"Reaction {} Mo vs Fe\".format(i), d_xz)\n",
    "    print(\"Reaction {} V vs Fe\".format(i), d_yz)\n",
    "    \n",
    "    plt.figure(figsize=(2, 5))\n",
    "    sns.boxplot(x=\"variable\", y=\"value\", data=df2, showfliers=False, width = 0.25, linewidth= 1.5)\n",
    "    plt.axhline(y=1, color='black', linestyle='--')\n",
    "    #plt.text(1.2, 1+(std(z_norm)/2), \"Mo\" )\n",
    "    plt.annotate(\"Mo\", xy = (1.2, 1), xycoords='data',\n",
    "            xytext=(0, 10), textcoords='offset pixels' )\n",
    "    plt.yticks([],fontsize=30)\n",
    "    plt.title(\"Nitrogenase\",y=0.99, fontsize = 20)\n",
    "    plt.xlabel('Nitrogenase')\n",
    "    plt.ylabel('Relative Flux')\n",
    "    plt.tight_layout()\n",
    "    plt.savefig(\"../Outputs/Sampling_alternatives/{0:}_nit_Sample_FBA.tiff\".format(Condition), dpi= 300, format=\"tiff\")\n",
    "    plt.close()"
   ]
  },
  {
   "cell_type": "code",
   "execution_count": 51,
   "id": "underlying-fetish",
   "metadata": {
    "execution": {
     "iopub.execute_input": "2021-04-11T19:17:19.168169Z",
     "iopub.status.busy": "2021-04-11T19:17:19.168169Z",
     "iopub.status.idle": "2021-04-11T19:17:19.264167Z",
     "shell.execute_reply": "2021-04-11T19:17:19.263201Z",
     "shell.execute_reply.started": "2021-04-11T19:17:19.168169Z"
    }
   },
   "outputs": [
    {
     "name": "stdout",
     "output_type": "stream",
     "text": [
      "Reaction ME1 Mo vs V 0.9352767749597476\n",
      "Reaction ME1 Mo vs Fe 2.2183482972666693\n",
      "Reaction ME1 V vs Fe 1.494505032234915\n"
     ]
    }
   ],
   "source": [
    "make_svg_bar_nit( j, S_model_n2_Mo, S_model_n2_V, S_model_n2_Fe, x1,x2,x3,\"alternatives\")"
   ]
  },
  {
   "cell_type": "code",
   "execution_count": null,
   "id": "human-scheduling",
   "metadata": {},
   "outputs": [],
   "source": []
  }
 ],
 "metadata": {
  "kernelspec": {
   "display_name": "Python 3",
   "language": "python",
   "name": "python3"
  },
  "language_info": {
   "codemirror_mode": {
    "name": "ipython",
    "version": 3
   },
   "file_extension": ".py",
   "mimetype": "text/x-python",
   "name": "python",
   "nbconvert_exporter": "python",
   "pygments_lexer": "ipython3",
   "version": "3.7.10"
  }
 },
 "nbformat": 4,
 "nbformat_minor": 5
}
