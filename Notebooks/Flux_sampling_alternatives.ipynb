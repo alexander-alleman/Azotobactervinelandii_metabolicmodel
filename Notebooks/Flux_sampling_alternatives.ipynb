{
 "cells": [
  {
   "cell_type": "markdown",
   "id": "photographic-vision",
   "metadata": {},
   "source": [
    "The alternative nitrogenases V-nitrogenase and Fe-nitrogenase are less efficient that Mo-nitrogenase requiring more energy per mol of N2 reduced. This increase in energy demand while slows the observed growth rate does not slow it in proportion to the increased energy demand. With the model developed in this project we can ask a key question on how does Av reorganize the carbon metabolism and ETS to compensate for the alternative nitrogenases. \n",
    "\n",
    "First we will make three models for each nitrogenase and determine the flux at the condtions of 108 uM. "
   ]
  },
  {
   "cell_type": "code",
   "execution_count": 1,
   "id": "ultimate-hollywood",
   "metadata": {
    "execution": {
     "iopub.execute_input": "2021-06-15T21:03:31.504847Z",
     "iopub.status.busy": "2021-06-15T21:03:31.504847Z",
     "iopub.status.idle": "2021-06-15T21:03:35.072358Z",
     "shell.execute_reply": "2021-06-15T21:03:35.072358Z",
     "shell.execute_reply.started": "2021-06-15T21:03:31.504847Z"
    }
   },
   "outputs": [],
   "source": [
    "import cobra.test\n",
    "import pandas as pd\n",
    "import matplotlib.pyplot as plt\n",
    "import os\n",
    "import math\n",
    "from os.path import join\n",
    "from cobra import Model, Reaction, Metabolite\n",
    "from cobra.io import save_json_model\n",
    "from cobra.sampling import sample\n",
    "import numpy as np\n",
    "import time\n",
    "import pandas as pd\n",
    "import matplotlib.pyplot as plt\n",
    "import matplotlib.backends.backend_pdf\n",
    "from scipy.stats import mannwhitneyu\n",
    "from scipy.stats import kruskal\n",
    "from cobra.sampling import OptGPSampler\n",
    "from scipy.stats import wilcoxon\n",
    "from numpy import std, mean, sqrt\n",
    "import seaborn as sns"
   ]
  },
  {
   "cell_type": "code",
   "execution_count": 2,
   "id": "sunrise-investigator",
   "metadata": {
    "execution": {
     "iopub.execute_input": "2021-06-15T21:03:35.640241Z",
     "iopub.status.busy": "2021-06-15T21:03:35.640241Z",
     "iopub.status.idle": "2021-06-15T21:03:40.029418Z",
     "shell.execute_reply": "2021-06-15T21:03:40.029418Z",
     "shell.execute_reply.started": "2021-06-15T21:03:35.640241Z"
    }
   },
   "outputs": [],
   "source": [
    "#ATPM rate at 110.7 mmmol of ATP at 108uM at 0.2 growth\n",
    "\n",
    "model_n2_Mo = cobra.io.load_json_model(\"../Data/Models/iAA1300_C.json\")\n",
    "model_n2_V = cobra.io.load_json_model(\"../Data/Models/iAA1300_C.json\")\n",
    "model_n2_Fe = cobra.io.load_json_model(\"../Data/Models/iAA1300_C.json\")\n",
    "\n",
    "#make sure glucose is off\n",
    "model_n2_Mo.reactions.get_by_id(\"EX_glc__D_e\").lower_bound = 0\n",
    "model_n2_Mo.reactions.get_by_id(\"EX_glc__D_e\").upper_bound = 0\n",
    "model_n2_V.reactions.get_by_id(\"EX_glc__D_e\").lower_bound = 0\n",
    "model_n2_V.reactions.get_by_id(\"EX_glc__D_e\").upper_bound = 0\n",
    "model_n2_Fe.reactions.get_by_id(\"EX_glc__D_e\").lower_bound = 0\n",
    "model_n2_Fe.reactions.get_by_id(\"EX_glc__D_e\").upper_bound = 0\n",
    "\n",
    "#set sucrose uptake to observed rate\n",
    "model_n2_Mo.reactions.get_by_id(\"EX_sucr_e\").lower_bound = -9\n",
    "model_n2_Mo.reactions.get_by_id(\"EX_sucr_e\").upper_bound = -9\n",
    "model_n2_V.reactions.get_by_id(\"EX_sucr_e\").lower_bound = -9\n",
    "model_n2_V.reactions.get_by_id(\"EX_sucr_e\").upper_bound = -9\n",
    "model_n2_Fe.reactions.get_by_id(\"EX_sucr_e\").lower_bound = -9\n",
    "model_n2_Fe.reactions.get_by_id(\"EX_sucr_e\").upper_bound = -9\n",
    "\n",
    "#Set ATPM rate to predicted rate\n",
    "model_n2_Mo.reactions.get_by_id(\"ATPM\").lower_bound = 110.7\n",
    "model_n2_Mo.reactions.get_by_id(\"ATPM\").upper_bound = 110.7\n",
    "model_n2_V.reactions.get_by_id(\"ATPM\").lower_bound = 110.7\n",
    "model_n2_V.reactions.get_by_id(\"ATPM\").upper_bound = 110.7\n",
    "model_n2_Fe.reactions.get_by_id(\"ATPM\").lower_bound = 110.7\n",
    "model_n2_Fe.reactions.get_by_id(\"ATPM\").upper_bound = 110.7\n",
    "\n",
    "#set bounds to zero for NDH I\n",
    "model_n2_Mo.reactions.get_by_id(\"NADH6\").lower_bound = 0\n",
    "model_n2_Mo.reactions.get_by_id(\"NADH6\").upper_bound = 0\n",
    "model_n2_V.reactions.get_by_id(\"NADH6\").lower_bound = 0\n",
    "model_n2_V.reactions.get_by_id(\"NADH6\").upper_bound = 0\n",
    "model_n2_Fe.reactions.get_by_id(\"NADH6\").lower_bound = 0\n",
    "model_n2_Fe.reactions.get_by_id(\"NADH6\").upper_bound = 0\n",
    "\n",
    "#set bounds to zero for Cyt c\n",
    "model_n2_Mo.reactions.get_by_id(\"CYOO2pp\").lower_bound = 0\n",
    "model_n2_Mo.reactions.get_by_id(\"CYOO2pp\").upper_bound = 0\n",
    "model_n2_V.reactions.get_by_id(\"CYOO2pp\").lower_bound = 0\n",
    "model_n2_V.reactions.get_by_id(\"CYOO2pp\").upper_bound = 0\n",
    "model_n2_Fe.reactions.get_by_id(\"CYOO2pp\").lower_bound = 0\n",
    "model_n2_Fe.reactions.get_by_id(\"CYOO2pp\").upper_bound = 0\n",
    "\n",
    "#make sure O2 is unbounded  \n",
    "model_n2_Mo.reactions.get_by_id(\"O2tpp\").lower_bound = 0\n",
    "model_n2_Mo.reactions.get_by_id(\"O2tpp\").upper_bound = 1000\n",
    "model_n2_V.reactions.get_by_id(\"O2tpp\").lower_bound = 0\n",
    "model_n2_V.reactions.get_by_id(\"O2tpp\").upper_bound = 1000\n",
    "model_n2_Fe.reactions.get_by_id(\"O2tpp\").lower_bound = 0\n",
    "model_n2_Fe.reactions.get_by_id(\"O2tpp\").upper_bound = 1000\n",
    "\n",
    "#set Mo-nitrogense to zero for V-nitrogenase\n",
    "model_n2_V.reactions.get_by_id(\"NIT1b\").lower_bound = 0\n",
    "model_n2_V.reactions.get_by_id(\"NIT1b\").upper_bound = 0\n",
    "\n",
    "#set Mo-nitrogense and v-nitrogenase to zero for fe-only-nitrogenase\n",
    "model_n2_Fe.reactions.get_by_id(\"NIT1b\").lower_bound = 0\n",
    "model_n2_Fe.reactions.get_by_id(\"NIT1b\").upper_bound = 0\n",
    "model_n2_Fe.reactions.get_by_id(\"VNIT\").lower_bound = 0\n",
    "model_n2_Fe.reactions.get_by_id(\"VNIT\").upper_bound = 0"
   ]
  },
  {
   "cell_type": "markdown",
   "id": "frank-alexandria",
   "metadata": {},
   "source": [
    "Lets see how they grow:"
   ]
  },
  {
   "cell_type": "code",
   "execution_count": 3,
   "id": "physical-reader",
   "metadata": {
    "execution": {
     "iopub.execute_input": "2021-06-15T21:03:41.876362Z",
     "iopub.status.busy": "2021-06-15T21:03:41.876362Z",
     "iopub.status.idle": "2021-06-15T21:03:44.397612Z",
     "shell.execute_reply": "2021-06-15T21:03:44.397612Z",
     "shell.execute_reply.started": "2021-06-15T21:03:41.876362Z"
    }
   },
   "outputs": [
    {
     "name": "stdout",
     "output_type": "stream",
     "text": [
      "Diazotrophic growth for model_n2_Mo : 0.19816620149628947\n",
      "Oxygen Consumpition for model_n2_Mo : 98.15994934479323\n",
      "Mo-Nitrogenase Flux for model_n2_Mo : 1.036171704948959\n",
      "V-Nitrogenase Flux for model_n2_Mo : 0.0\n",
      "Fe-Nitrogenase Flux for model_n2_Mo : 0.0\n",
      "Diazotrophic growth for model_n2_V : 0.17309308892841585\n",
      "Oxygen Consumpition for model_n2_V : 99.40496840398973\n",
      "Mo-Nitrogenase Flux for model_n2_V : 0.0\n",
      "V-Nitrogenase Flux for model_n2_V : 0.9050693797206998\n",
      "Fe-Nitrogenase Flux for model_n2_V : 0.0\n",
      "Diazotrophic growth for model_n2_Fe : 0.13813726684335645\n",
      "Oxygen Consumpition for model_n2_Fe : 101.14071878631405\n",
      "Mo-Nitrogenase Flux for model_n2_Fe : 0.0\n",
      "V-Nitrogenase Flux for model_n2_Fe : 0.0\n",
      "Fe-Nitrogenase Flux for model_n2_Fe : 0.722292329476027\n"
     ]
    }
   ],
   "source": [
    "models = [model_n2_Mo, model_n2_V, model_n2_Fe ]\n",
    "models_names = [\"model_n2_Mo\", \"model_n2_V\", \"model_n2_Fe\" ]\n",
    "for i, j in zip(models, models_names):\n",
    "    model = i.copy()\n",
    "    \n",
    "    solution = model.optimize()\n",
    "\n",
    "    #write flux to csv using pandas\n",
    "    df= pd.DataFrame.from_dict([solution.fluxes]).T\n",
    "    df.to_csv('../Data/Sampling_alternatives/FBA_results/{}.csv'.format(j))\n",
    "    \n",
    "    print(\"Diazotrophic growth for {} : {}\".format(j, model.optimize().objective_value))\n",
    "    print(\"Oxygen Consumpition for {} : {}\".format(j, model.optimize().fluxes[\"O2tpp\"]))\n",
    "    print(\"Mo-Nitrogenase Flux for {} : {}\".format(j, model.optimize().fluxes[\"NIT1b\"]))\n",
    "    print(\"V-Nitrogenase Flux for {} : {}\".format(j, model.optimize().fluxes[\"VNIT\"]))\n",
    "    print(\"Fe-Nitrogenase Flux for {} : {}\".format(j, model.optimize().fluxes[\"FENIT\"]))"
   ]
  },
  {
   "cell_type": "markdown",
   "id": "toxic-batch",
   "metadata": {},
   "source": [
    "As we can see the alternatives grow slightly slower than the Mo-nitrogenase showing compensation for the increased energy demands of 30 and 60%  respectively. \n",
    "\n",
    "Lets look at the escher maps:"
   ]
  },
  {
   "cell_type": "code",
   "execution_count": 4,
   "id": "fourth-fairy",
   "metadata": {
    "execution": {
     "iopub.execute_input": "2021-05-16T04:51:14.431705Z",
     "iopub.status.busy": "2021-05-16T04:51:14.431705Z",
     "iopub.status.idle": "2021-05-16T04:51:14.633703Z",
     "shell.execute_reply": "2021-05-16T04:51:14.632704Z",
     "shell.execute_reply.started": "2021-05-16T04:51:14.431705Z"
    }
   },
   "outputs": [],
   "source": [
    "import escher\n",
    "from escher import Builder\n",
    "from time import sleep"
   ]
  },
  {
   "cell_type": "code",
   "execution_count": 5,
   "id": "floral-cornell",
   "metadata": {
    "execution": {
     "iopub.execute_input": "2021-05-16T04:52:47.975382Z",
     "iopub.status.busy": "2021-05-16T04:52:47.975382Z",
     "iopub.status.idle": "2021-05-16T04:52:48.249540Z",
     "shell.execute_reply": "2021-05-16T04:52:48.249540Z",
     "shell.execute_reply.started": "2021-05-16T04:52:47.975382Z"
    }
   },
   "outputs": [
    {
     "data": {
      "application/vnd.jupyter.widget-view+json": {
       "model_id": "f21eb81c44ea4f41a87512f89ef7d19d",
       "version_major": 2,
       "version_minor": 0
      },
      "text/plain": [
       "Builder(reaction_data={'ALATA_D2': 0.0, 'SHCHD2': 4.4191062933666204e-05, 'CPPPGO': 4.4191062933666204e-05, 'G…"
      ]
     },
     "metadata": {},
     "output_type": "display_data"
    }
   ],
   "source": [
    " Builder(model_json = \"../Data/Models/iAA1300.json\",\n",
    "                 map_json = '../Data/Escher/Maps/Full_metabolism_AV.json',\n",
    "                  reaction_data = model_n2_Mo.optimize().fluxes\n",
    "                      )"
   ]
  },
  {
   "cell_type": "code",
   "execution_count": 6,
   "id": "behind-collar",
   "metadata": {
    "execution": {
     "iopub.execute_input": "2021-04-26T17:00:26.582780Z",
     "iopub.status.busy": "2021-04-26T17:00:26.582780Z",
     "iopub.status.idle": "2021-04-26T17:00:26.835803Z",
     "shell.execute_reply": "2021-04-26T17:00:26.835803Z",
     "shell.execute_reply.started": "2021-04-26T17:00:26.582780Z"
    }
   },
   "outputs": [
    {
     "data": {
      "application/vnd.jupyter.widget-view+json": {
       "model_id": "7b120a2a7bf64894b84fc71db8b4f43a",
       "version_major": 2,
       "version_minor": 0
      },
      "text/plain": [
       "Builder(reaction_data={'ALATA_D2': 0.0, 'SHCHD2': 3.859975883103566e-05, 'CPPPGO': 3.859975883103566e-05, 'GTH…"
      ]
     },
     "metadata": {},
     "output_type": "display_data"
    }
   ],
   "source": [
    " Builder(model_json = \"../Data/Models/iAA1300.json\",\n",
    "                 map_json = '../Data/Escher/Maps/Full_metabolism_AV.json',\n",
    "                  reaction_data = model_n2_V.optimize().fluxes\n",
    "                      )"
   ]
  },
  {
   "cell_type": "code",
   "execution_count": 7,
   "id": "opponent-campbell",
   "metadata": {
    "execution": {
     "iopub.execute_input": "2021-04-26T17:00:29.909792Z",
     "iopub.status.busy": "2021-04-26T17:00:29.909792Z",
     "iopub.status.idle": "2021-04-26T17:00:30.317137Z",
     "shell.execute_reply": "2021-04-26T17:00:30.316166Z",
     "shell.execute_reply.started": "2021-04-26T17:00:29.909792Z"
    }
   },
   "outputs": [
    {
     "data": {
      "application/vnd.jupyter.widget-view+json": {
       "model_id": "36c48c1e793e4843a19ce6c3cc8452fc",
       "version_major": 2,
       "version_minor": 0
      },
      "text/plain": [
       "Builder(reaction_data={'ALATA_D2': 0.0, 'SHCHD2': 3.080461050607628e-05, 'CPPPGO': 3.080461050607628e-05, 'GTH…"
      ]
     },
     "metadata": {},
     "output_type": "display_data"
    }
   ],
   "source": [
    " Builder(model_json = \"../Data/Models/iAA1300.json\",\n",
    "                 map_json = '../Data/Escher/Maps/Full_metabolism_AV.json',\n",
    "                  reaction_data = model_n2_Fe.optimize().fluxes\n",
    "                      )"
   ]
  },
  {
   "cell_type": "markdown",
   "id": "spiritual-administration",
   "metadata": {},
   "source": [
    "As we can see from the maps there is a increase in flux but no new pathways so comparing these fluxes with flux sampling should make it easier to see the differences. "
   ]
  },
  {
   "cell_type": "code",
   "execution_count": 18,
   "id": "royal-plaza",
   "metadata": {
    "execution": {
     "iopub.execute_input": "2021-04-23T19:01:21.387160Z",
     "iopub.status.busy": "2021-04-23T19:01:21.387160Z",
     "iopub.status.idle": "2021-04-23T19:10:53.432014Z",
     "shell.execute_reply": "2021-04-23T19:10:53.432014Z",
     "shell.execute_reply.started": "2021-04-23T19:01:21.387160Z"
    }
   },
   "outputs": [],
   "source": [
    "#S_model_n2_Mo = sample(model_n2_Mo, n=10000, thinning=1000,  processes=8)"
   ]
  },
  {
   "cell_type": "code",
   "execution_count": 19,
   "id": "infinite-strength",
   "metadata": {
    "execution": {
     "iopub.execute_input": "2021-04-23T19:10:53.434020Z",
     "iopub.status.busy": "2021-04-23T19:10:53.434020Z",
     "iopub.status.idle": "2021-04-23T19:12:07.431146Z",
     "shell.execute_reply": "2021-04-23T19:12:07.430613Z",
     "shell.execute_reply.started": "2021-04-23T19:10:53.434020Z"
    }
   },
   "outputs": [],
   "source": [
    "#S_model_n2_Mo.to_csv(\"../Data/Sampling_alternatives/Sampling_results/model_n2_Mo_samples.csv.gz\", compression=\"gzip\")"
   ]
  },
  {
   "cell_type": "code",
   "execution_count": 20,
   "id": "dense-affiliation",
   "metadata": {
    "execution": {
     "iopub.execute_input": "2021-04-23T19:12:07.432218Z",
     "iopub.status.busy": "2021-04-23T19:12:07.432218Z",
     "iopub.status.idle": "2021-04-23T19:21:28.252948Z",
     "shell.execute_reply": "2021-04-23T19:21:28.251946Z",
     "shell.execute_reply.started": "2021-04-23T19:12:07.432218Z"
    }
   },
   "outputs": [],
   "source": [
    "#S_model_n2_V = sample(model_n2_V, n=10000, thinning=1000,  processes=8)"
   ]
  },
  {
   "cell_type": "code",
   "execution_count": 21,
   "id": "driving-franchise",
   "metadata": {
    "execution": {
     "iopub.execute_input": "2021-04-23T19:21:28.253948Z",
     "iopub.status.busy": "2021-04-23T19:21:28.253948Z",
     "iopub.status.idle": "2021-04-23T19:22:43.389886Z",
     "shell.execute_reply": "2021-04-23T19:22:43.388968Z",
     "shell.execute_reply.started": "2021-04-23T19:21:28.253948Z"
    }
   },
   "outputs": [],
   "source": [
    "#S_model_n2_V.to_csv(\"../Data/Sampling_alternatives/Sampling_results/model_n2_V_samples.csv.gz\", compression=\"gzip\")"
   ]
  },
  {
   "cell_type": "code",
   "execution_count": 22,
   "id": "broad-socket",
   "metadata": {
    "execution": {
     "iopub.execute_input": "2021-04-23T19:22:43.390886Z",
     "iopub.status.busy": "2021-04-23T19:22:43.390886Z",
     "iopub.status.idle": "2021-04-23T19:36:52.198115Z",
     "shell.execute_reply": "2021-04-23T19:36:52.183071Z",
     "shell.execute_reply.started": "2021-04-23T19:22:43.390886Z"
    }
   },
   "outputs": [],
   "source": [
    "#S_model_n2_Fe = sample(model_n2_Fe, n=10000, thinning=1000,  processes=8)"
   ]
  },
  {
   "cell_type": "code",
   "execution_count": 23,
   "id": "buried-artwork",
   "metadata": {
    "execution": {
     "iopub.execute_input": "2021-04-23T19:36:52.206114Z",
     "iopub.status.busy": "2021-04-23T19:36:52.206114Z",
     "iopub.status.idle": "2021-04-23T19:39:16.918095Z",
     "shell.execute_reply": "2021-04-23T19:39:16.917094Z",
     "shell.execute_reply.started": "2021-04-23T19:36:52.206114Z"
    }
   },
   "outputs": [],
   "source": [
    "#S_model_n2_Fe.to_csv(\"../Data/Sampling_alternatives/Sampling_results/model_n2_Fe_samples.csv.gz\", compression=\"gzip\")"
   ]
  },
  {
   "cell_type": "code",
   "execution_count": 2,
   "id": "southwest-assumption",
   "metadata": {
    "execution": {
     "iopub.execute_input": "2021-06-08T22:58:23.133394Z",
     "iopub.status.busy": "2021-06-08T22:58:23.133394Z",
     "iopub.status.idle": "2021-06-08T22:58:41.581756Z",
     "shell.execute_reply": "2021-06-08T22:58:41.580846Z",
     "shell.execute_reply.started": "2021-06-08T22:58:23.133394Z"
    }
   },
   "outputs": [],
   "source": [
    "#reupload sample files\n",
    "S_model_n2_Mo = pd.read_csv(\"../Data/Sampling_alternatives/Sampling_results/model_n2_Mo_samples.csv.gz\")\n",
    "S_model_n2_V= pd.read_csv(\"../Data/Sampling_alternatives/Sampling_results/model_n2_V_samples.csv.gz\")\n",
    "S_model_n2_Fe = pd.read_csv(\"../Data/Sampling_alternatives/Sampling_results/model_n2_Fe_samples.csv.gz\")\n"
   ]
  },
  {
   "cell_type": "code",
   "execution_count": 7,
   "id": "rotary-think",
   "metadata": {
    "execution": {
     "iopub.execute_input": "2021-06-08T22:59:01.557243Z",
     "iopub.status.busy": "2021-06-08T22:59:01.557243Z",
     "iopub.status.idle": "2021-06-08T22:59:01.573284Z",
     "shell.execute_reply": "2021-06-08T22:59:01.572269Z",
     "shell.execute_reply.started": "2021-06-08T22:59:01.557243Z"
    }
   },
   "outputs": [],
   "source": [
    "def make_svg_norm_suc(i,j,samples1,samples2,samples3,x1,x2,x3,Condition):\n",
    "    #\"#84a955\" greenish \"#bc5d41\" orange #965da7 purplish\n",
    "    x = samples1[i]\n",
    "    y = samples2[i]\n",
    "    z = samples3[i]\n",
    "    \n",
    "    #multiple to remove negative sign from sucrose import\n",
    "    x_norm = (samples1[i]/(samples1[j]*-1))\n",
    "    y_norm = (samples2[i]/(samples2[j]*-1))\n",
    "    z_norm = (samples3[i]/(samples3[j]*-1))\n",
    "    \n",
    "    u1 = model_n2_Mo.optimize().fluxes[j]*-1\n",
    "    u2 = model_n2_V.optimize().fluxes[j]*-1\n",
    "    u3 = model_n2_Fe.optimize().fluxes[j]*-1\n",
    "    bns = 100\n",
    "\n",
    "    \n",
    "    xn, xbins, xpatches = plt.hist(x_norm, bins=bns, alpha=0.5, color = \"#84a955\", lw=0)\n",
    "    yn, ybins, ypatches = plt.hist(y_norm, bins=bns, alpha=0.5, color = \"#bc5d41\", lw=0)\n",
    "    zn, zbins, zpatches = plt.hist(z_norm, bins=bns, alpha=0.5, color = \"#965da7\", lw=0)\n",
    "        \n",
    "    plt.axvline(x = (x1/u1),linewidth=2, linestyle='--', color=\"#84a955\")\n",
    "    plt.axvline(x = (x2/u2),linewidth=2, linestyle='--', color=\"#bc5d41\")\n",
    "    plt.axvline(x = (x3/u3),linewidth=2, linestyle='--', color=\"#965da7\")\n",
    "\n",
    "        #measure effect size of data\n",
    "    \n",
    "    def cohen_d(x,y):\n",
    "        nx = len(x)\n",
    "        ny = len(y)\n",
    "        dof = nx + ny - 2\n",
    "        return (mean(x) - mean(y)) / sqrt(((nx-1)*std(x, ddof=1) ** 2 + (ny-1)*std(y, ddof=1) ** 2) / dof)\n",
    "    \n",
    "    d_xy = cohen_d(x_norm,y_norm)\n",
    "    d_xz = cohen_d(x_norm,z_norm)\n",
    "    d_yz = cohen_d(y_norm,z_norm)\n",
    "    \n",
    "    print(\"Reaction {} Mo vs V\".format(i), d_xy)\n",
    "    print(\"Reaction {} Mo vs Fe\".format(i), d_xz)\n",
    "    print(\"Reaction {} V vs Fe\".format(i), d_yz)\n",
    "    \n",
    "    plt.xticks([round(min(min(x_norm),min(y_norm),min(z_norm)),3),round(max(max(x_norm),max(y_norm),max(z_norm)),3)],fontsize=30)\n",
    "    plt.yticks([],fontsize=30)\n",
    "    plt.title(\"{}\".format(i),y=0.99, fontsize = 35)\n",
    "    plt.tight_layout()\n",
    "    plt.savefig(\"../Outputs/Sampling_alternatives/{0:}/{1:}_Sample_FBA.tiff\".format(Condition,i), dpi= 30, format=\"tiff\")\n",
    "    plt.close()"
   ]
  },
  {
   "cell_type": "code",
   "execution_count": 8,
   "id": "systematic-manhattan",
   "metadata": {
    "execution": {
     "iopub.execute_input": "2021-06-08T22:59:02.137979Z",
     "iopub.status.busy": "2021-06-08T22:59:02.137428Z",
     "iopub.status.idle": "2021-06-08T22:59:14.178539Z",
     "shell.execute_reply": "2021-06-08T22:59:14.178539Z",
     "shell.execute_reply.started": "2021-06-08T22:59:02.137979Z"
    }
   },
   "outputs": [
    {
     "name": "stdout",
     "output_type": "stream",
     "text": [
      "Reaction NADH5 Mo vs V 0.009547020560284966\n",
      "Reaction NADH5 Mo vs Fe 0.29476418256342163\n",
      "Reaction NADH5 V vs Fe 0.2797401509629773\n",
      "Reaction RNF Mo vs V -0.07554430932652823\n",
      "Reaction RNF Mo vs Fe -0.18375085310821113\n",
      "Reaction RNF V vs Fe -0.10635193197595012\n",
      "Reaction FIX Mo vs V -0.9340612339651809\n",
      "Reaction FIX Mo vs Fe -2.0947220385352994\n",
      "Reaction FIX V vs Fe -1.2376691308203307\n"
     ]
    },
    {
     "name": "stderr",
     "output_type": "stream",
     "text": [
      "C:\\Users\\alexa\\anaconda3\\envs\\Metabolic_models\\lib\\site-packages\\ipykernel_launcher.py:32: RuntimeWarning: invalid value encountered in double_scalars\n"
     ]
    },
    {
     "name": "stdout",
     "output_type": "stream",
     "text": [
      "Reaction NIT1b Mo vs V 7.551287746024712\n",
      "Reaction NIT1b Mo vs Fe 7.551287746024712\n",
      "Reaction NIT1b V vs Fe nan\n",
      "Reaction CYTBDpp Mo vs V -0.5650373137581558\n",
      "Reaction CYTBDpp Mo vs Fe -1.3742572253324632\n",
      "Reaction CYTBDpp V vs Fe -0.7996349646059117\n",
      "Reaction ATPS4rpp Mo vs V -0.361232903669707\n",
      "Reaction ATPS4rpp Mo vs Fe -1.0301521362818649\n",
      "Reaction ATPS4rpp V vs Fe -0.666312094713958\n",
      "Reaction PDH Mo vs V 0.14314539962476544\n",
      "Reaction PDH Mo vs Fe -0.020992049741398382\n",
      "Reaction PDH V vs Fe -0.16950386910309764\n",
      "Reaction GLNS Mo vs V 0.1497962039977869\n",
      "Reaction GLNS Mo vs Fe 0.2672621074545728\n",
      "Reaction GLNS V vs Fe 0.11743014406524607\n",
      "Reaction ICL Mo vs V -0.44621171328491155\n",
      "Reaction ICL Mo vs Fe -1.0438143049121773\n",
      "Reaction ICL V vs Fe -0.5624790350126236\n",
      "Reaction ICDHyr Mo vs V -0.44621171327950276\n",
      "Reaction ICDHyr Mo vs Fe -1.0438143049081778\n",
      "Reaction ICDHyr V vs Fe -0.5624790350144433\n",
      "Reaction NAD_H2 Mo vs V 0.7050903008798897\n",
      "Reaction NAD_H2 Mo vs Fe 0.65325959566293\n",
      "Reaction NAD_H2 V vs Fe -0.015535584745040965\n",
      "Reaction HYD1pp Mo vs V -1.175313385329703\n",
      "Reaction HYD1pp Mo vs Fe -3.199782248204545\n",
      "Reaction HYD1pp V vs Fe -2.00855437021743\n",
      "Reaction GLCDpp Mo vs V 0.3134729126451358\n",
      "Reaction GLCDpp Mo vs Fe 0.20216562609198704\n",
      "Reaction GLCDpp V vs Fe 0.2021542295507305\n",
      "Reaction EDD Mo vs V -0.07086282375407012\n",
      "Reaction EDD Mo vs Fe -0.22190708117199573\n",
      "Reaction EDD V vs Fe -0.1091491130419425\n",
      "Reaction HEX7 Mo vs V -0.096042842184847\n",
      "Reaction HEX7 Mo vs Fe 0.46405259298626356\n",
      "Reaction HEX7 V vs Fe 0.633552770087791\n",
      "Reaction HEX1 Mo vs V 0.032985000142096696\n",
      "Reaction HEX1 Mo vs Fe 0.030686472036449107\n",
      "Reaction HEX1 V vs Fe -0.002623327645363295\n",
      "Reaction GND Mo vs V -0.07086282375565438\n",
      "Reaction GND Mo vs Fe -0.2219070811721825\n",
      "Reaction GND V vs Fe -0.10914911304052712\n",
      "Reaction EDD Mo vs V -0.07086282375407012\n",
      "Reaction EDD Mo vs Fe -0.22190708117199573\n",
      "Reaction EDD V vs Fe -0.1091491130419425\n",
      "Reaction CS Mo vs V -0.44949725991665984\n",
      "Reaction CS Mo vs Fe -1.04828726208962\n",
      "Reaction CS V vs Fe -0.5593513775466739\n",
      "Reaction ICDHyr Mo vs V -0.44621171327950276\n",
      "Reaction ICDHyr Mo vs Fe -1.0438143049081778\n",
      "Reaction ICDHyr V vs Fe -0.5624790350144433\n",
      "Reaction AKGDH Mo vs V -0.208470032517564\n",
      "Reaction AKGDH Mo vs Fe -0.4841287817254488\n",
      "Reaction AKGDH V vs Fe -0.2824641586507467\n",
      "Reaction GLUSy Mo vs V 0.13807326009969018\n",
      "Reaction GLUSy Mo vs Fe 0.21958523803093402\n",
      "Reaction GLUSy V vs Fe 0.08231169675511468\n",
      "Reaction PPCK Mo vs V -0.0074399124830656395\n",
      "Reaction PPCK Mo vs Fe 0.0024856171286967025\n",
      "Reaction PPCK V vs Fe 0.009664813205875996\n",
      "Reaction MDH2 Mo vs V -0.25619596302907927\n",
      "Reaction MDH2 Mo vs Fe -0.7115578199171345\n",
      "Reaction MDH2 V vs Fe -0.4536880857017805\n",
      "Reaction ME1 Mo vs V -0.027150636000635518\n",
      "Reaction ME1 Mo vs Fe -0.03213406427318938\n",
      "Reaction ME1 V vs Fe -0.004927659525749243\n"
     ]
    }
   ],
   "source": [
    "for i in [ \"NADH5\", \"RNF\", \"FIX\", \"NIT1b\", \"CYTBDpp\", \"ATPS4rpp\",\n",
    "         \"PDH\", \"GLNS\", \"ICL\", \"ICDHyr\", \"NAD_H2\", \"HYD1pp\", \"GLCDpp\", \"EDD\", \"HEX7\",\n",
    "         \"HEX1\", \"GND\", \"EDD\", \"CS\", \"ICDHyr\", \"AKGDH\", \"GLUSy\", \"PPCK\", \"MDH2\", \"ME1\"]: \n",
    "    x1 = model_n2_Mo.optimize().fluxes[i]\n",
    "    x2 = model_n2_V.optimize().fluxes[i]\n",
    "    x3 = model_n2_Fe.optimize().fluxes[i]\n",
    "    j = \"EX_sucr_e\"\n",
    "    make_svg_norm_suc(i, j, S_model_n2_Mo, S_model_n2_V, S_model_n2_Fe, x1, x2, x3, \"Alternatives_hist_suc_norm\")"
   ]
  },
  {
   "cell_type": "markdown",
   "id": "described-memory",
   "metadata": {},
   "source": [
    "Lets do a bar plot for this too "
   ]
  },
  {
   "cell_type": "code",
   "execution_count": 9,
   "id": "balanced-combine",
   "metadata": {
    "execution": {
     "iopub.execute_input": "2021-06-08T22:59:19.695805Z",
     "iopub.status.busy": "2021-06-08T22:59:19.694806Z",
     "iopub.status.idle": "2021-06-08T22:59:19.711830Z",
     "shell.execute_reply": "2021-06-08T22:59:19.710830Z",
     "shell.execute_reply.started": "2021-06-08T22:59:19.695805Z"
    }
   },
   "outputs": [],
   "source": [
    "import seaborn as sns"
   ]
  },
  {
   "cell_type": "code",
   "execution_count": 10,
   "id": "constant-sodium",
   "metadata": {
    "execution": {
     "iopub.execute_input": "2021-06-08T22:59:23.474901Z",
     "iopub.status.busy": "2021-06-08T22:59:23.474901Z",
     "iopub.status.idle": "2021-06-08T22:59:23.490064Z",
     "shell.execute_reply": "2021-06-08T22:59:23.490064Z",
     "shell.execute_reply.started": "2021-06-08T22:59:23.474901Z"
    }
   },
   "outputs": [],
   "source": [
    "def make_svg_bar_norm_suc(i,j,samples1,samples2,samples3,x1,x2,x3,Condition):\n",
    "    #\"#84a955\" greenish \"#bc5d41\" orange #965da7 purplish\n",
    "    x = samples1[i]\n",
    "    y = samples2[i]\n",
    "    z = samples3[i]\n",
    "    \n",
    "    #multiple to remove negative sign from sucrose import\n",
    "    x_norm = (samples1[i]/(samples1[j]*-1))\n",
    "    y_norm = (samples2[i]/(samples2[j]*-1))\n",
    "    z_norm = (samples3[i]/(samples3[j]*-1))\n",
    "    \n",
    "\n",
    "    #create merged data frame\n",
    "    df = pd.DataFrame()\n",
    "    df[\"x\"] = x_norm\n",
    "    df[\"V\"] = y_norm\n",
    "    df[\"Fe\"] = z_norm\n",
    "    \n",
    "\n",
    "    df2 = pd.melt(df)\n",
    "    \n",
    "    \n",
    "    #measure effect size of data\n",
    "    \n",
    "    def cohen_d(x,y):\n",
    "        nx = len(x)\n",
    "        ny = len(y)\n",
    "        dof = nx + ny - 2\n",
    "        return (mean(x) - mean(y)) / sqrt(((nx-1)*std(x, ddof=1) ** 2 + (ny-1)*std(y, ddof=1) ** 2) / dof)\n",
    "    \n",
    "    d_xy = cohen_d(x_norm,y_norm)\n",
    "    d_xz = cohen_d(x_norm,z_norm)\n",
    "    d_yz = cohen_d(y_norm,z_norm)\n",
    "    \n",
    "    print(\"Reaction {} Mo vs V\".format(i), d_xy)\n",
    "    print(\"Reaction {} Mo vs Fe\".format(i), d_xz)\n",
    "    print(\"Reaction {} V vs Fe\".format(i), d_yz)\n",
    "    \n",
    "    plt.figure(figsize=(2, 5))\n",
    "    sns.boxplot(x=\"variable\", y=\"value\", data=df2, showfliers=False, width = 0.25, linewidth= 1.5)\n",
    "    plt.title(\"{}\".format(i),y=0.99, fontsize = 20)\n",
    "    plt.xlabel('Nitrogenase')\n",
    "    plt.ylabel('Relative Flux')\n",
    "    plt.tight_layout()\n",
    "    plt.savefig(\"../Outputs/Sampling_alternatives/{0:}/{1:}_Sample_FBA.tiff\".format(Condition,i), dpi= 30, format=\"tiff\")\n",
    "    plt.close()"
   ]
  },
  {
   "cell_type": "code",
   "execution_count": 11,
   "id": "impossible-fabric",
   "metadata": {
    "execution": {
     "iopub.execute_input": "2021-06-08T22:59:24.403973Z",
     "iopub.status.busy": "2021-06-08T22:59:24.403526Z",
     "iopub.status.idle": "2021-06-08T22:59:29.629943Z",
     "shell.execute_reply": "2021-06-08T22:59:29.629943Z",
     "shell.execute_reply.started": "2021-06-08T22:59:24.403973Z"
    }
   },
   "outputs": [
    {
     "name": "stdout",
     "output_type": "stream",
     "text": [
      "Reaction NADH5 Mo vs V 0.009547020560284966\n",
      "Reaction NADH5 Mo vs Fe 0.29476418256342163\n",
      "Reaction NADH5 V vs Fe 0.2797401509629773\n",
      "Reaction RNF Mo vs V -0.07554430932652823\n",
      "Reaction RNF Mo vs Fe -0.18375085310821113\n",
      "Reaction RNF V vs Fe -0.10635193197595012\n",
      "Reaction FIX Mo vs V -0.9340612339651809\n",
      "Reaction FIX Mo vs Fe -2.0947220385352994\n",
      "Reaction FIX V vs Fe -1.2376691308203307\n"
     ]
    },
    {
     "name": "stderr",
     "output_type": "stream",
     "text": [
      "C:\\Users\\alexa\\anaconda3\\envs\\Metabolic_models\\lib\\site-packages\\ipykernel_launcher.py:29: RuntimeWarning: invalid value encountered in double_scalars\n"
     ]
    },
    {
     "name": "stdout",
     "output_type": "stream",
     "text": [
      "Reaction NIT1b Mo vs V 7.551287746024712\n",
      "Reaction NIT1b Mo vs Fe 7.551287746024712\n",
      "Reaction NIT1b V vs Fe nan\n",
      "Reaction CYTBDpp Mo vs V -0.5650373137581558\n",
      "Reaction CYTBDpp Mo vs Fe -1.3742572253324632\n",
      "Reaction CYTBDpp V vs Fe -0.7996349646059117\n",
      "Reaction ATPS4rpp Mo vs V -0.361232903669707\n",
      "Reaction ATPS4rpp Mo vs Fe -1.0301521362818649\n",
      "Reaction ATPS4rpp V vs Fe -0.666312094713958\n",
      "Reaction PDH Mo vs V 0.14314539962476544\n",
      "Reaction PDH Mo vs Fe -0.020992049741398382\n",
      "Reaction PDH V vs Fe -0.16950386910309764\n",
      "Reaction GLNS Mo vs V 0.1497962039977869\n",
      "Reaction GLNS Mo vs Fe 0.2672621074545728\n",
      "Reaction GLNS V vs Fe 0.11743014406524607\n",
      "Reaction ICL Mo vs V -0.44621171328491155\n",
      "Reaction ICL Mo vs Fe -1.0438143049121773\n",
      "Reaction ICL V vs Fe -0.5624790350126236\n",
      "Reaction ICDHyr Mo vs V -0.44621171327950276\n",
      "Reaction ICDHyr Mo vs Fe -1.0438143049081778\n",
      "Reaction ICDHyr V vs Fe -0.5624790350144433\n",
      "Reaction NAD_H2 Mo vs V 0.7050903008798897\n",
      "Reaction NAD_H2 Mo vs Fe 0.65325959566293\n",
      "Reaction NAD_H2 V vs Fe -0.015535584745040965\n",
      "Reaction HYD1pp Mo vs V -1.175313385329703\n",
      "Reaction HYD1pp Mo vs Fe -3.199782248204545\n",
      "Reaction HYD1pp V vs Fe -2.00855437021743\n",
      "Reaction GLCDpp Mo vs V 0.3134729126451358\n",
      "Reaction GLCDpp Mo vs Fe 0.20216562609198704\n",
      "Reaction GLCDpp V vs Fe 0.2021542295507305\n",
      "Reaction EDD Mo vs V -0.07086282375407012\n",
      "Reaction EDD Mo vs Fe -0.22190708117199573\n",
      "Reaction EDD V vs Fe -0.1091491130419425\n",
      "Reaction HEX7 Mo vs V -0.096042842184847\n",
      "Reaction HEX7 Mo vs Fe 0.46405259298626356\n",
      "Reaction HEX7 V vs Fe 0.633552770087791\n",
      "Reaction HEX1 Mo vs V 0.032985000142096696\n",
      "Reaction HEX1 Mo vs Fe 0.030686472036449107\n",
      "Reaction HEX1 V vs Fe -0.002623327645363295\n",
      "Reaction GND Mo vs V -0.07086282375565438\n",
      "Reaction GND Mo vs Fe -0.2219070811721825\n",
      "Reaction GND V vs Fe -0.10914911304052712\n",
      "Reaction EDD Mo vs V -0.07086282375407012\n",
      "Reaction EDD Mo vs Fe -0.22190708117199573\n",
      "Reaction EDD V vs Fe -0.1091491130419425\n",
      "Reaction CS Mo vs V -0.44949725991665984\n",
      "Reaction CS Mo vs Fe -1.04828726208962\n",
      "Reaction CS V vs Fe -0.5593513775466739\n",
      "Reaction ICDHyr Mo vs V -0.44621171327950276\n",
      "Reaction ICDHyr Mo vs Fe -1.0438143049081778\n",
      "Reaction ICDHyr V vs Fe -0.5624790350144433\n",
      "Reaction AKGDH Mo vs V -0.208470032517564\n",
      "Reaction AKGDH Mo vs Fe -0.4841287817254488\n",
      "Reaction AKGDH V vs Fe -0.2824641586507467\n",
      "Reaction GLUSy Mo vs V 0.13807326009969018\n",
      "Reaction GLUSy Mo vs Fe 0.21958523803093402\n",
      "Reaction GLUSy V vs Fe 0.08231169675511468\n",
      "Reaction PPCK Mo vs V -0.0074399124830656395\n",
      "Reaction PPCK Mo vs Fe 0.0024856171286967025\n",
      "Reaction PPCK V vs Fe 0.009664813205875996\n",
      "Reaction MDH2 Mo vs V -0.25619596302907927\n",
      "Reaction MDH2 Mo vs Fe -0.7115578199171345\n",
      "Reaction MDH2 V vs Fe -0.4536880857017805\n",
      "Reaction ME1 Mo vs V -0.027150636000635518\n",
      "Reaction ME1 Mo vs Fe -0.03213406427318938\n",
      "Reaction ME1 V vs Fe -0.004927659525749243\n"
     ]
    }
   ],
   "source": [
    "for i in [ \"NADH5\", \"RNF\", \"FIX\", \"NIT1b\", \"CYTBDpp\", \"ATPS4rpp\",\n",
    "         \"PDH\", \"GLNS\", \"ICL\", \"ICDHyr\", \"NAD_H2\", \"HYD1pp\", \"GLCDpp\", \"EDD\", \"HEX7\",\n",
    "         \"HEX1\", \"GND\", \"EDD\", \"CS\", \"ICDHyr\", \"AKGDH\", \"GLUSy\", \"PPCK\", \"MDH2\", \"ME1\"]: \n",
    "    x1 = model_n2_Mo.optimize().fluxes[i]\n",
    "    x2 = model_n2_V.optimize().fluxes[i]\n",
    "    x3 = model_n2_Fe.optimize().fluxes[i]\n",
    "    j = \"EX_sucr_e\"\n",
    "    make_svg_bar_norm_suc(i, j, S_model_n2_Mo, S_model_n2_V, S_model_n2_Fe, x1, x2, x3, \"Alternatives_bar_suc_norm\")"
   ]
  },
  {
   "cell_type": "code",
   "execution_count": 25,
   "id": "nearby-throw",
   "metadata": {
    "execution": {
     "iopub.execute_input": "2021-06-08T23:02:08.349645Z",
     "iopub.status.busy": "2021-06-08T23:02:08.349645Z",
     "iopub.status.idle": "2021-06-08T23:02:08.369257Z",
     "shell.execute_reply": "2021-06-08T23:02:08.369257Z",
     "shell.execute_reply.started": "2021-06-08T23:02:08.349645Z"
    }
   },
   "outputs": [],
   "source": [
    "def make_svg_bar_norm_suc_Mo(i,j,k,samples1,samples2,samples3,x1,x2,x3,Condition):\n",
    "    #\"#84a955\" greenish \"#bc5d41\" orange #965da7 purplish\n",
    "    x = samples1[i]\n",
    "    y = samples2[i]\n",
    "    z = samples3[i]\n",
    "    \n",
    "    #multiple to remove negative sign from sucrose import\n",
    "    x_norm = (samples1[i]/(samples1[j]*-1))\n",
    "    y_norm = (samples2[i]/(samples2[j]*-1))\n",
    "    z_norm = (samples3[i]/(samples3[j]*-1))\n",
    "    \n",
    "    \n",
    "    #make data relative to Mo conditions for bar plot scaling\n",
    "    y_rel = y_norm/x_norm\n",
    "    z_rel = z_norm/x_norm\n",
    "    \n",
    "    #create merged data frame\n",
    "    df = pd.DataFrame()\n",
    "    df[\"V\"] = y_rel\n",
    "    df[\"Fe\"] = z_rel\n",
    "    \n",
    "\n",
    "    df2 = pd.melt(df)\n",
    "    \n",
    "    \n",
    "    #measure effect size of data\n",
    "    \n",
    "    def cohen_d(x,y):\n",
    "        nx = len(x)\n",
    "        ny = len(y)\n",
    "        dof = nx + ny - 2\n",
    "        return (mean(x) - mean(y)) / sqrt(((nx-1)*std(x, ddof=1) ** 2 + (ny-1)*std(y, ddof=1) ** 2) / dof)\n",
    "    \n",
    "    d_xy = cohen_d(x_norm,y_norm)\n",
    "    d_xz = cohen_d(x_norm,z_norm)\n",
    "    d_yz = cohen_d(y_norm,z_norm)\n",
    "    \n",
    "    print(\"Reaction {} Mo vs V\".format(i), d_xy)\n",
    "    print(\"Reaction {} Mo vs Fe\".format(i), d_xz)\n",
    "    print(\"Reaction {} V vs Fe\".format(i), d_yz)\n",
    "    \n",
    "    PROPS = {\n",
    "    'boxprops':{'edgecolor':'black'},\n",
    "    'medianprops':{'color':'black'},\n",
    "    'whiskerprops':{'color':'black'},\n",
    "    'capprops':{'color':'black'}\n",
    "    }\n",
    "    \n",
    "    plt.figure(figsize=(2, 5))\n",
    "    sns.boxplot(x=\"variable\", y=\"value\", data=df2, showfliers = False, width = 0.25, linewidth= 1.5, **PROPS)\n",
    "    plt.axhline(y=1, color='black', linestyle='--')\n",
    "    plt.annotate(\"Mo\", xy = (1.15, 1), xycoords='data',\n",
    "            xytext=(0, 10), textcoords='offset pixels', size = 12 )\n",
    "    plt.yticks([],fontsize=30)\n",
    "    plt.xticks(fontsize=14)\n",
    "    plt.title(\"{}\".format(k),y=0.99, fontsize = 14)\n",
    "    plt.xlabel('Nitrogenase', size = 14)\n",
    "    plt.ylabel('Relative Flux', size = 14)\n",
    "    plt.tight_layout()\n",
    "    plt.savefig(\"../Outputs/Sampling_alternatives/{0:}/{1:}_Sample_FBA.tiff\".format(Condition,i), dpi= 30, format=\"tiff\")\n",
    "    plt.close()"
   ]
  },
  {
   "cell_type": "code",
   "execution_count": null,
   "id": "acquired-stewart",
   "metadata": {},
   "outputs": [],
   "source": []
  },
  {
   "cell_type": "code",
   "execution_count": 26,
   "id": "developing-kinase",
   "metadata": {
    "execution": {
     "iopub.execute_input": "2021-06-08T23:02:09.629795Z",
     "iopub.status.busy": "2021-06-08T23:02:09.628796Z",
     "iopub.status.idle": "2021-06-08T23:02:12.877798Z",
     "shell.execute_reply": "2021-06-08T23:02:12.877260Z",
     "shell.execute_reply.started": "2021-06-08T23:02:09.629795Z"
    }
   },
   "outputs": [
    {
     "name": "stdout",
     "output_type": "stream",
     "text": [
      "Reaction NADH5 Mo vs V -0.3930296657085944\n",
      "Reaction NADH5 Mo vs Fe -1.2067550266272666\n",
      "Reaction NADH5 V vs Fe -0.8106535844035209\n",
      "Reaction RNF Mo vs V 0.07198032209310576\n",
      "Reaction RNF Mo vs Fe 0.17546236848201055\n",
      "Reaction RNF V vs Fe 0.10155966567307607\n",
      "Reaction FIX Mo vs V 0.9059366219723239\n",
      "Reaction FIX Mo vs Fe 2.0336526591045874\n",
      "Reaction FIX V vs Fe 1.2008316690341154\n"
     ]
    },
    {
     "name": "stderr",
     "output_type": "stream",
     "text": [
      "C:\\Users\\alexa\\anaconda3\\envs\\Metabolic_models\\lib\\site-packages\\ipykernel_launcher.py:32: RuntimeWarning: invalid value encountered in double_scalars\n"
     ]
    },
    {
     "name": "stdout",
     "output_type": "stream",
     "text": [
      "Reaction NIT1b Mo vs V -7.483120034470791\n",
      "Reaction NIT1b Mo vs Fe -7.483120034470791\n",
      "Reaction NIT1b V vs Fe nan\n",
      "Reaction CYTBDpp Mo vs V -0.024911038694725482\n",
      "Reaction CYTBDpp Mo vs Fe -0.05304497202025238\n",
      "Reaction CYTBDpp V vs Fe -0.028056323400488064\n",
      "Reaction ATPS4rpp Mo vs V 0.025223190995819895\n",
      "Reaction ATPS4rpp Mo vs Fe 0.24896262038718395\n",
      "Reaction ATPS4rpp V vs Fe 0.22317000015432142\n",
      "Reaction PDH Mo vs V -0.148128741005896\n",
      "Reaction PDH Mo vs Fe 0.008142913400664854\n",
      "Reaction PDH V vs Fe 0.16217895109933084\n",
      "Reaction GLNS Mo vs V -0.17108144340249204\n",
      "Reaction GLNS Mo vs Fe -0.31700264473040946\n",
      "Reaction GLNS V vs Fe -0.14561490747691652\n",
      "Reaction ICL Mo vs V 0.022291250577556824\n",
      "Reaction ICL Mo vs Fe -0.02185823688683673\n",
      "Reaction ICL V vs Fe -0.04329667888015849\n",
      "Reaction ICDHyr Mo vs V 0.022291250570851746\n",
      "Reaction ICDHyr Mo vs Fe -0.021858236891785125\n",
      "Reaction ICDHyr V vs Fe -0.04329667887797351\n",
      "Reaction NAD_H2 Mo vs V -0.7015477437083047\n",
      "Reaction NAD_H2 Mo vs Fe -0.6455025304391518\n",
      "Reaction NAD_H2 V vs Fe 0.020946400613341912\n",
      "Reaction HYD1pp Mo vs V 1.1697986431401695\n",
      "Reaction HYD1pp Mo vs Fe 3.1837975006440127\n",
      "Reaction HYD1pp V vs Fe 1.9949091768774814\n",
      "Reaction GLCDpp Mo vs V -0.31339022011642736\n",
      "Reaction GLCDpp Mo vs Fe -0.20218627707815487\n",
      "Reaction GLCDpp V vs Fe -0.2021748302892029\n",
      "Reaction EDD Mo vs V -0.31023684985366606\n",
      "Reaction EDD Mo vs Fe -0.8291931002330254\n",
      "Reaction EDD V vs Fe -0.41986765394529213\n",
      "Reaction HEX7 Mo vs V -0.7305921224608452\n",
      "Reaction HEX7 Mo vs Fe -1.7873446875875534\n",
      "Reaction HEX7 V vs Fe -1.04697450358735\n",
      "Reaction GND Mo vs V -0.3102368498522893\n",
      "Reaction GND Mo vs Fe -0.8291931002328418\n",
      "Reaction GND V vs Fe -0.4198676539466414\n",
      "Reaction CS Mo vs V 0.019156470012211196\n",
      "Reaction CS Mo vs Fe -0.036953089531150764\n",
      "Reaction CS V vs Fe -0.05421530667600424\n",
      "Reaction AKGDH Mo vs V -0.003357071612304785\n",
      "Reaction AKGDH Mo vs Fe -0.001701891992780018\n",
      "Reaction AKGDH V vs Fe 0.0015339608899188862\n",
      "Reaction GLUSy Mo vs V -0.15679792442797894\n",
      "Reaction GLUSy Mo vs Fe -0.2632288217316813\n",
      "Reaction GLUSy V vs Fe -0.10715266597720471\n",
      "Reaction PPCK Mo vs V 0.004042024128336421\n",
      "Reaction PPCK Mo vs Fe -0.01090156297051953\n",
      "Reaction PPCK V vs Fe -0.013833393238166068\n",
      "Reaction MDH2 Mo vs V -0.14024646302100505\n",
      "Reaction MDH2 Mo vs Fe -0.218719609171601\n",
      "Reaction MDH2 V vs Fe -0.07698899318965279\n",
      "Reaction ME1 Mo vs V 0.0234231247000743\n",
      "Reaction ME1 Mo vs Fe 0.023502250368445162\n",
      "Reaction ME1 V vs Fe 7.137312087039148e-05\n",
      "Reaction SUCDi Mo vs V 0.038700977698059344\n",
      "Reaction SUCDi Mo vs Fe 0.028910203081862183\n",
      "Reaction SUCDi V vs Fe -0.012165330081005664\n"
     ]
    }
   ],
   "source": [
    "rxn = [ \"NADH5\", \"RNF\", \"FIX\", \"NIT1b\", \"CYTBDpp\", \"ATPS4rpp\",\n",
    "         \"PDH\", \"GLNS\", \"ICL\", \"ICDHyr\", \"NAD_H2\", \"HYD1pp\", \"GLCDpp\", \"EDD\", \"HEX7\",\n",
    "          \"GND\", \"CS\",  \"AKGDH\", \"GLUSy\", \"PPCK\", \"MDH2\", \"ME1\", \"SUCDi\"]\n",
    "titles = [ \"NDH II\", \"RNF\", \"FIX\", \"Nitrogenase\", \"Cytchrome bd\", \"ATP synthase\",\n",
    "         \"Pyruvate dehydrogenase\", \"Glutamine synthetase\", \"Isocitrate lyase\", \"Isocitrate dehyrdogenase\", \"Soluble $H_2$ase\",\n",
    "          \"Uptake $H_2$ase\", \"Glucose dehydrogenase\", \"6-P-gluconate dehydratase\", \"Hexokinase (fructose)\",\n",
    "          \"Phosphogluconate dehydrogenase\", \"Citrate synthase\", \"2-Oxogluterate dehydrogenase\", \"Glutamate synthase\", \n",
    "          \"PEP carboxykinase\", \"Malate dehydrogenase\", \"Malic enzyme\", \"Succinate dehydrogenase\"]\n",
    "for i, k, in zip(rxn, titles):\n",
    "    x1 = model_n2_Mo.optimize().fluxes[i]\n",
    "    x2 = model_n2_V.optimize().fluxes[i]\n",
    "    x3 = model_n2_Fe.optimize().fluxes[i]\n",
    "    j = \"O2tpp\"\n",
    "    make_svg_bar_norm_suc_Mo(i, j, k, S_model_n2_Mo, S_model_n2_V, S_model_n2_Fe, x1, x2, x3, \"Alternatives_bar_o2_norm_Mo\")"
   ]
  },
  {
   "cell_type": "code",
   "execution_count": 23,
   "id": "isolated-portrait",
   "metadata": {
    "execution": {
     "iopub.execute_input": "2021-06-08T23:02:00.767497Z",
     "iopub.status.busy": "2021-06-08T23:02:00.767497Z",
     "iopub.status.idle": "2021-06-08T23:02:00.779165Z",
     "shell.execute_reply": "2021-06-08T23:02:00.779165Z",
     "shell.execute_reply.started": "2021-06-08T23:02:00.767497Z"
    }
   },
   "outputs": [],
   "source": [
    "def make_svg_bar_nit(j,samples1,samples2,samples3,x1,x2,x3,Condition):   \n",
    "    #\"#84a955\" greenish \"#bc5d41\" orange #965da7 purplish\n",
    "    x = samples1[\"NIT1b\"]\n",
    "    y = samples2[\"VNIT\"]\n",
    "    z = samples3[\"FENIT\"]\n",
    "    \n",
    "    #normalize to O2 import\n",
    "    x_norm = (samples1[\"NIT1b\"]/(samples1[\"O2tpp\"]))\n",
    "    y_norm = (samples2[\"VNIT\"]/(samples2[\"O2tpp\"]))\n",
    "    z_norm = (samples3[\"FENIT\"]/(samples3[\"O2tpp\"]))\n",
    "    \n",
    "    \n",
    "    #make data relative to Mo conditions for bar plot scaling\n",
    "    y_rel = y_norm/x_norm\n",
    "    z_rel = z_norm/x_norm\n",
    "    \n",
    "    #create merged data frame\n",
    "    df = pd.DataFrame()\n",
    "    #df[\"x\"] = x_norm\n",
    "    df[\"V\"] = y_rel\n",
    "    df[\"Fe\"] = z_rel\n",
    "    \n",
    "    #print(df.dtypes)\n",
    "    #df = df.astype(\"Int64\")\n",
    "    #df2 = df2.apply(pd.to_numeric) \n",
    "    #melt df \n",
    "    df2 = pd.melt(df)\n",
    "    \n",
    "    \n",
    "    #measure effect size of data\n",
    "    \n",
    "    def cohen_d(x,y):\n",
    "        nx = len(x)\n",
    "        ny = len(y)\n",
    "        dof = nx + ny - 2\n",
    "        return (mean(x) - mean(y)) / sqrt(((nx-1)*std(x, ddof=1) ** 2 + (ny-1)*std(y, ddof=1) ** 2) / dof)\n",
    "    \n",
    "    d_xy = cohen_d(x_norm,y_norm)\n",
    "    d_xz = cohen_d(x_norm,z_norm)\n",
    "    d_yz = cohen_d(y_norm,z_norm)\n",
    "    \n",
    "    print(\"Reaction {} Mo vs V\".format(i), d_xy)\n",
    "    print(\"Reaction {} Mo vs Fe\".format(i), d_xz)\n",
    "    print(\"Reaction {} V vs Fe\".format(i), d_yz)\n",
    "    \n",
    "    PROPS = {\n",
    "    'boxprops':{'edgecolor':'black'},\n",
    "    'medianprops':{'color':'black'},\n",
    "    'whiskerprops':{'color':'black'},\n",
    "    'capprops':{'color':'black'}\n",
    "    }\n",
    "    \n",
    "    plt.figure(figsize=(2, 5))\n",
    "    sns.boxplot(x=\"variable\", y=\"value\", data=df2, showfliers = False, width = 0.25, linewidth= 1.5, **PROPS)\n",
    "    plt.axhline(y=1, color='black', linestyle='--')\n",
    "    plt.annotate(\"Mo\", xy = (1.15, 1), xycoords='data',\n",
    "            xytext=(0, 10), textcoords='offset pixels', size = 12 )\n",
    "    plt.yticks([],fontsize=30)\n",
    "    plt.xticks(fontsize=14)\n",
    "    plt.title(\"Nitrogenase\",y=0.99, fontsize = 14)\n",
    "    plt.xlabel('Nitrogenase', size = 14)\n",
    "    plt.ylabel('Relative Flux', size = 14)\n",
    "    plt.tight_layout()\n",
    "    plt.savefig(\"../Outputs/Sampling_alternatives/{0:}_nit_Sample_FBA.tiff\".format(Condition), dpi= 30, format=\"tiff\")\n",
    "    plt.close()"
   ]
  },
  {
   "cell_type": "code",
   "execution_count": 24,
   "id": "dirty-interaction",
   "metadata": {
    "execution": {
     "iopub.execute_input": "2021-06-08T23:02:03.045134Z",
     "iopub.status.busy": "2021-06-08T23:02:03.045134Z",
     "iopub.status.idle": "2021-06-08T23:02:03.142137Z",
     "shell.execute_reply": "2021-06-08T23:02:03.141137Z",
     "shell.execute_reply.started": "2021-06-08T23:02:03.045134Z"
    }
   },
   "outputs": [
    {
     "name": "stdout",
     "output_type": "stream",
     "text": [
      "Reaction SUCDi Mo vs V 0.7205822284425771\n",
      "Reaction SUCDi Mo vs Fe 1.9820904021805805\n",
      "Reaction SUCDi V vs Fe 1.6235493563121082\n"
     ]
    }
   ],
   "source": [
    "make_svg_bar_nit( j, S_model_n2_Mo, S_model_n2_V, S_model_n2_Fe, x1,x2,x3,\"alternatives\")"
   ]
  },
  {
   "cell_type": "code",
   "execution_count": null,
   "id": "sporting-participation",
   "metadata": {},
   "outputs": [],
   "source": []
  }
 ],
 "metadata": {
  "kernelspec": {
   "display_name": "Python 3",
   "language": "python",
   "name": "python3"
  },
  "language_info": {
   "codemirror_mode": {
    "name": "ipython",
    "version": 3
   },
   "file_extension": ".py",
   "mimetype": "text/x-python",
   "name": "python",
   "nbconvert_exporter": "python",
   "pygments_lexer": "ipython3",
   "version": "3.7.10"
  }
 },
 "nbformat": 4,
 "nbformat_minor": 5
}
