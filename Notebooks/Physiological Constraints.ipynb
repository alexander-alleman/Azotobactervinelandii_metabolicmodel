{
 "cells": [
  {
   "cell_type": "markdown",
   "metadata": {},
   "source": [
    "# Constraining the A.v. model main carbon metabolism "
   ]
  },
  {
   "cell_type": "markdown",
   "metadata": {},
   "source": [
    "There are particular constraints of A.v. that are currently not present in the model such as the useage of the Entner–Doudoroff Pathway (ED) and the pentose phosphate pathway (PPP) as well as sucrose metabolism particularly fructose catabolism. \n",
    "\n",
    "While we have MFA results (Wu et al. 2019) to constrain the model but we would like to use that data in the future to test the model so we will try to constrain flux to the ED and PP pathways with gene knockout first.  \n",
    "\n",
    "The main supporting texts \n",
    "\n",
    "\n",
    "\n",
    "\n",
    "\n"
   ]
  },
  {
   "cell_type": "code",
   "execution_count": 24,
   "metadata": {
    "ExecuteTime": {
     "end_time": "2021-03-10T22:48:00.189393Z",
     "start_time": "2021-03-10T22:47:56.645414Z"
    }
   },
   "outputs": [],
   "source": [
    "import cobra.test\n",
    "import pandas\n",
    "import os\n",
    "from os.path import join\n",
    "from cobra import Model, Reaction, Metabolite\n",
    "from cobra.io import save_json_model\n",
    "from cobra.io import write_sbml_model\n",
    "from cobra.io import read_sbml_model\n",
    "\n",
    "import numpy as np\n",
    "import pandas as pd\n",
    "\n",
    "model = read_sbml_model(\"../Data/Models/iAA1300.xml\")\n"
   ]
  },
  {
   "cell_type": "code",
   "execution_count": 27,
   "metadata": {
    "ExecuteTime": {
     "end_time": "2021-03-10T22:51:00.663470Z",
     "start_time": "2021-03-10T22:51:00.499715Z"
    }
   },
   "outputs": [
    {
     "data": {
      "text/html": [
       "<div>\n",
       "<style scoped>\n",
       "    .dataframe tbody tr th:only-of-type {\n",
       "        vertical-align: middle;\n",
       "    }\n",
       "\n",
       "    .dataframe tbody tr th {\n",
       "        vertical-align: top;\n",
       "    }\n",
       "\n",
       "    .dataframe thead tr th {\n",
       "        text-align: left;\n",
       "    }\n",
       "</style>\n",
       "<table border=\"1\" class=\"dataframe\">\n",
       "  <thead>\n",
       "    <tr>\n",
       "      <th></th>\n",
       "      <th colspan=\"2\" halign=\"left\">IN_FLUXES</th>\n",
       "      <th colspan=\"2\" halign=\"left\">OUT_FLUXES</th>\n",
       "      <th colspan=\"2\" halign=\"left\">OBJECTIVES</th>\n",
       "    </tr>\n",
       "    <tr>\n",
       "      <th></th>\n",
       "      <th>ID</th>\n",
       "      <th>FLUX</th>\n",
       "      <th>ID</th>\n",
       "      <th>FLUX</th>\n",
       "      <th>ID</th>\n",
       "      <th>FLUX</th>\n",
       "    </tr>\n",
       "  </thead>\n",
       "  <tbody>\n",
       "    <tr>\n",
       "      <th>0</th>\n",
       "      <td>o2_e</td>\n",
       "      <td>41.232499</td>\n",
       "      <td>h2o_e</td>\n",
       "      <td>61.005025</td>\n",
       "      <td>BIOMASS_Av_DJ_core</td>\n",
       "      <td>0.982116</td>\n",
       "    </tr>\n",
       "    <tr>\n",
       "      <th>1</th>\n",
       "      <td>glc__D_e</td>\n",
       "      <td>15.000000</td>\n",
       "      <td>co2_e</td>\n",
       "      <td>50.800509</td>\n",
       "      <td>NaN</td>\n",
       "      <td>NaN</td>\n",
       "    </tr>\n",
       "    <tr>\n",
       "      <th>2</th>\n",
       "      <td>n2_e</td>\n",
       "      <td>5.135289</td>\n",
       "      <td>NaN</td>\n",
       "      <td>NaN</td>\n",
       "      <td>NaN</td>\n",
       "      <td>NaN</td>\n",
       "    </tr>\n",
       "    <tr>\n",
       "      <th>3</th>\n",
       "      <td>h_e</td>\n",
       "      <td>1.225457</td>\n",
       "      <td>NaN</td>\n",
       "      <td>NaN</td>\n",
       "      <td>NaN</td>\n",
       "      <td>NaN</td>\n",
       "    </tr>\n",
       "    <tr>\n",
       "      <th>4</th>\n",
       "      <td>pi_e</td>\n",
       "      <td>0.947355</td>\n",
       "      <td>NaN</td>\n",
       "      <td>NaN</td>\n",
       "      <td>NaN</td>\n",
       "      <td>NaN</td>\n",
       "    </tr>\n",
       "  </tbody>\n",
       "</table>\n",
       "</div>"
      ],
      "text/plain": [
       "<cobra.core.summary.model_summary.ModelSummary at 0x179e2b98948>"
      ]
     },
     "execution_count": 27,
     "metadata": {},
     "output_type": "execute_result"
    }
   ],
   "source": [
    "#Lets set gluose uptake to experimentally determined number 15 mmol (Wu et al) and make it diazotrophic by setting ammonia uptake to zero\n",
    "model.reactions.get_by_id(\"EX_glc__D_e\").lower_bound = -15\n",
    "model.reactions.get_by_id(\"EX_glc__D_e\").upper_bound = -15\n",
    "\n",
    "model.reactions.get_by_id(\"EX_nh4_e\").lower_bound = 0\n",
    "model.reactions.get_by_id(\"EX_nh4_e\").upper_bound = 0\n",
    "\n",
    "solution = model.optimize()\n",
    "\n",
    "#save to dataframe\n",
    "df= pd.DataFrame.from_dict([solution.fluxes]).T\n",
    "df.to_csv('../Data/FBA_results/model_n2_glu_15.csv')\n",
    "\n",
    "\n",
    "model.summary()"
   ]
  },
  {
   "cell_type": "code",
   "execution_count": 28,
   "metadata": {
    "ExecuteTime": {
     "end_time": "2021-03-10T22:51:03.029129Z",
     "start_time": "2021-03-10T22:51:02.725553Z"
    }
   },
   "outputs": [
    {
     "data": {
      "text/html": [
       "<div>\n",
       "<style scoped>\n",
       "    .dataframe tbody tr th:only-of-type {\n",
       "        vertical-align: middle;\n",
       "    }\n",
       "\n",
       "    .dataframe tbody tr th {\n",
       "        vertical-align: top;\n",
       "    }\n",
       "\n",
       "    .dataframe thead tr th {\n",
       "        text-align: left;\n",
       "    }\n",
       "</style>\n",
       "<table border=\"1\" class=\"dataframe\">\n",
       "  <thead>\n",
       "    <tr>\n",
       "      <th></th>\n",
       "      <th colspan=\"2\" halign=\"left\">IN_FLUXES</th>\n",
       "      <th colspan=\"2\" halign=\"left\">OUT_FLUXES</th>\n",
       "      <th colspan=\"2\" halign=\"left\">OBJECTIVES</th>\n",
       "    </tr>\n",
       "    <tr>\n",
       "      <th></th>\n",
       "      <th>ID</th>\n",
       "      <th>FLUX</th>\n",
       "      <th>ID</th>\n",
       "      <th>FLUX</th>\n",
       "      <th>ID</th>\n",
       "      <th>FLUX</th>\n",
       "    </tr>\n",
       "  </thead>\n",
       "  <tbody>\n",
       "    <tr>\n",
       "      <th>0</th>\n",
       "      <td>o2_e</td>\n",
       "      <td>30.012437</td>\n",
       "      <td>h2o_e</td>\n",
       "      <td>70.164806</td>\n",
       "      <td>BIOMASS_Av_DJ_core</td>\n",
       "      <td>1.434914</td>\n",
       "    </tr>\n",
       "    <tr>\n",
       "      <th>1</th>\n",
       "      <td>nh4_e</td>\n",
       "      <td>15.005757</td>\n",
       "      <td>co2_e</td>\n",
       "      <td>32.727855</td>\n",
       "      <td>NaN</td>\n",
       "      <td>NaN</td>\n",
       "    </tr>\n",
       "    <tr>\n",
       "      <th>2</th>\n",
       "      <td>glc__D_e</td>\n",
       "      <td>15.000000</td>\n",
       "      <td>h_e</td>\n",
       "      <td>13.177154</td>\n",
       "      <td>NaN</td>\n",
       "      <td>NaN</td>\n",
       "    </tr>\n",
       "    <tr>\n",
       "      <th>3</th>\n",
       "      <td>pi_e</td>\n",
       "      <td>1.384126</td>\n",
       "      <td>NaN</td>\n",
       "      <td>NaN</td>\n",
       "      <td>NaN</td>\n",
       "      <td>NaN</td>\n",
       "    </tr>\n",
       "  </tbody>\n",
       "</table>\n",
       "</div>"
      ],
      "text/plain": [
       "<cobra.core.summary.model_summary.ModelSummary at 0x179e2b54d48>"
      ]
     },
     "execution_count": 28,
     "metadata": {},
     "output_type": "execute_result"
    }
   ],
   "source": [
    "#Lets set gluose uptake to experimentally determined number 15 mmol (Wu et al) and make it diazotrophic by setting ammonia uptake to zero\n",
    "model.reactions.get_by_id(\"EX_glc__D_e\").lower_bound = -15\n",
    "model.reactions.get_by_id(\"EX_glc__D_e\").upper_bound = -15\n",
    "\n",
    "model.reactions.get_by_id(\"EX_nh4_e\").lower_bound = -1000\n",
    "model.reactions.get_by_id(\"EX_nh4_e\").upper_bound = 0\n",
    "\n",
    "solution = model.optimize()\n",
    "\n",
    "#save to dataframe\n",
    "df= pd.DataFrame.from_dict([solution.fluxes]).T\n",
    "df.to_csv('../Data/FBA_results/model_nh4_glu_15.csv')\n",
    "\n",
    "\n",
    "model.summary()"
   ]
  },
  {
   "cell_type": "markdown",
   "metadata": {},
   "source": [
    "As we can see the growth rate is far to fast for both diazotrophic and ammonia supplemented with a experimental glucose uptake rate. "
   ]
  },
  {
   "cell_type": "code",
   "execution_count": null,
   "metadata": {},
   "outputs": [],
   "source": []
  },
  {
   "cell_type": "markdown",
   "metadata": {},
   "source": [
    "First we will look at the annotate PFK gene in A.v.:\n",
    "\n",
    "While this gene Avin_23410 does have some homology to the E coli PFK2 enzyme it is also has high homology to 1-P fructose kinases and other genes in a simple blast search. We cannont be sure that this PFK is active in the foward direction making 1-6-fru in the EMP pathway. "
   ]
  },
  {
   "cell_type": "code",
   "execution_count": 22,
   "metadata": {
    "ExecuteTime": {
     "end_time": "2021-03-10T22:45:53.950963Z",
     "start_time": "2021-03-10T22:45:53.945885Z"
    }
   },
   "outputs": [
    {
     "data": {
      "text/html": [
       "\n",
       "        <table>\n",
       "            <tr>\n",
       "                <td><strong>Reaction identifier</strong></td><td>EX_n2_e</td>\n",
       "            </tr><tr>\n",
       "                <td><strong>Name</strong></td><td>N2 exchange</td>\n",
       "            </tr><tr>\n",
       "                <td><strong>Memory address</strong></td>\n",
       "                <td>0x0179e0c05788</td>\n",
       "            </tr><tr>\n",
       "                <td><strong>Stoichiometry</strong></td>\n",
       "                <td>\n",
       "                    <p style='text-align:right'>n2_e --> </p>\n",
       "                    <p style='text-align:right'>Nitrogen --> </p>\n",
       "                </td>\n",
       "            </tr><tr>\n",
       "                <td><strong>GPR</strong></td><td></td>\n",
       "            </tr><tr>\n",
       "                <td><strong>Lower bound</strong></td><td>0</td>\n",
       "            </tr><tr>\n",
       "                <td><strong>Upper bound</strong></td><td>1000</td>\n",
       "            </tr>\n",
       "        </table>\n",
       "        "
      ],
      "text/plain": [
       "<Reaction EX_n2_e at 0x179e0c05788>"
      ]
     },
     "execution_count": 22,
     "metadata": {},
     "output_type": "execute_result"
    }
   ],
   "source": [
    "model.reactions.EX_n2_e"
   ]
  },
  {
   "cell_type": "code",
   "execution_count": null,
   "metadata": {},
   "outputs": [],
   "source": []
  },
  {
   "cell_type": "code",
   "execution_count": null,
   "metadata": {},
   "outputs": [],
   "source": []
  },
  {
   "cell_type": "code",
   "execution_count": null,
   "metadata": {},
   "outputs": [],
   "source": [
    "\n"
   ]
  },
  {
   "cell_type": "code",
   "execution_count": null,
   "metadata": {},
   "outputs": [],
   "source": []
  },
  {
   "cell_type": "code",
   "execution_count": null,
   "metadata": {},
   "outputs": [],
   "source": []
  },
  {
   "cell_type": "code",
   "execution_count": null,
   "metadata": {},
   "outputs": [],
   "source": []
  },
  {
   "cell_type": "code",
   "execution_count": null,
   "metadata": {},
   "outputs": [],
   "source": []
  },
  {
   "cell_type": "code",
   "execution_count": null,
   "metadata": {},
   "outputs": [],
   "source": []
  }
 ],
 "metadata": {
  "kernelspec": {
   "display_name": "Python 3",
   "language": "python",
   "name": "python3"
  },
  "language_info": {
   "codemirror_mode": {
    "name": "ipython",
    "version": 3
   },
   "file_extension": ".py",
   "mimetype": "text/x-python",
   "name": "python",
   "nbconvert_exporter": "python",
   "pygments_lexer": "ipython3",
   "version": "3.7.6"
  }
 },
 "nbformat": 4,
 "nbformat_minor": 4
}
