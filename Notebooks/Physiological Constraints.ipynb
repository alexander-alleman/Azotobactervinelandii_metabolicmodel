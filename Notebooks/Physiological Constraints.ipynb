{
 "cells": [
  {
   "cell_type": "markdown",
   "metadata": {},
   "source": [
    "# Constraining the A.v. model main carbon metabolism "
   ]
  },
  {
   "cell_type": "markdown",
   "metadata": {},
   "source": [
    "There are particular constraints of A.v. that are currently not present in the model such as the useage of the Entner–Doudoroff Pathway (ED) and the pentose phosphate pathway (PPP) as well as sucrose metabolism particularly fructose catabolism. \n",
    "\n",
    "While we have MFA results (Wu et al. 2019) to constrain the model but we would like to use that data in the future to test the model so we will try to constrain flux to the ED and PP pathways with gene knockout first.  \n",
    "\n",
    "The main supporting texts ###Finish###\n",
    "\n",
    "\n",
    "\n",
    "\n",
    "\n"
   ]
  },
  {
   "cell_type": "code",
   "execution_count": 1,
   "metadata": {
    "ExecuteTime": {
     "end_time": "2021-03-10T22:48:00.189393Z",
     "start_time": "2021-03-10T22:47:56.645414Z"
    },
    "execution": {
     "iopub.execute_input": "2021-03-23T21:36:00.384687Z",
     "iopub.status.busy": "2021-03-23T21:36:00.384687Z",
     "iopub.status.idle": "2021-03-23T21:36:01.546086Z",
     "shell.execute_reply": "2021-03-23T21:36:01.545087Z",
     "shell.execute_reply.started": "2021-03-23T21:36:00.384687Z"
    }
   },
   "outputs": [],
   "source": [
    "import cobra.test\n",
    "import pandas\n",
    "import os\n",
    "from os.path import join\n",
    "from cobra import Model, Reaction, Metabolite\n",
    "from cobra.io import save_json_model\n",
    "from cobra.io import write_sbml_model\n",
    "from cobra.io import read_sbml_model\n",
    "\n",
    "import numpy as np\n",
    "import pandas as pd\n",
    "\n",
    "\n"
   ]
  },
  {
   "cell_type": "code",
   "execution_count": 2,
   "metadata": {
    "execution": {
     "iopub.execute_input": "2021-03-23T21:36:01.547090Z",
     "iopub.status.busy": "2021-03-23T21:36:01.547090Z",
     "iopub.status.idle": "2021-03-23T21:36:04.863127Z",
     "shell.execute_reply": "2021-03-23T21:36:04.862187Z",
     "shell.execute_reply.started": "2021-03-23T21:36:01.547090Z"
    }
   },
   "outputs": [
    {
     "data": {
      "text/plain": [
       "{'EX_pi_e': 1000.0,\n",
       " 'EX_h_e': 1000.0,\n",
       " 'EX_fe3_e': 0.05,\n",
       " 'EX_mn2_e': 1000.0,\n",
       " 'EX_fe2_e': 0.05,\n",
       " 'EX_glc__D_e': 5.0,\n",
       " 'EX_zn2_e': 1000.0,\n",
       " 'EX_mg2_e': 1000.0,\n",
       " 'EX_ca2_e': 1000.0,\n",
       " 'EX_ni2_e': 1000.0,\n",
       " 'EX_cu2_e': 1000.0,\n",
       " 'EX_cobalt2_e': 1000.0,\n",
       " 'EX_h2o_e': 1000.0,\n",
       " 'EX_nh4_e': 5.0,\n",
       " 'EX_mobd_e': 1000.0,\n",
       " 'EX_so4_e': 1000.0,\n",
       " 'EX_k_e': 1000.0,\n",
       " 'EX_o2_e': 1000.0,\n",
       " 'EX_cl_e': 1000.0,\n",
       " 'EX_n2_e': 1000.0}"
      ]
     },
     "execution_count": 2,
     "metadata": {},
     "output_type": "execute_result"
    }
   ],
   "source": [
    "#add model\n",
    "model = read_sbml_model(\"../Data/Models/iAA1300.xml\")\n",
    "model.medium\n"
   ]
  },
  {
   "cell_type": "code",
   "execution_count": 3,
   "metadata": {
    "ExecuteTime": {
     "end_time": "2021-03-10T22:51:00.663470Z",
     "start_time": "2021-03-10T22:51:00.499715Z"
    },
    "execution": {
     "iopub.execute_input": "2021-03-23T21:36:04.864138Z",
     "iopub.status.busy": "2021-03-23T21:36:04.864138Z",
     "iopub.status.idle": "2021-03-23T21:36:05.399548Z",
     "shell.execute_reply": "2021-03-23T21:36:05.399548Z",
     "shell.execute_reply.started": "2021-03-23T21:36:04.864138Z"
    }
   },
   "outputs": [
    {
     "data": {
      "text/html": [
       "<h3>Objective</h3><p>1.0 BIOMASS_Av_DJ_core = 0.9821159213334463</p><h4>Uptake</h4><table border=\"1\" class=\"dataframe\">\n",
       "  <thead>\n",
       "    <tr style=\"text-align: right;\">\n",
       "      <th>Metabolite</th>\n",
       "      <th>Reaction</th>\n",
       "      <th>Flux</th>\n",
       "      <th>C-Number</th>\n",
       "      <th>C-Flux</th>\n",
       "    </tr>\n",
       "  </thead>\n",
       "  <tbody>\n",
       "    <tr>\n",
       "      <td>ca2_e</td>\n",
       "      <td>EX_ca2_e</td>\n",
       "      <td>0.005112</td>\n",
       "      <td>0</td>\n",
       "      <td>0.00%</td>\n",
       "    </tr>\n",
       "    <tr>\n",
       "      <td>cl_e</td>\n",
       "      <td>EX_cl_e</td>\n",
       "      <td>0.005112</td>\n",
       "      <td>0</td>\n",
       "      <td>0.00%</td>\n",
       "    </tr>\n",
       "    <tr>\n",
       "      <td>cobalt2_e</td>\n",
       "      <td>EX_cobalt2_e</td>\n",
       "      <td>2.455E-05</td>\n",
       "      <td>0</td>\n",
       "      <td>0.00%</td>\n",
       "    </tr>\n",
       "    <tr>\n",
       "      <td>cu2_e</td>\n",
       "      <td>EX_cu2_e</td>\n",
       "      <td>0.0006963</td>\n",
       "      <td>0</td>\n",
       "      <td>0.00%</td>\n",
       "    </tr>\n",
       "    <tr>\n",
       "      <td>fe2_e</td>\n",
       "      <td>EX_fe2_e</td>\n",
       "      <td>0.008105</td>\n",
       "      <td>0</td>\n",
       "      <td>0.00%</td>\n",
       "    </tr>\n",
       "    <tr>\n",
       "      <td>fe3_e</td>\n",
       "      <td>EX_fe3_e</td>\n",
       "      <td>0.007668</td>\n",
       "      <td>0</td>\n",
       "      <td>0.00%</td>\n",
       "    </tr>\n",
       "    <tr>\n",
       "      <td>glc__D_e</td>\n",
       "      <td>EX_glc__D_e</td>\n",
       "      <td>15</td>\n",
       "      <td>6</td>\n",
       "      <td>100.00%</td>\n",
       "    </tr>\n",
       "    <tr>\n",
       "      <td>h_e</td>\n",
       "      <td>EX_h_e</td>\n",
       "      <td>1.225</td>\n",
       "      <td>0</td>\n",
       "      <td>0.00%</td>\n",
       "    </tr>\n",
       "    <tr>\n",
       "      <td>k_e</td>\n",
       "      <td>EX_k_e</td>\n",
       "      <td>0.1917</td>\n",
       "      <td>0</td>\n",
       "      <td>0.00%</td>\n",
       "    </tr>\n",
       "    <tr>\n",
       "      <td>mg2_e</td>\n",
       "      <td>EX_mg2_e</td>\n",
       "      <td>0.00852</td>\n",
       "      <td>0</td>\n",
       "      <td>0.00%</td>\n",
       "    </tr>\n",
       "    <tr>\n",
       "      <td>mn2_e</td>\n",
       "      <td>EX_mn2_e</td>\n",
       "      <td>0.0006786</td>\n",
       "      <td>0</td>\n",
       "      <td>0.00%</td>\n",
       "    </tr>\n",
       "    <tr>\n",
       "      <td>mobd_e</td>\n",
       "      <td>EX_mobd_e</td>\n",
       "      <td>6.875E-06</td>\n",
       "      <td>0</td>\n",
       "      <td>0.00%</td>\n",
       "    </tr>\n",
       "    <tr>\n",
       "      <td>n2_e</td>\n",
       "      <td>EX_n2_e</td>\n",
       "      <td>5.135</td>\n",
       "      <td>0</td>\n",
       "      <td>0.00%</td>\n",
       "    </tr>\n",
       "    <tr>\n",
       "      <td>ni2_e</td>\n",
       "      <td>EX_ni2_e</td>\n",
       "      <td>0.0003172</td>\n",
       "      <td>0</td>\n",
       "      <td>0.00%</td>\n",
       "    </tr>\n",
       "    <tr>\n",
       "      <td>o2_e</td>\n",
       "      <td>EX_o2_e</td>\n",
       "      <td>41.23</td>\n",
       "      <td>0</td>\n",
       "      <td>0.00%</td>\n",
       "    </tr>\n",
       "    <tr>\n",
       "      <td>pi_e</td>\n",
       "      <td>EX_pi_e</td>\n",
       "      <td>0.9474</td>\n",
       "      <td>0</td>\n",
       "      <td>0.00%</td>\n",
       "    </tr>\n",
       "    <tr>\n",
       "      <td>so4_e</td>\n",
       "      <td>EX_so4_e</td>\n",
       "      <td>0.1589</td>\n",
       "      <td>0</td>\n",
       "      <td>0.00%</td>\n",
       "    </tr>\n",
       "    <tr>\n",
       "      <td>zn2_e</td>\n",
       "      <td>EX_zn2_e</td>\n",
       "      <td>0.0003349</td>\n",
       "      <td>0</td>\n",
       "      <td>0.00%</td>\n",
       "    </tr>\n",
       "  </tbody>\n",
       "</table><h4>Secretion</h4><table border=\"1\" class=\"dataframe\">\n",
       "  <thead>\n",
       "    <tr style=\"text-align: right;\">\n",
       "      <th>Metabolite</th>\n",
       "      <th>Reaction</th>\n",
       "      <th>Flux</th>\n",
       "      <th>C-Number</th>\n",
       "      <th>C-Flux</th>\n",
       "    </tr>\n",
       "  </thead>\n",
       "  <tbody>\n",
       "    <tr>\n",
       "      <td>4crsol_c</td>\n",
       "      <td>DM_4crsol_c</td>\n",
       "      <td>-0.000219</td>\n",
       "      <td>7</td>\n",
       "      <td>0.00%</td>\n",
       "    </tr>\n",
       "    <tr>\n",
       "      <td>5drib_c</td>\n",
       "      <td>DM_5drib_c</td>\n",
       "      <td>-0.000221</td>\n",
       "      <td>5</td>\n",
       "      <td>0.00%</td>\n",
       "    </tr>\n",
       "    <tr>\n",
       "      <td>amob_c</td>\n",
       "      <td>DM_amob_c</td>\n",
       "      <td>-1.964E-06</td>\n",
       "      <td>15</td>\n",
       "      <td>0.00%</td>\n",
       "    </tr>\n",
       "    <tr>\n",
       "      <td>ade_e</td>\n",
       "      <td>EX_ade_e</td>\n",
       "      <td>-0.000221</td>\n",
       "      <td>5</td>\n",
       "      <td>0.00%</td>\n",
       "    </tr>\n",
       "    <tr>\n",
       "      <td>co2_e</td>\n",
       "      <td>EX_co2_e</td>\n",
       "      <td>-50.8</td>\n",
       "      <td>1</td>\n",
       "      <td>99.99%</td>\n",
       "    </tr>\n",
       "    <tr>\n",
       "      <td>dxylnt_e</td>\n",
       "      <td>EX_dxylnt_e</td>\n",
       "      <td>-0.000657</td>\n",
       "      <td>5</td>\n",
       "      <td>0.01%</td>\n",
       "    </tr>\n",
       "    <tr>\n",
       "      <td>fald_e</td>\n",
       "      <td>EX_fald_e</td>\n",
       "      <td>-1.964E-06</td>\n",
       "      <td>1</td>\n",
       "      <td>0.00%</td>\n",
       "    </tr>\n",
       "    <tr>\n",
       "      <td>h2o_e</td>\n",
       "      <td>EX_h2o_e</td>\n",
       "      <td>-61.01</td>\n",
       "      <td>0</td>\n",
       "      <td>0.00%</td>\n",
       "    </tr>\n",
       "  </tbody>\n",
       "</table>"
      ],
      "text/plain": [
       "<cobra.summary.model_summary.ModelSummary at 0x1bd8eb3bac8>"
      ]
     },
     "execution_count": 3,
     "metadata": {},
     "output_type": "execute_result"
    }
   ],
   "source": [
    "#Lets set gluose uptake to experimentally determined number 15 mmol (Wu et al) and make it diazotrophic by setting ammonia uptake to zero\n",
    "model.reactions.get_by_id(\"EX_glc__D_e\").lower_bound = -15\n",
    "model.reactions.get_by_id(\"EX_glc__D_e\").upper_bound = -15\n",
    "\n",
    "model.reactions.get_by_id(\"EX_nh4_e\").lower_bound = 0\n",
    "model.reactions.get_by_id(\"EX_nh4_e\").upper_bound = 0\n",
    "\n",
    "solution = model.optimize()\n",
    "\n",
    "#save to dataframe\n",
    "df= pd.DataFrame.from_dict([solution.fluxes]).T\n",
    "df.to_csv('../Data/FBA_results/model_n2_glu_15.csv')\n",
    "\n",
    "\n",
    "model.summary()"
   ]
  },
  {
   "cell_type": "markdown",
   "metadata": {},
   "source": [
    "### Lets check out the model in Escher"
   ]
  },
  {
   "cell_type": "code",
   "execution_count": 9,
   "metadata": {
    "execution": {
     "iopub.execute_input": "2021-03-23T21:37:09.077537Z",
     "iopub.status.busy": "2021-03-23T21:37:09.076536Z",
     "iopub.status.idle": "2021-03-23T21:37:09.096092Z",
     "shell.execute_reply": "2021-03-23T21:37:09.096092Z",
     "shell.execute_reply.started": "2021-03-23T21:37:09.077537Z"
    }
   },
   "outputs": [],
   "source": [
    "import escher\n",
    "from escher import Builder\n",
    "from time import sleep"
   ]
  },
  {
   "cell_type": "code",
   "execution_count": 10,
   "metadata": {
    "execution": {
     "iopub.execute_input": "2021-03-23T21:37:09.858221Z",
     "iopub.status.busy": "2021-03-23T21:37:09.858221Z",
     "iopub.status.idle": "2021-03-23T21:37:09.946273Z",
     "shell.execute_reply": "2021-03-23T21:37:09.945272Z",
     "shell.execute_reply.started": "2021-03-23T21:37:09.858221Z"
    }
   },
   "outputs": [
    {
     "data": {
      "application/vnd.jupyter.widget-view+json": {
       "model_id": "ef83631edd884202a09c8eadb415b2a8",
       "version_major": 2,
       "version_minor": 0
      },
      "text/plain": [
       "Builder(reaction_data={'ALATA_D2': 0.0, 'SHCHD2': 0.0002190118504573613, 'CPPPGO': 0.0002190118504573613, 'GTH…"
      ]
     },
     "metadata": {},
     "output_type": "display_data"
    }
   ],
   "source": [
    " Builder(model_json = \"../Data/Models/iAA1300.json\",\n",
    "                 map_json = '../Data/Escher/Maps/central_metabolism.json',\n",
    "                  reaction_data = solution.fluxes\n",
    "                      )"
   ]
  },
  {
   "cell_type": "code",
   "execution_count": 11,
   "metadata": {
    "ExecuteTime": {
     "end_time": "2021-03-10T22:51:03.029129Z",
     "start_time": "2021-03-10T22:51:02.725553Z"
    },
    "execution": {
     "iopub.execute_input": "2021-03-23T21:38:09.403453Z",
     "iopub.status.busy": "2021-03-23T21:38:09.402454Z",
     "iopub.status.idle": "2021-03-23T21:38:09.819045Z",
     "shell.execute_reply": "2021-03-23T21:38:09.819045Z",
     "shell.execute_reply.started": "2021-03-23T21:38:09.403453Z"
    }
   },
   "outputs": [
    {
     "data": {
      "text/html": [
       "<h3>Objective</h3><p>1.0 BIOMASS_Av_DJ_core = 1.4187710982077018</p><h4>Uptake</h4><table border=\"1\" class=\"dataframe\">\n",
       "  <thead>\n",
       "    <tr style=\"text-align: right;\">\n",
       "      <th>Metabolite</th>\n",
       "      <th>Reaction</th>\n",
       "      <th>Flux</th>\n",
       "      <th>C-Number</th>\n",
       "      <th>C-Flux</th>\n",
       "    </tr>\n",
       "  </thead>\n",
       "  <tbody>\n",
       "    <tr>\n",
       "      <td>ca2_e</td>\n",
       "      <td>EX_ca2_e</td>\n",
       "      <td>0.007385</td>\n",
       "      <td>0</td>\n",
       "      <td>0.00%</td>\n",
       "    </tr>\n",
       "    <tr>\n",
       "      <td>cl_e</td>\n",
       "      <td>EX_cl_e</td>\n",
       "      <td>0.007385</td>\n",
       "      <td>0</td>\n",
       "      <td>0.00%</td>\n",
       "    </tr>\n",
       "    <tr>\n",
       "      <td>cobalt2_e</td>\n",
       "      <td>EX_cobalt2_e</td>\n",
       "      <td>3.547E-05</td>\n",
       "      <td>0</td>\n",
       "      <td>0.00%</td>\n",
       "    </tr>\n",
       "    <tr>\n",
       "      <td>cu2_e</td>\n",
       "      <td>EX_cu2_e</td>\n",
       "      <td>0.001006</td>\n",
       "      <td>0</td>\n",
       "      <td>0.00%</td>\n",
       "    </tr>\n",
       "    <tr>\n",
       "      <td>fe2_e</td>\n",
       "      <td>EX_fe2_e</td>\n",
       "      <td>0.02279</td>\n",
       "      <td>0</td>\n",
       "      <td>0.00%</td>\n",
       "    </tr>\n",
       "    <tr>\n",
       "      <td>glc__D_e</td>\n",
       "      <td>EX_glc__D_e</td>\n",
       "      <td>15</td>\n",
       "      <td>6</td>\n",
       "      <td>100.00%</td>\n",
       "    </tr>\n",
       "    <tr>\n",
       "      <td>k_e</td>\n",
       "      <td>EX_k_e</td>\n",
       "      <td>0.2769</td>\n",
       "      <td>0</td>\n",
       "      <td>0.00%</td>\n",
       "    </tr>\n",
       "    <tr>\n",
       "      <td>mg2_e</td>\n",
       "      <td>EX_mg2_e</td>\n",
       "      <td>0.01231</td>\n",
       "      <td>0</td>\n",
       "      <td>0.00%</td>\n",
       "    </tr>\n",
       "    <tr>\n",
       "      <td>mn2_e</td>\n",
       "      <td>EX_mn2_e</td>\n",
       "      <td>0.0009804</td>\n",
       "      <td>0</td>\n",
       "      <td>0.00%</td>\n",
       "    </tr>\n",
       "    <tr>\n",
       "      <td>mobd_e</td>\n",
       "      <td>EX_mobd_e</td>\n",
       "      <td>9.931E-06</td>\n",
       "      <td>0</td>\n",
       "      <td>0.00%</td>\n",
       "    </tr>\n",
       "    <tr>\n",
       "      <td>nh4_e</td>\n",
       "      <td>EX_nh4_e</td>\n",
       "      <td>14.84</td>\n",
       "      <td>0</td>\n",
       "      <td>0.00%</td>\n",
       "    </tr>\n",
       "    <tr>\n",
       "      <td>ni2_e</td>\n",
       "      <td>EX_ni2_e</td>\n",
       "      <td>0.0004583</td>\n",
       "      <td>0</td>\n",
       "      <td>0.00%</td>\n",
       "    </tr>\n",
       "    <tr>\n",
       "      <td>o2_e</td>\n",
       "      <td>EX_o2_e</td>\n",
       "      <td>30.68</td>\n",
       "      <td>0</td>\n",
       "      <td>0.00%</td>\n",
       "    </tr>\n",
       "    <tr>\n",
       "      <td>pi_e</td>\n",
       "      <td>EX_pi_e</td>\n",
       "      <td>1.369</td>\n",
       "      <td>0</td>\n",
       "      <td>0.00%</td>\n",
       "    </tr>\n",
       "    <tr>\n",
       "      <td>so4_e</td>\n",
       "      <td>EX_so4_e</td>\n",
       "      <td>0.2296</td>\n",
       "      <td>0</td>\n",
       "      <td>0.00%</td>\n",
       "    </tr>\n",
       "    <tr>\n",
       "      <td>zn2_e</td>\n",
       "      <td>EX_zn2_e</td>\n",
       "      <td>0.0004838</td>\n",
       "      <td>0</td>\n",
       "      <td>0.00%</td>\n",
       "    </tr>\n",
       "  </tbody>\n",
       "</table><h4>Secretion</h4><table border=\"1\" class=\"dataframe\">\n",
       "  <thead>\n",
       "    <tr style=\"text-align: right;\">\n",
       "      <th>Metabolite</th>\n",
       "      <th>Reaction</th>\n",
       "      <th>Flux</th>\n",
       "      <th>C-Number</th>\n",
       "      <th>C-Flux</th>\n",
       "    </tr>\n",
       "  </thead>\n",
       "  <tbody>\n",
       "    <tr>\n",
       "      <td>4crsol_c</td>\n",
       "      <td>DM_4crsol_c</td>\n",
       "      <td>-0.0003164</td>\n",
       "      <td>7</td>\n",
       "      <td>0.01%</td>\n",
       "    </tr>\n",
       "    <tr>\n",
       "      <td>5drib_c</td>\n",
       "      <td>DM_5drib_c</td>\n",
       "      <td>-0.0003192</td>\n",
       "      <td>5</td>\n",
       "      <td>0.00%</td>\n",
       "    </tr>\n",
       "    <tr>\n",
       "      <td>amob_c</td>\n",
       "      <td>DM_amob_c</td>\n",
       "      <td>-2.838E-06</td>\n",
       "      <td>15</td>\n",
       "      <td>0.00%</td>\n",
       "    </tr>\n",
       "    <tr>\n",
       "      <td>ade_e</td>\n",
       "      <td>EX_ade_e</td>\n",
       "      <td>-0.0003192</td>\n",
       "      <td>5</td>\n",
       "      <td>0.00%</td>\n",
       "    </tr>\n",
       "    <tr>\n",
       "      <td>co2_e</td>\n",
       "      <td>EX_co2_e</td>\n",
       "      <td>-33.37</td>\n",
       "      <td>1</td>\n",
       "      <td>99.97%</td>\n",
       "    </tr>\n",
       "    <tr>\n",
       "      <td>dxylnt_e</td>\n",
       "      <td>EX_dxylnt_e</td>\n",
       "      <td>-0.0009492</td>\n",
       "      <td>5</td>\n",
       "      <td>0.01%</td>\n",
       "    </tr>\n",
       "    <tr>\n",
       "      <td>fald_e</td>\n",
       "      <td>EX_fald_e</td>\n",
       "      <td>-2.838E-06</td>\n",
       "      <td>1</td>\n",
       "      <td>0.00%</td>\n",
       "    </tr>\n",
       "    <tr>\n",
       "      <td>h2o_e</td>\n",
       "      <td>EX_h2o_e</td>\n",
       "      <td>-70.37</td>\n",
       "      <td>0</td>\n",
       "      <td>0.00%</td>\n",
       "    </tr>\n",
       "    <tr>\n",
       "      <td>h_e</td>\n",
       "      <td>EX_h_e</td>\n",
       "      <td>-13.06</td>\n",
       "      <td>0</td>\n",
       "      <td>0.00%</td>\n",
       "    </tr>\n",
       "  </tbody>\n",
       "</table>"
      ],
      "text/plain": [
       "<cobra.summary.model_summary.ModelSummary at 0x1bdb2328cc8>"
      ]
     },
     "execution_count": 11,
     "metadata": {},
     "output_type": "execute_result"
    }
   ],
   "source": [
    "#Lets set gluose uptake to experimentally determined number ~15 mmol (Wu et al) and make uptake ammonia for non-diazotrophic growth\n",
    "model.reactions.get_by_id(\"EX_glc__D_e\").upper_bound = -15\n",
    "\n",
    "model.reactions.get_by_id(\"EX_nh4_e\").lower_bound = -1000\n",
    "model.reactions.get_by_id(\"EX_nh4_e\").upper_bound = 0\n",
    "\n",
    "solution = model.optimize()\n",
    "\n",
    "#save to dataframe\n",
    "df= pd.DataFrame.from_dict([solution.fluxes]).T\n",
    "df.to_csv('../Data/FBA_results/model_nh4_glu_15.csv')\n",
    "\n",
    "\n",
    "model.summary()"
   ]
  },
  {
   "cell_type": "code",
   "execution_count": 12,
   "metadata": {
    "execution": {
     "iopub.execute_input": "2021-03-23T21:39:02.959496Z",
     "iopub.status.busy": "2021-03-23T21:39:02.959496Z",
     "iopub.status.idle": "2021-03-23T21:39:03.039079Z",
     "shell.execute_reply": "2021-03-23T21:39:03.038077Z",
     "shell.execute_reply.started": "2021-03-23T21:39:02.959496Z"
    }
   },
   "outputs": [
    {
     "data": {
      "application/vnd.jupyter.widget-view+json": {
       "model_id": "679071b639204f119dd5dc408ebb99a0",
       "version_major": 2,
       "version_minor": 0
      },
      "text/plain": [
       "Builder(reaction_data={'ALATA_D2': 0.0, 'SHCHD2': 0.00031638595490031754, 'CPPPGO': 0.00031638595490031754, 'G…"
      ]
     },
     "metadata": {},
     "output_type": "display_data"
    }
   ],
   "source": [
    " Builder(model_json = \"../Data/Models/iAA1300.json\",\n",
    "                 map_json = '../Data/Escher/Maps/central_metabolism.json',\n",
    "                  reaction_data = solution.fluxes\n",
    "                      )"
   ]
  },
  {
   "cell_type": "markdown",
   "metadata": {},
   "source": [
    "## As we can see the growth rate is far to fast for both diazotrophic and ammonia supplemented with a experimental glucose uptake rate. But we can see nitrogenase is working and can grow diazotrophically just a bit slower. As we still want to work on the carbon catabolism we will address the ED and PP pathways next\n",
    "\n",
    "------------------------------"
   ]
  },
  {
   "cell_type": "markdown",
   "metadata": {},
   "source": [
    "First we will look at the annotate PFK gene in A.v.:\n",
    "\n",
    "While this gene Avin_23410 does have some homology to the E coli PFK2 enzyme it is also has high homology to 1-P fructose kinases and other genes in a simple blast search. We cannont be sure that this PFK is active in the forward direction making 1-6-fru in the EMP pathway. "
   ]
  },
  {
   "cell_type": "code",
   "execution_count": 13,
   "metadata": {
    "ExecuteTime": {
     "end_time": "2021-03-10T22:45:53.950963Z",
     "start_time": "2021-03-10T22:45:53.945885Z"
    },
    "execution": {
     "iopub.execute_input": "2021-03-23T21:42:46.652810Z",
     "iopub.status.busy": "2021-03-23T21:42:46.652810Z",
     "iopub.status.idle": "2021-03-23T21:42:46.671840Z",
     "shell.execute_reply": "2021-03-23T21:42:46.670844Z",
     "shell.execute_reply.started": "2021-03-23T21:42:46.652810Z"
    }
   },
   "outputs": [
    {
     "data": {
      "text/html": [
       "\n",
       "        <table>\n",
       "            <tr>\n",
       "                <td><strong>Reaction identifier</strong></td><td>PFK</td>\n",
       "            </tr><tr>\n",
       "                <td><strong>Name</strong></td><td>Phosphofructokinase</td>\n",
       "            </tr><tr>\n",
       "                <td><strong>Memory address</strong></td>\n",
       "                <td>0x01bdb1ccc748</td>\n",
       "            </tr><tr>\n",
       "                <td><strong>Stoichiometry</strong></td>\n",
       "                <td>\n",
       "                    <p style='text-align:right'>atp_c + f6p_c --> adp_c + fdp_c + h_c</p>\n",
       "                    <p style='text-align:right'>ATP C10H12N5O13P3 + D-Fructose 6-phosphate --> ADP C10H12N5O10P2 + D-Fructose 1,6-bisphosphate + H+</p>\n",
       "                </td>\n",
       "            </tr><tr>\n",
       "                <td><strong>GPR</strong></td><td>Avin_23410</td>\n",
       "            </tr><tr>\n",
       "                <td><strong>Lower bound</strong></td><td>0</td>\n",
       "            </tr><tr>\n",
       "                <td><strong>Upper bound</strong></td><td>0</td>\n",
       "            </tr>\n",
       "        </table>\n",
       "        "
      ],
      "text/plain": [
       "<Reaction PFK at 0x1bdb1ccc748>"
      ]
     },
     "execution_count": 13,
     "metadata": {},
     "output_type": "execute_result"
    }
   ],
   "source": [
    "model.reactions.PFK"
   ]
  },
  {
   "cell_type": "code",
   "execution_count": 14,
   "metadata": {
    "ExecuteTime": {
     "end_time": "2021-03-11T00:06:55.257509Z",
     "start_time": "2021-03-11T00:06:55.091326Z"
    },
    "execution": {
     "iopub.execute_input": "2021-03-23T21:43:23.232262Z",
     "iopub.status.busy": "2021-03-23T21:43:23.232262Z",
     "iopub.status.idle": "2021-03-23T21:43:23.728654Z",
     "shell.execute_reply": "2021-03-23T21:43:23.728654Z",
     "shell.execute_reply.started": "2021-03-23T21:43:23.232262Z"
    },
    "tags": []
   },
   "outputs": [
    {
     "data": {
      "text/html": [
       "<h3>Objective</h3><p>1.0 BIOMASS_Av_DJ_core = 0.9821159213334598</p><h4>Uptake</h4><table border=\"1\" class=\"dataframe\">\n",
       "  <thead>\n",
       "    <tr style=\"text-align: right;\">\n",
       "      <th>Metabolite</th>\n",
       "      <th>Reaction</th>\n",
       "      <th>Flux</th>\n",
       "      <th>C-Number</th>\n",
       "      <th>C-Flux</th>\n",
       "    </tr>\n",
       "  </thead>\n",
       "  <tbody>\n",
       "    <tr>\n",
       "      <td>ca2_e</td>\n",
       "      <td>EX_ca2_e</td>\n",
       "      <td>0.005112</td>\n",
       "      <td>0</td>\n",
       "      <td>0.00%</td>\n",
       "    </tr>\n",
       "    <tr>\n",
       "      <td>cl_e</td>\n",
       "      <td>EX_cl_e</td>\n",
       "      <td>0.005112</td>\n",
       "      <td>0</td>\n",
       "      <td>0.00%</td>\n",
       "    </tr>\n",
       "    <tr>\n",
       "      <td>cobalt2_e</td>\n",
       "      <td>EX_cobalt2_e</td>\n",
       "      <td>2.455E-05</td>\n",
       "      <td>0</td>\n",
       "      <td>0.00%</td>\n",
       "    </tr>\n",
       "    <tr>\n",
       "      <td>cu2_e</td>\n",
       "      <td>EX_cu2_e</td>\n",
       "      <td>0.0006963</td>\n",
       "      <td>0</td>\n",
       "      <td>0.00%</td>\n",
       "    </tr>\n",
       "    <tr>\n",
       "      <td>fe2_e</td>\n",
       "      <td>EX_fe2_e</td>\n",
       "      <td>0.008105</td>\n",
       "      <td>0</td>\n",
       "      <td>0.00%</td>\n",
       "    </tr>\n",
       "    <tr>\n",
       "      <td>fe3_e</td>\n",
       "      <td>EX_fe3_e</td>\n",
       "      <td>0.007668</td>\n",
       "      <td>0</td>\n",
       "      <td>0.00%</td>\n",
       "    </tr>\n",
       "    <tr>\n",
       "      <td>glc__D_e</td>\n",
       "      <td>EX_glc__D_e</td>\n",
       "      <td>15</td>\n",
       "      <td>6</td>\n",
       "      <td>100.00%</td>\n",
       "    </tr>\n",
       "    <tr>\n",
       "      <td>h_e</td>\n",
       "      <td>EX_h_e</td>\n",
       "      <td>1.225</td>\n",
       "      <td>0</td>\n",
       "      <td>0.00%</td>\n",
       "    </tr>\n",
       "    <tr>\n",
       "      <td>k_e</td>\n",
       "      <td>EX_k_e</td>\n",
       "      <td>0.1917</td>\n",
       "      <td>0</td>\n",
       "      <td>0.00%</td>\n",
       "    </tr>\n",
       "    <tr>\n",
       "      <td>mg2_e</td>\n",
       "      <td>EX_mg2_e</td>\n",
       "      <td>0.00852</td>\n",
       "      <td>0</td>\n",
       "      <td>0.00%</td>\n",
       "    </tr>\n",
       "    <tr>\n",
       "      <td>mn2_e</td>\n",
       "      <td>EX_mn2_e</td>\n",
       "      <td>0.0006786</td>\n",
       "      <td>0</td>\n",
       "      <td>0.00%</td>\n",
       "    </tr>\n",
       "    <tr>\n",
       "      <td>mobd_e</td>\n",
       "      <td>EX_mobd_e</td>\n",
       "      <td>6.875E-06</td>\n",
       "      <td>0</td>\n",
       "      <td>0.00%</td>\n",
       "    </tr>\n",
       "    <tr>\n",
       "      <td>n2_e</td>\n",
       "      <td>EX_n2_e</td>\n",
       "      <td>5.135</td>\n",
       "      <td>0</td>\n",
       "      <td>0.00%</td>\n",
       "    </tr>\n",
       "    <tr>\n",
       "      <td>ni2_e</td>\n",
       "      <td>EX_ni2_e</td>\n",
       "      <td>0.0003172</td>\n",
       "      <td>0</td>\n",
       "      <td>0.00%</td>\n",
       "    </tr>\n",
       "    <tr>\n",
       "      <td>o2_e</td>\n",
       "      <td>EX_o2_e</td>\n",
       "      <td>41.23</td>\n",
       "      <td>0</td>\n",
       "      <td>0.00%</td>\n",
       "    </tr>\n",
       "    <tr>\n",
       "      <td>pi_e</td>\n",
       "      <td>EX_pi_e</td>\n",
       "      <td>0.9474</td>\n",
       "      <td>0</td>\n",
       "      <td>0.00%</td>\n",
       "    </tr>\n",
       "    <tr>\n",
       "      <td>so4_e</td>\n",
       "      <td>EX_so4_e</td>\n",
       "      <td>0.1589</td>\n",
       "      <td>0</td>\n",
       "      <td>0.00%</td>\n",
       "    </tr>\n",
       "    <tr>\n",
       "      <td>zn2_e</td>\n",
       "      <td>EX_zn2_e</td>\n",
       "      <td>0.0003349</td>\n",
       "      <td>0</td>\n",
       "      <td>0.00%</td>\n",
       "    </tr>\n",
       "  </tbody>\n",
       "</table><h4>Secretion</h4><table border=\"1\" class=\"dataframe\">\n",
       "  <thead>\n",
       "    <tr style=\"text-align: right;\">\n",
       "      <th>Metabolite</th>\n",
       "      <th>Reaction</th>\n",
       "      <th>Flux</th>\n",
       "      <th>C-Number</th>\n",
       "      <th>C-Flux</th>\n",
       "    </tr>\n",
       "  </thead>\n",
       "  <tbody>\n",
       "    <tr>\n",
       "      <td>4crsol_c</td>\n",
       "      <td>DM_4crsol_c</td>\n",
       "      <td>-0.000219</td>\n",
       "      <td>7</td>\n",
       "      <td>0.00%</td>\n",
       "    </tr>\n",
       "    <tr>\n",
       "      <td>5drib_c</td>\n",
       "      <td>DM_5drib_c</td>\n",
       "      <td>-0.000221</td>\n",
       "      <td>5</td>\n",
       "      <td>0.00%</td>\n",
       "    </tr>\n",
       "    <tr>\n",
       "      <td>amob_c</td>\n",
       "      <td>DM_amob_c</td>\n",
       "      <td>-1.964E-06</td>\n",
       "      <td>15</td>\n",
       "      <td>0.00%</td>\n",
       "    </tr>\n",
       "    <tr>\n",
       "      <td>ade_e</td>\n",
       "      <td>EX_ade_e</td>\n",
       "      <td>-0.000221</td>\n",
       "      <td>5</td>\n",
       "      <td>0.00%</td>\n",
       "    </tr>\n",
       "    <tr>\n",
       "      <td>co2_e</td>\n",
       "      <td>EX_co2_e</td>\n",
       "      <td>-50.8</td>\n",
       "      <td>1</td>\n",
       "      <td>99.99%</td>\n",
       "    </tr>\n",
       "    <tr>\n",
       "      <td>dxylnt_e</td>\n",
       "      <td>EX_dxylnt_e</td>\n",
       "      <td>-0.000657</td>\n",
       "      <td>5</td>\n",
       "      <td>0.01%</td>\n",
       "    </tr>\n",
       "    <tr>\n",
       "      <td>fald_e</td>\n",
       "      <td>EX_fald_e</td>\n",
       "      <td>-1.964E-06</td>\n",
       "      <td>1</td>\n",
       "      <td>0.00%</td>\n",
       "    </tr>\n",
       "    <tr>\n",
       "      <td>h2o_e</td>\n",
       "      <td>EX_h2o_e</td>\n",
       "      <td>-61.01</td>\n",
       "      <td>0</td>\n",
       "      <td>0.00%</td>\n",
       "    </tr>\n",
       "  </tbody>\n",
       "</table>"
      ],
      "text/plain": [
       "<cobra.summary.model_summary.ModelSummary at 0x1bdb1ef7d88>"
      ]
     },
     "execution_count": 14,
     "metadata": {},
     "output_type": "execute_result"
    }
   ],
   "source": [
    "model.reactions.get_by_id(\"EX_glc__D_e\").lower_bound = -15\n",
    "model.reactions.get_by_id(\"EX_glc__D_e\").upper_bound = -15\n",
    "\n",
    "\n",
    "model.reactions.get_by_id(\"EX_nh4_e\").lower_bound = 0\n",
    "model.reactions.get_by_id(\"EX_nh4_e\").upper_bound = 0\n",
    "\n",
    "#set pfk to zero\n",
    "model.reactions.get_by_id(\"PFK\").lower_bound = 0\n",
    "model.reactions.get_by_id(\"PFK\").upper_bound = 0\n",
    "\n",
    "solution = model.optimize()\n",
    "\n",
    "#save to dataframe\n",
    "df= pd.DataFrame.from_dict([solution.fluxes]).T\n",
    "df.to_csv('../Data/FBA_results/model_n2_glu_15.csv')\n",
    "\n",
    "\n",
    "model.summary()"
   ]
  },
  {
   "cell_type": "code",
   "execution_count": 15,
   "metadata": {
    "execution": {
     "iopub.execute_input": "2021-03-23T21:43:43.348743Z",
     "iopub.status.busy": "2021-03-23T21:43:43.348743Z",
     "iopub.status.idle": "2021-03-23T21:43:43.429611Z",
     "shell.execute_reply": "2021-03-23T21:43:43.428609Z",
     "shell.execute_reply.started": "2021-03-23T21:43:43.348743Z"
    }
   },
   "outputs": [
    {
     "data": {
      "application/vnd.jupyter.widget-view+json": {
       "model_id": "9677c563100040aa95086fc8aecc5f3f",
       "version_major": 2,
       "version_minor": 0
      },
      "text/plain": [
       "Builder(reaction_data={'ALATA_D2': 0.0, 'SHCHD2': 0.0002190118504573613, 'CPPPGO': 0.0002190118504573613, 'GTH…"
      ]
     },
     "metadata": {},
     "output_type": "display_data"
    }
   ],
   "source": [
    " Builder(model_json = \"../Data/Models/iAA1300.json\",\n",
    "                 map_json = '../Data/Escher/Maps/central_metabolism.json',\n",
    "                  reaction_data = solution.fluxes\n",
    "                      )"
   ]
  },
  {
   "cell_type": "markdown",
   "metadata": {},
   "source": [
    "#### While PFK deletion does stop flux from glycolosis we now have a weird pentose phosphate loop to make the g3p necessary. While there might be more ways to adjust the model to make sure it sends flux to the ED pathway I want to add as little subjective assumptions to this as possible. \n",
    "\n",
    "#### So we can start by adding constraints that were determined in the MFA study (Wu et al). We will do this by adding a dummy variable similar to the COBRA matlab function addRatioReaction and adapted from Yanfen Fu et al. (10.1128/mBio.00406-19) \n"
   ]
  },
  {
   "cell_type": "code",
   "execution_count": 39,
   "metadata": {
    "execution": {
     "iopub.execute_input": "2021-03-23T22:31:13.082547Z",
     "iopub.status.busy": "2021-03-23T22:31:13.082547Z",
     "iopub.status.idle": "2021-03-23T22:31:13.096577Z",
     "shell.execute_reply": "2021-03-23T22:31:13.095579Z",
     "shell.execute_reply.started": "2021-03-23T22:31:13.082547Z"
    }
   },
   "outputs": [],
   "source": [
    "def ratioReaction(Model,rxn1,rxn2,ratioCoeff1,ratioCoeff2):\n",
    "    \"\"\"\n",
    "    A function to add a dummy variable to a reactions stoichometery to force flux through both reactions at a specfic ratio\n",
    "    \n",
    "    \n",
    "    \n",
    "    The two reactions as \"RXN1\", \"RXN2\"\n",
    "    \n",
    "    The logic of the ratio is this: the rxn1 will produce the dummy variable at the coeeficent given by\n",
    "    ratioCoeff1  while rxn2 must consume the dummy variable at the coefficent of ratioCoeff2 \n",
    "        EX: Flux from pyruvate goes to pyruvate dehydrogenase  100x more than pyruvate carboxylase \n",
    "            So its a 0.01 ratio so the function will be written (model, PDH, PC, 1, 100)\n",
    "            Where: \n",
    "            PDH - pyr + coa + nad -> accoa + nadh + co2 + DUMMY\n",
    "            PC - pyr + atp + co2 + 100 DUMMY -> oaa + ADP + H + pi \n",
    "    \"\"\"\n",
    "  \n",
    "\n",
    "    model = Model\n",
    "    model_ratioed = model.copy()\n",
    "    reaction1 = model_ratioed.reactions.get_by_id(rxn1)\n",
    "    reaction2 = model_ratioed.reactions.get_by_id(rxn2)\n",
    "    \n",
    "    #create ghost metabolite and add to reactions\n",
    "    \n",
    "    ghost_id = \"GM_{}_{}\".format(rxn1, rxn2)\n",
    "    ghost_metabolite = cobra.Metabolite(ghost_id, name = ghost_id, compartment = \"c\" )\n",
    "    \n",
    "    reaction1.add_metabolites({ghost_metabolite:ratioCoeff1})\n",
    "    reaction2.add_metabolites({ghost_metabolite:(-1*ratioCoeff2)})\n",
    "    \n",
    "    #cobra.io.save_json_model(model, outfile)\n",
    "\n",
    "\n",
    "    print(\"Growth rate of model without ratio: {}\".format(model.optimize().objective_value))\n",
    "    print(\"Growth rate of model with new ratio: {}\".format(model_ratioed.optimize().objective_value))\n",
    "    \n",
    "    ratioed_fluxes = model_ratioed.optimize().fluxes"
   ]
  },
  {
   "cell_type": "code",
   "execution_count": 40,
   "metadata": {
    "execution": {
     "iopub.execute_input": "2021-03-23T22:31:13.727472Z",
     "iopub.status.busy": "2021-03-23T22:31:13.727472Z",
     "iopub.status.idle": "2021-03-23T22:31:14.522391Z",
     "shell.execute_reply": "2021-03-23T22:31:14.521481Z",
     "shell.execute_reply.started": "2021-03-23T22:31:13.727472Z"
    }
   },
   "outputs": [
    {
     "name": "stdout",
     "output_type": "stream",
     "text": [
      "Growth rate of model without ratio: 0.9821159213334587\n",
      "Growth rate of model with new ratio: 0.9526447415857384\n"
     ]
    }
   ],
   "source": [
    "ratioReaction(model, \"EDD\", \"GND\", 18, 82)"
   ]
  },
  {
   "cell_type": "code",
   "execution_count": 41,
   "metadata": {
    "execution": {
     "iopub.execute_input": "2021-03-23T22:31:15.603020Z",
     "iopub.status.busy": "2021-03-23T22:31:15.603020Z",
     "iopub.status.idle": "2021-03-23T22:31:15.637018Z",
     "shell.execute_reply": "2021-03-23T22:31:15.636053Z",
     "shell.execute_reply.started": "2021-03-23T22:31:15.603020Z"
    }
   },
   "outputs": [
    {
     "ename": "NameError",
     "evalue": "name 'ratioed_fluxes' is not defined",
     "output_type": "error",
     "traceback": [
      "\u001b[1;31m---------------------------------------------------------------------------\u001b[0m",
      "\u001b[1;31mNameError\u001b[0m                                 Traceback (most recent call last)",
      "\u001b[1;32m<ipython-input-41-728476b4b837>\u001b[0m in \u001b[0;36m<module>\u001b[1;34m\u001b[0m\n\u001b[0;32m      3\u001b[0m Builder(model_json = \"../Data/Models/iAA1300.json\",\n\u001b[0;32m      4\u001b[0m                  \u001b[0mmap_json\u001b[0m \u001b[1;33m=\u001b[0m \u001b[1;34m'../Data/Escher/Maps/central_metabolism.json'\u001b[0m\u001b[1;33m,\u001b[0m\u001b[1;33m\u001b[0m\u001b[1;33m\u001b[0m\u001b[0m\n\u001b[1;32m----> 5\u001b[1;33m                   \u001b[0mreaction_data\u001b[0m \u001b[1;33m=\u001b[0m \u001b[0mratioed_fluxes\u001b[0m\u001b[1;33m\u001b[0m\u001b[1;33m\u001b[0m\u001b[0m\n\u001b[0m\u001b[0;32m      6\u001b[0m                       )\n",
      "\u001b[1;31mNameError\u001b[0m: name 'ratioed_fluxes' is not defined"
     ]
    }
   ],
   "source": [
    " \n",
    "solution = model.optimize()\n",
    "    \n",
    "Builder(model_json = \"../Data/Models/iAA1300.json\",\n",
    "                 map_json = '../Data/Escher/Maps/central_metabolism.json',\n",
    "                  reaction_data = ratioed_fluxes\n",
    "                      )"
   ]
  },
  {
   "cell_type": "code",
   "execution_count": 38,
   "metadata": {
    "execution": {
     "iopub.execute_input": "2021-03-23T22:30:54.952018Z",
     "iopub.status.busy": "2021-03-23T22:30:54.951017Z",
     "iopub.status.idle": "2021-03-23T22:30:54.985595Z",
     "shell.execute_reply": "2021-03-23T22:30:54.985595Z",
     "shell.execute_reply.started": "2021-03-23T22:30:54.952018Z"
    }
   },
   "outputs": [
    {
     "data": {
      "text/plain": [
       "ALATA_D2      0.000000\n",
       "SHCHD2        0.000219\n",
       "CPPPGO        0.000219\n",
       "GTHOr         0.000000\n",
       "GLYCTO2       0.000000\n",
       "               ...    \n",
       "QCCOR        82.464122\n",
       "VNIT          0.000000\n",
       "FENIT         0.000000\n",
       "CYTCBB3pp     0.000000\n",
       "NADTRHD       0.000000\n",
       "Name: fluxes, Length: 2289, dtype: float64"
      ]
     },
     "execution_count": 38,
     "metadata": {},
     "output_type": "execute_result"
    }
   ],
   "source": [
    "model.optimize().fluxes"
   ]
  },
  {
   "cell_type": "code",
   "execution_count": null,
   "metadata": {},
   "outputs": [],
   "source": []
  }
 ],
 "metadata": {
  "kernelspec": {
   "display_name": "Python 3",
   "language": "python",
   "name": "python3"
  },
  "language_info": {
   "codemirror_mode": {
    "name": "ipython",
    "version": 3
   },
   "file_extension": ".py",
   "mimetype": "text/x-python",
   "name": "python",
   "nbconvert_exporter": "python",
   "pygments_lexer": "ipython3",
   "version": "3.7.10"
  }
 },
 "nbformat": 4,
 "nbformat_minor": 4
}
