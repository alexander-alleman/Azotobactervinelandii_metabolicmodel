{
 "cells": [
  {
   "cell_type": "markdown",
   "metadata": {},
   "source": [
    "# Constraining the A.v. model main carbon metabolism "
   ]
  },
  {
   "cell_type": "markdown",
   "metadata": {},
   "source": [
    "There are particular constraints of A.v. that are currently not present in the model such as the useage of the Entner–Doudoroff Pathway (ED) and the pentose phosphate pathway (PPP) as well as sucrose metabolism particularly fructose catabolism. \n",
    "\n",
    "While we have MFA results (Wu et al. 2019) to constrain the model but we would like to use that data in the future to test the model so we will try to constrain flux to the ED and PP pathways with gene knockout first.  \n",
    "\n",
    "The main supporting texts ###Finish###\n",
    "\n",
    "\n",
    "\n",
    "\n",
    "\n"
   ]
  },
  {
   "cell_type": "code",
   "execution_count": 1,
   "metadata": {
    "ExecuteTime": {
     "end_time": "2021-03-10T22:48:00.189393Z",
     "start_time": "2021-03-10T22:47:56.645414Z"
    },
    "execution": {
     "iopub.execute_input": "2021-03-22T22:45:12.335311Z",
     "iopub.status.busy": "2021-03-22T22:45:12.334279Z",
     "iopub.status.idle": "2021-03-22T22:45:14.683563Z",
     "shell.execute_reply": "2021-03-22T22:45:14.682565Z",
     "shell.execute_reply.started": "2021-03-22T22:45:12.335311Z"
    }
   },
   "outputs": [],
   "source": [
    "import cobra.test\n",
    "import pandas\n",
    "import os\n",
    "from os.path import join\n",
    "from cobra import Model, Reaction, Metabolite\n",
    "from cobra.io import save_json_model\n",
    "from cobra.io import write_sbml_model\n",
    "from cobra.io import read_sbml_model\n",
    "\n",
    "import numpy as np\n",
    "import pandas as pd\n",
    "\n",
    "\n"
   ]
  },
  {
   "cell_type": "code",
   "execution_count": 2,
   "metadata": {
    "execution": {
     "iopub.execute_input": "2021-03-22T22:45:14.686566Z",
     "iopub.status.busy": "2021-03-22T22:45:14.685567Z",
     "iopub.status.idle": "2021-03-22T22:45:18.091850Z",
     "shell.execute_reply": "2021-03-22T22:45:18.091850Z",
     "shell.execute_reply.started": "2021-03-22T22:45:14.686566Z"
    }
   },
   "outputs": [
    {
     "data": {
      "text/plain": [
       "{'EX_pi_e': 1000.0,\n",
       " 'EX_h_e': 1000.0,\n",
       " 'EX_fe3_e': 0.05,\n",
       " 'EX_mn2_e': 1000.0,\n",
       " 'EX_fe2_e': 0.05,\n",
       " 'EX_glc__D_e': 5.0,\n",
       " 'EX_zn2_e': 1000.0,\n",
       " 'EX_mg2_e': 1000.0,\n",
       " 'EX_ca2_e': 1000.0,\n",
       " 'EX_ni2_e': 1000.0,\n",
       " 'EX_cu2_e': 1000.0,\n",
       " 'EX_cobalt2_e': 1000.0,\n",
       " 'EX_h2o_e': 1000.0,\n",
       " 'EX_nh4_e': 5.0,\n",
       " 'EX_mobd_e': 1000.0,\n",
       " 'EX_so4_e': 1000.0,\n",
       " 'EX_k_e': 1000.0,\n",
       " 'EX_o2_e': 1000.0,\n",
       " 'EX_cl_e': 1000.0,\n",
       " 'EX_n2_e': 1000.0}"
      ]
     },
     "execution_count": 2,
     "metadata": {},
     "output_type": "execute_result"
    }
   ],
   "source": [
    "#add model\n",
    "model = read_sbml_model(\"../Data/Models/iAA1300.xml\")\n",
    "model.medium\n"
   ]
  },
  {
   "cell_type": "code",
   "execution_count": 3,
   "metadata": {
    "ExecuteTime": {
     "end_time": "2021-03-10T22:51:00.663470Z",
     "start_time": "2021-03-10T22:51:00.499715Z"
    },
    "execution": {
     "iopub.execute_input": "2021-03-22T22:45:18.092817Z",
     "iopub.status.busy": "2021-03-22T22:45:18.092817Z",
     "iopub.status.idle": "2021-03-22T22:45:18.650692Z",
     "shell.execute_reply": "2021-03-22T22:45:18.649692Z",
     "shell.execute_reply.started": "2021-03-22T22:45:18.092817Z"
    }
   },
   "outputs": [
    {
     "data": {
      "text/html": [
       "<h3>Objective</h3><p>1.0 BIOMASS_Av_DJ_core = 0.9821159213334463</p><h4>Uptake</h4><table border=\"1\" class=\"dataframe\">\n",
       "  <thead>\n",
       "    <tr style=\"text-align: right;\">\n",
       "      <th>Metabolite</th>\n",
       "      <th>Reaction</th>\n",
       "      <th>Flux</th>\n",
       "      <th>C-Number</th>\n",
       "      <th>C-Flux</th>\n",
       "    </tr>\n",
       "  </thead>\n",
       "  <tbody>\n",
       "    <tr>\n",
       "      <td>ca2_e</td>\n",
       "      <td>EX_ca2_e</td>\n",
       "      <td>0.005112</td>\n",
       "      <td>0</td>\n",
       "      <td>0.00%</td>\n",
       "    </tr>\n",
       "    <tr>\n",
       "      <td>cl_e</td>\n",
       "      <td>EX_cl_e</td>\n",
       "      <td>0.005112</td>\n",
       "      <td>0</td>\n",
       "      <td>0.00%</td>\n",
       "    </tr>\n",
       "    <tr>\n",
       "      <td>cobalt2_e</td>\n",
       "      <td>EX_cobalt2_e</td>\n",
       "      <td>2.455E-05</td>\n",
       "      <td>0</td>\n",
       "      <td>0.00%</td>\n",
       "    </tr>\n",
       "    <tr>\n",
       "      <td>cu2_e</td>\n",
       "      <td>EX_cu2_e</td>\n",
       "      <td>0.0006963</td>\n",
       "      <td>0</td>\n",
       "      <td>0.00%</td>\n",
       "    </tr>\n",
       "    <tr>\n",
       "      <td>fe2_e</td>\n",
       "      <td>EX_fe2_e</td>\n",
       "      <td>0.008105</td>\n",
       "      <td>0</td>\n",
       "      <td>0.00%</td>\n",
       "    </tr>\n",
       "    <tr>\n",
       "      <td>fe3_e</td>\n",
       "      <td>EX_fe3_e</td>\n",
       "      <td>0.007668</td>\n",
       "      <td>0</td>\n",
       "      <td>0.00%</td>\n",
       "    </tr>\n",
       "    <tr>\n",
       "      <td>glc__D_e</td>\n",
       "      <td>EX_glc__D_e</td>\n",
       "      <td>15</td>\n",
       "      <td>6</td>\n",
       "      <td>100.00%</td>\n",
       "    </tr>\n",
       "    <tr>\n",
       "      <td>h_e</td>\n",
       "      <td>EX_h_e</td>\n",
       "      <td>1.225</td>\n",
       "      <td>0</td>\n",
       "      <td>0.00%</td>\n",
       "    </tr>\n",
       "    <tr>\n",
       "      <td>k_e</td>\n",
       "      <td>EX_k_e</td>\n",
       "      <td>0.1917</td>\n",
       "      <td>0</td>\n",
       "      <td>0.00%</td>\n",
       "    </tr>\n",
       "    <tr>\n",
       "      <td>mg2_e</td>\n",
       "      <td>EX_mg2_e</td>\n",
       "      <td>0.00852</td>\n",
       "      <td>0</td>\n",
       "      <td>0.00%</td>\n",
       "    </tr>\n",
       "    <tr>\n",
       "      <td>mn2_e</td>\n",
       "      <td>EX_mn2_e</td>\n",
       "      <td>0.0006786</td>\n",
       "      <td>0</td>\n",
       "      <td>0.00%</td>\n",
       "    </tr>\n",
       "    <tr>\n",
       "      <td>mobd_e</td>\n",
       "      <td>EX_mobd_e</td>\n",
       "      <td>6.875E-06</td>\n",
       "      <td>0</td>\n",
       "      <td>0.00%</td>\n",
       "    </tr>\n",
       "    <tr>\n",
       "      <td>n2_e</td>\n",
       "      <td>EX_n2_e</td>\n",
       "      <td>5.135</td>\n",
       "      <td>0</td>\n",
       "      <td>0.00%</td>\n",
       "    </tr>\n",
       "    <tr>\n",
       "      <td>ni2_e</td>\n",
       "      <td>EX_ni2_e</td>\n",
       "      <td>0.0003172</td>\n",
       "      <td>0</td>\n",
       "      <td>0.00%</td>\n",
       "    </tr>\n",
       "    <tr>\n",
       "      <td>o2_e</td>\n",
       "      <td>EX_o2_e</td>\n",
       "      <td>41.23</td>\n",
       "      <td>0</td>\n",
       "      <td>0.00%</td>\n",
       "    </tr>\n",
       "    <tr>\n",
       "      <td>pi_e</td>\n",
       "      <td>EX_pi_e</td>\n",
       "      <td>0.9474</td>\n",
       "      <td>0</td>\n",
       "      <td>0.00%</td>\n",
       "    </tr>\n",
       "    <tr>\n",
       "      <td>so4_e</td>\n",
       "      <td>EX_so4_e</td>\n",
       "      <td>0.1589</td>\n",
       "      <td>0</td>\n",
       "      <td>0.00%</td>\n",
       "    </tr>\n",
       "    <tr>\n",
       "      <td>zn2_e</td>\n",
       "      <td>EX_zn2_e</td>\n",
       "      <td>0.0003349</td>\n",
       "      <td>0</td>\n",
       "      <td>0.00%</td>\n",
       "    </tr>\n",
       "  </tbody>\n",
       "</table><h4>Secretion</h4><table border=\"1\" class=\"dataframe\">\n",
       "  <thead>\n",
       "    <tr style=\"text-align: right;\">\n",
       "      <th>Metabolite</th>\n",
       "      <th>Reaction</th>\n",
       "      <th>Flux</th>\n",
       "      <th>C-Number</th>\n",
       "      <th>C-Flux</th>\n",
       "    </tr>\n",
       "  </thead>\n",
       "  <tbody>\n",
       "    <tr>\n",
       "      <td>4crsol_c</td>\n",
       "      <td>DM_4crsol_c</td>\n",
       "      <td>-0.000219</td>\n",
       "      <td>7</td>\n",
       "      <td>0.00%</td>\n",
       "    </tr>\n",
       "    <tr>\n",
       "      <td>5drib_c</td>\n",
       "      <td>DM_5drib_c</td>\n",
       "      <td>-0.000221</td>\n",
       "      <td>5</td>\n",
       "      <td>0.00%</td>\n",
       "    </tr>\n",
       "    <tr>\n",
       "      <td>amob_c</td>\n",
       "      <td>DM_amob_c</td>\n",
       "      <td>-1.964E-06</td>\n",
       "      <td>15</td>\n",
       "      <td>0.00%</td>\n",
       "    </tr>\n",
       "    <tr>\n",
       "      <td>ade_e</td>\n",
       "      <td>EX_ade_e</td>\n",
       "      <td>-0.000221</td>\n",
       "      <td>5</td>\n",
       "      <td>0.00%</td>\n",
       "    </tr>\n",
       "    <tr>\n",
       "      <td>co2_e</td>\n",
       "      <td>EX_co2_e</td>\n",
       "      <td>-50.8</td>\n",
       "      <td>1</td>\n",
       "      <td>99.99%</td>\n",
       "    </tr>\n",
       "    <tr>\n",
       "      <td>dxylnt_e</td>\n",
       "      <td>EX_dxylnt_e</td>\n",
       "      <td>-0.000657</td>\n",
       "      <td>5</td>\n",
       "      <td>0.01%</td>\n",
       "    </tr>\n",
       "    <tr>\n",
       "      <td>fald_e</td>\n",
       "      <td>EX_fald_e</td>\n",
       "      <td>-1.964E-06</td>\n",
       "      <td>1</td>\n",
       "      <td>0.00%</td>\n",
       "    </tr>\n",
       "    <tr>\n",
       "      <td>h2o_e</td>\n",
       "      <td>EX_h2o_e</td>\n",
       "      <td>-61.01</td>\n",
       "      <td>0</td>\n",
       "      <td>0.00%</td>\n",
       "    </tr>\n",
       "  </tbody>\n",
       "</table>"
      ],
      "text/plain": [
       "<cobra.summary.model_summary.ModelSummary at 0x1eb38c25f08>"
      ]
     },
     "execution_count": 3,
     "metadata": {},
     "output_type": "execute_result"
    }
   ],
   "source": [
    "#Lets set gluose uptake to experimentally determined number 15 mmol (Wu et al) and make it diazotrophic by setting ammonia uptake to zero\n",
    "model.reactions.get_by_id(\"EX_glc__D_e\").lower_bound = -15\n",
    "model.reactions.get_by_id(\"EX_glc__D_e\").upper_bound = -15\n",
    "\n",
    "model.reactions.get_by_id(\"EX_nh4_e\").lower_bound = 0\n",
    "model.reactions.get_by_id(\"EX_nh4_e\").upper_bound = 0\n",
    "\n",
    "solution = model.optimize()\n",
    "\n",
    "#save to dataframe\n",
    "df= pd.DataFrame.from_dict([solution.fluxes]).T\n",
    "df.to_csv('../Data/FBA_results/model_n2_glu_15.csv')\n",
    "\n",
    "\n",
    "model.summary()"
   ]
  },
  {
   "cell_type": "markdown",
   "metadata": {},
   "source": [
    "Lets check out the model in Escher"
   ]
  },
  {
   "cell_type": "code",
   "execution_count": 4,
   "metadata": {
    "execution": {
     "iopub.execute_input": "2021-03-22T22:45:18.651692Z",
     "iopub.status.busy": "2021-03-22T22:45:18.651692Z",
     "iopub.status.idle": "2021-03-22T22:45:18.964692Z",
     "shell.execute_reply": "2021-03-22T22:45:18.963696Z",
     "shell.execute_reply.started": "2021-03-22T22:45:18.651692Z"
    }
   },
   "outputs": [],
   "source": [
    "import escher\n",
    "from escher import Builder\n",
    "from time import sleep"
   ]
  },
  {
   "cell_type": "code",
   "execution_count": 5,
   "metadata": {
    "execution": {
     "iopub.execute_input": "2021-03-22T22:45:18.965693Z",
     "iopub.status.busy": "2021-03-22T22:45:18.965693Z",
     "iopub.status.idle": "2021-03-22T22:45:19.091750Z",
     "shell.execute_reply": "2021-03-22T22:45:19.091750Z",
     "shell.execute_reply.started": "2021-03-22T22:45:18.965693Z"
    }
   },
   "outputs": [
    {
     "data": {
      "application/vnd.jupyter.widget-view+json": {
       "model_id": "232cc6d50c9e4d69b632e9707f67f5a5",
       "version_major": 2,
       "version_minor": 0
      },
      "text/plain": [
       "Builder(reaction_data={'ALATA_D2': 0.0, 'SHCHD2': 0.0002190118504573584, 'CPPPGO': 0.0002190118504573584, 'GTH…"
      ]
     },
     "metadata": {},
     "output_type": "display_data"
    }
   ],
   "source": [
    "\n",
    "\n",
    " Builder(model_json = \"../Data/Models/iAA1300.json\",\n",
    "                 map_json = '../Data/Escher/Maps/central_metabolism.json',\n",
    "                  reaction_data = solution.fluxes\n",
    "                      )"
   ]
  },
  {
   "cell_type": "code",
   "execution_count": 6,
   "metadata": {
    "execution": {
     "iopub.execute_input": "2021-03-22T22:45:19.092751Z",
     "iopub.status.busy": "2021-03-22T22:45:19.092751Z",
     "iopub.status.idle": "2021-03-22T22:45:19.138758Z",
     "shell.execute_reply": "2021-03-22T22:45:19.137751Z",
     "shell.execute_reply.started": "2021-03-22T22:45:19.092751Z"
    }
   },
   "outputs": [
    {
     "ename": "NameError",
     "evalue": "name 'builder' is not defined",
     "output_type": "error",
     "traceback": [
      "\u001b[1;31m---------------------------------------------------------------------------\u001b[0m",
      "\u001b[1;31mNameError\u001b[0m                                 Traceback (most recent call last)",
      "\u001b[1;32m<ipython-input-6-f5e3d4e35148>\u001b[0m in \u001b[0;36m<module>\u001b[1;34m\u001b[0m\n\u001b[1;32m----> 1\u001b[1;33m \u001b[0mbuilder\u001b[0m\u001b[1;33m\u001b[0m\u001b[1;33m\u001b[0m\u001b[0m\n\u001b[0m",
      "\u001b[1;31mNameError\u001b[0m: name 'builder' is not defined"
     ]
    }
   ],
   "source": []
  },
  {
   "cell_type": "code",
   "execution_count": null,
   "metadata": {
    "execution": {
     "iopub.status.busy": "2021-03-22T22:45:19.139753Z",
     "iopub.status.idle": "2021-03-22T22:45:19.139753Z"
    }
   },
   "outputs": [],
   "source": [
    "\n",
    "\n"
   ]
  },
  {
   "cell_type": "code",
   "execution_count": null,
   "metadata": {},
   "outputs": [],
   "source": []
  },
  {
   "cell_type": "code",
   "execution_count": null,
   "metadata": {},
   "outputs": [],
   "source": []
  },
  {
   "cell_type": "code",
   "execution_count": 7,
   "metadata": {
    "ExecuteTime": {
     "end_time": "2021-03-10T22:51:03.029129Z",
     "start_time": "2021-03-10T22:51:02.725553Z"
    },
    "execution": {
     "iopub.execute_input": "2021-03-22T22:45:35.372085Z",
     "iopub.status.busy": "2021-03-22T22:45:35.371085Z",
     "iopub.status.idle": "2021-03-22T22:45:35.833114Z",
     "shell.execute_reply": "2021-03-22T22:45:35.833114Z",
     "shell.execute_reply.started": "2021-03-22T22:45:35.372085Z"
    }
   },
   "outputs": [
    {
     "data": {
      "text/html": [
       "<h3>Objective</h3><p>1.0 BIOMASS_Av_DJ_core = 1.4349136778116567</p><h4>Uptake</h4><table border=\"1\" class=\"dataframe\">\n",
       "  <thead>\n",
       "    <tr style=\"text-align: right;\">\n",
       "      <th>Metabolite</th>\n",
       "      <th>Reaction</th>\n",
       "      <th>Flux</th>\n",
       "      <th>C-Number</th>\n",
       "      <th>C-Flux</th>\n",
       "    </tr>\n",
       "  </thead>\n",
       "  <tbody>\n",
       "    <tr>\n",
       "      <td>ca2_e</td>\n",
       "      <td>EX_ca2_e</td>\n",
       "      <td>0.007469</td>\n",
       "      <td>0</td>\n",
       "      <td>0.00%</td>\n",
       "    </tr>\n",
       "    <tr>\n",
       "      <td>cl_e</td>\n",
       "      <td>EX_cl_e</td>\n",
       "      <td>0.007469</td>\n",
       "      <td>0</td>\n",
       "      <td>0.00%</td>\n",
       "    </tr>\n",
       "    <tr>\n",
       "      <td>cobalt2_e</td>\n",
       "      <td>EX_cobalt2_e</td>\n",
       "      <td>3.587E-05</td>\n",
       "      <td>0</td>\n",
       "      <td>0.00%</td>\n",
       "    </tr>\n",
       "    <tr>\n",
       "      <td>cu2_e</td>\n",
       "      <td>EX_cu2_e</td>\n",
       "      <td>0.001017</td>\n",
       "      <td>0</td>\n",
       "      <td>0.00%</td>\n",
       "    </tr>\n",
       "    <tr>\n",
       "      <td>fe2_e</td>\n",
       "      <td>EX_fe2_e</td>\n",
       "      <td>0.02305</td>\n",
       "      <td>0</td>\n",
       "      <td>0.00%</td>\n",
       "    </tr>\n",
       "    <tr>\n",
       "      <td>glc__D_e</td>\n",
       "      <td>EX_glc__D_e</td>\n",
       "      <td>15</td>\n",
       "      <td>6</td>\n",
       "      <td>100.00%</td>\n",
       "    </tr>\n",
       "    <tr>\n",
       "      <td>k_e</td>\n",
       "      <td>EX_k_e</td>\n",
       "      <td>0.2801</td>\n",
       "      <td>0</td>\n",
       "      <td>0.00%</td>\n",
       "    </tr>\n",
       "    <tr>\n",
       "      <td>mg2_e</td>\n",
       "      <td>EX_mg2_e</td>\n",
       "      <td>0.01245</td>\n",
       "      <td>0</td>\n",
       "      <td>0.00%</td>\n",
       "    </tr>\n",
       "    <tr>\n",
       "      <td>mn2_e</td>\n",
       "      <td>EX_mn2_e</td>\n",
       "      <td>0.0009915</td>\n",
       "      <td>0</td>\n",
       "      <td>0.00%</td>\n",
       "    </tr>\n",
       "    <tr>\n",
       "      <td>mobd_e</td>\n",
       "      <td>EX_mobd_e</td>\n",
       "      <td>1.004E-05</td>\n",
       "      <td>0</td>\n",
       "      <td>0.00%</td>\n",
       "    </tr>\n",
       "    <tr>\n",
       "      <td>nh4_e</td>\n",
       "      <td>EX_nh4_e</td>\n",
       "      <td>15.01</td>\n",
       "      <td>0</td>\n",
       "      <td>0.00%</td>\n",
       "    </tr>\n",
       "    <tr>\n",
       "      <td>ni2_e</td>\n",
       "      <td>EX_ni2_e</td>\n",
       "      <td>0.0004635</td>\n",
       "      <td>0</td>\n",
       "      <td>0.00%</td>\n",
       "    </tr>\n",
       "    <tr>\n",
       "      <td>o2_e</td>\n",
       "      <td>EX_o2_e</td>\n",
       "      <td>30.01</td>\n",
       "      <td>0</td>\n",
       "      <td>0.00%</td>\n",
       "    </tr>\n",
       "    <tr>\n",
       "      <td>pi_e</td>\n",
       "      <td>EX_pi_e</td>\n",
       "      <td>1.384</td>\n",
       "      <td>0</td>\n",
       "      <td>0.00%</td>\n",
       "    </tr>\n",
       "    <tr>\n",
       "      <td>so4_e</td>\n",
       "      <td>EX_so4_e</td>\n",
       "      <td>0.2322</td>\n",
       "      <td>0</td>\n",
       "      <td>0.00%</td>\n",
       "    </tr>\n",
       "    <tr>\n",
       "      <td>zn2_e</td>\n",
       "      <td>EX_zn2_e</td>\n",
       "      <td>0.0004893</td>\n",
       "      <td>0</td>\n",
       "      <td>0.00%</td>\n",
       "    </tr>\n",
       "  </tbody>\n",
       "</table><h4>Secretion</h4><table border=\"1\" class=\"dataframe\">\n",
       "  <thead>\n",
       "    <tr style=\"text-align: right;\">\n",
       "      <th>Metabolite</th>\n",
       "      <th>Reaction</th>\n",
       "      <th>Flux</th>\n",
       "      <th>C-Number</th>\n",
       "      <th>C-Flux</th>\n",
       "    </tr>\n",
       "  </thead>\n",
       "  <tbody>\n",
       "    <tr>\n",
       "      <td>4crsol_c</td>\n",
       "      <td>DM_4crsol_c</td>\n",
       "      <td>-0.00032</td>\n",
       "      <td>7</td>\n",
       "      <td>0.01%</td>\n",
       "    </tr>\n",
       "    <tr>\n",
       "      <td>5drib_c</td>\n",
       "      <td>DM_5drib_c</td>\n",
       "      <td>-0.0003229</td>\n",
       "      <td>5</td>\n",
       "      <td>0.00%</td>\n",
       "    </tr>\n",
       "    <tr>\n",
       "      <td>amob_c</td>\n",
       "      <td>DM_amob_c</td>\n",
       "      <td>-2.87E-06</td>\n",
       "      <td>15</td>\n",
       "      <td>0.00%</td>\n",
       "    </tr>\n",
       "    <tr>\n",
       "      <td>ade_e</td>\n",
       "      <td>EX_ade_e</td>\n",
       "      <td>-0.0003229</td>\n",
       "      <td>5</td>\n",
       "      <td>0.00%</td>\n",
       "    </tr>\n",
       "    <tr>\n",
       "      <td>co2_e</td>\n",
       "      <td>EX_co2_e</td>\n",
       "      <td>-32.73</td>\n",
       "      <td>1</td>\n",
       "      <td>99.97%</td>\n",
       "    </tr>\n",
       "    <tr>\n",
       "      <td>dxylnt_e</td>\n",
       "      <td>EX_dxylnt_e</td>\n",
       "      <td>-0.00096</td>\n",
       "      <td>5</td>\n",
       "      <td>0.01%</td>\n",
       "    </tr>\n",
       "    <tr>\n",
       "      <td>fald_e</td>\n",
       "      <td>EX_fald_e</td>\n",
       "      <td>-2.87E-06</td>\n",
       "      <td>1</td>\n",
       "      <td>0.00%</td>\n",
       "    </tr>\n",
       "    <tr>\n",
       "      <td>h2o_e</td>\n",
       "      <td>EX_h2o_e</td>\n",
       "      <td>-70.15</td>\n",
       "      <td>0</td>\n",
       "      <td>0.00%</td>\n",
       "    </tr>\n",
       "    <tr>\n",
       "      <td>h_e</td>\n",
       "      <td>EX_h_e</td>\n",
       "      <td>-13.2</td>\n",
       "      <td>0</td>\n",
       "      <td>0.00%</td>\n",
       "    </tr>\n",
       "  </tbody>\n",
       "</table>"
      ],
      "text/plain": [
       "<cobra.summary.model_summary.ModelSummary at 0x1eb1c6490c8>"
      ]
     },
     "execution_count": 7,
     "metadata": {},
     "output_type": "execute_result"
    }
   ],
   "source": [
    "#Lets set gluose uptake to experimentally determined number ~15 mmol (Wu et al) and make it diazotrophic by setting ammonia uptake to zero\n",
    "model.reactions.get_by_id(\"EX_glc__D_e\").lower_bound = -15\n",
    "model.reactions.get_by_id(\"EX_glc__D_e\").upper_bound = -15\n",
    "\n",
    "model.reactions.get_by_id(\"EX_nh4_e\").lower_bound = -1000\n",
    "model.reactions.get_by_id(\"EX_nh4_e\").upper_bound = 0\n",
    "\n",
    "solution = model.optimize()\n",
    "\n",
    "#save to dataframe\n",
    "df= pd.DataFrame.from_dict([solution.fluxes]).T\n",
    "df.to_csv('../Data/FBA_results/model_nh4_glu_15.csv')\n",
    "\n",
    "\n",
    "model.summary()"
   ]
  },
  {
   "cell_type": "markdown",
   "metadata": {},
   "source": [
    "As we can see the growth rate is far to fast for both diazotrophic and ammonia supplemented with a experimental glucose uptake rate. "
   ]
  },
  {
   "cell_type": "code",
   "execution_count": null,
   "metadata": {},
   "outputs": [],
   "source": []
  },
  {
   "cell_type": "markdown",
   "metadata": {},
   "source": [
    "First we will look at the annotate PFK gene in A.v.:\n",
    "\n",
    "While this gene Avin_23410 does have some homology to the E coli PFK2 enzyme it is also has high homology to 1-P fructose kinases and other genes in a simple blast search. We cannont be sure that this PFK is active in the foward direction making 1-6-fru in the EMP pathway. "
   ]
  },
  {
   "cell_type": "code",
   "execution_count": null,
   "metadata": {
    "ExecuteTime": {
     "end_time": "2021-03-10T22:45:53.950963Z",
     "start_time": "2021-03-10T22:45:53.945885Z"
    },
    "execution": {
     "iopub.status.busy": "2021-03-22T22:45:19.141751Z",
     "iopub.status.idle": "2021-03-22T22:45:19.141751Z"
    }
   },
   "outputs": [],
   "source": [
    "model.reactions.EX_n2_e"
   ]
  },
  {
   "cell_type": "code",
   "execution_count": null,
   "metadata": {
    "ExecuteTime": {
     "end_time": "2021-03-11T00:06:55.257509Z",
     "start_time": "2021-03-11T00:06:55.091326Z"
    },
    "execution": {
     "iopub.status.busy": "2021-03-22T22:45:19.142750Z",
     "iopub.status.idle": "2021-03-22T22:45:19.142750Z"
    },
    "tags": []
   },
   "outputs": [],
   "source": [
    "model.reactions.get_by_id(\"EX_glc__D_e\").lower_bound = -15\n",
    "model.reactions.get_by_id(\"EX_glc__D_e\").upper_bound = -15\n",
    "\n",
    "\n",
    "model.reactions.get_by_id(\"EX_nh4_e\").lower_bound = 0\n",
    "model.reactions.get_by_id(\"EX_nh4_e\").upper_bound = 0\n",
    "\n",
    "model.reactions.get_by_id(\"PFK\").lower_bound = 0\n",
    "model.reactions.get_by_id(\"PFK\").upper_bound = 0\n",
    "\n",
    "solution = model.optimize()\n",
    "\n",
    "#save to dataframe\n",
    "df= pd.DataFrame.from_dict([solution.fluxes]).T\n",
    "df.to_csv('../Data/FBA_results/model_n2_glu_15.csv')\n",
    "\n",
    "\n",
    "model.summary()"
   ]
  },
  {
   "cell_type": "code",
   "execution_count": null,
   "metadata": {},
   "outputs": [],
   "source": []
  },
  {
   "cell_type": "code",
   "execution_count": null,
   "metadata": {},
   "outputs": [],
   "source": [
    "\n"
   ]
  },
  {
   "cell_type": "code",
   "execution_count": null,
   "metadata": {},
   "outputs": [],
   "source": []
  },
  {
   "cell_type": "code",
   "execution_count": null,
   "metadata": {},
   "outputs": [],
   "source": []
  },
  {
   "cell_type": "code",
   "execution_count": null,
   "metadata": {},
   "outputs": [],
   "source": []
  },
  {
   "cell_type": "code",
   "execution_count": null,
   "metadata": {},
   "outputs": [],
   "source": []
  },
  {
   "cell_type": "code",
   "execution_count": null,
   "metadata": {},
   "outputs": [],
   "source": []
  }
 ],
 "metadata": {
  "kernelspec": {
   "display_name": "Python 3",
   "language": "python",
   "name": "python3"
  },
  "language_info": {
   "codemirror_mode": {
    "name": "ipython",
    "version": 3
   },
   "file_extension": ".py",
   "mimetype": "text/x-python",
   "name": "python",
   "nbconvert_exporter": "python",
   "pygments_lexer": "ipython3",
   "version": "3.7.10"
  }
 },
 "nbformat": 4,
 "nbformat_minor": 4
}
