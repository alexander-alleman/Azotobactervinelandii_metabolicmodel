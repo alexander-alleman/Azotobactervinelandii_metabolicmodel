{
 "cells": [
  {
   "cell_type": "markdown",
   "metadata": {
    "ExecuteTime": {
     "end_time": "2021-03-05T20:51:29.887148Z",
     "start_time": "2021-03-05T20:51:29.880102Z"
    }
   },
   "source": [
    "## Rnf stoichometery is dependent on proton motive force aw well as substrate and product mid point potential. \n",
    "----------\n",
    "\n",
    "*I have used the book Bioenergetics 4  (2013) by David Nicholls and Stuart Ferguson as my main reference for all equations*\n",
    "\n",
    "-----------\n",
    "Rnf has only been characterized biochemically as a Na pump in acetogens, here they determine a stoichiometery of 2 Na / electrons from reduced ferredoxin (Fd) to NADH. While Rnf has not been characterized in aerobic metabolism where is uses the consumption of protons to facilitate the reduction of Fd from NADH. By determining the stoichiometery we can see how Rnf interacts with the whole electron transport system. (Below)\n",
    "\n",
    "------------------------"
   ]
  },
  {
   "cell_type": "markdown",
   "metadata": {},
   "source": [
    "\n",
    "<img src=\"Images/Fullmodel.PNG\" width=800 height=400 />\n",
    "\n",
    "\n"
   ]
  },
  {
   "cell_type": "markdown",
   "metadata": {},
   "source": [
    "-------------------------------\n",
    "To see how much of an effect the $\\frac{NAD^+}{NADH}$ ratio has on the thermodynamics of Rnf we will calculate the mid-point potential of $\\frac{NAD^+}{NADH}$ using the Nerst equation:\n",
    "$$E = E^{o'} + 2.3\\frac{RT}{nF}log_{10}\\left(\\frac{[oxidised]}{[reduced]}\\right)$$\n",
    "Where $R$ is the gas constant, $F$ is the Faraday constant\n",
    "\n",
    "To utilize the Nerst equation we will use the $\\frac{NAD^+}{NADH}$ ratio from Garcia et al (2018): \n",
    "\n",
    "\n",
    "| OTR ($mmol/L$)| $\\frac{NAD^+}{NADH}$ |\n",
    "|---|---|\n",
    "| 2.4 | 12.5 |\n",
    "| 6.4 | 4.35 |\n",
    "\n",
    "\n",
    " Where different  Oxygen transfer rates (OTR) where used to determine the respiration rate. \n",
    " \n",
    " For $\\frac{NAD^+}{NADH}$ redox couple $E^{o'} = -320mv$, but for the nerst equation allowing for the actual cellular redox potential of $\\frac{NAD^+}{NADH}$ to be determine by this equation: \n",
    " \n",
    "$$E = -320 + 2.3\\frac{0.008134 \\cdot 303}{2 \\cdot 96.5}log_{10}(Q)$$\n",
    "\n",
    "Where $Q$ is the $\\frac{NAD^+}{NADH}$ ratio. \n",
    "\n",
    "We can use python to calculate the above equation and calculate the cellular redox potential for any ratio of $\\frac{NAD^+}{NADH}$:"
   ]
  },
  {
   "cell_type": "code",
   "execution_count": 32,
   "metadata": {
    "ExecuteTime": {
     "end_time": "2021-03-05T20:23:26.742731Z",
     "start_time": "2021-03-05T20:23:26.728764Z"
    },
    "execution": {
     "iopub.execute_input": "2021-07-07T22:57:29.191993Z",
     "iopub.status.busy": "2021-07-07T22:57:29.191993Z",
     "iopub.status.idle": "2021-07-07T22:57:29.211105Z",
     "shell.execute_reply": "2021-07-07T22:57:29.210105Z",
     "shell.execute_reply.started": "2021-07-07T22:57:29.191993Z"
    }
   },
   "outputs": [],
   "source": [
    "#First import the following packages\n",
    "import math\n",
    "import numpy as np\n",
    "import matplotlib.pyplot as plt"
   ]
  },
  {
   "cell_type": "code",
   "execution_count": 33,
   "metadata": {
    "ExecuteTime": {
     "end_time": "2021-03-05T20:23:26.758763Z",
     "start_time": "2021-03-05T20:23:26.745762Z"
    },
    "execution": {
     "iopub.execute_input": "2021-07-07T22:57:29.212105Z",
     "iopub.status.busy": "2021-07-07T22:57:29.212105Z",
     "iopub.status.idle": "2021-07-07T22:57:29.227083Z",
     "shell.execute_reply": "2021-07-07T22:57:29.226084Z",
     "shell.execute_reply.started": "2021-07-07T22:57:29.212105Z"
    }
   },
   "outputs": [],
   "source": [
    "#give physical constants\n",
    "R = 0.008314 #Gas constant (KJ/ K mol)\n",
    "T = 303 #Temp at 30C (K)\n",
    "F = 96.5 #Faraday (KJ / volt gram eq)\n",
    "\n",
    "#define the nest function\n",
    "def nerst(E_m7, n, Q):\n",
    "    #equation in volts so -230 mv is -0.23 v\n",
    "    return  E_m7 + (2.3*(R*T)/(n*F)) * math.log10(Q)\n",
    "    #print(E)"
   ]
  },
  {
   "cell_type": "code",
   "execution_count": 34,
   "metadata": {
    "ExecuteTime": {
     "end_time": "2021-03-05T20:23:26.772762Z",
     "start_time": "2021-03-05T20:23:26.762742Z"
    },
    "execution": {
     "iopub.execute_input": "2021-07-07T22:57:29.228081Z",
     "iopub.status.busy": "2021-07-07T22:57:29.228081Z",
     "iopub.status.idle": "2021-07-07T22:57:29.242106Z",
     "shell.execute_reply": "2021-07-07T22:57:29.242106Z",
     "shell.execute_reply.started": "2021-07-07T22:57:29.228081Z"
    }
   },
   "outputs": [
    {
     "data": {
      "text/plain": [
       "-0.28706981454313457"
      ]
     },
     "execution_count": 34,
     "metadata": {},
     "output_type": "execute_result"
    }
   ],
   "source": [
    "#determine the midpoinit potenital at a 12.5 NAD/NADH ratio\n",
    "nerst(-0.320, 2,  12.5)"
   ]
  },
  {
   "cell_type": "code",
   "execution_count": 35,
   "metadata": {
    "ExecuteTime": {
     "end_time": "2021-03-05T20:23:26.785760Z",
     "start_time": "2021-03-05T20:23:26.774732Z"
    },
    "execution": {
     "iopub.execute_input": "2021-07-07T22:57:29.244107Z",
     "iopub.status.busy": "2021-07-07T22:57:29.243108Z",
     "iopub.status.idle": "2021-07-07T22:57:29.259137Z",
     "shell.execute_reply": "2021-07-07T22:57:29.258115Z",
     "shell.execute_reply.started": "2021-07-07T22:57:29.244107Z"
    }
   },
   "outputs": [
    {
     "data": {
      "text/plain": [
       "-0.30083200135435545"
      ]
     },
     "execution_count": 35,
     "metadata": {},
     "output_type": "execute_result"
    }
   ],
   "source": [
    "#determine the midpoinit potenital at a 4.35 NAD/NADH ratio\n",
    "nerst(-0.320, 2,  4.35)"
   ]
  },
  {
   "cell_type": "markdown",
   "metadata": {},
   "source": [
    "With these calculation we can see that the mid point potential is -287 mv at 12.5 ratio and -300 mv at 4.5 ratio. \n",
    "\n",
    "\n",
    "We can also plot the values for all ratios of $\\frac{NAD^+}{NADH}$"
   ]
  },
  {
   "cell_type": "code",
   "execution_count": 36,
   "metadata": {
    "ExecuteTime": {
     "end_time": "2021-03-05T20:23:27.224729Z",
     "start_time": "2021-03-05T20:23:26.786728Z"
    },
    "execution": {
     "iopub.execute_input": "2021-07-07T22:57:29.260111Z",
     "iopub.status.busy": "2021-07-07T22:57:29.259137Z",
     "iopub.status.idle": "2021-07-07T22:57:29.639201Z",
     "shell.execute_reply": "2021-07-07T22:57:29.639201Z",
     "shell.execute_reply.started": "2021-07-07T22:57:29.259137Z"
    }
   },
   "outputs": [
    {
     "data": {
      "image/png": "[encoded data removed]",
      "text/plain": [
       "<Figure size 432x288 with 1 Axes>"
      ]
     },
     "metadata": {
      "needs_background": "light"
     },
     "output_type": "display_data"
    }
   ],
   "source": [
    "\n",
    "E = []\n",
    "Q_i = []\n",
    "for i in np.geomspace(0.001,1000,10000 ):\n",
    "    E_i = nerst(-0.320, 2, i)\n",
    "    E.append(E_i)\n",
    "    Q_i.append(i)\n",
    "\n",
    "fig = plt.figure()\n",
    "ax = plt.gca()\n",
    "ax.plot(E, Q_i)\n",
    "ax.set_yscale('log')\n",
    "ax.grid()\n"
   ]
  },
  {
   "cell_type": "markdown",
   "metadata": {
    "ExecuteTime": {
     "end_time": "2021-03-04T20:42:34.571440Z",
     "start_time": "2021-03-04T20:42:34.209156Z"
    }
   },
   "source": [
    "So we can see that while the $\\frac{NAD^+}{NADH}$ does effect the mid point potential only in the extremes is it going to cause some reactions to be infeasible or something like NADH reducing Ferredoxin or flavodoxin which have a mid point potential around -500. \n",
    "\n",
    "These answers from above now allow use to ask what the $\\Delta G$ of the Rnf reaction. \n",
    "\n",
    "Firsts lets lay out the stoichiometery of the reaction:\n",
    "\n",
    "$$ NADH + 2 Fd_{ox} + nH_{p}^{+} -> NAD^+ + 2 Fd_{red} + nH_{c}^{+} $$\n",
    "\n",
    "Where $H_{p}^{+}$ is periplasm proton and $nH_{c}^{+}$ is the cytoplasm proton and $n$ is the number of protons translocated. \n",
    "\n",
    "For the redox reaction between NADH and Fd we must calculate $\\Delta E_h$:\n",
    "\n",
    "$$\\Delta E_h = E_{h(A)} - E_{h(B)} $$\n",
    "\n",
    "Where the midpoint potential of Flavodoxin is -483 mv (Segal et al 2016), so $\\Delta E_h$ is:\n",
    "\n",
    "$$ \\Delta E_h = -196 mv \\left(\\frac{NAD^+}{NADH} = 12.5\\right) $$\n",
    "$$ \\Delta E_h = -183 mv \\left(\\frac{NAD^+}{NADH} = 4.35\\right) $$\n",
    "\n",
    "Then to calculate $\\Delta G$ we use:\n",
    "\n",
    "$$ \\Delta G = -nF \\Delta E_h$$\n",
    "\n",
    "Giving:\n",
    "\n",
    "$$ \\Delta G = + 37.82 \\frac{KJ}{mol} \\left(\\frac{NAD^+}{NADH} = 12.5\\right) $$\n",
    " $$ \\Delta G = + 35.31 \\frac{KJ}{mol} \\left(\\frac{NAD^+}{NADH} = 4.35\\right) $$\n",
    " \n",
    "  The $\\Delta G$ is positive as Fd is at a lower mid point potential than NADH hence the need for proton motive force to drive this reaction forward. \n",
    "  \n",
    "  The proton motive force  $\\Delta p$ was measured once in *A. vinelandii*  in Laane et al (1980) and present as the electric potential $\\Delta \\psi$ at $106\\ mv$  and the change in pH $\\Delta pH$ at $0.45\\ pH$. We can calculate the proton motive force in $\\Delta \\mu_{H^{+}}$ for $\\frac{KJ}{mol}$ or $\\Delta p$ for $mv$ through the following equations:\n",
    "  \n",
    "  $$ \\Delta \\mu_{H^{+}} = -F \\Delta \\Psi + 2.3RT \\Delta pH $$\n",
    "  $$ \\Delta p = \\frac{-\\Delta \\mu_{H^{+}}}{F} $$\n",
    "  \n",
    "  Giving a $\\Delta \\mu_{H^{+}} = -7.621\\left ( \\frac{KJ}{mol}\\right )$ and $\\Delta p = 79.9 mv$\n",
    " \n",
    " With this information we now have two ways of calculating the protons required to facilitate electron transfer. First when electrons enter and leave the on the same side of the membrane we can use the simple relationship between proton motive for and the redox span:\n",
    " \n",
    " $$n \\Delta p = 2 \\Delta E_h$$\n",
    " \n",
    " Where $\\Delta p$ is the proton motive force in mv and $n$ is the number of protons required for translocation and the 2 for the 2 electrons transfer in the redox span.  Solving for $n$ gives: \n",
    " \n",
    " $$ n = \\left (\\frac{2 \\Delta E_h}{\\Delta p} \\right) $$\n",
    " \n",
    " Producing a proton to electron ratio:\n",
    " \n",
    " $$ n = -4.906\\ H^+/2e^-\\ for \\ \\left(\\frac{NAD^+}{NADH} = 12.5\\right) $$\n",
    "  $$ n = -4.580\\ H^+/2e^-\\ for \\ \\left(\\frac{NAD^+}{NADH} = 4.35\\right) $$\n",
    "  \n",
    "  The next way to  calculate using the $\\Delta G$ and $\\Delta \\mu_{H^{+}}$ by understanding that in order to make the reaction favorable $\\Delta G^{tot} \\leq 0$ \n",
    "  \n",
    "  Meaning the $\\Delta G$ of the redox reaction must at least equal the $\\Delta \\mu_{H^{+}}$\n",
    "  \n",
    "  $$ \\Delta G = n \\cdot \\Delta \\mu_{H^{+}} $$\n",
    "  or\n",
    "  \n",
    "  $$ \\frac{\\Delta G}{\\Delta \\mu_{H^{+}}} = n $$\n",
    "\n",
    "\n",
    "From this we get :\n",
    "\n",
    " $$ n = -4.962\\ H^+/2e^- \\ for\\ \\left(\\frac{NAD^+}{NADH} = 12.5\\right) $$\n",
    "  $$ n = -4.633\\ H^+/2e^- \\ for\\ \\left(\\frac{NAD^+}{NADH} = 4.35\\right) $$\n",
    "  \n",
    "  Both of ways are very similar  and probably only different due rounding errors. We can also see that even at low  $\\frac{NAD^+}{NADH}$ ratio we have a similar proton rate of 4.5-5. \n",
    "  \n",
    "  This makes much more sense than the described $2\\ H^+/2e^-$ stoichiometery given for proton pumping with acetogens and which is annotate in most databases for RNF. \n",
    "  \n",
    "_________________________________\n",
    "\n",
    "### Rnf and the relationship to proton motive force\n",
    "\n",
    "Now we can take this information and show how Rnf would be influenced by the proton motive force and how this couold make it a conditionally enzyme with use under higher proton motive forces. \n",
    "\n",
    "We can simply plot the relationship between the $\\Delta G$ of Rnf and $\\Delta \\mu_{H^{+}}$ and plot the linear relationship:\n",
    "\n",
    " $$ \\Delta G = \\Delta G^{o} + 2.3RTlog(Q) - 5 \\cdot \\Delta \\mu_{H^{+}} $$\n",
    " \n",
    " Where \n",
    " \n",
    " $$ \\Delta G^{o} = -2F \\cdot -0.196\\ v $$ \n",
    " $$ \\Delta G^{o} = 37.82\\ KJ/mol$$\n",
    " \n",
    " With 2 electrons transfers and $\\Delta E_h= -196 \\ mv$ for the NADH/Fd couple\n",
    "\n",
    " \n",
    "\n",
    "\n"
   ]
  },
  {
   "cell_type": "code",
   "execution_count": 37,
   "metadata": {
    "ExecuteTime": {
     "end_time": "2021-03-05T20:23:27.424459Z",
     "start_time": "2021-03-05T20:23:27.225729Z"
    },
    "execution": {
     "iopub.execute_input": "2021-07-07T22:57:29.641172Z",
     "iopub.status.busy": "2021-07-07T22:57:29.641172Z",
     "iopub.status.idle": "2021-07-07T22:57:29.861640Z",
     "shell.execute_reply": "2021-07-07T22:57:29.861640Z",
     "shell.execute_reply.started": "2021-07-07T22:57:29.641172Z"
    }
   },
   "outputs": [
    {
     "data": {
      "text/plain": [
       "Text(0, 0.5, '$\\\\Delta G^{RNF}\\\\ _{(KJ/mol)}$')"
      ]
     },
     "execution_count": 37,
     "metadata": {},
     "output_type": "execute_result"
    },
    {
     "data": {
      "image/png": "[encoded data removed]",
      "text/plain": [
       "<Figure size 432x288 with 1 Axes>"
      ]
     },
     "metadata": {
      "needs_background": "light"
     },
     "output_type": "display_data"
    }
   ],
   "source": [
    "def dG_rxn(G_o, n, Q, u_h):\n",
    "    return  G_o + (2.3*(R*T)) * math.log10(Q) + (n*u_h)\n",
    "\n",
    "\n",
    "\n",
    "\n",
    "xvals = np.linspace(-25,0,100 )\n",
    "d_Gi_6h = dG_rxn(37.82, 6, 12.5, xvals)\n",
    "d_Gi_5h = dG_rxn(37.82, 5, 12.5, xvals)\n",
    "d_Gi_4h = dG_rxn(37.82, 4, 12.5, xvals)\n",
    "\n",
    "fig = plt.figure()\n",
    "ax = plt.gca()\n",
    "ax.plot(xvals, d_Gi_6h, label =r\"$6\\ H^+/2e^-$\")\n",
    "ax.plot(xvals, d_Gi_5h, label =r\"$5\\ H^+/2e^-$\")\n",
    "ax.plot(xvals, d_Gi_4h, label =r\"$4\\ H^+/2e^-$\")\n",
    "ax.axhline(y=0, color=\"black\")\n",
    "plt.legend(loc ='lower right')\n",
    "plt.xlabel(r'$\\Delta\\ \\mu_{H^{+}}\\ _{(KJ/mol)}$', fontsize = 14)\n",
    "plt.ylabel(r'$\\Delta G^{RNF}\\ _{(KJ/mol)}$', fontsize = 14)"
   ]
  },
  {
   "cell_type": "markdown",
   "metadata": {},
   "source": [
    "In the end of the day we want to compare the thermodynamics of both the Fix enzyme and the Rnf enzyme as they both interact with the proton motive force but in different ways. As we saw before the ratio of substrate or product has an effect but small on the total $\\Delta G$ of the reaction as well as E coli papers showing close to Eq for quinone/quniol ratios. \n",
    "\n",
    "The $\\Delta G$ for Fix is -36.7 (Ledbetter et al 2017)\n",
    "\n",
    "So we can plot this on the line and show how Fix and Rnf become favorable in diffrent conditions\n"
   ]
  },
  {
   "cell_type": "code",
   "execution_count": 38,
   "metadata": {
    "ExecuteTime": {
     "end_time": "2021-03-05T20:23:27.657459Z",
     "start_time": "2021-03-05T20:23:27.426459Z"
    },
    "execution": {
     "iopub.execute_input": "2021-07-07T22:57:29.862640Z",
     "iopub.status.busy": "2021-07-07T22:57:29.862640Z",
     "iopub.status.idle": "2021-07-07T22:57:30.130641Z",
     "shell.execute_reply": "2021-07-07T22:57:30.130641Z",
     "shell.execute_reply.started": "2021-07-07T22:57:29.862640Z"
    }
   },
   "outputs": [
    {
     "data": {
      "image/png": "[encoded data removed]",
      "text/plain": [
       "<Figure size 432x288 with 1 Axes>"
      ]
     },
     "metadata": {
      "needs_background": "light"
     },
     "output_type": "display_data"
    }
   ],
   "source": [
    "xvals = np.linspace(-25,0,100 )\n",
    "d_Gi_6h = dG_rxn(37.82, 6, 12.5, xvals)\n",
    "d_Gi_5h = dG_rxn(37.82, 5, 12.5, xvals)\n",
    "d_Gi_4h = dG_rxn(37.82, 4, 12.5, xvals)\n",
    "\n",
    "fig = plt.figure()\n",
    "ax = plt.gca()\n",
    "plt.ylim((-120,50))\n",
    "plt.xlim((-25,5))\n",
    "ax.plot(xvals, d_Gi_6h, label =r\"$6\\ H^+/2e^-$\",  color = 'tab:blue')\n",
    "ax.plot(xvals, d_Gi_5h, label =r\"$5\\ H^+/2e^-$\", color = 'tab:orange')\n",
    "ax.plot(xvals, d_Gi_4h, label =r\"$4\\ H^+/2e^-$\", color = 'tab:green')\n",
    "ax.axhline(y=0, color=\"black\", linestyle = \":\")\n",
    "ax.axhline(y=-36.7, color=\"purple\", linestyle = \":\")\n",
    "plt.legend(loc ='lower right')\n",
    "plt.xlabel(r'$\\Delta\\ \\mu_{H^{+}}\\ _{(kJ/mol)}$', fontsize = 14)\n",
    "plt.ylabel(r'$\\Delta G^{RNF}\\ _{(kJ/mol)}$', fontsize = 14)\n",
    "plt.annotate(r'$\\Delta G^{FIX}$', (-5,-33) , fontsize = 14, color = \"purple\")\n",
    "plt.savefig(\"../Outputs/RNF/thermo.tiff\", dpi= 30, format=\"tiff\")"
   ]
  },
  {
   "cell_type": "code",
   "execution_count": 39,
   "metadata": {
    "execution": {
     "iopub.execute_input": "2021-07-07T22:57:30.131640Z",
     "iopub.status.busy": "2021-07-07T22:57:30.131640Z",
     "iopub.status.idle": "2021-07-07T22:57:30.335154Z",
     "shell.execute_reply": "2021-07-07T22:57:30.334158Z",
     "shell.execute_reply.started": "2021-07-07T22:57:30.131640Z"
    }
   },
   "outputs": [
    {
     "name": "stderr",
     "output_type": "stream",
     "text": [
      "No handles with labels found to put in legend.\n"
     ]
    },
    {
     "data": {
      "image/png": "[encoded data removed]",
      "text/plain": [
       "<Figure size 432x288 with 1 Axes>"
      ]
     },
     "metadata": {
      "needs_background": "light"
     },
     "output_type": "display_data"
    }
   ],
   "source": [
    "xvals = np.linspace(-25,0,100 )\n",
    "d_Gi_6h = dG_rxn(37.82, 6, 12.5, xvals)\n",
    "d_Gi_5h = dG_rxn(37.82, 5, 12.5, xvals)\n",
    "d_Gi_4h = dG_rxn(37.82, 4, 12.5, xvals)\n",
    "\n",
    "fig = plt.figure()\n",
    "ax = plt.gca()\n",
    "#ax.plot(xvals, d_Gi_6h, label =r\"$6\\ H^+/2e^-$\")\n",
    "#ax.plot(xvals, d_Gi_5h, label =r\"$5\\ H^+/2e^-$\")\n",
    "#ax.plot(xvals, d_Gi_4h, label =r\"$4\\ H^+/2e^-$\")\n",
    "ax.axhline(y=0, color=\"black\", linestyle = \":\")\n",
    "plt.ylim((-120,50))\n",
    "plt.xlim((-25,5))\n",
    "#ax.axhline(y=-36.7, color=\"purple\", linestyle = \":\")\n",
    "plt.legend(loc ='lower right')\n",
    "plt.xlabel(r'$\\Delta\\ \\mu_{H^{+}}\\ _{(kJ/mol)}$', fontsize = 14)\n",
    "plt.ylabel(r'$\\Delta G^{RNF}\\ _{(kJ/mol)}$', fontsize = 14)\n",
    "#plt.annotate(r'$\\Delta G^{FIX}$', (-5,-33) , fontsize = 14, color = \"purple\")\n",
    "plt.savefig(\"../Outputs/RNF/thermo1.tiff\", dpi= 30, format=\"tiff\")"
   ]
  },
  {
   "cell_type": "code",
   "execution_count": 40,
   "metadata": {
    "execution": {
     "iopub.execute_input": "2021-07-07T22:57:30.337155Z",
     "iopub.status.busy": "2021-07-07T22:57:30.336171Z",
     "iopub.status.idle": "2021-07-07T22:57:30.587133Z",
     "shell.execute_reply": "2021-07-07T22:57:30.586132Z",
     "shell.execute_reply.started": "2021-07-07T22:57:30.337155Z"
    }
   },
   "outputs": [
    {
     "data": {
      "image/png": "[encoded data removed]",
      "text/plain": [
       "<Figure size 432x288 with 1 Axes>"
      ]
     },
     "metadata": {
      "needs_background": "light"
     },
     "output_type": "display_data"
    }
   ],
   "source": [
    "xvals = np.linspace(-25,0,100 )\n",
    "d_Gi_6h = dG_rxn(37.82, 6, 12.5, xvals)\n",
    "d_Gi_5h = dG_rxn(37.82, 5, 12.5, xvals)\n",
    "d_Gi_4h = dG_rxn(37.82, 4, 12.5, xvals)\n",
    "\n",
    "fig = plt.figure()\n",
    "ax = plt.gca()\n",
    "#ax.plot(xvals, d_Gi_6h, label =r\"$6\\ H^+/2e^-$\")\n",
    "ax.plot(xvals, d_Gi_5h, label =r\"$5\\ H^+/2e^-$\", color = 'tab:orange')\n",
    "#ax.plot(xvals, d_Gi_4h, label =r\"$4\\ H^+/2e^-$\")\n",
    "ax.axhline(y=0, color=\"black\", linestyle = \":\")\n",
    "plt.ylim((-120,50))\n",
    "plt.xlim((-25,5))\n",
    "#ax.axhline(y=-36.7, color=\"purple\", linestyle = \":\")\n",
    "plt.legend(loc ='lower right')\n",
    "plt.xlabel(r'$\\Delta\\ \\mu_{H^{+}}\\ _{(kJ/mol)}$', fontsize = 14)\n",
    "plt.ylabel(r'$\\Delta G^{RNF}\\ _{(kJ/mol)}$', fontsize = 14)\n",
    "#plt.annotate(r'$\\Delta G^{FIX}$', (-5,-33) , fontsize = 14, color = \"purple\")\n",
    "plt.savefig(\"../Outputs/RNF/thermo2.tiff\", dpi= 30, format=\"tiff\")"
   ]
  },
  {
   "cell_type": "code",
   "execution_count": 41,
   "metadata": {
    "execution": {
     "iopub.execute_input": "2021-07-07T22:57:30.587133Z",
     "iopub.status.busy": "2021-07-07T22:57:30.587133Z",
     "iopub.status.idle": "2021-07-07T22:57:30.825163Z",
     "shell.execute_reply": "2021-07-07T22:57:30.824196Z",
     "shell.execute_reply.started": "2021-07-07T22:57:30.587133Z"
    }
   },
   "outputs": [
    {
     "data": {
      "image/png": "[encoded data removed]",
      "text/plain": [
       "<Figure size 432x288 with 1 Axes>"
      ]
     },
     "metadata": {
      "needs_background": "light"
     },
     "output_type": "display_data"
    }
   ],
   "source": [
    "xvals = np.linspace(-25,0,100 )\n",
    "d_Gi_6h = dG_rxn(37.82, 6, 12.5, xvals)\n",
    "d_Gi_5h = dG_rxn(37.82, 5, 12.5, xvals)\n",
    "d_Gi_4h = dG_rxn(37.82, 4, 12.5, xvals)\n",
    "\n",
    "fig = plt.figure()\n",
    "ax = plt.gca()\n",
    "#ax.plot(xvals, d_Gi_6h, label =r\"$6\\ H^+/2e^-$\")\n",
    "ax.plot(xvals, d_Gi_5h, label =r\"$5\\ H^+/2e^-$\", color = 'tab:orange')\n",
    "#ax.plot(xvals, d_Gi_4h, label =r\"$4\\ H^+/2e^-$\")\n",
    "ax.axhline(y=0, color=\"black\", linestyle = \":\")\n",
    "plt.ylim((-120,50))\n",
    "plt.xlim((-25,5))\n",
    "ax.axhline(y=-36.7, color=\"purple\", linestyle = \":\")\n",
    "plt.legend(loc ='lower right')\n",
    "plt.xlabel(r'$\\Delta\\ \\mu_{H^{+}}\\ _{(kJ/mol)}$', fontsize = 14)\n",
    "plt.ylabel(r'$\\Delta G^{RNF}\\ _{(kJ/mol)}$', fontsize = 14)\n",
    "plt.annotate(r'$\\Delta G^{FIX}$', (-5,-33) , fontsize = 14, color = \"purple\")\n",
    "plt.savefig(\"../Outputs/RNF/thermo3.tiff\", dpi= 30, format=\"tiff\")"
   ]
  },
  {
   "cell_type": "markdown",
   "metadata": {},
   "source": [
    "While looking at this system we can divide it into three parts, 1) (0->-7.62) where the proton motive force is too low for favorable Fd reduction in Rnf, 2) (7.62 ->~14) Where the thermodynamics of RNf are favorable but the Fix enzyme is still more favorable, and 3) where Rnf is more favorable than Fix. "
   ]
  },
  {
   "cell_type": "code",
   "execution_count": 42,
   "metadata": {
    "execution": {
     "iopub.execute_input": "2021-07-07T22:57:30.826163Z",
     "iopub.status.busy": "2021-07-07T22:57:30.826163Z",
     "iopub.status.idle": "2021-07-07T22:57:30.841164Z",
     "shell.execute_reply": "2021-07-07T22:57:30.840162Z",
     "shell.execute_reply.started": "2021-07-07T22:57:30.826163Z"
    }
   },
   "outputs": [
    {
     "name": "stdout",
     "output_type": "stream",
     "text": [
      "78.96373056994818\n",
      "145.07772020725386\n"
     ]
    }
   ],
   "source": [
    "def dHtodp(H):\n",
    "    return ((H)/F)*1000\n",
    "print(dHtodp(7.62))\n",
    "print(dHtodp(14))"
   ]
  },
  {
   "cell_type": "markdown",
   "metadata": {},
   "source": [
    "\n",
    "___________________________\n",
    "### Citations\n",
    "\n",
    "Nicholls, D. G., &amp; Ferguson, S. (2013). Bioenergetics4. Jordon Hill: Elsevier Science.\n",
    "\n",
    "García A, Ferrer P, Albiol J, Castillo T, Segura D, Peña C. 2018. Metabolic flux analysis and the NAD(P)H/NAD(P)+ ratios in chemostat cultures of Azotobacter vinelandii. Microb Cell Fact 17.\n",
    "\n",
    "Segal HM, Spatzal T, Hill MG, Udit AK, Rees DC. 2017. Electrochemical and structural characterization of Azotobacter vinelandii flavodoxin II. Protein Science 26:1984–1993.\n",
    "\n",
    "Laane C, Krone W, Konings W, Haaker H, Veeger C. 1980. Short-term effect of ammonium chloride on nitrogen fixation by Azotobacter vinelandii and by bacteroids of Rhizobium leguminosarum. European journal of biochemistry / FEBS 103:39–46.\n",
    "\n",
    "Ledbetter RN, Garcia Costas AM, Lubner CE, Mulder DW, Tokmina-Lukaszewska M, Artz JH, Patterson A, Magnuson TS, Jay ZJ, Duan HD, Miller J, Plunkett MH, Hoben JP, Barney BM, Carlson RP, Miller AF, Bothner B, King PW, Peters JW, Seefeldt LC. 2017. The electron bifurcating FixABCX protein complex from Azotobacter vinelandii: generation of low-potential reducing equivalents for nitrogenase catalysis. Biochemistry 56:4177–4190.\n"
   ]
  }
 ],
 "metadata": {
  "kernelspec": {
   "display_name": "Python 3",
   "language": "python",
   "name": "python3"
  },
  "language_info": {
   "codemirror_mode": {
    "name": "ipython",
    "version": 3
   },
   "file_extension": ".py",
   "mimetype": "text/x-python",
   "name": "python",
   "nbconvert_exporter": "python",
   "pygments_lexer": "ipython3",
   "version": "3.7.10"
  }
 },
 "nbformat": 4,
 "nbformat_minor": 4
}
