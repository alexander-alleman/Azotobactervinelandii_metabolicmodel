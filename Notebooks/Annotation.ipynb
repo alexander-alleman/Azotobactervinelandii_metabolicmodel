{
 "cells": [
  {
   "cell_type": "markdown",
   "metadata": {},
   "source": [
    "iDT1278 sbml model is not valid and matlab model has no annotations information will add annotation from most recent ecoli model. \n",
    "\n",
    "Based and modified from https://github.com/ChristianLieven/Yarrowia_lipolytica_W29-GEM/\n"
   ]
  },
  {
   "cell_type": "code",
   "execution_count": 1,
   "metadata": {
    "ExecuteTime": {
     "end_time": "2021-03-03T22:56:25.163936Z",
     "start_time": "2021-03-03T22:56:25.160975Z"
    },
    "execution": {
     "iopub.execute_input": "2021-05-31T00:34:32.904192Z",
     "iopub.status.busy": "2021-05-31T00:34:32.904192Z",
     "iopub.status.idle": "2021-05-31T00:34:35.285218Z",
     "shell.execute_reply": "2021-05-31T00:34:35.285218Z",
     "shell.execute_reply.started": "2021-05-31T00:34:32.904192Z"
    }
   },
   "outputs": [],
   "source": [
    "from cobra.io import read_sbml_model, load_matlab_model, write_sbml_model"
   ]
  },
  {
   "cell_type": "code",
   "execution_count": 2,
   "metadata": {
    "ExecuteTime": {
     "end_time": "2021-03-03T22:57:08.738263Z",
     "start_time": "2021-03-03T22:56:25.164936Z"
    },
    "execution": {
     "iopub.execute_input": "2021-05-31T00:34:35.286219Z",
     "iopub.status.busy": "2021-05-31T00:34:35.286219Z",
     "iopub.status.idle": "2021-05-31T00:35:27.395570Z",
     "shell.execute_reply": "2021-05-31T00:35:27.395570Z",
     "shell.execute_reply.started": "2021-05-31T00:34:35.286219Z"
    },
    "scrolled": true
   },
   "outputs": [
    {
     "name": "stderr",
     "output_type": "stream",
     "text": [
      "C:\\Users\\alexa\\anaconda3\\envs\\Metabolic_models\\lib\\site-packages\\cobra\\core\\reaction.py:464: UserWarning: malformed gene_reaction_rule '((Avin_11760) and (Avin_13240) and (Avin_02950)) or ((Avin_45310) or (Avin_42560)' for <Reaction MPTG at 0x2d6da409a88>\n",
      "  warn(\"malformed gene_reaction_rule '%s' for %s\" % (new_rule, repr(self)))\n",
      "C:\\Users\\alexa\\anaconda3\\envs\\Metabolic_models\\lib\\site-packages\\cobra\\core\\reaction.py:464: UserWarning: malformed gene_reaction_rule '((Avin_11760) and (Avin_13240) and (Avin_02950)) or ((Avin_45310) or (Avin_42560)' for <Reaction MPTG2 at 0x2d6da41dbc8>\n",
      "  warn(\"malformed gene_reaction_rule '%s' for %s\" % (new_rule, repr(self)))\n"
     ]
    }
   ],
   "source": [
    "Av_model = load_matlab_model(\"../Data/Models/iDT1278.mat\")\n",
    "Ec_model = read_sbml_model(\"../Data/Models/iAF1260.xml\")\n",
    "Kp_model = read_sbml_model(\"../Data/Models/iYL1228.xml\")\n",
    "Gm_model = read_sbml_model(\"../Data/Models/iAF987.xml\")"
   ]
  },
  {
   "cell_type": "code",
   "execution_count": 3,
   "metadata": {
    "execution": {
     "iopub.execute_input": "2021-05-31T00:35:27.397568Z",
     "iopub.status.busy": "2021-05-31T00:35:27.396567Z",
     "iopub.status.idle": "2021-05-31T00:35:27.413422Z",
     "shell.execute_reply": "2021-05-31T00:35:27.410851Z",
     "shell.execute_reply.started": "2021-05-31T00:35:27.397568Z"
    }
   },
   "outputs": [],
   "source": [
    "#Fix malformed MPTG gene\n",
    "MPTG = Av_model.reactions.get_by_id('MPTG')\n",
    "MPTG.gene_reaction_rule = '(Avin_11760) and (Avin_13240)'\n",
    "\n",
    "MPTG2 = Av_model.reactions.get_by_id('MPTG2')\n",
    "MPTG2.gene_reaction_rule = '(Avin_45310) or (Avin_42560)'"
   ]
  },
  {
   "cell_type": "code",
   "execution_count": 4,
   "metadata": {
    "execution": {
     "iopub.execute_input": "2021-05-31T00:35:27.417407Z",
     "iopub.status.busy": "2021-05-31T00:35:27.416411Z",
     "iopub.status.idle": "2021-05-31T00:35:28.459760Z",
     "shell.execute_reply": "2021-05-31T00:35:28.458842Z",
     "shell.execute_reply.started": "2021-05-31T00:35:27.416411Z"
    }
   },
   "outputs": [],
   "source": [
    "#rewrite matlab model to SBML\n",
    "write_sbml_model(Av_model, \"../Data/Models/iDT1278_n.xml\")"
   ]
  },
  {
   "cell_type": "code",
   "execution_count": 5,
   "metadata": {
    "ExecuteTime": {
     "end_time": "2021-03-03T22:57:08.746166Z",
     "start_time": "2021-03-03T22:57:08.740168Z"
    },
    "execution": {
     "iopub.execute_input": "2021-05-31T00:35:28.460758Z",
     "iopub.status.busy": "2021-05-31T00:35:28.459760Z",
     "iopub.status.idle": "2021-05-31T00:35:28.474794Z",
     "shell.execute_reply": "2021-05-31T00:35:28.474794Z",
     "shell.execute_reply.started": "2021-05-31T00:35:28.460758Z"
    }
   },
   "outputs": [
    {
     "name": "stdout",
     "output_type": "stream",
     "text": [
      "2003 2003\n"
     ]
    }
   ],
   "source": [
    "#Determine how many metabolites have seed annotation can choose any annotation \n",
    "\n",
    "rxn_count = 0\n",
    "for met in Av_model.metabolites:\n",
    "    if \"seed.compound\" not in met.annotation:\n",
    "        rxn_count +=1\n",
    "        \n",
    "print(rxn_count, len(Av_model.metabolites))\n",
    "        "
   ]
  },
  {
   "cell_type": "markdown",
   "metadata": {},
   "source": [
    "There are no annotations at all for any metabolite in the model"
   ]
  },
  {
   "cell_type": "code",
   "execution_count": 6,
   "metadata": {
    "ExecuteTime": {
     "end_time": "2021-03-03T22:57:08.768700Z",
     "start_time": "2021-03-03T22:57:08.749702Z"
    },
    "execution": {
     "iopub.execute_input": "2021-05-31T00:35:28.475756Z",
     "iopub.status.busy": "2021-05-31T00:35:28.475756Z",
     "iopub.status.idle": "2021-05-31T00:35:28.490758Z",
     "shell.execute_reply": "2021-05-31T00:35:28.490758Z",
     "shell.execute_reply.started": "2021-05-31T00:35:28.475756Z"
    }
   },
   "outputs": [
    {
     "data": {
      "text/plain": [
       "{}"
      ]
     },
     "execution_count": 6,
     "metadata": {},
     "output_type": "execute_result"
    }
   ],
   "source": [
    "#Compare annotation of Av model to Ec model\n",
    "Av_model.metabolites.ac_c.annotation"
   ]
  },
  {
   "cell_type": "code",
   "execution_count": 7,
   "metadata": {
    "ExecuteTime": {
     "end_time": "2021-03-03T22:57:08.781701Z",
     "start_time": "2021-03-03T22:57:08.770701Z"
    },
    "execution": {
     "iopub.execute_input": "2021-05-31T00:35:28.491757Z",
     "iopub.status.busy": "2021-05-31T00:35:28.491757Z",
     "iopub.status.idle": "2021-05-31T00:35:28.506704Z",
     "shell.execute_reply": "2021-05-31T00:35:28.506704Z",
     "shell.execute_reply.started": "2021-05-31T00:35:28.491757Z"
    }
   },
   "outputs": [
    {
     "data": {
      "text/plain": [
       "{'sbo': 'SBO:0000247',\n",
       " 'bigg.metabolite': 'ac',\n",
       " 'biocyc': 'META:ACET',\n",
       " 'chebi': ['CHEBI:13704',\n",
       "  'CHEBI:22165',\n",
       "  'CHEBI:22169',\n",
       "  'CHEBI:40480',\n",
       "  'CHEBI:15366',\n",
       "  'CHEBI:2387',\n",
       "  'CHEBI:30089',\n",
       "  'CHEBI:40486'],\n",
       " 'envipath': ['5882df9c-dae1-4d80-a40e-db4724271456/compound/9e26dcbe-4db9-46a0-8614-9f03545032d2',\n",
       "  '5882df9c-dae1-4d80-a40e-db4724271456/compound/5e4989fc-13d3-45d4-ad57-3be380a9d3c0',\n",
       "  '650babc9-9d68-4b73-9332-11972ca26f7b/compound/a8f0be58-24e8-441b-8d81-a516a0ead4b3',\n",
       "  '4fd7f3e0-dd25-43ac-9453-dda3e52396e4/compound/d45256fe-61fa-4f5b-bb16-91a3d615e3d8',\n",
       "  '32de3cf4-e3e6-4168-956e-32fa5ddb0ce1/compound/b545cabc-8c9e-4b20-8848-efa015b481ea',\n",
       "  '650babc9-9d68-4b73-9332-11972ca26f7b/compound/3e2d750f-df31-4445-9255-163c627e9b4a'],\n",
       " 'hmdb': 'HMDB00042',\n",
       " 'inchi_key': 'QTBSBXVTEAMEQO-UHFFFAOYSA-M',\n",
       " 'kegg.compound': 'C00033',\n",
       " 'kegg.drug': 'D00010',\n",
       " 'lipidmaps': 'LMFA01010002',\n",
       " 'metanetx.chemical': 'MNXM26',\n",
       " 'reactome.compound': ['1524044', '390305', '113539', '2022890', '29416'],\n",
       " 'sabiork': '1278',\n",
       " 'seed.compound': 'cpd00029',\n",
       " 'slm': '000000449'}"
      ]
     },
     "execution_count": 7,
     "metadata": {},
     "output_type": "execute_result"
    }
   ],
   "source": [
    "Ec_model.metabolites.ac_c.annotation"
   ]
  },
  {
   "cell_type": "markdown",
   "metadata": {},
   "source": [
    "_________________\n",
    "Match metabolite from E. coli model and A. vinelandii model from id and compartment and rewrite Av annotation with full annotation from Ec"
   ]
  },
  {
   "cell_type": "code",
   "execution_count": 8,
   "metadata": {
    "ExecuteTime": {
     "end_time": "2021-03-03T22:57:10.028590Z",
     "start_time": "2021-03-03T22:57:08.783710Z"
    },
    "execution": {
     "iopub.execute_input": "2021-05-31T00:35:28.508635Z",
     "iopub.status.busy": "2021-05-31T00:35:28.508635Z",
     "iopub.status.idle": "2021-05-31T00:35:30.109261Z",
     "shell.execute_reply": "2021-05-31T00:35:30.108216Z",
     "shell.execute_reply.started": "2021-05-31T00:35:28.508635Z"
    }
   },
   "outputs": [],
   "source": [
    "for met in Av_model.metabolites:\n",
    "    for met_ec in Ec_model.metabolites:\n",
    "        if met.id in met_ec.id and met.compartment == met_ec.compartment:\n",
    "            met.annotation.update(met_ec.annotation)"
   ]
  },
  {
   "cell_type": "code",
   "execution_count": 9,
   "metadata": {
    "ExecuteTime": {
     "end_time": "2021-03-03T22:57:10.033617Z",
     "start_time": "2021-03-03T22:57:10.029621Z"
    },
    "execution": {
     "iopub.execute_input": "2021-05-31T00:35:30.110924Z",
     "iopub.status.busy": "2021-05-31T00:35:30.110924Z",
     "iopub.status.idle": "2021-05-31T00:35:30.125087Z",
     "shell.execute_reply": "2021-05-31T00:35:30.124085Z",
     "shell.execute_reply.started": "2021-05-31T00:35:30.110924Z"
    }
   },
   "outputs": [
    {
     "data": {
      "text/plain": [
       "{'sbo': 'SBO:0000247',\n",
       " 'bigg.metabolite': 'sulfac',\n",
       " 'biocyc': 'META:CPD-10246',\n",
       " 'chebi': ['CHEBI:34987', 'CHEBI:49876', 'CHEBI:58824', 'CHEBI:50519'],\n",
       " 'envipath': ['650babc9-9d68-4b73-9332-11972ca26f7b/compound/ed8ac75f-3a91-484c-9d21-d318ef0efef6',\n",
       "  '650babc9-9d68-4b73-9332-11972ca26f7b/compound/ca85f0e1-e6b7-458b-8f88-d4ed6b580217'],\n",
       " 'hmdb': 'HMDB01488',\n",
       " 'inchi_key': 'AGGIJOLULBJGTQ-UHFFFAOYSA-L',\n",
       " 'kegg.compound': 'C14179',\n",
       " 'kegg.drug': 'D00049',\n",
       " 'lipidmaps': 'LMFA01060003',\n",
       " 'metanetx.chemical': 'MNXM1949',\n",
       " 'reactome.compound': ['8869604', '197230'],\n",
       " 'sabiork': '1994',\n",
       " 'seed.compound': 'cpd09878',\n",
       " 'slm': '000000449'}"
      ]
     },
     "execution_count": 9,
     "metadata": {},
     "output_type": "execute_result"
    }
   ],
   "source": [
    "#check for new annotation in Av model \n",
    "Av_model.metabolites.ac_c.annotation"
   ]
  },
  {
   "cell_type": "code",
   "execution_count": 10,
   "metadata": {
    "ExecuteTime": {
     "end_time": "2021-03-03T22:57:10.055643Z",
     "start_time": "2021-03-03T22:57:10.036591Z"
    },
    "execution": {
     "iopub.execute_input": "2021-05-31T00:35:30.126098Z",
     "iopub.status.busy": "2021-05-31T00:35:30.126098Z",
     "iopub.status.idle": "2021-05-31T00:35:30.141083Z",
     "shell.execute_reply": "2021-05-31T00:35:30.140084Z",
     "shell.execute_reply.started": "2021-05-31T00:35:30.126098Z"
    }
   },
   "outputs": [
    {
     "name": "stdout",
     "output_type": "stream",
     "text": [
      "541 2003\n"
     ]
    }
   ],
   "source": [
    "#Test again for number of annotations\n",
    "rxn_count = 0\n",
    "for met in Av_model.metabolites:\n",
    "    if \"seed.compound\" not in met.annotation:\n",
    "        rxn_count +=1\n",
    "        \n",
    "print(rxn_count, len(Av_model.metabolites))\n"
   ]
  },
  {
   "cell_type": "code",
   "execution_count": 11,
   "metadata": {
    "ExecuteTime": {
     "end_time": "2021-03-03T22:57:10.067662Z",
     "start_time": "2021-03-03T22:57:10.057669Z"
    },
    "execution": {
     "iopub.execute_input": "2021-05-31T00:35:30.142084Z",
     "iopub.status.busy": "2021-05-31T00:35:30.142084Z",
     "iopub.status.idle": "2021-05-31T00:35:30.156083Z",
     "shell.execute_reply": "2021-05-31T00:35:30.156083Z",
     "shell.execute_reply.started": "2021-05-31T00:35:30.142084Z"
    }
   },
   "outputs": [
    {
     "data": {
      "text/plain": [
       "{}"
      ]
     },
     "execution_count": 11,
     "metadata": {},
     "output_type": "execute_result"
    }
   ],
   "source": [
    "#not all metabolites where annotated from ecoli\n",
    "Av_model.metabolites.fdxr_42_c.annotation"
   ]
  },
  {
   "cell_type": "markdown",
   "metadata": {},
   "source": [
    "Still 541 metabolites that are not annotated, These metabolites could be from other models the iDT1278 model was built on. \n",
    "\n",
    "Will run with Geobacter model iAF987 to introduce missing annotations then rerun E. coli to keep that as the main source"
   ]
  },
  {
   "cell_type": "code",
   "execution_count": 12,
   "metadata": {
    "ExecuteTime": {
     "end_time": "2021-03-03T22:57:10.897736Z",
     "start_time": "2021-03-03T22:57:10.069655Z"
    },
    "execution": {
     "iopub.execute_input": "2021-05-31T00:35:30.157083Z",
     "iopub.status.busy": "2021-05-31T00:35:30.157083Z",
     "iopub.status.idle": "2021-05-31T00:35:31.185826Z",
     "shell.execute_reply": "2021-05-31T00:35:31.185826Z",
     "shell.execute_reply.started": "2021-05-31T00:35:30.157083Z"
    }
   },
   "outputs": [],
   "source": [
    "for met in Av_model.metabolites:\n",
    "    for met_gm in Gm_model.metabolites:\n",
    "        if met.id in met_gm.id and met.compartment == met_gm.compartment:\n",
    "            met.annotation.update(met_gm.annotation)"
   ]
  },
  {
   "cell_type": "code",
   "execution_count": 13,
   "metadata": {
    "ExecuteTime": {
     "end_time": "2021-03-03T22:57:10.904643Z",
     "start_time": "2021-03-03T22:57:10.899646Z"
    },
    "execution": {
     "iopub.execute_input": "2021-05-31T00:35:31.186784Z",
     "iopub.status.busy": "2021-05-31T00:35:31.186784Z",
     "iopub.status.idle": "2021-05-31T00:35:31.201827Z",
     "shell.execute_reply": "2021-05-31T00:35:31.201827Z",
     "shell.execute_reply.started": "2021-05-31T00:35:31.186784Z"
    }
   },
   "outputs": [
    {
     "data": {
      "text/plain": [
       "{'sbo': 'SBO:0000247',\n",
       " 'bigg.metabolite': 'fdxr_42',\n",
       " 'metanetx.chemical': 'MNXM145542'}"
      ]
     },
     "execution_count": 13,
     "metadata": {},
     "output_type": "execute_result"
    }
   ],
   "source": [
    "\n",
    "Av_model.metabolites.fdxr_42_c.annotation"
   ]
  },
  {
   "cell_type": "code",
   "execution_count": 14,
   "metadata": {
    "ExecuteTime": {
     "end_time": "2021-03-03T22:57:10.926677Z",
     "start_time": "2021-03-03T22:57:10.906644Z"
    },
    "execution": {
     "iopub.execute_input": "2021-05-31T00:35:31.202785Z",
     "iopub.status.busy": "2021-05-31T00:35:31.202785Z",
     "iopub.status.idle": "2021-05-31T00:35:31.218752Z",
     "shell.execute_reply": "2021-05-31T00:35:31.217826Z",
     "shell.execute_reply.started": "2021-05-31T00:35:31.202785Z"
    }
   },
   "outputs": [
    {
     "name": "stdout",
     "output_type": "stream",
     "text": [
      "282 2003\n"
     ]
    }
   ],
   "source": [
    "#Test again for number of annotations\n",
    "rxn_count = 0\n",
    "for met in Av_model.metabolites:\n",
    "    if \"metanetx.chemical\" not in met.annotation:\n",
    "        rxn_count +=1\n",
    "        \n",
    "print(rxn_count, len(Av_model.metabolites))"
   ]
  },
  {
   "cell_type": "markdown",
   "metadata": {},
   "source": [
    "Got it down to 282 missing annotations will replace with E. coli just in case it overwrote the orginal annotation "
   ]
  },
  {
   "cell_type": "code",
   "execution_count": 15,
   "metadata": {
    "ExecuteTime": {
     "end_time": "2021-03-03T22:57:12.195884Z",
     "start_time": "2021-03-03T22:57:10.927644Z"
    },
    "execution": {
     "iopub.execute_input": "2021-05-31T00:35:31.218752Z",
     "iopub.status.busy": "2021-05-31T00:35:31.218752Z",
     "iopub.status.idle": "2021-05-31T00:35:32.801354Z",
     "shell.execute_reply": "2021-05-31T00:35:32.800397Z",
     "shell.execute_reply.started": "2021-05-31T00:35:31.218752Z"
    }
   },
   "outputs": [],
   "source": [
    "for met in Av_model.metabolites:\n",
    "    for met_ec in Ec_model.metabolites:\n",
    "        if met.id in met_ec.id and met.compartment == met_ec.compartment:\n",
    "            met.annotation.update(met_ec.annotation)"
   ]
  },
  {
   "cell_type": "code",
   "execution_count": 16,
   "metadata": {
    "ExecuteTime": {
     "end_time": "2021-03-03T22:57:12.203801Z",
     "start_time": "2021-03-03T22:57:12.197808Z"
    },
    "execution": {
     "iopub.execute_input": "2021-05-31T00:35:32.802353Z",
     "iopub.status.busy": "2021-05-31T00:35:32.801354Z",
     "iopub.status.idle": "2021-05-31T00:35:32.817416Z",
     "shell.execute_reply": "2021-05-31T00:35:32.816382Z",
     "shell.execute_reply.started": "2021-05-31T00:35:32.802353Z"
    }
   },
   "outputs": [
    {
     "name": "stdout",
     "output_type": "stream",
     "text": [
      "2469 2469\n"
     ]
    }
   ],
   "source": [
    "#run same procedure for reactions\n",
    "rxn_count = 0\n",
    "for rxn in Av_model.reactions:\n",
    "    if \"seed.reaction\" not in rxn.annotation:\n",
    "        rxn_count +=1\n",
    "        \n",
    "print(rxn_count, len(Av_model.reactions))\n"
   ]
  },
  {
   "cell_type": "code",
   "execution_count": 17,
   "metadata": {
    "ExecuteTime": {
     "end_time": "2021-03-03T22:57:14.313924Z",
     "start_time": "2021-03-03T22:57:12.205798Z"
    },
    "execution": {
     "iopub.execute_input": "2021-05-31T00:35:32.821381Z",
     "iopub.status.busy": "2021-05-31T00:35:32.820381Z",
     "iopub.status.idle": "2021-05-31T00:35:35.512081Z",
     "shell.execute_reply": "2021-05-31T00:35:35.511139Z",
     "shell.execute_reply.started": "2021-05-31T00:35:32.821381Z"
    }
   },
   "outputs": [],
   "source": [
    "#if reaction ids match than write annotation\n",
    "for rxn in Av_model.reactions:\n",
    "    for rxn_ec in Ec_model.reactions:\n",
    "        if rxn.id == rxn_ec.id:\n",
    "            rxn.annotation.update(rxn_ec.annotation)\n",
    "\n"
   ]
  },
  {
   "cell_type": "code",
   "execution_count": 18,
   "metadata": {
    "ExecuteTime": {
     "end_time": "2021-03-03T22:57:14.319839Z",
     "start_time": "2021-03-03T22:57:14.314883Z"
    },
    "execution": {
     "iopub.execute_input": "2021-05-31T00:35:35.513083Z",
     "iopub.status.busy": "2021-05-31T00:35:35.512081Z",
     "iopub.status.idle": "2021-05-31T00:35:35.527605Z",
     "shell.execute_reply": "2021-05-31T00:35:35.526633Z",
     "shell.execute_reply.started": "2021-05-31T00:35:35.512081Z"
    }
   },
   "outputs": [
    {
     "data": {
      "text/plain": [
       "{'sbo': 'SBO:0000176',\n",
       " 'bigg.reaction': 'CS',\n",
       " 'biocyc': ['META:CITSYN-RXN', 'META:RXN-14905'],\n",
       " 'ec-code': ['2.3.3.16', '2.3.3.1', '2.3.3.3'],\n",
       " 'kegg.reaction': 'R00351',\n",
       " 'metanetx.reaction': 'MNXR96920',\n",
       " 'reactome.reaction': ['R-GGA-373006',\n",
       "  'R-GGA-70975',\n",
       "  'R-CEL-70975',\n",
       "  'R-HSA-70975',\n",
       "  'R-DRE-70975',\n",
       "  'R-MMU-70975',\n",
       "  'R-ATH-70975',\n",
       "  'R-SPO-70975',\n",
       "  'R-OSA-70975',\n",
       "  'R-SCE-70975',\n",
       "  'R-SSC-70975',\n",
       "  'R-DDI-70975',\n",
       "  'R-RNO-70975',\n",
       "  'R-DME-70975',\n",
       "  'R-PFA-70975',\n",
       "  'R-XTR-70975',\n",
       "  'R-CFA-70975',\n",
       "  'R-BTA-70975'],\n",
       " 'rhea': ['16847', '16846', '16845', '16848'],\n",
       " 'sabiork': '267',\n",
       " 'seed.reaction': 'rxn00256'}"
      ]
     },
     "execution_count": 18,
     "metadata": {},
     "output_type": "execute_result"
    }
   ],
   "source": [
    "#check citrate synthase \n",
    "Av_model.reactions.CS.annotation"
   ]
  },
  {
   "cell_type": "code",
   "execution_count": 19,
   "metadata": {
    "ExecuteTime": {
     "end_time": "2021-03-03T22:57:14.359598Z",
     "start_time": "2021-03-03T22:57:14.328559Z"
    },
    "execution": {
     "iopub.execute_input": "2021-05-31T00:35:35.527605Z",
     "iopub.status.busy": "2021-05-31T00:35:35.527605Z",
     "iopub.status.idle": "2021-05-31T00:35:35.542558Z",
     "shell.execute_reply": "2021-05-31T00:35:35.542558Z",
     "shell.execute_reply.started": "2021-05-31T00:35:35.527605Z"
    }
   },
   "outputs": [
    {
     "name": "stdout",
     "output_type": "stream",
     "text": [
      "969 2469\n"
     ]
    }
   ],
   "source": [
    "#recheck reaction annotation count\n",
    "rxn_count = 0\n",
    "for rxn in Av_model.reactions:\n",
    "    if \"seed.reaction\" not in rxn.annotation:\n",
    "        rxn_count +=1\n",
    "        \n",
    "print(rxn_count, len(Av_model.reactions))"
   ]
  },
  {
   "cell_type": "markdown",
   "metadata": {},
   "source": [
    "969 reactions lack annotaiton "
   ]
  },
  {
   "cell_type": "code",
   "execution_count": 20,
   "metadata": {
    "ExecuteTime": {
     "end_time": "2021-03-03T22:57:15.460232Z",
     "start_time": "2021-03-03T22:57:14.361558Z"
    },
    "execution": {
     "iopub.execute_input": "2021-05-31T00:35:35.543558Z",
     "iopub.status.busy": "2021-05-31T00:35:35.543558Z",
     "iopub.status.idle": "2021-05-31T00:35:36.734633Z",
     "shell.execute_reply": "2021-05-31T00:35:36.732649Z",
     "shell.execute_reply.started": "2021-05-31T00:35:35.543558Z"
    }
   },
   "outputs": [],
   "source": [
    "#rerun with GM model\n",
    "#if reaction ids match than write annotation\n",
    "for rxn in Av_model.reactions:\n",
    "    for rxn_gm in Gm_model.reactions:\n",
    "        if rxn.id == rxn_ec.id:\n",
    "            rxn.annotation.update(rxn_gm.annotation)"
   ]
  },
  {
   "cell_type": "code",
   "execution_count": 21,
   "metadata": {
    "ExecuteTime": {
     "end_time": "2021-03-03T22:57:15.467145Z",
     "start_time": "2021-03-03T22:57:15.462176Z"
    },
    "execution": {
     "iopub.execute_input": "2021-05-31T00:35:36.737629Z",
     "iopub.status.busy": "2021-05-31T00:35:36.736627Z",
     "iopub.status.idle": "2021-05-31T00:35:36.767639Z",
     "shell.execute_reply": "2021-05-31T00:35:36.764632Z",
     "shell.execute_reply.started": "2021-05-31T00:35:36.737629Z"
    }
   },
   "outputs": [
    {
     "name": "stdout",
     "output_type": "stream",
     "text": [
      "969 2469\n"
     ]
    }
   ],
   "source": [
    "#recheck reaction annotation count\n",
    "rxn_count = 0\n",
    "for rxn in Av_model.reactions:\n",
    "    if \"seed.reaction\" not in rxn.annotation:\n",
    "        rxn_count +=1\n",
    "        \n",
    "print(rxn_count, len(Av_model.reactions))"
   ]
  },
  {
   "cell_type": "code",
   "execution_count": 22,
   "metadata": {
    "ExecuteTime": {
     "end_time": "2021-03-03T22:57:18.162768Z",
     "start_time": "2021-03-03T22:57:15.497367Z"
    },
    "execution": {
     "iopub.execute_input": "2021-05-31T00:35:36.771641Z",
     "iopub.status.busy": "2021-05-31T00:35:36.770634Z",
     "iopub.status.idle": "2021-05-31T00:35:38.080159Z",
     "shell.execute_reply": "2021-05-31T00:35:38.079206Z",
     "shell.execute_reply.started": "2021-05-31T00:35:36.771641Z"
    }
   },
   "outputs": [],
   "source": [
    "write_sbml_model(Av_model, \"./Models/Av_annotate.xml\")"
   ]
  }
 ],
 "metadata": {
  "kernelspec": {
   "display_name": "Python 3",
   "language": "python",
   "name": "python3"
  },
  "language_info": {
   "codemirror_mode": {
    "name": "ipython",
    "version": 3
   },
   "file_extension": ".py",
   "mimetype": "text/x-python",
   "name": "python",
   "nbconvert_exporter": "python",
   "pygments_lexer": "ipython3",
   "version": "3.7.10"
  }
 },
 "nbformat": 4,
 "nbformat_minor": 4
}
