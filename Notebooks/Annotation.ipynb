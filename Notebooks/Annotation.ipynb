{
 "cells": [
  {
   "cell_type": "markdown",
   "metadata": {},
   "source": [
    "iDT1278 sbml model is not valid and matlab model has no annotations information will add annotation from most recent ecoli model. \n",
    "\n",
    "Based and modified from https://github.com/ChristianLieven/Yarrowia_lipolytica_W29-GEM/\n"
   ]
  },
  {
   "cell_type": "code",
   "execution_count": 77,
   "metadata": {
    "ExecuteTime": {
     "end_time": "2021-03-03T00:42:01.038414Z",
     "start_time": "2021-03-03T00:42:01.035444Z"
    }
   },
   "outputs": [],
   "source": [
    "from cobra.io import read_sbml_model, load_matlab_model, write_sbml_model"
   ]
  },
  {
   "cell_type": "code",
   "execution_count": 78,
   "metadata": {
    "ExecuteTime": {
     "end_time": "2021-03-03T00:42:43.346697Z",
     "start_time": "2021-03-03T00:42:01.040412Z"
    },
    "scrolled": true
   },
   "outputs": [
    {
     "name": "stderr",
     "output_type": "stream",
     "text": [
      "cobra\\core\\reaction.py:446 UserWarning: malformed gene_reaction_rule '((Avin_11760) and (Avin_13240) and (Avin_02950)) or ((Avin_45310) or (Avin_42560)' for <Reaction MPTG at 0x145044f9dc8>\n",
      "cobra\\core\\reaction.py:446 UserWarning: malformed gene_reaction_rule '((Avin_11760) and (Avin_13240) and (Avin_02950)) or ((Avin_45310) or (Avin_42560)' for <Reaction MPTG2 at 0x145044f7a88>\n"
     ]
    }
   ],
   "source": [
    "Av_model = load_matlab_model(\"./iDT1278.mat\")\n",
    "Ec_model = read_sbml_model(\"./iAF1260.xml\")\n",
    "Kp_model = read_sbml_model(\"./iYL1228.xml\")"
   ]
  },
  {
   "cell_type": "code",
   "execution_count": 79,
   "metadata": {
    "ExecuteTime": {
     "end_time": "2021-03-03T00:42:43.354613Z",
     "start_time": "2021-03-03T00:42:43.347649Z"
    }
   },
   "outputs": [
    {
     "name": "stdout",
     "output_type": "stream",
     "text": [
      "2003 2003\n"
     ]
    }
   ],
   "source": [
    "#Determine how many metabolites have seed annotation can choose any annotation \n",
    "\n",
    "rxn_count = 0\n",
    "for met in Av_model.metabolites:\n",
    "    if \"seed.compound\" not in met.annotation:\n",
    "        rxn_count +=1\n",
    "        \n",
    "print(rxn_count, len(Av_model.metabolites))\n",
    "        "
   ]
  },
  {
   "cell_type": "markdown",
   "metadata": {},
   "source": [
    "There are no annotations at all for any metabolite in the model"
   ]
  },
  {
   "cell_type": "code",
   "execution_count": 80,
   "metadata": {
    "ExecuteTime": {
     "end_time": "2021-03-03T00:42:43.388642Z",
     "start_time": "2021-03-03T00:42:43.357130Z"
    }
   },
   "outputs": [
    {
     "data": {
      "text/plain": [
       "{}"
      ]
     },
     "execution_count": 80,
     "metadata": {},
     "output_type": "execute_result"
    }
   ],
   "source": [
    "#Compare annotation of Av model to Ec model\n",
    "Av_model.metabolites.ac_c.annotation"
   ]
  },
  {
   "cell_type": "code",
   "execution_count": 81,
   "metadata": {
    "ExecuteTime": {
     "end_time": "2021-03-03T00:42:43.401643Z",
     "start_time": "2021-03-03T00:42:43.389676Z"
    }
   },
   "outputs": [
    {
     "data": {
      "text/plain": [
       "{'sbo': 'SBO:0000247',\n",
       " 'bigg.metabolite': 'ac',\n",
       " 'biocyc': 'META:ACET',\n",
       " 'chebi': ['CHEBI:13704',\n",
       "  'CHEBI:22165',\n",
       "  'CHEBI:22169',\n",
       "  'CHEBI:40480',\n",
       "  'CHEBI:15366',\n",
       "  'CHEBI:2387',\n",
       "  'CHEBI:30089',\n",
       "  'CHEBI:40486'],\n",
       " 'envipath': ['5882df9c-dae1-4d80-a40e-db4724271456/compound/9e26dcbe-4db9-46a0-8614-9f03545032d2',\n",
       "  '5882df9c-dae1-4d80-a40e-db4724271456/compound/5e4989fc-13d3-45d4-ad57-3be380a9d3c0',\n",
       "  '650babc9-9d68-4b73-9332-11972ca26f7b/compound/a8f0be58-24e8-441b-8d81-a516a0ead4b3',\n",
       "  '4fd7f3e0-dd25-43ac-9453-dda3e52396e4/compound/d45256fe-61fa-4f5b-bb16-91a3d615e3d8',\n",
       "  '32de3cf4-e3e6-4168-956e-32fa5ddb0ce1/compound/b545cabc-8c9e-4b20-8848-efa015b481ea',\n",
       "  '650babc9-9d68-4b73-9332-11972ca26f7b/compound/3e2d750f-df31-4445-9255-163c627e9b4a'],\n",
       " 'hmdb': 'HMDB00042',\n",
       " 'inchi_key': 'QTBSBXVTEAMEQO-UHFFFAOYSA-M',\n",
       " 'kegg.compound': 'C00033',\n",
       " 'kegg.drug': 'D00010',\n",
       " 'lipidmaps': 'LMFA01010002',\n",
       " 'metanetx.chemical': 'MNXM26',\n",
       " 'reactome.compound': ['1524044', '390305', '113539', '2022890', '29416'],\n",
       " 'sabiork': '1278',\n",
       " 'seed.compound': 'cpd00029',\n",
       " 'slm': '000000449'}"
      ]
     },
     "execution_count": 81,
     "metadata": {},
     "output_type": "execute_result"
    }
   ],
   "source": [
    "Ec_model.metabolites.ac_c.annotation"
   ]
  },
  {
   "cell_type": "markdown",
   "metadata": {},
   "source": [
    "_________________\n",
    "Match metabolite from ecoli model and A. vinelandii model from id and compartment and rewrite Av annotation with full annotation from Ec"
   ]
  },
  {
   "cell_type": "code",
   "execution_count": 82,
   "metadata": {
    "ExecuteTime": {
     "end_time": "2021-03-03T00:42:44.732723Z",
     "start_time": "2021-03-03T00:42:43.403646Z"
    }
   },
   "outputs": [],
   "source": [
    "for met in Av_model.metabolites:\n",
    "    for met_ec in Ec_model.metabolites:\n",
    "        if met.id in met_ec.id and met.compartment == met_ec.compartment:\n",
    "            met.annotation.update(met_ec.annotation)"
   ]
  },
  {
   "cell_type": "code",
   "execution_count": 83,
   "metadata": {
    "ExecuteTime": {
     "end_time": "2021-03-03T00:42:44.737686Z",
     "start_time": "2021-03-03T00:42:44.733690Z"
    }
   },
   "outputs": [
    {
     "data": {
      "text/plain": [
       "{'sbo': 'SBO:0000247',\n",
       " 'bigg.metabolite': 'sulfac',\n",
       " 'biocyc': 'META:CPD-10246',\n",
       " 'chebi': ['CHEBI:34987', 'CHEBI:49876', 'CHEBI:58824', 'CHEBI:50519'],\n",
       " 'envipath': ['650babc9-9d68-4b73-9332-11972ca26f7b/compound/ed8ac75f-3a91-484c-9d21-d318ef0efef6',\n",
       "  '650babc9-9d68-4b73-9332-11972ca26f7b/compound/ca85f0e1-e6b7-458b-8f88-d4ed6b580217'],\n",
       " 'hmdb': 'HMDB01488',\n",
       " 'inchi_key': 'AGGIJOLULBJGTQ-UHFFFAOYSA-L',\n",
       " 'kegg.compound': 'C14179',\n",
       " 'kegg.drug': 'D00049',\n",
       " 'lipidmaps': 'LMFA01060003',\n",
       " 'metanetx.chemical': 'MNXM1949',\n",
       " 'reactome.compound': ['8869604', '197230'],\n",
       " 'sabiork': '1994',\n",
       " 'seed.compound': 'cpd09878',\n",
       " 'slm': '000000449'}"
      ]
     },
     "execution_count": 83,
     "metadata": {},
     "output_type": "execute_result"
    }
   ],
   "source": [
    "#check for new annotation in Av model \n",
    "Av_model.metabolites.ac_c.annotation"
   ]
  },
  {
   "cell_type": "code",
   "execution_count": 84,
   "metadata": {
    "ExecuteTime": {
     "end_time": "2021-03-03T00:42:44.767658Z",
     "start_time": "2021-03-03T00:42:44.740657Z"
    }
   },
   "outputs": [
    {
     "name": "stdout",
     "output_type": "stream",
     "text": [
      "541 2003\n"
     ]
    }
   ],
   "source": [
    "#Test again for number of annotations\n",
    "rxn_count = 0\n",
    "for met in Av_model.metabolites:\n",
    "    if \"seed.compound\" not in met.annotation:\n",
    "        rxn_count +=1\n",
    "        \n",
    "print(rxn_count, len(Av_model.metabolites))\n"
   ]
  },
  {
   "cell_type": "markdown",
   "metadata": {},
   "source": [
    "Still 541 metabolites that are not annotatated, These metabolites could be from other models the iDT1278 model was built on. \n",
    "\n",
    "\\"
   ]
  },
  {
   "cell_type": "code",
   "execution_count": 85,
   "metadata": {
    "ExecuteTime": {
     "end_time": "2021-03-03T00:42:44.784686Z",
     "start_time": "2021-03-03T00:42:44.768683Z"
    }
   },
   "outputs": [
    {
     "name": "stdout",
     "output_type": "stream",
     "text": [
      "2469 2469\n"
     ]
    }
   ],
   "source": [
    "#run same procedure for reactions\n",
    "rxn_count = 0\n",
    "for rxn in Av_model.reactions:\n",
    "    if \"seed.reaction\" not in rxn.annotation:\n",
    "        rxn_count +=1\n",
    "        \n",
    "print(rxn_count, len(Av_model.reactions))\n"
   ]
  },
  {
   "cell_type": "code",
   "execution_count": 86,
   "metadata": {
    "ExecuteTime": {
     "end_time": "2021-03-03T00:42:47.137547Z",
     "start_time": "2021-03-03T00:42:44.785690Z"
    }
   },
   "outputs": [],
   "source": [
    "#if reaction ids match than write annotation\n",
    "for rxn in Av_model.reactions:\n",
    "    for rxn_ec in Ec_model.reactions:\n",
    "        if rxn.id == rxn_ec.id:\n",
    "            rxn.annotation.update(rxn_ec.annotation)"
   ]
  },
  {
   "cell_type": "code",
   "execution_count": 87,
   "metadata": {
    "ExecuteTime": {
     "end_time": "2021-03-03T00:42:47.143490Z",
     "start_time": "2021-03-03T00:42:47.138520Z"
    }
   },
   "outputs": [
    {
     "data": {
      "text/plain": [
       "{'sbo': 'SBO:0000176',\n",
       " 'bigg.reaction': 'CS',\n",
       " 'biocyc': ['META:CITSYN-RXN', 'META:RXN-14905'],\n",
       " 'ec-code': ['2.3.3.16', '2.3.3.1', '2.3.3.3'],\n",
       " 'kegg.reaction': 'R00351',\n",
       " 'metanetx.reaction': 'MNXR96920',\n",
       " 'reactome.reaction': ['R-GGA-373006',\n",
       "  'R-GGA-70975',\n",
       "  'R-CEL-70975',\n",
       "  'R-HSA-70975',\n",
       "  'R-DRE-70975',\n",
       "  'R-MMU-70975',\n",
       "  'R-ATH-70975',\n",
       "  'R-SPO-70975',\n",
       "  'R-OSA-70975',\n",
       "  'R-SCE-70975',\n",
       "  'R-SSC-70975',\n",
       "  'R-DDI-70975',\n",
       "  'R-RNO-70975',\n",
       "  'R-DME-70975',\n",
       "  'R-PFA-70975',\n",
       "  'R-XTR-70975',\n",
       "  'R-CFA-70975',\n",
       "  'R-BTA-70975'],\n",
       " 'rhea': ['16847', '16846', '16845', '16848'],\n",
       " 'sabiork': '267',\n",
       " 'seed.reaction': 'rxn00256'}"
      ]
     },
     "execution_count": 87,
     "metadata": {},
     "output_type": "execute_result"
    }
   ],
   "source": [
    "#check citrate synthase \n",
    "Av_model.reactions.CS.annotation"
   ]
  },
  {
   "cell_type": "code",
   "execution_count": 88,
   "metadata": {
    "ExecuteTime": {
     "end_time": "2021-03-03T00:42:47.165617Z",
     "start_time": "2021-03-03T00:42:47.144609Z"
    }
   },
   "outputs": [
    {
     "name": "stdout",
     "output_type": "stream",
     "text": [
      "969 2469\n"
     ]
    }
   ],
   "source": [
    "#recheck reaction annotation count\n",
    "rxn_count = 0\n",
    "for rxn in Av_model.reactions:\n",
    "    if \"seed.reaction\" not in rxn.annotation:\n",
    "        rxn_count +=1\n",
    "        \n",
    "print(rxn_count, len(Av_model.reactions))"
   ]
  },
  {
   "cell_type": "markdown",
   "metadata": {},
   "source": [
    "969 reactions lack annotaiton "
   ]
  },
  {
   "cell_type": "code",
   "execution_count": null,
   "metadata": {
    "ExecuteTime": {
     "end_time": "2021-03-02T01:11:46.556440Z",
     "start_time": "2021-03-02T01:11:46.551253Z"
    }
   },
   "outputs": [],
   "source": []
  },
  {
   "cell_type": "code",
   "execution_count": 89,
   "metadata": {
    "ExecuteTime": {
     "end_time": "2021-03-03T00:42:47.175588Z",
     "start_time": "2021-03-03T00:42:47.166587Z"
    }
   },
   "outputs": [],
   "source": [
    "#Fix malformed MPTG gene\n",
    "MPTG = Av_model.reactions.get_by_id('MPTG')\n",
    "MPTG.gene_reaction_rule = '(Avin_11760) and (Avin_13240)'\n",
    "\n",
    "MPTG2 = Av_model.reactions.get_by_id('MPTG2')\n",
    "MPTG2.gene_reaction_rule = '(Avin_45310) or (Avin_42560)'"
   ]
  },
  {
   "cell_type": "code",
   "execution_count": 90,
   "metadata": {
    "ExecuteTime": {
     "end_time": "2021-03-03T00:42:49.901644Z",
     "start_time": "2021-03-03T00:42:47.178587Z"
    }
   },
   "outputs": [],
   "source": [
    "write_sbml_model(Av_model, \"./Models/Av_annotate.xml\")"
   ]
  }
 ],
 "metadata": {
  "kernelspec": {
   "display_name": "Python 3",
   "language": "python",
   "name": "python3"
  },
  "language_info": {
   "codemirror_mode": {
    "name": "ipython",
    "version": 3
   },
   "file_extension": ".py",
   "mimetype": "text/x-python",
   "name": "python",
   "nbconvert_exporter": "python",
   "pygments_lexer": "ipython3",
   "version": "3.7.6"
  }
 },
 "nbformat": 4,
 "nbformat_minor": 4
}
